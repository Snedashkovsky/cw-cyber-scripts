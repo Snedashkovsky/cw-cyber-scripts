{
 "cells": [
  {
   "cell_type": "markdown",
   "source": [
    "# Upload Data to Hub Contracts"
   ],
   "metadata": {
    "collapsed": false
   }
  },
  {
   "cell_type": "code",
   "execution_count": 1,
   "outputs": [],
   "source": [
    "import json\n",
    "import base64\n",
    "import requests\n",
    "\n",
    "from cyber_sdk.client.lcd import LCDClient\n",
    "from cyber_sdk.key.mnemonic import MnemonicKey\n",
    "from cyberutils.contract import execute_contract\n",
    "\n",
    "from config import LCD_CLIENT, NODE_LCD_URL, WALLET_SEED, WALLET_ADDRESS\n",
    "\n",
    "mk = MnemonicKey(mnemonic=WALLET_SEED)\n",
    "WALLET = LCD_CLIENT.wallet(mk)\n",
    "\n",
    "MEMO = 'update entry'\n",
    "\n",
    "HUB_CONTRACTS = {\n",
    "    'protocols': 'bostrom12yqsxh82qy3dz6alnmjhupyk85skgeqznzxv92q99hqtyu7vvdsqgwjgvz',\n",
    "    'networks': 'bostrom1lpn69a74ftv04upfej8f9ay56pe2zyk48vzlk49kp3grysc7u56qq363nr',\n",
    "    'channels': 'bostrom15tx5z779rdks07sg774ufn8q0a9x993c9uwmr6ycec78z6lfrmkqyjnfge',\n",
    "    'tokens': 'bostrom15phze6xnvfnpuvvgs2tw58xnnuf872wlz72sv0j2yauh6zwm7cmqqpmc42',\n",
    "    'skills': 'bostrom1ejm29m279e8x4ltf3ksqm443fsdql9rmtuyth6vssmxl72af5yzqrt2mku',\n",
    "    'contracts': 'bostrom1cfa46qr4ca4n75eys534fzmdtgce9zscvlzfq8fgt4sk6gc250hssks43s'}\n",
    "\n",
    "UPLOAD_HUB = {\n",
    "    'protocols': False,\n",
    "    'networks': False,\n",
    "    'channels': True,\n",
    "    'tokens': True,\n",
    "    'skills': False,\n",
    "    'contracts': False\n",
    "}\n",
    "\n",
    "REQUIRED_KEYS = {\n",
    "    'protocols': ['id', 'data_type'],\n",
    "    'networks': ['id'],\n",
    "    'channels': ['id', 'active'],\n",
    "    'tokens': ['id'],\n",
    "    'skills': ['id', 'new_owner'],\n",
    "    'contracts': ['id']\n",
    "}\n",
    "\n",
    "INDEX_KEYS = {\n",
    "    'protocols': ['data_type'],\n",
    "    'networks': ['chain_id', 'genesis_hash', 'protocol'],\n",
    "    'channels': ['source_chain_id', 'destination_chain_id', 'source_channel_id', 'destination_channel_id'],\n",
    "    'tokens': ['chain_id', 'contract'],\n",
    "    'skills': ['network', 'neuron', 'protocol'],\n",
    "    'contracts': ['address', 'chain_id']\n",
    "}\n",
    "\n",
    "UPLOAD_DATA_FILES = {k: f'data/{k}.csv' for k in HUB_CONTRACTS.keys()}\n",
    "TX_FILES = {k: f'txs/tx_update_hub_{k}.json' for k in HUB_CONTRACTS.keys()}\n",
    "\n",
    "FEE_DENOM = 'boot'"
   ],
   "metadata": {
    "collapsed": false,
    "ExecuteTime": {
     "end_time": "2024-01-17T07:25:11.463820Z",
     "start_time": "2024-01-17T07:25:11.151963Z"
    }
   }
  },
  {
   "cell_type": "markdown",
   "source": [
    "## Update Entries"
   ],
   "metadata": {
    "collapsed": false
   }
  },
  {
   "cell_type": "code",
   "execution_count": 2,
   "outputs": [],
   "source": [
    "def contract_query(\n",
    "        contract_address: str,\n",
    "        query: dict,\n",
    "        node_lcd_url: str = NODE_LCD_URL) -> dict:\n",
    "\n",
    "    _query_msg = base64.b64encode(json.dumps(query).encode(\"utf-8\")).decode(\"utf-8\")\n",
    "    _query = f'{node_lcd_url}/cosmwasm/wasm/v1/contract/{contract_address}/smart/{_query_msg}'\n",
    "    return requests.get(_query).json()\n",
    "\n",
    "\n",
    "def get_data_for_update(\n",
    "        contract_name: str,\n",
    "        contracts: dict = HUB_CONTRACTS,\n",
    "        index_keys: dict = INDEX_KEYS) -> list[dict]:\n",
    "\n",
    "    _contract_entries = contract_query(\n",
    "        contract_address = contracts[contract_name],\n",
    "        query={'get_entries': {}})['data']['entries']\n",
    "    with open(f'data/{contract_name}.json', 'r') as _file:\n",
    "        _data_for_update = json.load(_file)\n",
    "\n",
    "    _data_for_update_selected = []\n",
    "    for _contract_entry in _contract_entries:\n",
    "        _data_for_update_item_list = \\\n",
    "            [data_for_update_item for data_for_update_item in _data_for_update\n",
    "                if dict((k, data_for_update_item.get(k)) for k in index_keys[contract_name]) == dict((k, _contract_entry.get(k)) for k in index_keys[contract_name])]\n",
    "        if _data_for_update_item_list:\n",
    "            assert len(_data_for_update_item_list) == 1\n",
    "            _data_for_update_item = _data_for_update_item_list[0]\n",
    "            if {k: v for k, v in _data_for_update_item.items() if k not in _contract_entry.keys() or _contract_entry[k] != v}:\n",
    "                _data_for_update_selected.append(dict({\"id\": _contract_entry['id']}, **_data_for_update_item))\n",
    "    return _data_for_update_selected\n"
   ],
   "metadata": {
    "collapsed": false,
    "ExecuteTime": {
     "end_time": "2024-01-17T07:25:11.471684Z",
     "start_time": "2024-01-17T07:25:11.468186Z"
    }
   }
  },
  {
   "cell_type": "code",
   "execution_count": 3,
   "outputs": [],
   "source": [
    "def hub_update(\n",
    "        tx_file_name: str,\n",
    "        items_for_update: list[dict],\n",
    "        contract_address: str,\n",
    "        required_keys: list[str],\n",
    "        sender: str = WALLET_ADDRESS,\n",
    "        lcd_client: LCDClient = LCD_CLIENT,\n",
    "        fee_denom: str = FEE_DENOM,\n",
    "        gas: int = 5_000_000,\n",
    "        memo: str = MEMO) -> dict:\n",
    "    _execute_msgs = []\n",
    "    for _item_for_update in items_for_update:\n",
    "        assert all(_item in _item_for_update.keys() for _item in required_keys)\n",
    "        _execute_msg = {'UpdateEntry': _item_for_update}\n",
    "        _execute_msgs.append(_execute_msg)\n",
    "    print(f'contract address: {contract_address}')\n",
    "    print(f'sender: {sender}')\n",
    "    print(f'items for update: {items_for_update}')\n",
    "    _tx = execute_contract(\n",
    "        wallet=WALLET,\n",
    "        execute_msgs=_execute_msgs,\n",
    "        contract_address=contract_address,\n",
    "        sender=sender,\n",
    "        lcd_client=lcd_client,\n",
    "        fee_denom=fee_denom,\n",
    "        gas=gas,\n",
    "        sign_and_broadcast_tx=True,\n",
    "        memo=memo\n",
    "    )\n",
    "    with open(tx_file_name, 'w') as _tx_file:\n",
    "        _tx_file.write(json.dumps(_tx.to_data()))\n",
    "    return _tx.to_data()"
   ],
   "metadata": {
    "collapsed": false,
    "ExecuteTime": {
     "end_time": "2024-01-17T07:25:11.476112Z",
     "start_time": "2024-01-17T07:25:11.473037Z"
    }
   }
  },
  {
   "cell_type": "code",
   "execution_count": 4,
   "outputs": [
    {
     "name": "stdout",
     "output_type": "stream",
     "text": [
      "contract address: bostrom15tx5z779rdks07sg774ufn8q0a9x993c9uwmr6ycec78z6lfrmkqyjnfge\n",
      "sender: bostrom1cj8j6pc3nda8v708j3s4a6gq2jrnue7j857m9t\n",
      "items for update: [{'id': 3, 'active': 'false', 'destination_chain_id': 'juno-1', 'destination_channel_id': 'channel-93', 'source_chain_id': 'bostrom', 'source_channel_id': 'channel-10', 'explorer_url': 'https://mintscan.io/juno/txs/{txHash}'}]\n",
      "contract address: bostrom15phze6xnvfnpuvvgs2tw58xnnuf872wlz72sv0j2yauh6zwm7cmqqpmc42\n",
      "sender: bostrom1cj8j6pc3nda8v708j3s4a6gq2jrnue7j857m9t\n",
      "items for update: [{'id': 9, 'chain_id': 'bostrom', 'channel_id': 'channel-10', 'decimals': '6', 'logo': 'QmZyWYqKU4ny1gqSz16CmfrHJKS4zkybjS2DDQxs7YZPV9', 'ticker': 'JUNO[inactive channel]', 'contract': 'ibc/8D9262E35CAE362FA74AE05E430550757CF8D842EC1B241F645D3CB7179AFD10'}]\n"
     ]
    }
   ],
   "source": [
    "tx_data = {}\n",
    "for contract_name in HUB_CONTRACTS.keys():\n",
    "    if UPLOAD_HUB.get(contract_name, False):\n",
    "        data_for_update = get_data_for_update(contract_name=contract_name)\n",
    "        if data_for_update:\n",
    "            tx_data[contract_name] = hub_update(\n",
    "                tx_file_name=TX_FILES[contract_name],\n",
    "                items_for_update=data_for_update,\n",
    "                contract_address=HUB_CONTRACTS[contract_name],\n",
    "                required_keys=REQUIRED_KEYS[contract_name],\n",
    "                gas=20_000_000\n",
    "            )"
   ],
   "metadata": {
    "collapsed": false,
    "ExecuteTime": {
     "end_time": "2024-01-17T07:25:21.708765Z",
     "start_time": "2024-01-17T07:25:11.476892Z"
    }
   }
  }
 ],
 "metadata": {
  "kernelspec": {
   "display_name": "Python 3",
   "language": "python",
   "name": "python3"
  },
  "language_info": {
   "codemirror_mode": {
    "name": "ipython",
    "version": 2
   },
   "file_extension": ".py",
   "mimetype": "text/x-python",
   "name": "python",
   "nbconvert_exporter": "python",
   "pygments_lexer": "ipython2",
   "version": "2.7.6"
  }
 },
 "nbformat": 4,
 "nbformat_minor": 0
}
