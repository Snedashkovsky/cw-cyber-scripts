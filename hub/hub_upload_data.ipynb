{
 "cells": [
  {
   "cell_type": "markdown",
   "source": [
    "# Upload Data to Hub Contracts"
   ],
   "metadata": {
    "collapsed": false
   }
  },
  {
   "cell_type": "code",
   "execution_count": 1,
   "outputs": [],
   "source": [
    "import json\n",
    "\n",
    "from cyber_sdk.client.lcd import LCDClient\n",
    "from cyberutils.contract import execute_contract\n",
    "\n",
    "from ..config import LCD_CLIENT\n",
    "\n",
    "\n",
    "WALLET_ADDRESS = 'bostrom1d8754xqa9245pctlfcyv8eah468neqzn3a0y0t'\n",
    "\n",
    "MEMO = 'add entry'\n",
    "\n",
    "HUB_CONTRACTS = {\n",
    "    'protocols': 'bostrom1latjl5jde9x7ndu0c9qr4ceyzvyr0ngs95fydqhx8xa6t0md7h4sryuzz0',\n",
    "    'networks': 'bostrom1ka63rny987cfu79jpfaytn4rjepz4q8na4gtgdz83r79p0yy84gqy6kc8k',\n",
    "    'channels': 'bostrom1jsc2h2t2r4vpytz0ashmvpt5pqnyqculjq9t9vwy2p5wcu64xytqmzcdvj',\n",
    "    'tokens': 'bostrom12lswtdmepp9xgzzllmgzgc9frgy738a6a3phzlsld6t3rp6tljcqjgfev7',\n",
    "    'skills': 'bostrom1ejm29m279e8x4ltf3ksqm443fsdql9rmtuyth6vssmxl72af5yzqrt2mku',\n",
    "    'contracts': 'bostrom1cfa46qr4ca4n75eys534fzmdtgce9zscvlzfq8fgt4sk6gc250hssks43s'}\n",
    "\n",
    "UPLOAD_HUB = {\n",
    "    'protocols': True,\n",
    "    'networks': True,\n",
    "    'channels': True,\n",
    "    'tokens': True,\n",
    "    'skills': False,\n",
    "    'contracts': False\n",
    "}\n",
    "\n",
    "REQUIRED_KEYS = {\n",
    "    'protocols': ['data_type'],\n",
    "    'networks': ['chain_id', 'genesis_hash', 'logo', 'name', 'prefix', 'protocol', 'unbonding_period'],\n",
    "    'channels': ['active', 'destination_chain_id', 'destination_channel_id', 'explorer_url', 'source_chain_id', 'source_channel_id'],\n",
    "    'tokens': ['chain_id', 'channel_id', 'contract', 'decimals', 'logo', 'ticker'],\n",
    "    'skills': ['endpoint', 'network', 'neuron', 'protocol'],\n",
    "    'contracts': ['address', 'chain_id', 'execute_cid', 'query_cid', 'version']\n",
    "}\n",
    "\n",
    "UPLOAD_DATA_FILES = {k: f'data/{k}.csv' for k in HUB_CONTRACTS.keys()}\n",
    "TX_FILES = {k: f'txs/tx_upload_hub_{k}_unsigned.json' for k in HUB_CONTRACTS.keys()}\n",
    "\n",
    "FEE_DENOM = 'boot'"
   ],
   "metadata": {
    "collapsed": false,
    "ExecuteTime": {
     "end_time": "2023-06-30T05:10:37.593899Z",
     "start_time": "2023-06-30T05:10:37.340271Z"
    }
   }
  },
  {
   "cell_type": "markdown",
   "source": [
    "## Create Entries"
   ],
   "metadata": {
    "collapsed": false
   }
  },
  {
   "cell_type": "code",
   "execution_count": 2,
   "outputs": [],
   "source": [
    "def hub_upload(\n",
    "        tx_unsigned_file_name: str,\n",
    "        items_for_upload: list[dict],\n",
    "        contract_address: str,\n",
    "        required_keys: list[str],\n",
    "        sender: str = WALLET_ADDRESS,\n",
    "        lcd_client: LCDClient = LCD_CLIENT,\n",
    "        fee_denom: str = FEE_DENOM,\n",
    "        gas: int = 5_000_000,\n",
    "        memo=MEMO) -> dict:\n",
    "    _execute_msgs = []\n",
    "    for _item_for_upload in items_for_upload:\n",
    "        assert all(_item in _item_for_upload.keys() for _item in required_keys)\n",
    "        _execute_msg = {'CreateEntry': _item_for_upload}\n",
    "        _execute_msgs.append(_execute_msg)\n",
    "    _tx_unsigned = execute_contract(\n",
    "        execute_msgs=_execute_msgs,\n",
    "        contract_address=contract_address,\n",
    "        sender=sender,\n",
    "        lcd_client=lcd_client,\n",
    "        fee_denom=fee_denom,\n",
    "        gas=gas,\n",
    "        sign_and_broadcast_tx=False,\n",
    "        memo=memo\n",
    "    )\n",
    "    with open(tx_unsigned_file_name, 'w') as _tx_unsigned_file:\n",
    "        _tx_unsigned_file.write(json.dumps(_tx_unsigned.to_data()))\n",
    "    return _tx_unsigned.to_data()"
   ],
   "metadata": {
    "collapsed": false,
    "ExecuteTime": {
     "end_time": "2023-06-30T05:10:37.596540Z",
     "start_time": "2023-06-30T05:10:37.595153Z"
    }
   }
  },
  {
   "cell_type": "markdown",
   "source": [
    "### Data fields\n",
    "- protocols: 'data_type', 'particle'\n",
    "- networks: 'chain_id', 'genesis_hash', 'logo', 'name', 'prefix', 'protocol', 'unbonding_period', 'particle'\n",
    "- channels: 'active', 'destination_chain_id', 'destination_channel_id', 'explorer_url', 'source_chain_id', 'source_channel_id', 'particle'\n",
    "- tokens: 'chain_id', 'channel', 'contract', 'decimals', 'logo', 'ticker', 'particle'\n",
    "- skills: 'endpoint', 'network', 'neuron', 'protocol', 'particle'\n",
    "- contracts: 'address', 'chain_id', 'execute_cid', 'query_cid', 'version', 'particle'\n",
    "\n",
    "`particle` field is optional"
   ],
   "metadata": {
    "collapsed": false
   }
  },
  {
   "cell_type": "code",
   "execution_count": 3,
   "outputs": [],
   "source": [
    "tx_unsigned_data = {}\n",
    "for contract_name in HUB_CONTRACTS.keys():\n",
    "    if UPLOAD_HUB.get(contract_name, False):\n",
    "        with open(f'data/{contract_name}.json', 'r') as file:\n",
    "            data_for_upload = json.load(file)\n",
    "        tx_unsigned_data[contract_name] = hub_upload(\n",
    "            tx_unsigned_file_name=TX_FILES[contract_name],\n",
    "            items_for_upload=data_for_upload,\n",
    "            contract_address=HUB_CONTRACTS[contract_name],\n",
    "            required_keys=REQUIRED_KEYS[contract_name],\n",
    "            gas=20_000_000\n",
    "        )"
   ],
   "metadata": {
    "collapsed": false,
    "ExecuteTime": {
     "end_time": "2023-06-30T05:10:41.043665Z",
     "start_time": "2023-06-30T05:10:37.598296Z"
    }
   }
  },
  {
   "cell_type": "code",
   "execution_count": 4,
   "outputs": [
    {
     "data": {
      "text/plain": "{'body': {'messages': [{'sender': 'bostrom1d8754xqa9245pctlfcyv8eah468neqzn3a0y0t',\n    'contract': 'bostrom1latjl5jde9x7ndu0c9qr4ceyzvyr0ngs95fydqhx8xa6t0md7h4sryuzz0',\n    'msg': {'CreateEntry': {'data_type': 'ipfs-gateway'}},\n    'funds': [],\n    '@type': '/cosmwasm.wasm.v1.MsgExecuteContract'},\n   {'sender': 'bostrom1d8754xqa9245pctlfcyv8eah468neqzn3a0y0t',\n    'contract': 'bostrom1latjl5jde9x7ndu0c9qr4ceyzvyr0ngs95fydqhx8xa6t0md7h4sryuzz0',\n    'msg': {'CreateEntry': {'data_type': 'cyber-rpc'}},\n    'funds': [],\n    '@type': '/cosmwasm.wasm.v1.MsgExecuteContract'},\n   {'sender': 'bostrom1d8754xqa9245pctlfcyv8eah468neqzn3a0y0t',\n    'contract': 'bostrom1latjl5jde9x7ndu0c9qr4ceyzvyr0ngs95fydqhx8xa6t0md7h4sryuzz0',\n    'msg': {'CreateEntry': {'data_type': 'cosmos-rpc'}},\n    'funds': [],\n    '@type': '/cosmwasm.wasm.v1.MsgExecuteContract'}],\n  'memo': 'add entry',\n  'timeout_height': '0'},\n 'auth_info': {'signer_infos': [],\n  'fee': {'gas_limit': '20000000',\n   'amount': [{'denom': 'boot', 'amount': '0'}],\n   'payer': '',\n   'granter': ''}},\n 'signatures': []}"
     },
     "execution_count": 4,
     "metadata": {},
     "output_type": "execute_result"
    }
   ],
   "source": [
    "tx_unsigned_data['protocols']"
   ],
   "metadata": {
    "collapsed": false,
    "ExecuteTime": {
     "end_time": "2023-06-30T05:10:41.058736Z",
     "start_time": "2023-06-30T05:10:41.049383Z"
    }
   }
  },
  {
   "cell_type": "code",
   "execution_count": 5,
   "outputs": [
    {
     "data": {
      "text/plain": "{'body': {'messages': [{'sender': 'bostrom1d8754xqa9245pctlfcyv8eah468neqzn3a0y0t',\n    'contract': 'bostrom1ka63rny987cfu79jpfaytn4rjepz4q8na4gtgdz83r79p0yy84gqy6kc8k',\n    'msg': {'CreateEntry': {'chain_id': 'bostrom',\n      'genesis_hash': 'QmYubyVNfghD4xCrTFj26zBwrF9s5GJhi1TmxvrwmJCipr',\n      'logo': 'QmaFs8AjTfNy6XFq8xb6boN1eC4nrznaPnvytJtq3FHnkf',\n      'name': 'bostrom',\n      'prefix': 'bostrom',\n      'protocol': 'cyber-rpc',\n      'unbonding_period': '691200'}},\n    'funds': [],\n    '@type': '/cosmwasm.wasm.v1.MsgExecuteContract'},\n   {'sender': 'bostrom1d8754xqa9245pctlfcyv8eah468neqzn3a0y0t',\n    'contract': 'bostrom1ka63rny987cfu79jpfaytn4rjepz4q8na4gtgdz83r79p0yy84gqy6kc8k',\n    'msg': {'CreateEntry': {'chain_id': 'space-pussy',\n      'genesis_hash': 'QmTR1k469ZNJdmhT2WY67A6fccpj1pRkHTmnZZtYpPDnH7',\n      'logo': 'QmVdamuwvpDUENhsGH5RGP7Dx4redrCFCM3kuy5hNFvo9r',\n      'name': 'space-pussy',\n      'prefix': 'pussy',\n      'protocol': 'cyber-rpc',\n      'unbonding_period': '2419200'}},\n    'funds': [],\n    '@type': '/cosmwasm.wasm.v1.MsgExecuteContract'},\n   {'sender': 'bostrom1d8754xqa9245pctlfcyv8eah468neqzn3a0y0t',\n    'contract': 'bostrom1ka63rny987cfu79jpfaytn4rjepz4q8na4gtgdz83r79p0yy84gqy6kc8k',\n    'msg': {'CreateEntry': {'chain_id': 'cosmoshub-4',\n      'genesis_hash': 'Qmc54DreioPpPDUdJW6bBTYUKepmcPsscfqsfFcFmTaVig',\n      'logo': 'Qmb5L5ZwJSt22Vra9jNph7aSFKqfVW8f4HVWqNU15qsqDX',\n      'name': 'cosmos',\n      'prefix': 'cosmos',\n      'protocol': 'cosmos-rpc',\n      'unbonding_period': '1814400'}},\n    'funds': [],\n    '@type': '/cosmwasm.wasm.v1.MsgExecuteContract'},\n   {'sender': 'bostrom1d8754xqa9245pctlfcyv8eah468neqzn3a0y0t',\n    'contract': 'bostrom1ka63rny987cfu79jpfaytn4rjepz4q8na4gtgdz83r79p0yy84gqy6kc8k',\n    'msg': {'CreateEntry': {'chain_id': 'osmosis-1',\n      'genesis_hash': 'QmXRvBT3hgoXwwPqbK6a2sXUuArGM8wPyo1ybskyyUwUxs',\n      'logo': 'QmdbiuCkCGiFV8aaUVyJTpVMLj97DLvF8vbM1mf73xRsVJ',\n      'name': 'osmosis',\n      'prefix': 'osmo',\n      'protocol': 'cosmos-rpc',\n      'unbonding_period': '1209600'}},\n    'funds': [],\n    '@type': '/cosmwasm.wasm.v1.MsgExecuteContract'},\n   {'sender': 'bostrom1d8754xqa9245pctlfcyv8eah468neqzn3a0y0t',\n    'contract': 'bostrom1ka63rny987cfu79jpfaytn4rjepz4q8na4gtgdz83r79p0yy84gqy6kc8k',\n    'msg': {'CreateEntry': {'chain_id': 'juno-1',\n      'genesis_hash': 'QmPJ2Q4D6GDbbU68ga5jQJ9AXpv7WcM63QEVRup6LMjzsb',\n      'logo': 'QmZyWYqKU4ny1gqSz16CmfrHJKS4zkybjS2DDQxs7YZPV9',\n      'name': 'juno',\n      'prefix': 'juno',\n      'protocol': 'cosmos-rpc',\n      'unbonding_period': '2419200'}},\n    'funds': [],\n    '@type': '/cosmwasm.wasm.v1.MsgExecuteContract'},\n   {'sender': 'bostrom1d8754xqa9245pctlfcyv8eah468neqzn3a0y0t',\n    'contract': 'bostrom1ka63rny987cfu79jpfaytn4rjepz4q8na4gtgdz83r79p0yy84gqy6kc8k',\n    'msg': {'CreateEntry': {'chain_id': 'gravity-bridge-3',\n      'genesis_hash': 'Qmed9LHnN2ovM4BdiJ2RPecB99PVK9yfFEV5FpwdDNiVsJ',\n      'logo': 'QmQotGqeEKQLkssVx3yKuGqkcS6awFzgZLwnoyycqzffmL',\n      'name': 'gravity',\n      'prefix': 'gravity',\n      'protocol': 'cosmos-rpc',\n      'unbonding_period': '1814400'}},\n    'funds': [],\n    '@type': '/cosmwasm.wasm.v1.MsgExecuteContract'},\n   {'sender': 'bostrom1d8754xqa9245pctlfcyv8eah468neqzn3a0y0t',\n    'contract': 'bostrom1ka63rny987cfu79jpfaytn4rjepz4q8na4gtgdz83r79p0yy84gqy6kc8k',\n    'msg': {'CreateEntry': {'chain_id': 'axelar-dojo-1',\n      'genesis_hash': 'QmZLQoafcmhLkYgZb7HMB15Fg6RfKs8Yro44tkrxwNBcTu',\n      'logo': 'QmW389aWTLgDS3q6DjWuP3VBGzfi3s1seAj7GqpkCpSdV4',\n      'name': 'axelar',\n      'prefix': 'axelar',\n      'protocol': 'cosmos-rpc',\n      'unbonding_period': '604800'}},\n    'funds': [],\n    '@type': '/cosmwasm.wasm.v1.MsgExecuteContract'},\n   {'sender': 'bostrom1d8754xqa9245pctlfcyv8eah468neqzn3a0y0t',\n    'contract': 'bostrom1ka63rny987cfu79jpfaytn4rjepz4q8na4gtgdz83r79p0yy84gqy6kc8k',\n    'msg': {'CreateEntry': {'chain_id': 'evmos_9001-2',\n      'genesis_hash': 'QmYmcmveFYMdA1NRAvAa3hKM8HQRdiwfmYtf3GgyJGTMEa',\n      'logo': 'QmNcoUHaACiZ8mM89qvA3spsBebbrQWtGNyoQcRSoJiFPF',\n      'name': 'evmos',\n      'prefix': 'evmos',\n      'protocol': 'cosmos-rpc',\n      'unbonding_period': '1209600'}},\n    'funds': [],\n    '@type': '/cosmwasm.wasm.v1.MsgExecuteContract'}],\n  'memo': 'add entry',\n  'timeout_height': '0'},\n 'auth_info': {'signer_infos': [],\n  'fee': {'gas_limit': '20000000',\n   'amount': [{'denom': 'boot', 'amount': '0'}],\n   'payer': '',\n   'granter': ''}},\n 'signatures': []}"
     },
     "execution_count": 5,
     "metadata": {},
     "output_type": "execute_result"
    }
   ],
   "source": [
    "tx_unsigned_data['networks']"
   ],
   "metadata": {
    "collapsed": false,
    "ExecuteTime": {
     "end_time": "2023-06-30T05:10:41.062223Z",
     "start_time": "2023-06-30T05:10:41.058265Z"
    }
   }
  },
  {
   "cell_type": "code",
   "execution_count": 6,
   "outputs": [
    {
     "data": {
      "text/plain": "{'body': {'messages': [{'sender': 'bostrom1d8754xqa9245pctlfcyv8eah468neqzn3a0y0t',\n    'contract': 'bostrom1jsc2h2t2r4vpytz0ashmvpt5pqnyqculjq9t9vwy2p5wcu64xytqmzcdvj',\n    'msg': {'CreateEntry': {'active': 'false',\n      'destination_chain_id': 'osmosis-1',\n      'destination_channel_id': 'channel-79',\n      'source_chain_id': 'bostrom',\n      'source_channel_id': 'channel-0',\n      'explorer_url': 'https://mintscan.io/osmosis/txs/{txHash}'}},\n    'funds': [],\n    '@type': '/cosmwasm.wasm.v1.MsgExecuteContract'},\n   {'sender': 'bostrom1d8754xqa9245pctlfcyv8eah468neqzn3a0y0t',\n    'contract': 'bostrom1jsc2h2t2r4vpytz0ashmvpt5pqnyqculjq9t9vwy2p5wcu64xytqmzcdvj',\n    'msg': {'CreateEntry': {'active': 'false',\n      'destination_chain_id': 'cosmoshub-4',\n      'destination_channel_id': 'channel-225',\n      'source_chain_id': 'bostrom',\n      'source_channel_id': 'channel-1',\n      'explorer_url': 'https://mintscan.io/cosmos/txs/{txHash}'}},\n    'funds': [],\n    '@type': '/cosmwasm.wasm.v1.MsgExecuteContract'},\n   {'sender': 'bostrom1d8754xqa9245pctlfcyv8eah468neqzn3a0y0t',\n    'contract': 'bostrom1jsc2h2t2r4vpytz0ashmvpt5pqnyqculjq9t9vwy2p5wcu64xytqmzcdvj',\n    'msg': {'CreateEntry': {'active': 'true',\n      'destination_chain_id': 'juno-1',\n      'destination_channel_id': 'channel-93',\n      'source_chain_id': 'bostrom',\n      'source_channel_id': 'channel-10',\n      'explorer_url': 'https://mintscan.io/juno/txs/{txHash}'}},\n    'funds': [],\n    '@type': '/cosmwasm.wasm.v1.MsgExecuteContract'},\n   {'sender': 'bostrom1d8754xqa9245pctlfcyv8eah468neqzn3a0y0t',\n    'contract': 'bostrom1jsc2h2t2r4vpytz0ashmvpt5pqnyqculjq9t9vwy2p5wcu64xytqmzcdvj',\n    'msg': {'CreateEntry': {'active': 'true',\n      'destination_chain_id': 'space-pussy',\n      'destination_channel_id': 'channel-0',\n      'source_chain_id': 'bostrom',\n      'source_channel_id': 'channel-11',\n      'explorer_url': 'https://cyb.ai/network/bostrom/tx/{txHash}'}},\n    'funds': [],\n    '@type': '/cosmwasm.wasm.v1.MsgExecuteContract'},\n   {'sender': 'bostrom1d8754xqa9245pctlfcyv8eah468neqzn3a0y0t',\n    'contract': 'bostrom1jsc2h2t2r4vpytz0ashmvpt5pqnyqculjq9t9vwy2p5wcu64xytqmzcdvj',\n    'msg': {'CreateEntry': {'active': 'false',\n      'destination_chain_id': 'gravity-bridge-3',\n      'destination_channel_id': 'channel-103',\n      'source_chain_id': 'bostrom',\n      'source_channel_id': 'channel-12',\n      'explorer_url': 'https://mintscan.io/gravity-bridge/txs/{txHash}'}},\n    'funds': [],\n    '@type': '/cosmwasm.wasm.v1.MsgExecuteContract'},\n   {'sender': 'bostrom1d8754xqa9245pctlfcyv8eah468neqzn3a0y0t',\n    'contract': 'bostrom1jsc2h2t2r4vpytz0ashmvpt5pqnyqculjq9t9vwy2p5wcu64xytqmzcdvj',\n    'msg': {'CreateEntry': {'active': 'true',\n      'destination_chain_id': 'desmos-mainnet',\n      'destination_channel_id': 'channel-6',\n      'source_chain_id': 'bostrom',\n      'source_channel_id': 'channel-13',\n      'explorer_url': 'https://mintscan.io/desmos/txs/{txHash}'}},\n    'funds': [],\n    '@type': '/cosmwasm.wasm.v1.MsgExecuteContract'},\n   {'sender': 'bostrom1d8754xqa9245pctlfcyv8eah468neqzn3a0y0t',\n    'contract': 'bostrom1jsc2h2t2r4vpytz0ashmvpt5pqnyqculjq9t9vwy2p5wcu64xytqmzcdvj',\n    'msg': {'CreateEntry': {'active': 'true',\n      'destination_chain_id': 'axelar-dojo-1',\n      'destination_channel_id': 'channel-52',\n      'source_chain_id': 'bostrom',\n      'source_channel_id': 'channel-14',\n      'explorer_url': 'https://mintscan.io/axelar/txs/{txHash}'}},\n    'funds': [],\n    '@type': '/cosmwasm.wasm.v1.MsgExecuteContract'},\n   {'sender': 'bostrom1d8754xqa9245pctlfcyv8eah468neqzn3a0y0t',\n    'contract': 'bostrom1jsc2h2t2r4vpytz0ashmvpt5pqnyqculjq9t9vwy2p5wcu64xytqmzcdvj',\n    'msg': {'CreateEntry': {'active': 'false',\n      'destination_chain_id': 'phoenix-1',\n      'destination_channel_id': 'channel-108',\n      'source_chain_id': 'bostrom',\n      'source_channel_id': 'channel-15',\n      'explorer_url': 'https://explorer.nodestake.top/terra2/tx/{txHash}'}},\n    'funds': [],\n    '@type': '/cosmwasm.wasm.v1.MsgExecuteContract'},\n   {'sender': 'bostrom1d8754xqa9245pctlfcyv8eah468neqzn3a0y0t',\n    'contract': 'bostrom1jsc2h2t2r4vpytz0ashmvpt5pqnyqculjq9t9vwy2p5wcu64xytqmzcdvj',\n    'msg': {'CreateEntry': {'active': 'false',\n      'destination_chain_id': 'phoenix-1',\n      'destination_channel_id': 'channel-121',\n      'source_chain_id': 'bostrom',\n      'source_channel_id': 'channel-16',\n      'explorer_url': 'https://explorer.nodestake.top/terra2/tx/{txHash}'}},\n    'funds': [],\n    '@type': '/cosmwasm.wasm.v1.MsgExecuteContract'},\n   {'sender': 'bostrom1d8754xqa9245pctlfcyv8eah468neqzn3a0y0t',\n    'contract': 'bostrom1jsc2h2t2r4vpytz0ashmvpt5pqnyqculjq9t9vwy2p5wcu64xytqmzcdvj',\n    'msg': {'CreateEntry': {'active': 'false',\n      'destination_chain_id': 'eightball-1',\n      'destination_channel_id': 'channel-30',\n      'source_chain_id': 'bostrom',\n      'source_channel_id': 'channel-17',\n      'explorer_url': 'https://explorer.nodestake.top/8ball/tx/{txHash}'}},\n    'funds': [],\n    '@type': '/cosmwasm.wasm.v1.MsgExecuteContract'},\n   {'sender': 'bostrom1d8754xqa9245pctlfcyv8eah468neqzn3a0y0t',\n    'contract': 'bostrom1jsc2h2t2r4vpytz0ashmvpt5pqnyqculjq9t9vwy2p5wcu64xytqmzcdvj',\n    'msg': {'CreateEntry': {'active': 'true',\n      'destination_chain_id': 'osmosis-1',\n      'destination_channel_id': 'channel-95',\n      'source_chain_id': 'bostrom',\n      'source_channel_id': 'channel-2',\n      'explorer_url': 'https://mintscan.io/osmosis/txs/{txHash}'}},\n    'funds': [],\n    '@type': '/cosmwasm.wasm.v1.MsgExecuteContract'},\n   {'sender': 'bostrom1d8754xqa9245pctlfcyv8eah468neqzn3a0y0t',\n    'contract': 'bostrom1jsc2h2t2r4vpytz0ashmvpt5pqnyqculjq9t9vwy2p5wcu64xytqmzcdvj',\n    'msg': {'CreateEntry': {'active': 'false',\n      'destination_chain_id': 'osmosis-1',\n      'destination_channel_id': 'channel-96',\n      'source_chain_id': 'bostrom',\n      'source_channel_id': 'channel-3',\n      'explorer_url': 'https://mintscan.io/osmosis/txs/{txHash}'}},\n    'funds': [],\n    '@type': '/cosmwasm.wasm.v1.MsgExecuteContract'},\n   {'sender': 'bostrom1d8754xqa9245pctlfcyv8eah468neqzn3a0y0t',\n    'contract': 'bostrom1jsc2h2t2r4vpytz0ashmvpt5pqnyqculjq9t9vwy2p5wcu64xytqmzcdvj',\n    'msg': {'CreateEntry': {'active': 'false',\n      'destination_chain_id': 'cosmoshub-4',\n      'destination_channel_id': 'channel-237',\n      'source_chain_id': 'bostrom',\n      'source_channel_id': 'channel-4',\n      'explorer_url': 'https://mintscan.io/cosmos/txs/{txHash}'}},\n    'funds': [],\n    '@type': '/cosmwasm.wasm.v1.MsgExecuteContract'},\n   {'sender': 'bostrom1d8754xqa9245pctlfcyv8eah468neqzn3a0y0t',\n    'contract': 'bostrom1jsc2h2t2r4vpytz0ashmvpt5pqnyqculjq9t9vwy2p5wcu64xytqmzcdvj',\n    'msg': {'CreateEntry': {'active': 'false',\n      'destination_chain_id': 'cosmoshub-4',\n      'destination_channel_id': 'channel-240',\n      'source_chain_id': 'bostrom',\n      'source_channel_id': 'channel-5',\n      'explorer_url': 'https://mintscan.io/cosmos/txs/{txHash}'}},\n    'funds': [],\n    '@type': '/cosmwasm.wasm.v1.MsgExecuteContract'},\n   {'sender': 'bostrom1d8754xqa9245pctlfcyv8eah468neqzn3a0y0t',\n    'contract': 'bostrom1jsc2h2t2r4vpytz0ashmvpt5pqnyqculjq9t9vwy2p5wcu64xytqmzcdvj',\n    'msg': {'CreateEntry': {'active': 'false',\n      'destination_chain_id': 'gravity-bridge-3',\n      'destination_channel_id': 'channel-33',\n      'source_chain_id': 'bostrom',\n      'source_channel_id': 'channel-6',\n      'explorer_url': 'https://mintscan.io/gravity-bridge/txs/{txHash}'}},\n    'funds': [],\n    '@type': '/cosmwasm.wasm.v1.MsgExecuteContract'},\n   {'sender': 'bostrom1d8754xqa9245pctlfcyv8eah468neqzn3a0y0t',\n    'contract': 'bostrom1jsc2h2t2r4vpytz0ashmvpt5pqnyqculjq9t9vwy2p5wcu64xytqmzcdvj',\n    'msg': {'CreateEntry': {'active': 'true',\n      'destination_chain_id': 'gravity-bridge-3',\n      'destination_channel_id': 'channel-78',\n      'source_chain_id': 'bostrom',\n      'source_channel_id': 'channel-7',\n      'explorer_url': 'https://mintscan.io/gravity-bridge/txs/{txHash}'}},\n    'funds': [],\n    '@type': '/cosmwasm.wasm.v1.MsgExecuteContract'},\n   {'sender': 'bostrom1d8754xqa9245pctlfcyv8eah468neqzn3a0y0t',\n    'contract': 'bostrom1jsc2h2t2r4vpytz0ashmvpt5pqnyqculjq9t9vwy2p5wcu64xytqmzcdvj',\n    'msg': {'CreateEntry': {'active': 'true',\n      'destination_chain_id': 'cosmoshub-4',\n      'destination_channel_id': 'channel-341',\n      'source_chain_id': 'bostrom',\n      'source_channel_id': 'channel-8',\n      'explorer_url': 'https://mintscan.io/cosmos/txs/{txHash}'}},\n    'funds': [],\n    '@type': '/cosmwasm.wasm.v1.MsgExecuteContract'},\n   {'sender': 'bostrom1d8754xqa9245pctlfcyv8eah468neqzn3a0y0t',\n    'contract': 'bostrom1jsc2h2t2r4vpytz0ashmvpt5pqnyqculjq9t9vwy2p5wcu64xytqmzcdvj',\n    'msg': {'CreateEntry': {'active': 'true',\n      'destination_chain_id': 'evmos_9001-2',\n      'destination_channel_id': 'channel-19',\n      'source_chain_id': 'bostrom',\n      'source_channel_id': 'channel-9',\n      'explorer_url': 'https://mintscan.io/evmos/txs/{txHash}'}},\n    'funds': [],\n    '@type': '/cosmwasm.wasm.v1.MsgExecuteContract'}],\n  'memo': 'add entry',\n  'timeout_height': '0'},\n 'auth_info': {'signer_infos': [],\n  'fee': {'gas_limit': '20000000',\n   'amount': [{'denom': 'boot', 'amount': '0'}],\n   'payer': '',\n   'granter': ''}},\n 'signatures': []}"
     },
     "execution_count": 6,
     "metadata": {},
     "output_type": "execute_result"
    }
   ],
   "source": [
    "tx_unsigned_data['channels']"
   ],
   "metadata": {
    "collapsed": false,
    "ExecuteTime": {
     "end_time": "2023-06-30T05:10:41.122256Z",
     "start_time": "2023-06-30T05:10:41.065522Z"
    }
   }
  },
  {
   "cell_type": "code",
   "execution_count": 7,
   "outputs": [
    {
     "data": {
      "text/plain": "{'body': {'messages': [{'sender': 'bostrom1d8754xqa9245pctlfcyv8eah468neqzn3a0y0t',\n    'contract': 'bostrom12lswtdmepp9xgzzllmgzgc9frgy738a6a3phzlsld6t3rp6tljcqjgfev7',\n    'msg': {'CreateEntry': {'chain_id': 'bostrom',\n      'channel_id': '',\n      'decimals': '0',\n      'logo': 'QmaFs8AjTfNy6XFq8xb6boN1eC4nrznaPnvytJtq3FHnkf',\n      'ticker': 'BOOT',\n      'contract': 'native/boot'}},\n    'funds': [],\n    '@type': '/cosmwasm.wasm.v1.MsgExecuteContract'},\n   {'sender': 'bostrom1d8754xqa9245pctlfcyv8eah468neqzn3a0y0t',\n    'contract': 'bostrom12lswtdmepp9xgzzllmgzgc9frgy738a6a3phzlsld6t3rp6tljcqjgfev7',\n    'msg': {'CreateEntry': {'chain_id': 'bostrom',\n      'channel_id': '',\n      'decimals': '0',\n      'logo': 'QmZDWdXXBgJJ5QEvc68xeaJhk3dwJgsVQnSjJnoEtCBRrK',\n      'ticker': 'H',\n      'contract': 'native/hydrogen'}},\n    'funds': [],\n    '@type': '/cosmwasm.wasm.v1.MsgExecuteContract'},\n   {'sender': 'bostrom1d8754xqa9245pctlfcyv8eah468neqzn3a0y0t',\n    'contract': 'bostrom12lswtdmepp9xgzzllmgzgc9frgy738a6a3phzlsld6t3rp6tljcqjgfev7',\n    'msg': {'CreateEntry': {'chain_id': 'bostrom',\n      'channel_id': 'channel-2',\n      'decimals': '6',\n      'logo': 'QmdbiuCkCGiFV8aaUVyJTpVMLj97DLvF8vbM1mf73xRsVJ',\n      'ticker': 'OSMO',\n      'contract': 'ibc/13B2C536BB057AC79D5616B8EA1B9540EC1F2170718CAFF6F0083C966FFFED0B'}},\n    'funds': [],\n    '@type': '/cosmwasm.wasm.v1.MsgExecuteContract'},\n   {'sender': 'bostrom1d8754xqa9245pctlfcyv8eah468neqzn3a0y0t',\n    'contract': 'bostrom12lswtdmepp9xgzzllmgzgc9frgy738a6a3phzlsld6t3rp6tljcqjgfev7',\n    'msg': {'CreateEntry': {'chain_id': 'bostrom',\n      'channel_id': 'channel-8',\n      'decimals': '6',\n      'logo': 'Qmb5L5ZwJSt22Vra9jNph7aSFKqfVW8f4HVWqNU15qsqDX',\n      'ticker': 'ATOM',\n      'contract': 'ibc/15E9C5CF5969080539DB395FA7D9C0868265217EFC528433671AAF9B1912D159'}},\n    'funds': [],\n    '@type': '/cosmwasm.wasm.v1.MsgExecuteContract'},\n   {'sender': 'bostrom1d8754xqa9245pctlfcyv8eah468neqzn3a0y0t',\n    'contract': 'bostrom12lswtdmepp9xgzzllmgzgc9frgy738a6a3phzlsld6t3rp6tljcqjgfev7',\n    'msg': {'CreateEntry': {'chain_id': 'bostrom',\n      'channel_id': 'channel-11',\n      'decimals': '3',\n      'logo': 'QmTBHnJ27sADmHuFdaxo5i1m9Jvo988MUQP3Yp9Ph8Ua27',\n      'ticker': 'A',\n      'contract': 'ibc/29FC7F418F1EFB5DAB3DD089AADA1FE406DC78633BFF3D3E2B3D767368AC083D'}},\n    'funds': [],\n    '@type': '/cosmwasm.wasm.v1.MsgExecuteContract'},\n   {'sender': 'bostrom1d8754xqa9245pctlfcyv8eah468neqzn3a0y0t',\n    'contract': 'bostrom12lswtdmepp9xgzzllmgzgc9frgy738a6a3phzlsld6t3rp6tljcqjgfev7',\n    'msg': {'CreateEntry': {'chain_id': 'bostrom',\n      'channel_id': 'channel-11',\n      'decimals': '0',\n      'logo': 'QmVdamuwvpDUENhsGH5RGP7Dx4redrCFCM3kuy5hNFvo9r',\n      'ticker': 'PUSSY',\n      'contract': 'ibc/43DB7553C43D81CB01E9A2644B49A241314B482C2E56F86E85A6539C60383151'}},\n    'funds': [],\n    '@type': '/cosmwasm.wasm.v1.MsgExecuteContract'},\n   {'sender': 'bostrom1d8754xqa9245pctlfcyv8eah468neqzn3a0y0t',\n    'contract': 'bostrom12lswtdmepp9xgzzllmgzgc9frgy738a6a3phzlsld6t3rp6tljcqjgfev7',\n    'msg': {'CreateEntry': {'chain_id': 'bostrom',\n      'channel_id': 'channel-11',\n      'decimals': '3',\n      'logo': 'QmWgPPn5CVYroJfvZVqnd4YzH3iqNEkhCLAuQS6jLs8nxZ',\n      'ticker': 'V',\n      'contract': 'ibc/47160B934644DED2F8E605B0521C6CC06F75A0465D8B7F2846A318B3B45D4834'}},\n    'funds': [],\n    '@type': '/cosmwasm.wasm.v1.MsgExecuteContract'},\n   {'sender': 'bostrom1d8754xqa9245pctlfcyv8eah468neqzn3a0y0t',\n    'contract': 'bostrom12lswtdmepp9xgzzllmgzgc9frgy738a6a3phzlsld6t3rp6tljcqjgfev7',\n    'msg': {'CreateEntry': {'chain_id': 'bostrom',\n      'channel_id': 'channel-9',\n      'decimals': '6',\n      'logo': 'QmNcoUHaACiZ8mM89qvA3spsBebbrQWtGNyoQcRSoJiFPF',\n      'ticker': 'EVMOS',\n      'contract': 'ibc/4B322204B4F59D770680FE4D7A565DDC3F37BFF035474B717476C66A4F83DD72'}},\n    'funds': [],\n    '@type': '/cosmwasm.wasm.v1.MsgExecuteContract'},\n   {'sender': 'bostrom1d8754xqa9245pctlfcyv8eah468neqzn3a0y0t',\n    'contract': 'bostrom12lswtdmepp9xgzzllmgzgc9frgy738a6a3phzlsld6t3rp6tljcqjgfev7',\n    'msg': {'CreateEntry': {'chain_id': 'bostrom',\n      'channel_id': 'channel-10',\n      'decimals': '6',\n      'logo': 'QmZyWYqKU4ny1gqSz16CmfrHJKS4zkybjS2DDQxs7YZPV9',\n      'ticker': 'JUNO',\n      'contract': 'ibc/8D9262E35CAE362FA74AE05E430550757CF8D842EC1B241F645D3CB7179AFD10'}},\n    'funds': [],\n    '@type': '/cosmwasm.wasm.v1.MsgExecuteContract'},\n   {'sender': 'bostrom1d8754xqa9245pctlfcyv8eah468neqzn3a0y0t',\n    'contract': 'bostrom12lswtdmepp9xgzzllmgzgc9frgy738a6a3phzlsld6t3rp6tljcqjgfev7',\n    'msg': {'CreateEntry': {'chain_id': 'bostrom',\n      'channel_id': 'channel-11',\n      'decimals': '0',\n      'logo': 'QmZDWdXXBgJJ5QEvc68xeaJhk3dwJgsVQnSjJnoEtCBRrK',\n      'ticker': 'LP',\n      'contract': 'ibc/9B45B8C514B76D792BEC4850AE601E0E73CE7D307A567F34038432FC80D74780'}},\n    'funds': [],\n    '@type': '/cosmwasm.wasm.v1.MsgExecuteContract'},\n   {'sender': 'bostrom1d8754xqa9245pctlfcyv8eah468neqzn3a0y0t',\n    'contract': 'bostrom12lswtdmepp9xgzzllmgzgc9frgy738a6a3phzlsld6t3rp6tljcqjgfev7',\n    'msg': {'CreateEntry': {'chain_id': 'bostrom',\n      'channel_id': 'channel-13',\n      'decimals': '6',\n      'logo': 'QmeYujkRMAXxh3JDrtT1B3NvCQL6tAuzbF8UkF6KjrJH1B',\n      'ticker': 'DSM',\n      'contract': 'ibc/CA5E8F31288514D728AFD1F0533A7F6902AA1192C88C9540F814893C3EAFE244'}},\n    'funds': [],\n    '@type': '/cosmwasm.wasm.v1.MsgExecuteContract'},\n   {'sender': 'bostrom1d8754xqa9245pctlfcyv8eah468neqzn3a0y0t',\n    'contract': 'bostrom12lswtdmepp9xgzzllmgzgc9frgy738a6a3phzlsld6t3rp6tljcqjgfev7',\n    'msg': {'CreateEntry': {'chain_id': 'bostrom',\n      'channel_id': '',\n      'decimals': '3',\n      'logo': 'QmTBHnJ27sADmHuFdaxo5i1m9Jvo988MUQP3Yp9Ph8Ua27',\n      'ticker': 'A',\n      'contract': 'native/milliampere'}},\n    'funds': [],\n    '@type': '/cosmwasm.wasm.v1.MsgExecuteContract'},\n   {'sender': 'bostrom1d8754xqa9245pctlfcyv8eah468neqzn3a0y0t',\n    'contract': 'bostrom12lswtdmepp9xgzzllmgzgc9frgy738a6a3phzlsld6t3rp6tljcqjgfev7',\n    'msg': {'CreateEntry': {'chain_id': 'bostrom',\n      'channel_id': '',\n      'decimals': '3',\n      'logo': 'QmWgPPn5CVYroJfvZVqnd4YzH3iqNEkhCLAuQS6jLs8nxZ',\n      'ticker': 'V',\n      'contract': 'native/millivolt'}},\n    'funds': [],\n    '@type': '/cosmwasm.wasm.v1.MsgExecuteContract'},\n   {'sender': 'bostrom1d8754xqa9245pctlfcyv8eah468neqzn3a0y0t',\n    'contract': 'bostrom12lswtdmepp9xgzzllmgzgc9frgy738a6a3phzlsld6t3rp6tljcqjgfev7',\n    'msg': {'CreateEntry': {'chain_id': 'bostrom',\n      'channel_id': '',\n      'decimals': '0',\n      'logo': 'QmaFDLBuEf3Uo1gYCY3CciGwgXxcc5pEVKwpVCfCcrJFyp',\n      'ticker': 'TOCYB',\n      'contract': 'native/tocyb'}},\n    'funds': [],\n    '@type': '/cosmwasm.wasm.v1.MsgExecuteContract'},\n   {'sender': 'bostrom1d8754xqa9245pctlfcyv8eah468neqzn3a0y0t',\n    'contract': 'bostrom12lswtdmepp9xgzzllmgzgc9frgy738a6a3phzlsld6t3rp6tljcqjgfev7',\n    'msg': {'CreateEntry': {'chain_id': 'space-pussy',\n      'channel_id': '',\n      'decimals': '0',\n      'logo': 'QmZDWdXXBgJJ5QEvc68xeaJhk3dwJgsVQnSjJnoEtCBRrK',\n      'ticker': 'LP',\n      'contract': 'native/liquidpussy'}},\n    'funds': [],\n    '@type': '/cosmwasm.wasm.v1.MsgExecuteContract'},\n   {'sender': 'bostrom1d8754xqa9245pctlfcyv8eah468neqzn3a0y0t',\n    'contract': 'bostrom12lswtdmepp9xgzzllmgzgc9frgy738a6a3phzlsld6t3rp6tljcqjgfev7',\n    'msg': {'CreateEntry': {'chain_id': 'space-pussy',\n      'channel_id': '',\n      'decimals': '3',\n      'logo': 'QmTBHnJ27sADmHuFdaxo5i1m9Jvo988MUQP3Yp9Ph8Ua27',\n      'ticker': 'A',\n      'contract': 'native/milliampere'}},\n    'funds': [],\n    '@type': '/cosmwasm.wasm.v1.MsgExecuteContract'},\n   {'sender': 'bostrom1d8754xqa9245pctlfcyv8eah468neqzn3a0y0t',\n    'contract': 'bostrom12lswtdmepp9xgzzllmgzgc9frgy738a6a3phzlsld6t3rp6tljcqjgfev7',\n    'msg': {'CreateEntry': {'chain_id': 'space-pussy',\n      'channel_id': '',\n      'decimals': '3',\n      'logo': 'QmWgPPn5CVYroJfvZVqnd4YzH3iqNEkhCLAuQS6jLs8nxZ',\n      'ticker': 'V',\n      'contract': 'native/millivolt'}},\n    'funds': [],\n    '@type': '/cosmwasm.wasm.v1.MsgExecuteContract'},\n   {'sender': 'bostrom1d8754xqa9245pctlfcyv8eah468neqzn3a0y0t',\n    'contract': 'bostrom12lswtdmepp9xgzzllmgzgc9frgy738a6a3phzlsld6t3rp6tljcqjgfev7',\n    'msg': {'CreateEntry': {'chain_id': 'space-pussy',\n      'channel_id': '',\n      'decimals': '0',\n      'logo': 'QmVdamuwvpDUENhsGH5RGP7Dx4redrCFCM3kuy5hNFvo9r',\n      'ticker': 'PUSSY',\n      'contract': 'native/pussy'}},\n    'funds': [],\n    '@type': '/cosmwasm.wasm.v1.MsgExecuteContract'}],\n  'memo': 'add entry',\n  'timeout_height': '0'},\n 'auth_info': {'signer_infos': [],\n  'fee': {'gas_limit': '20000000',\n   'amount': [{'denom': 'boot', 'amount': '0'}],\n   'payer': '',\n   'granter': ''}},\n 'signatures': []}"
     },
     "execution_count": 7,
     "metadata": {},
     "output_type": "execute_result"
    }
   ],
   "source": [
    "tx_unsigned_data['tokens']"
   ],
   "metadata": {
    "collapsed": false,
    "ExecuteTime": {
     "end_time": "2023-06-30T05:10:41.122934Z",
     "start_time": "2023-06-30T05:10:41.073123Z"
    }
   }
  }
 ],
 "metadata": {
  "kernelspec": {
   "display_name": "Python 3",
   "language": "python",
   "name": "python3"
  },
  "language_info": {
   "codemirror_mode": {
    "name": "ipython",
    "version": 2
   },
   "file_extension": ".py",
   "mimetype": "text/x-python",
   "name": "python",
   "nbconvert_exporter": "python",
   "pygments_lexer": "ipython2",
   "version": "2.7.6"
  }
 },
 "nbformat": 4,
 "nbformat_minor": 0
}
