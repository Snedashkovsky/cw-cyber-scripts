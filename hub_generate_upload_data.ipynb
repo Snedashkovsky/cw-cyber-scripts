{
 "cells": [
  {
   "cell_type": "markdown",
   "source": [
    "## Generate of data uploaded into Hub contracts"
   ],
   "metadata": {
    "collapsed": false
   }
  },
  {
   "cell_type": "code",
   "execution_count": 1,
   "outputs": [],
   "source": [
    "import json\n",
    "import ipfshttpclient\n",
    "import pandas as pd\n",
    "from multiaddr import Multiaddr\n",
    "from warnings import filterwarnings\n",
    "from re import sub\n",
    "\n",
    "from cyberutils.bash import get_json_from_bash_query\n",
    "\n",
    "from config import IPFS_HOST, NODE_RPC_URL, PUSSY_NODE_RPC_URL, CHAIN_ID, PUSSY_CHAIN_ID\n",
    "\n",
    "filterwarnings('ignore')"
   ],
   "metadata": {
    "collapsed": false,
    "ExecuteTime": {
     "start_time": "2023-05-21T14:00:44.220480Z",
     "end_time": "2023-05-21T14:00:44.921097Z"
    }
   }
  },
  {
   "cell_type": "code",
   "execution_count": 2,
   "outputs": [],
   "source": [
    "ipfs_client = ipfshttpclient.connect(addr=Multiaddr(IPFS_HOST))\n",
    "\n",
    "def add_file_to_ipfs(file_path: str) -> str:\n",
    "    with open(file_path, 'rb') as _file:\n",
    "        return ipfs_client.add_bytes(_file.read())"
   ],
   "metadata": {
    "collapsed": false,
    "ExecuteTime": {
     "start_time": "2023-05-21T14:00:44.959142Z",
     "end_time": "2023-05-21T14:00:44.979062Z"
    }
   }
  },
  {
   "cell_type": "markdown",
   "source": [
    "### Data fields\n",
    "- protocols: 'data_type', 'particle'\n",
    "- networks: 'chain_id', 'genesis_hash', 'logo', 'name', 'prefix', 'protocol', 'unbonding_period', 'particle'\n",
    "- channels: 'active', 'destination_chain_id', 'destination_channel_id', 'explorer_url', 'source_chain_id', 'source_channel_id', 'particle'\n",
    "- tokens: 'chain_id', 'channel', 'contract', 'decimals', 'logo', 'ticker', 'particle'\n",
    "- skills: 'endpoint', 'network', 'neuron', 'protocol', 'particle'\n",
    "- contracts: 'address', 'chain_id', 'execute_cid', 'query_cid', 'version', 'particle'\n",
    "\n",
    "`particle` field is optional\n",
    "\n",
    "### Protocols\n",
    "Hub supported protocols"
   ],
   "metadata": {
    "collapsed": false
   }
  },
  {
   "cell_type": "code",
   "execution_count": 3,
   "outputs": [],
   "source": [
    "protocols = [\n",
    "    'ipfs-gateway',\n",
    "    'cyber-rpc',\n",
    "    'cosmos-rpc',\n",
    "]\n",
    "protocols_json = [{'data_type': protocol} for protocol in protocols]\n",
    "with open('data/protocols.json', 'w') as file:\n",
    "    file.write(json.dumps(protocols_json))"
   ],
   "metadata": {
    "collapsed": false,
    "ExecuteTime": {
     "start_time": "2023-05-19T14:16:21.191883Z",
     "end_time": "2023-05-19T14:16:21.195617Z"
    }
   }
  },
  {
   "cell_type": "code",
   "execution_count": 4,
   "outputs": [
    {
     "data": {
      "text/plain": "      data_type\n0  ipfs-gateway\n1     cyber-rpc\n2    cosmos-rpc",
      "text/html": "<div>\n<style scoped>\n    .dataframe tbody tr th:only-of-type {\n        vertical-align: middle;\n    }\n\n    .dataframe tbody tr th {\n        vertical-align: top;\n    }\n\n    .dataframe thead th {\n        text-align: right;\n    }\n</style>\n<table border=\"1\" class=\"dataframe\">\n  <thead>\n    <tr style=\"text-align: right;\">\n      <th></th>\n      <th>data_type</th>\n    </tr>\n  </thead>\n  <tbody>\n    <tr>\n      <th>0</th>\n      <td>ipfs-gateway</td>\n    </tr>\n    <tr>\n      <th>1</th>\n      <td>cyber-rpc</td>\n    </tr>\n    <tr>\n      <th>2</th>\n      <td>cosmos-rpc</td>\n    </tr>\n  </tbody>\n</table>\n</div>"
     },
     "execution_count": 4,
     "metadata": {},
     "output_type": "execute_result"
    }
   ],
   "source": [
    "protocols_df = pd.DataFrame(protocols_json)\n",
    "protocols_df"
   ],
   "metadata": {
    "collapsed": false,
    "ExecuteTime": {
     "start_time": "2023-05-19T14:16:21.198300Z",
     "end_time": "2023-05-19T14:16:21.202618Z"
    }
   }
  },
  {
   "cell_type": "markdown",
   "source": [
    "### Networks"
   ],
   "metadata": {
    "collapsed": false
   }
  },
  {
   "cell_type": "code",
   "execution_count": 5,
   "outputs": [],
   "source": [
    "networks_json = [\n",
    "    {\n",
    "        'chain_id': 'bostrom',\n",
    "        'genesis_hash': 'QmYubyVNfghD4xCrTFj26zBwrF9s5GJhi1TmxvrwmJCipr',\n",
    "        'logo': add_file_to_ipfs('img/logo/networks/BOSTROM-icon.png'),\n",
    "        'name': 'bostrom',\n",
    "        'prefix': 'bostrom',\n",
    "        'protocol': 'cyber-rpc',\n",
    "        'unbonding_period': '691200'\n",
    "    },\n",
    "    {\n",
    "        'chain_id': 'space-pussy',\n",
    "        'genesis_hash': add_file_to_ipfs('data/genesis_spacepussy.json'),\n",
    "        'logo': add_file_to_ipfs('img/logo/networks/SPACE-PUSSY-icon.png'),\n",
    "        'name': 'space-pussy',\n",
    "        'prefix': 'pussy',\n",
    "        'protocol': 'cyber-rpc',\n",
    "        'unbonding_period': '2419200'\n",
    "    },\n",
    "    {\n",
    "        'chain_id': 'cosmoshub-4',\n",
    "        'genesis_hash': add_file_to_ipfs('data/genesis_cosmos.json'),\n",
    "        'logo': add_file_to_ipfs('img/logo/networks/COSMOS-icon.png'),\n",
    "        'name': 'cosmos',\n",
    "        'prefix': 'cosmos',\n",
    "        'protocol': 'cosmos-rpc',\n",
    "        'unbonding_period': str(21 * 24 * 3_600)\n",
    "    },\n",
    "    {\n",
    "        'chain_id': 'osmosis-1',\n",
    "        'genesis_hash': add_file_to_ipfs('data/genesis_osmosis.json'),\n",
    "        'logo': add_file_to_ipfs('img/logo/networks/OSMOSIS-icon.png'),\n",
    "        'name': 'osmosis',\n",
    "        'prefix': 'osmo',\n",
    "        'protocol': 'cosmos-rpc',\n",
    "        'unbonding_period': '1209600'\n",
    "    },\n",
    "    {\n",
    "        'chain_id': 'juno-1',\n",
    "        'genesis_hash': add_file_to_ipfs('data/genesis_juno.json'),\n",
    "        'logo': add_file_to_ipfs('img/logo/networks/JUNO-icon.png'),\n",
    "        'name': 'juno',\n",
    "        'prefix': 'juno',\n",
    "        'protocol': 'cosmos-rpc',\n",
    "        'unbonding_period': str(28 * 24 * 3_600)\n",
    "    },\n",
    "    {\n",
    "        'chain_id': 'gravity-bridge-3',\n",
    "        'genesis_hash': add_file_to_ipfs('data/genesis_gravitybridge.json'),\n",
    "        'logo': add_file_to_ipfs('img/logo/networks/GRAVITYBRIDGE-icon.png'),\n",
    "        'name': 'gravity bridge',\n",
    "        'prefix': 'gravity',\n",
    "        'protocol': 'cosmos-rpc',\n",
    "        'unbonding_period': str(21 * 24 * 3_600)\n",
    "    },\n",
    "    {\n",
    "        'chain_id': 'axelar-dojo-1',\n",
    "        'genesis_hash': add_file_to_ipfs('data/genesis_axelar.json'),\n",
    "        'logo': add_file_to_ipfs('img/logo/networks/AXELAR-icon.png'),\n",
    "        'name': 'axelar',\n",
    "        'prefix': 'axelar',\n",
    "        'protocol': 'cosmos-rpc',\n",
    "        'unbonding_period': str(7 * 24 * 3_600)\n",
    "    },\n",
    "    {\n",
    "        'chain_id': 'evmos_9001-2',\n",
    "        'genesis_hash': add_file_to_ipfs('data/genesis_evmos.json'),\n",
    "        'logo': add_file_to_ipfs('img/logo/networks/EVMOS-icon.png'),\n",
    "        'name': 'evmos',\n",
    "        'prefix': 'evmos',\n",
    "        'protocol': 'cosmos-rpc',\n",
    "        'unbonding_period': str(14 * 24 * 3_600)\n",
    "    },\n",
    "]\n",
    "with open('data/networks.json', 'w') as file:\n",
    "    file.write(json.dumps(networks_json))"
   ],
   "metadata": {
    "collapsed": false,
    "ExecuteTime": {
     "start_time": "2023-05-19T14:16:21.207307Z",
     "end_time": "2023-05-19T14:16:53.917428Z"
    }
   }
  },
  {
   "cell_type": "code",
   "execution_count": 6,
   "outputs": [
    {
     "data": {
      "text/plain": "           chain_id                                    genesis_hash  \\\n0           bostrom  QmYubyVNfghD4xCrTFj26zBwrF9s5GJhi1TmxvrwmJCipr   \n1       space-pussy  QmTR1k469ZNJdmhT2WY67A6fccpj1pRkHTmnZZtYpPDnH7   \n2       cosmoshub-4  Qmc54DreioPpPDUdJW6bBTYUKepmcPsscfqsfFcFmTaVig   \n3         osmosis-1  QmXRvBT3hgoXwwPqbK6a2sXUuArGM8wPyo1ybskyyUwUxs   \n4            juno-1  QmPJ2Q4D6GDbbU68ga5jQJ9AXpv7WcM63QEVRup6LMjzsb   \n5  gravity-bridge-3  Qmed9LHnN2ovM4BdiJ2RPecB99PVK9yfFEV5FpwdDNiVsJ   \n6     axelar-dojo-1  QmZLQoafcmhLkYgZb7HMB15Fg6RfKs8Yro44tkrxwNBcTu   \n7      evmos_9001-2  QmYmcmveFYMdA1NRAvAa3hKM8HQRdiwfmYtf3GgyJGTMEa   \n\n                                             logo            name   prefix  \\\n0  QmaFs8AjTfNy6XFq8xb6boN1eC4nrznaPnvytJtq3FHnkf         bostrom  bostrom   \n1  QmVdamuwvpDUENhsGH5RGP7Dx4redrCFCM3kuy5hNFvo9r     space-pussy    pussy   \n2  Qmb5L5ZwJSt22Vra9jNph7aSFKqfVW8f4HVWqNU15qsqDX          cosmos   cosmos   \n3  QmdbiuCkCGiFV8aaUVyJTpVMLj97DLvF8vbM1mf73xRsVJ         osmosis     osmo   \n4  QmZyWYqKU4ny1gqSz16CmfrHJKS4zkybjS2DDQxs7YZPV9            juno     juno   \n5  QmQotGqeEKQLkssVx3yKuGqkcS6awFzgZLwnoyycqzffmL  gravity bridge  gravity   \n6  QmW389aWTLgDS3q6DjWuP3VBGzfi3s1seAj7GqpkCpSdV4          axelar   axelar   \n7  QmNcoUHaACiZ8mM89qvA3spsBebbrQWtGNyoQcRSoJiFPF           evmos    evmos   \n\n     protocol unbonding_period  \n0   cyber-rpc           691200  \n1   cyber-rpc          2419200  \n2  cosmos-rpc          1814400  \n3  cosmos-rpc          1209600  \n4  cosmos-rpc          2419200  \n5  cosmos-rpc          1814400  \n6  cosmos-rpc           604800  \n7  cosmos-rpc          1209600  ",
      "text/html": "<div>\n<style scoped>\n    .dataframe tbody tr th:only-of-type {\n        vertical-align: middle;\n    }\n\n    .dataframe tbody tr th {\n        vertical-align: top;\n    }\n\n    .dataframe thead th {\n        text-align: right;\n    }\n</style>\n<table border=\"1\" class=\"dataframe\">\n  <thead>\n    <tr style=\"text-align: right;\">\n      <th></th>\n      <th>chain_id</th>\n      <th>genesis_hash</th>\n      <th>logo</th>\n      <th>name</th>\n      <th>prefix</th>\n      <th>protocol</th>\n      <th>unbonding_period</th>\n    </tr>\n  </thead>\n  <tbody>\n    <tr>\n      <th>0</th>\n      <td>bostrom</td>\n      <td>QmYubyVNfghD4xCrTFj26zBwrF9s5GJhi1TmxvrwmJCipr</td>\n      <td>QmaFs8AjTfNy6XFq8xb6boN1eC4nrznaPnvytJtq3FHnkf</td>\n      <td>bostrom</td>\n      <td>bostrom</td>\n      <td>cyber-rpc</td>\n      <td>691200</td>\n    </tr>\n    <tr>\n      <th>1</th>\n      <td>space-pussy</td>\n      <td>QmTR1k469ZNJdmhT2WY67A6fccpj1pRkHTmnZZtYpPDnH7</td>\n      <td>QmVdamuwvpDUENhsGH5RGP7Dx4redrCFCM3kuy5hNFvo9r</td>\n      <td>space-pussy</td>\n      <td>pussy</td>\n      <td>cyber-rpc</td>\n      <td>2419200</td>\n    </tr>\n    <tr>\n      <th>2</th>\n      <td>cosmoshub-4</td>\n      <td>Qmc54DreioPpPDUdJW6bBTYUKepmcPsscfqsfFcFmTaVig</td>\n      <td>Qmb5L5ZwJSt22Vra9jNph7aSFKqfVW8f4HVWqNU15qsqDX</td>\n      <td>cosmos</td>\n      <td>cosmos</td>\n      <td>cosmos-rpc</td>\n      <td>1814400</td>\n    </tr>\n    <tr>\n      <th>3</th>\n      <td>osmosis-1</td>\n      <td>QmXRvBT3hgoXwwPqbK6a2sXUuArGM8wPyo1ybskyyUwUxs</td>\n      <td>QmdbiuCkCGiFV8aaUVyJTpVMLj97DLvF8vbM1mf73xRsVJ</td>\n      <td>osmosis</td>\n      <td>osmo</td>\n      <td>cosmos-rpc</td>\n      <td>1209600</td>\n    </tr>\n    <tr>\n      <th>4</th>\n      <td>juno-1</td>\n      <td>QmPJ2Q4D6GDbbU68ga5jQJ9AXpv7WcM63QEVRup6LMjzsb</td>\n      <td>QmZyWYqKU4ny1gqSz16CmfrHJKS4zkybjS2DDQxs7YZPV9</td>\n      <td>juno</td>\n      <td>juno</td>\n      <td>cosmos-rpc</td>\n      <td>2419200</td>\n    </tr>\n    <tr>\n      <th>5</th>\n      <td>gravity-bridge-3</td>\n      <td>Qmed9LHnN2ovM4BdiJ2RPecB99PVK9yfFEV5FpwdDNiVsJ</td>\n      <td>QmQotGqeEKQLkssVx3yKuGqkcS6awFzgZLwnoyycqzffmL</td>\n      <td>gravity bridge</td>\n      <td>gravity</td>\n      <td>cosmos-rpc</td>\n      <td>1814400</td>\n    </tr>\n    <tr>\n      <th>6</th>\n      <td>axelar-dojo-1</td>\n      <td>QmZLQoafcmhLkYgZb7HMB15Fg6RfKs8Yro44tkrxwNBcTu</td>\n      <td>QmW389aWTLgDS3q6DjWuP3VBGzfi3s1seAj7GqpkCpSdV4</td>\n      <td>axelar</td>\n      <td>axelar</td>\n      <td>cosmos-rpc</td>\n      <td>604800</td>\n    </tr>\n    <tr>\n      <th>7</th>\n      <td>evmos_9001-2</td>\n      <td>QmYmcmveFYMdA1NRAvAa3hKM8HQRdiwfmYtf3GgyJGTMEa</td>\n      <td>QmNcoUHaACiZ8mM89qvA3spsBebbrQWtGNyoQcRSoJiFPF</td>\n      <td>evmos</td>\n      <td>evmos</td>\n      <td>cosmos-rpc</td>\n      <td>1209600</td>\n    </tr>\n  </tbody>\n</table>\n</div>"
     },
     "execution_count": 6,
     "metadata": {},
     "output_type": "execute_result"
    }
   ],
   "source": [
    "networks_df = pd.DataFrame(networks_json)\n",
    "networks_df"
   ],
   "metadata": {
    "collapsed": false,
    "ExecuteTime": {
     "start_time": "2023-05-19T14:16:53.916406Z",
     "end_time": "2023-05-19T14:16:53.918002Z"
    }
   }
  },
  {
   "cell_type": "markdown",
   "source": [
    "### Channels"
   ],
   "metadata": {
    "collapsed": false
   }
  },
  {
   "cell_type": "code",
   "execution_count": 7,
   "outputs": [],
   "source": [
    "BOSTROM_INACTIVE_CHANNELS = [\n",
    "    'channel-0',\n",
    "    'channel-1',\n",
    "    'channel-3',\n",
    "    'channel-4',\n",
    "    'channel-5',\n",
    "    'channel-6',\n",
    "    'channel-12',\n",
    "    'channel-15',\n",
    "    'channel-16',\n",
    "    'channel-17'\n",
    "]\n",
    "EXPLORER_URL = {\n",
    "    'agoric-3': '',\n",
    "    'akashnet-2': 'https://mintscan.io/akash',\n",
    "    'arkh': '',\n",
    "    'axelar-dojo-1': 'https://mintscan.io/axelar',\n",
    "    'bostrom': 'https://cyb.ai/oracle',\n",
    "    'cosmoshub-4': 'https://mintscan.io/cosmos',\n",
    "    'desmos-mainnet': 'https://mintscan.io/desmos',\n",
    "    'eightball-1': 'https://explorer.nodestake.top/8ball',\n",
    "    'evmos_9001-2': 'https://mintscan.io/evmos',\n",
    "    'gravity-bridge-3': 'https://mintscan.io/gravity-bridge',\n",
    "    'juno-1': 'https://mintscan.io/juno',\n",
    "    'mantle-1': 'https://mintscan.io/asset-mantle',\n",
    "    'osmosis-1': 'https://mintscan.io/osmosis',\n",
    "    'phoenix-1': '',\n",
    "    'space-pussy': 'https://cyb.ai/oracle',\n",
    "}\n",
    "APPROVED_ACTIVE_CHANNELS = [\n",
    "    'channel-10',\n",
    "    'channel-11',\n",
    "    'channel-13',\n",
    "    'channel-14',\n",
    "    'channel-2',\n",
    "    'channel-7',\n",
    "    'channel-8',\n",
    "    'channel-9'\n",
    "]"
   ],
   "metadata": {
    "collapsed": false,
    "ExecuteTime": {
     "start_time": "2023-05-21T14:08:41.896927Z",
     "end_time": "2023-05-21T14:08:41.901401Z"
    }
   }
  },
  {
   "cell_type": "code",
   "execution_count": 8,
   "outputs": [
    {
     "data": {
      "text/plain": "   active destination_chain_id destination_channel_id source_chain_id  \\\n0   false            osmosis-1             channel-79         bostrom   \n1   false          cosmoshub-4            channel-225         bostrom   \n2    true               juno-1             channel-93         bostrom   \n3    true          space-pussy              channel-0         bostrom   \n4   false     gravity-bridge-3            channel-103         bostrom   \n5    true       desmos-mainnet              channel-6         bostrom   \n6    true        axelar-dojo-1             channel-52         bostrom   \n7   false            phoenix-1            channel-108         bostrom   \n8   false            phoenix-1            channel-121         bostrom   \n9   false          eightball-1             channel-30         bostrom   \n10   true             agoric-3             channel-22         bostrom   \n11   true           akashnet-2             channel-83         bostrom   \n12   true            osmosis-1             channel-95         bostrom   \n13   true                 arkh             channel-25         bostrom   \n14   true             mantle-1             channel-26         bostrom   \n15  false            osmosis-1             channel-96         bostrom   \n16  false          cosmoshub-4            channel-237         bostrom   \n17  false          cosmoshub-4            channel-240         bostrom   \n18  false     gravity-bridge-3             channel-33         bostrom   \n19   true     gravity-bridge-3             channel-78         bostrom   \n20   true          cosmoshub-4            channel-341         bostrom   \n21   true         evmos_9001-2             channel-19         bostrom   \n\n   source_channel_id                          explorer_url  \n0          channel-0           https://mintscan.io/osmosis  \n1          channel-1            https://mintscan.io/cosmos  \n2         channel-10              https://mintscan.io/juno  \n3         channel-11                 https://cyb.ai/oracle  \n4         channel-12    https://mintscan.io/gravity-bridge  \n5         channel-13            https://mintscan.io/desmos  \n6         channel-14            https://mintscan.io/axelar  \n7         channel-15                                        \n8         channel-16                                        \n9         channel-17  https://explorer.nodestake.top/8ball  \n10        channel-18                                        \n11        channel-19             https://mintscan.io/akash  \n12         channel-2           https://mintscan.io/osmosis  \n13        channel-20                                        \n14        channel-21      https://mintscan.io/asset-mantle  \n15         channel-3           https://mintscan.io/osmosis  \n16         channel-4            https://mintscan.io/cosmos  \n17         channel-5            https://mintscan.io/cosmos  \n18         channel-6    https://mintscan.io/gravity-bridge  \n19         channel-7    https://mintscan.io/gravity-bridge  \n20         channel-8            https://mintscan.io/cosmos  \n21         channel-9             https://mintscan.io/evmos  ",
      "text/html": "<div>\n<style scoped>\n    .dataframe tbody tr th:only-of-type {\n        vertical-align: middle;\n    }\n\n    .dataframe tbody tr th {\n        vertical-align: top;\n    }\n\n    .dataframe thead th {\n        text-align: right;\n    }\n</style>\n<table border=\"1\" class=\"dataframe\">\n  <thead>\n    <tr style=\"text-align: right;\">\n      <th></th>\n      <th>active</th>\n      <th>destination_chain_id</th>\n      <th>destination_channel_id</th>\n      <th>source_chain_id</th>\n      <th>source_channel_id</th>\n      <th>explorer_url</th>\n    </tr>\n  </thead>\n  <tbody>\n    <tr>\n      <th>0</th>\n      <td>false</td>\n      <td>osmosis-1</td>\n      <td>channel-79</td>\n      <td>bostrom</td>\n      <td>channel-0</td>\n      <td>https://mintscan.io/osmosis</td>\n    </tr>\n    <tr>\n      <th>1</th>\n      <td>false</td>\n      <td>cosmoshub-4</td>\n      <td>channel-225</td>\n      <td>bostrom</td>\n      <td>channel-1</td>\n      <td>https://mintscan.io/cosmos</td>\n    </tr>\n    <tr>\n      <th>2</th>\n      <td>true</td>\n      <td>juno-1</td>\n      <td>channel-93</td>\n      <td>bostrom</td>\n      <td>channel-10</td>\n      <td>https://mintscan.io/juno</td>\n    </tr>\n    <tr>\n      <th>3</th>\n      <td>true</td>\n      <td>space-pussy</td>\n      <td>channel-0</td>\n      <td>bostrom</td>\n      <td>channel-11</td>\n      <td>https://cyb.ai/oracle</td>\n    </tr>\n    <tr>\n      <th>4</th>\n      <td>false</td>\n      <td>gravity-bridge-3</td>\n      <td>channel-103</td>\n      <td>bostrom</td>\n      <td>channel-12</td>\n      <td>https://mintscan.io/gravity-bridge</td>\n    </tr>\n    <tr>\n      <th>5</th>\n      <td>true</td>\n      <td>desmos-mainnet</td>\n      <td>channel-6</td>\n      <td>bostrom</td>\n      <td>channel-13</td>\n      <td>https://mintscan.io/desmos</td>\n    </tr>\n    <tr>\n      <th>6</th>\n      <td>true</td>\n      <td>axelar-dojo-1</td>\n      <td>channel-52</td>\n      <td>bostrom</td>\n      <td>channel-14</td>\n      <td>https://mintscan.io/axelar</td>\n    </tr>\n    <tr>\n      <th>7</th>\n      <td>false</td>\n      <td>phoenix-1</td>\n      <td>channel-108</td>\n      <td>bostrom</td>\n      <td>channel-15</td>\n      <td></td>\n    </tr>\n    <tr>\n      <th>8</th>\n      <td>false</td>\n      <td>phoenix-1</td>\n      <td>channel-121</td>\n      <td>bostrom</td>\n      <td>channel-16</td>\n      <td></td>\n    </tr>\n    <tr>\n      <th>9</th>\n      <td>false</td>\n      <td>eightball-1</td>\n      <td>channel-30</td>\n      <td>bostrom</td>\n      <td>channel-17</td>\n      <td>https://explorer.nodestake.top/8ball</td>\n    </tr>\n    <tr>\n      <th>10</th>\n      <td>true</td>\n      <td>agoric-3</td>\n      <td>channel-22</td>\n      <td>bostrom</td>\n      <td>channel-18</td>\n      <td></td>\n    </tr>\n    <tr>\n      <th>11</th>\n      <td>true</td>\n      <td>akashnet-2</td>\n      <td>channel-83</td>\n      <td>bostrom</td>\n      <td>channel-19</td>\n      <td>https://mintscan.io/akash</td>\n    </tr>\n    <tr>\n      <th>12</th>\n      <td>true</td>\n      <td>osmosis-1</td>\n      <td>channel-95</td>\n      <td>bostrom</td>\n      <td>channel-2</td>\n      <td>https://mintscan.io/osmosis</td>\n    </tr>\n    <tr>\n      <th>13</th>\n      <td>true</td>\n      <td>arkh</td>\n      <td>channel-25</td>\n      <td>bostrom</td>\n      <td>channel-20</td>\n      <td></td>\n    </tr>\n    <tr>\n      <th>14</th>\n      <td>true</td>\n      <td>mantle-1</td>\n      <td>channel-26</td>\n      <td>bostrom</td>\n      <td>channel-21</td>\n      <td>https://mintscan.io/asset-mantle</td>\n    </tr>\n    <tr>\n      <th>15</th>\n      <td>false</td>\n      <td>osmosis-1</td>\n      <td>channel-96</td>\n      <td>bostrom</td>\n      <td>channel-3</td>\n      <td>https://mintscan.io/osmosis</td>\n    </tr>\n    <tr>\n      <th>16</th>\n      <td>false</td>\n      <td>cosmoshub-4</td>\n      <td>channel-237</td>\n      <td>bostrom</td>\n      <td>channel-4</td>\n      <td>https://mintscan.io/cosmos</td>\n    </tr>\n    <tr>\n      <th>17</th>\n      <td>false</td>\n      <td>cosmoshub-4</td>\n      <td>channel-240</td>\n      <td>bostrom</td>\n      <td>channel-5</td>\n      <td>https://mintscan.io/cosmos</td>\n    </tr>\n    <tr>\n      <th>18</th>\n      <td>false</td>\n      <td>gravity-bridge-3</td>\n      <td>channel-33</td>\n      <td>bostrom</td>\n      <td>channel-6</td>\n      <td>https://mintscan.io/gravity-bridge</td>\n    </tr>\n    <tr>\n      <th>19</th>\n      <td>true</td>\n      <td>gravity-bridge-3</td>\n      <td>channel-78</td>\n      <td>bostrom</td>\n      <td>channel-7</td>\n      <td>https://mintscan.io/gravity-bridge</td>\n    </tr>\n    <tr>\n      <th>20</th>\n      <td>true</td>\n      <td>cosmoshub-4</td>\n      <td>channel-341</td>\n      <td>bostrom</td>\n      <td>channel-8</td>\n      <td>https://mintscan.io/cosmos</td>\n    </tr>\n    <tr>\n      <th>21</th>\n      <td>true</td>\n      <td>evmos_9001-2</td>\n      <td>channel-19</td>\n      <td>bostrom</td>\n      <td>channel-9</td>\n      <td>https://mintscan.io/evmos</td>\n    </tr>\n  </tbody>\n</table>\n</div>"
     },
     "execution_count": 8,
     "metadata": {},
     "output_type": "execute_result"
    }
   ],
   "source": [
    "channels_raw_json = \\\n",
    "    get_json_from_bash_query(bash_command=f'cyber query ibc channel channels -o=json --node={NODE_RPC_URL}')['channels']\n",
    "channels_raw_json = [\n",
    "    {\n",
    "        'active': 'true' if channel_raw['channel_id'] not in BOSTROM_INACTIVE_CHANNELS else 'false',\n",
    "        'destination_chain_id': get_json_from_bash_query(\n",
    "            bash_command=f'cyber query ibc channel client-state transfer {channel_raw[\"channel_id\"]} -o=json --node={NODE_RPC_URL}'\n",
    "        )['client_state']['chain_id'],\n",
    "        'destination_channel_id': channel_raw['counterparty']['channel_id'],\n",
    "        'source_chain_id': 'bostrom',\n",
    "        'source_channel_id': channel_raw['channel_id']\n",
    "    }\n",
    "    for channel_raw in channels_raw_json\n",
    "]\n",
    "channels_raw_json = [dict(channel, **{'explorer_url': EXPLORER_URL[channel['destination_chain_id']]}) for channel in\n",
    "                 channels_raw_json]\n",
    "channels_df = pd.DataFrame(channels_raw_json)\n",
    "channels_df"
   ],
   "metadata": {
    "collapsed": false,
    "ExecuteTime": {
     "start_time": "2023-05-19T14:16:53.916735Z",
     "end_time": "2023-05-19T14:17:25.472998Z"
    }
   }
  },
  {
   "cell_type": "code",
   "execution_count": 9,
   "outputs": [
    {
     "data": {
      "text/plain": "   active destination_chain_id destination_channel_id source_chain_id  \\\n0   false            osmosis-1             channel-79         bostrom   \n1   false          cosmoshub-4            channel-225         bostrom   \n2    true               juno-1             channel-93         bostrom   \n3    true          space-pussy              channel-0         bostrom   \n4   false     gravity-bridge-3            channel-103         bostrom   \n5    true       desmos-mainnet              channel-6         bostrom   \n6    true        axelar-dojo-1             channel-52         bostrom   \n7   false            phoenix-1            channel-108         bostrom   \n8   false            phoenix-1            channel-121         bostrom   \n9   false          eightball-1             channel-30         bostrom   \n12   true            osmosis-1             channel-95         bostrom   \n15  false            osmosis-1             channel-96         bostrom   \n16  false          cosmoshub-4            channel-237         bostrom   \n17  false          cosmoshub-4            channel-240         bostrom   \n18  false     gravity-bridge-3             channel-33         bostrom   \n19   true     gravity-bridge-3             channel-78         bostrom   \n20   true          cosmoshub-4            channel-341         bostrom   \n21   true         evmos_9001-2             channel-19         bostrom   \n\n   source_channel_id                          explorer_url  \n0          channel-0           https://mintscan.io/osmosis  \n1          channel-1            https://mintscan.io/cosmos  \n2         channel-10              https://mintscan.io/juno  \n3         channel-11                 https://cyb.ai/oracle  \n4         channel-12    https://mintscan.io/gravity-bridge  \n5         channel-13            https://mintscan.io/desmos  \n6         channel-14            https://mintscan.io/axelar  \n7         channel-15                                        \n8         channel-16                                        \n9         channel-17  https://explorer.nodestake.top/8ball  \n12         channel-2           https://mintscan.io/osmosis  \n15         channel-3           https://mintscan.io/osmosis  \n16         channel-4            https://mintscan.io/cosmos  \n17         channel-5            https://mintscan.io/cosmos  \n18         channel-6    https://mintscan.io/gravity-bridge  \n19         channel-7    https://mintscan.io/gravity-bridge  \n20         channel-8            https://mintscan.io/cosmos  \n21         channel-9             https://mintscan.io/evmos  ",
      "text/html": "<div>\n<style scoped>\n    .dataframe tbody tr th:only-of-type {\n        vertical-align: middle;\n    }\n\n    .dataframe tbody tr th {\n        vertical-align: top;\n    }\n\n    .dataframe thead th {\n        text-align: right;\n    }\n</style>\n<table border=\"1\" class=\"dataframe\">\n  <thead>\n    <tr style=\"text-align: right;\">\n      <th></th>\n      <th>active</th>\n      <th>destination_chain_id</th>\n      <th>destination_channel_id</th>\n      <th>source_chain_id</th>\n      <th>source_channel_id</th>\n      <th>explorer_url</th>\n    </tr>\n  </thead>\n  <tbody>\n    <tr>\n      <th>0</th>\n      <td>false</td>\n      <td>osmosis-1</td>\n      <td>channel-79</td>\n      <td>bostrom</td>\n      <td>channel-0</td>\n      <td>https://mintscan.io/osmosis</td>\n    </tr>\n    <tr>\n      <th>1</th>\n      <td>false</td>\n      <td>cosmoshub-4</td>\n      <td>channel-225</td>\n      <td>bostrom</td>\n      <td>channel-1</td>\n      <td>https://mintscan.io/cosmos</td>\n    </tr>\n    <tr>\n      <th>2</th>\n      <td>true</td>\n      <td>juno-1</td>\n      <td>channel-93</td>\n      <td>bostrom</td>\n      <td>channel-10</td>\n      <td>https://mintscan.io/juno</td>\n    </tr>\n    <tr>\n      <th>3</th>\n      <td>true</td>\n      <td>space-pussy</td>\n      <td>channel-0</td>\n      <td>bostrom</td>\n      <td>channel-11</td>\n      <td>https://cyb.ai/oracle</td>\n    </tr>\n    <tr>\n      <th>4</th>\n      <td>false</td>\n      <td>gravity-bridge-3</td>\n      <td>channel-103</td>\n      <td>bostrom</td>\n      <td>channel-12</td>\n      <td>https://mintscan.io/gravity-bridge</td>\n    </tr>\n    <tr>\n      <th>5</th>\n      <td>true</td>\n      <td>desmos-mainnet</td>\n      <td>channel-6</td>\n      <td>bostrom</td>\n      <td>channel-13</td>\n      <td>https://mintscan.io/desmos</td>\n    </tr>\n    <tr>\n      <th>6</th>\n      <td>true</td>\n      <td>axelar-dojo-1</td>\n      <td>channel-52</td>\n      <td>bostrom</td>\n      <td>channel-14</td>\n      <td>https://mintscan.io/axelar</td>\n    </tr>\n    <tr>\n      <th>7</th>\n      <td>false</td>\n      <td>phoenix-1</td>\n      <td>channel-108</td>\n      <td>bostrom</td>\n      <td>channel-15</td>\n      <td></td>\n    </tr>\n    <tr>\n      <th>8</th>\n      <td>false</td>\n      <td>phoenix-1</td>\n      <td>channel-121</td>\n      <td>bostrom</td>\n      <td>channel-16</td>\n      <td></td>\n    </tr>\n    <tr>\n      <th>9</th>\n      <td>false</td>\n      <td>eightball-1</td>\n      <td>channel-30</td>\n      <td>bostrom</td>\n      <td>channel-17</td>\n      <td>https://explorer.nodestake.top/8ball</td>\n    </tr>\n    <tr>\n      <th>12</th>\n      <td>true</td>\n      <td>osmosis-1</td>\n      <td>channel-95</td>\n      <td>bostrom</td>\n      <td>channel-2</td>\n      <td>https://mintscan.io/osmosis</td>\n    </tr>\n    <tr>\n      <th>15</th>\n      <td>false</td>\n      <td>osmosis-1</td>\n      <td>channel-96</td>\n      <td>bostrom</td>\n      <td>channel-3</td>\n      <td>https://mintscan.io/osmosis</td>\n    </tr>\n    <tr>\n      <th>16</th>\n      <td>false</td>\n      <td>cosmoshub-4</td>\n      <td>channel-237</td>\n      <td>bostrom</td>\n      <td>channel-4</td>\n      <td>https://mintscan.io/cosmos</td>\n    </tr>\n    <tr>\n      <th>17</th>\n      <td>false</td>\n      <td>cosmoshub-4</td>\n      <td>channel-240</td>\n      <td>bostrom</td>\n      <td>channel-5</td>\n      <td>https://mintscan.io/cosmos</td>\n    </tr>\n    <tr>\n      <th>18</th>\n      <td>false</td>\n      <td>gravity-bridge-3</td>\n      <td>channel-33</td>\n      <td>bostrom</td>\n      <td>channel-6</td>\n      <td>https://mintscan.io/gravity-bridge</td>\n    </tr>\n    <tr>\n      <th>19</th>\n      <td>true</td>\n      <td>gravity-bridge-3</td>\n      <td>channel-78</td>\n      <td>bostrom</td>\n      <td>channel-7</td>\n      <td>https://mintscan.io/gravity-bridge</td>\n    </tr>\n    <tr>\n      <th>20</th>\n      <td>true</td>\n      <td>cosmoshub-4</td>\n      <td>channel-341</td>\n      <td>bostrom</td>\n      <td>channel-8</td>\n      <td>https://mintscan.io/cosmos</td>\n    </tr>\n    <tr>\n      <th>21</th>\n      <td>true</td>\n      <td>evmos_9001-2</td>\n      <td>channel-19</td>\n      <td>bostrom</td>\n      <td>channel-9</td>\n      <td>https://mintscan.io/evmos</td>\n    </tr>\n  </tbody>\n</table>\n</div>"
     },
     "execution_count": 9,
     "metadata": {},
     "output_type": "execute_result"
    }
   ],
   "source": [
    "channels_df[(channels_df.active=='false') | (channels_df.source_channel_id.isin(APPROVED_ACTIVE_CHANNELS))]"
   ],
   "metadata": {
    "collapsed": false,
    "ExecuteTime": {
     "start_time": "2023-05-19T14:17:25.473197Z",
     "end_time": "2023-05-19T14:17:25.482188Z"
    }
   }
  },
  {
   "cell_type": "code",
   "execution_count": 10,
   "outputs": [],
   "source": [
    "channels_json = channels_df[\n",
    "    (channels_df.active=='false') | (channels_df.source_channel_id.isin(APPROVED_ACTIVE_CHANNELS))]\\\n",
    "    .to_json(orient='records')\n",
    "with open('data/channels.json', 'w') as file:\n",
    "    file.write(channels_json)"
   ],
   "metadata": {
    "collapsed": false,
    "ExecuteTime": {
     "start_time": "2023-05-19T14:17:25.484610Z",
     "end_time": "2023-05-19T14:17:25.487119Z"
    }
   }
  },
  {
   "cell_type": "markdown",
   "source": [
    "### Tokens"
   ],
   "metadata": {
    "collapsed": false
   }
  },
  {
   "cell_type": "code",
   "execution_count": 11,
   "outputs": [],
   "source": [
    "TOKENS_DECIMALS = {\n",
    "    'aevmos': 6,\n",
    "    'boot': 0,\n",
    "    'cw20:juno1u8cr3hcjvfkzxcaacv9q75uw9hwjmn8pucc93pmy6yvkzz79kh3qncca8x': 6,\n",
    "    'gravity0xC02aaA39b223FE8D0A0e5C4F27eAD9083C756Cc2': 18,\n",
    "    'hydrogen': 0,\n",
    "    'liquidpussy': 0,\n",
    "    'milliampere': 3,\n",
    "    'millivolt': 3,\n",
    "    'pussy': 0,\n",
    "    'tocyb': 0,\n",
    "    'uatom': 6,\n",
    "    'ucre': 6,\n",
    "    'udsm': 6,\n",
    "    'ugraviton': 18,\n",
    "    'uhuahua': 6,\n",
    "    'ujuno': 6,\n",
    "    'uosmo': 6,\n",
    "    'usomm': 6\n",
    "}\n",
    "TOKENS_TICKER = {\n",
    "    'hydrogen': 'h',\n",
    "    'milliampere': 'a',\n",
    "    'millivolt': 'v',\n",
    "    'liquidpussy': 'lp',\n",
    "    'aevmos': 'evmos',\n",
    "    'cw20:juno1u8cr3hcjvfkzxcaacv9q75uw9hwjmn8pucc93pmy6yvkzz79kh3qncca8x': 'fox',\n",
    "    'gravity0xC02aaA39b223FE8D0A0e5C4F27eAD9083C756Cc2': 'graveth',\n",
    "    'uatom': 'atom',\n",
    "    'ucre': 'cre',\n",
    "    'udsm': 'dsm',\n",
    "    'ugraviton': 'grav',\n",
    "    'uhuahua': 'huahua',\n",
    "    'ujuno': 'juno',\n",
    "    'uosmo': 'osmo',\n",
    "    'usomm': 'somm'\n",
    "}"
   ],
   "metadata": {
    "collapsed": false,
    "ExecuteTime": {
     "start_time": "2023-05-21T14:00:52.759405Z",
     "end_time": "2023-05-21T14:00:52.764323Z"
    }
   }
  },
  {
   "cell_type": "code",
   "execution_count": 12,
   "outputs": [],
   "source": [
    "def get_tokens(chain_id: str = CHAIN_ID,\n",
    "               cli_name: str = 'cyber',\n",
    "               node_rpc_url: str = NODE_RPC_URL) -> pd.DataFrame:\n",
    "\n",
    "    _tokens_supply_json = get_json_from_bash_query(bash_command=f'{cli_name} query bank total -o=json --node={node_rpc_url}')['supply']\n",
    "    _tokens_df = pd.DataFrame(_tokens_supply_json)\n",
    "    _tokens_df = _tokens_df.rename(columns={'amount': 'supply'})\n",
    "\n",
    "    _tokens_df['base_denom'] = _tokens_df['denom'].map(lambda denom: get_json_from_bash_query(\n",
    "    bash_command=f'{cli_name} query ibc-transfer denom-trace {denom[4:]} -o=json --node={node_rpc_url}')['denom_trace']['base_denom'] if denom[:4]=='ibc/' else denom)\n",
    "\n",
    "    _tokens_df['path'] = _tokens_df['denom'].map(lambda denom: get_json_from_bash_query(\n",
    "    bash_command=f'{cli_name} query ibc-transfer denom-trace {denom[4:]} -o=json --node={node_rpc_url}')['denom_trace']['path'] if denom[:4]=='ibc/' else None)\n",
    "    _tokens_df['chain_id'] = chain_id\n",
    "    return _tokens_df\n",
    "\n",
    "\n",
    "def get_decimals(base_denom: str) -> str:\n",
    "    if base_denom[:4] =='pool':\n",
    "        return '0'\n",
    "    if base_denom in TOKENS_DECIMALS.keys():\n",
    "        return TOKENS_DECIMALS[base_denom]\n",
    "    return ''\n",
    "\n",
    "\n",
    "def get_ticker(base_denom: str) -> str:\n",
    "    if base_denom[:4] =='pool':\n",
    "        return base_denom\n",
    "    if base_denom in TOKENS_TICKER.keys():\n",
    "        return TOKENS_TICKER[base_denom]\n",
    "    return base_denom\n",
    "\n",
    "\n",
    "def get_logo(ticker: str) -> str:\n",
    "    try:\n",
    "        return add_file_to_ipfs(file_path=f'img/logo/tokens/{ticker.upper()}-icon.png')\n",
    "    except FileNotFoundError:\n",
    "        return ''"
   ],
   "metadata": {
    "collapsed": false,
    "ExecuteTime": {
     "start_time": "2023-05-21T14:00:53.135453Z",
     "end_time": "2023-05-21T14:00:53.139987Z"
    }
   }
  },
  {
   "cell_type": "code",
   "execution_count": 13,
   "outputs": [],
   "source": [
    "tokens_df = pd.concat([get_tokens(), get_tokens(chain_id=PUSSY_CHAIN_ID, node_rpc_url=PUSSY_NODE_RPC_URL)]).reset_index(drop=True)\n",
    "\n",
    "tokens_df['channel'] = \\\n",
    "    tokens_df['path'].map(lambda x: '' if x is None else ' '.join(x.replace('/', '').split('transfer')[1:]))\n",
    "tokens_df['decimals'] = tokens_df['base_denom'].map(get_decimals)\n",
    "tokens_df['ticker'] = tokens_df['base_denom'].map(get_ticker)\n",
    "\n",
    "pools_json = get_json_from_bash_query(\n",
    "    bash_command=f'cyber query liquidity pools --node {NODE_RPC_URL} -o json')['pools']\n",
    "denom_ticker_dict = \\\n",
    "    {_token['denom']: _token['ticker']\n",
    "     for _token in json.loads(tokens_df[['denom', 'ticker']].to_json(orient='records'))}\n",
    "pool_ticker_dict = \\\n",
    "    {pool['pool_coin_denom']: f'{denom_ticker_dict[pool[\"reserve_coin_denoms\"][0]]}-{denom_ticker_dict[pool[\"reserve_coin_denoms\"][1]]}'\n",
    "     for pool in pools_json}\n",
    "tokens_df['ticker'] = tokens_df['ticker'].map(lambda ticker: pool_ticker_dict[ticker] if ticker in pool_ticker_dict.keys() else ticker)\n",
    "tokens_df['ticker'] = tokens_df['ticker'].map(lambda ticker: sub(r'\\W', '', string=ticker).upper())\n",
    "tokens_df['logo'] = tokens_df['ticker'].map(get_logo)\n",
    "tokens_df['contract'] = tokens_df.apply(lambda x: f'native/{x[\"denom\"]}' if x['channel'] == '' else x['denom'], axis=1)"
   ],
   "metadata": {
    "collapsed": false,
    "ExecuteTime": {
     "start_time": "2023-05-21T14:00:55.490190Z",
     "end_time": "2023-05-21T14:02:31.682842Z"
    }
   }
  },
  {
   "cell_type": "code",
   "execution_count": 14,
   "outputs": [
    {
     "data": {
      "text/plain": "                                                denom               supply  \\\n0                                                boot     1146278807507567   \n1                                            hydrogen      296741141543943   \n2   ibc/13B2C536BB057AC79D5616B8EA1B9540EC1F217071...          54924146410   \n3   ibc/15E9C5CF5969080539DB395FA7D9C0868265217EFC...          13455235079   \n4   ibc/1DE3244B072A8939517C17C7B679F3B735B2D9AA6B...               100000   \n..                                                ...                  ...   \n73  pool1557C0FE379360455685A25759033E0FCF9824869E...       80371986200875   \n74  pool64073A945EB959C730ED7D5D24F4460823A157C0AD...      243534193561887   \n75  pool906F3CC4C0F4634031990DB81761BD390890F8A8A8...       59867968525639   \n76  poolE0E01DC7AC087C5F46B41114F98175E00DB01B5242...        1046467046500   \n77                                              pussy  1015605638728402743   \n\n                                           base_denom  \\\n0                                                boot   \n1                                            hydrogen   \n2                                               uosmo   \n3                                               uatom   \n4                                                ucre   \n..                                                ...   \n73  pool1557C0FE379360455685A25759033E0FCF9824869E...   \n74  pool64073A945EB959C730ED7D5D24F4460823A157C0AD...   \n75  pool906F3CC4C0F4634031990DB81761BD390890F8A8A8...   \n76  poolE0E01DC7AC087C5F46B41114F98175E00DB01B5242...   \n77                                              pussy   \n\n                                       path     chain_id  \\\n0                                      None      bostrom   \n1                                      None      bostrom   \n2                        transfer/channel-2      bostrom   \n3                        transfer/channel-8      bostrom   \n4   transfer/channel-12/transfer/channel-62      bostrom   \n..                                      ...          ...   \n73                                     None  space-pussy   \n74                                     None  space-pussy   \n75                                     None  space-pussy   \n76                                     None  space-pussy   \n77                                     None  space-pussy   \n\n                  channel decimals  \\\n0                                0   \n1                                0   \n2               channel-2        6   \n3               channel-8        6   \n4   channel-12 channel-62        6   \n..                    ...      ...   \n73                               0   \n74                               0   \n75                               0   \n76                               0   \n77                               0   \n\n                                               ticker  \\\n0                                                BOOT   \n1                                                   H   \n2                                                OSMO   \n3                                                ATOM   \n4                                                 CRE   \n..                                                ...   \n73  POOL1557C0FE379360455685A25759033E0FCF9824869E...   \n74  POOL64073A945EB959C730ED7D5D24F4460823A157C0AD...   \n75                                                 AV   \n76  POOLE0E01DC7AC087C5F46B41114F98175E00DB01B5242...   \n77                                              PUSSY   \n\n                                              logo  \\\n0   QmaFs8AjTfNy6XFq8xb6boN1eC4nrznaPnvytJtq3FHnkf   \n1   QmZDWdXXBgJJ5QEvc68xeaJhk3dwJgsVQnSjJnoEtCBRrK   \n2   QmdbiuCkCGiFV8aaUVyJTpVMLj97DLvF8vbM1mf73xRsVJ   \n3   Qmb5L5ZwJSt22Vra9jNph7aSFKqfVW8f4HVWqNU15qsqDX   \n4   QmeZp5GFJYaiCkrwgpAZJooAV78xx1TkjhDCeVvC3wWfx6   \n..                                             ...   \n73                                                   \n74                                                   \n75                                                   \n76                                                   \n77  QmVdamuwvpDUENhsGH5RGP7Dx4redrCFCM3kuy5hNFvo9r   \n\n                                             contract  \n0                                         native/boot  \n1                                     native/hydrogen  \n2   ibc/13B2C536BB057AC79D5616B8EA1B9540EC1F217071...  \n3   ibc/15E9C5CF5969080539DB395FA7D9C0868265217EFC...  \n4   ibc/1DE3244B072A8939517C17C7B679F3B735B2D9AA6B...  \n..                                                ...  \n73  native/pool1557C0FE379360455685A25759033E0FCF9...  \n74  native/pool64073A945EB959C730ED7D5D24F4460823A...  \n75  native/pool906F3CC4C0F4634031990DB81761BD39089...  \n76  native/poolE0E01DC7AC087C5F46B41114F98175E00DB...  \n77                                       native/pussy  \n\n[78 rows x 10 columns]",
      "text/html": "<div>\n<style scoped>\n    .dataframe tbody tr th:only-of-type {\n        vertical-align: middle;\n    }\n\n    .dataframe tbody tr th {\n        vertical-align: top;\n    }\n\n    .dataframe thead th {\n        text-align: right;\n    }\n</style>\n<table border=\"1\" class=\"dataframe\">\n  <thead>\n    <tr style=\"text-align: right;\">\n      <th></th>\n      <th>denom</th>\n      <th>supply</th>\n      <th>base_denom</th>\n      <th>path</th>\n      <th>chain_id</th>\n      <th>channel</th>\n      <th>decimals</th>\n      <th>ticker</th>\n      <th>logo</th>\n      <th>contract</th>\n    </tr>\n  </thead>\n  <tbody>\n    <tr>\n      <th>0</th>\n      <td>boot</td>\n      <td>1146278807507567</td>\n      <td>boot</td>\n      <td>None</td>\n      <td>bostrom</td>\n      <td></td>\n      <td>0</td>\n      <td>BOOT</td>\n      <td>QmaFs8AjTfNy6XFq8xb6boN1eC4nrznaPnvytJtq3FHnkf</td>\n      <td>native/boot</td>\n    </tr>\n    <tr>\n      <th>1</th>\n      <td>hydrogen</td>\n      <td>296741141543943</td>\n      <td>hydrogen</td>\n      <td>None</td>\n      <td>bostrom</td>\n      <td></td>\n      <td>0</td>\n      <td>H</td>\n      <td>QmZDWdXXBgJJ5QEvc68xeaJhk3dwJgsVQnSjJnoEtCBRrK</td>\n      <td>native/hydrogen</td>\n    </tr>\n    <tr>\n      <th>2</th>\n      <td>ibc/13B2C536BB057AC79D5616B8EA1B9540EC1F217071...</td>\n      <td>54924146410</td>\n      <td>uosmo</td>\n      <td>transfer/channel-2</td>\n      <td>bostrom</td>\n      <td>channel-2</td>\n      <td>6</td>\n      <td>OSMO</td>\n      <td>QmdbiuCkCGiFV8aaUVyJTpVMLj97DLvF8vbM1mf73xRsVJ</td>\n      <td>ibc/13B2C536BB057AC79D5616B8EA1B9540EC1F217071...</td>\n    </tr>\n    <tr>\n      <th>3</th>\n      <td>ibc/15E9C5CF5969080539DB395FA7D9C0868265217EFC...</td>\n      <td>13455235079</td>\n      <td>uatom</td>\n      <td>transfer/channel-8</td>\n      <td>bostrom</td>\n      <td>channel-8</td>\n      <td>6</td>\n      <td>ATOM</td>\n      <td>Qmb5L5ZwJSt22Vra9jNph7aSFKqfVW8f4HVWqNU15qsqDX</td>\n      <td>ibc/15E9C5CF5969080539DB395FA7D9C0868265217EFC...</td>\n    </tr>\n    <tr>\n      <th>4</th>\n      <td>ibc/1DE3244B072A8939517C17C7B679F3B735B2D9AA6B...</td>\n      <td>100000</td>\n      <td>ucre</td>\n      <td>transfer/channel-12/transfer/channel-62</td>\n      <td>bostrom</td>\n      <td>channel-12 channel-62</td>\n      <td>6</td>\n      <td>CRE</td>\n      <td>QmeZp5GFJYaiCkrwgpAZJooAV78xx1TkjhDCeVvC3wWfx6</td>\n      <td>ibc/1DE3244B072A8939517C17C7B679F3B735B2D9AA6B...</td>\n    </tr>\n    <tr>\n      <th>...</th>\n      <td>...</td>\n      <td>...</td>\n      <td>...</td>\n      <td>...</td>\n      <td>...</td>\n      <td>...</td>\n      <td>...</td>\n      <td>...</td>\n      <td>...</td>\n      <td>...</td>\n    </tr>\n    <tr>\n      <th>73</th>\n      <td>pool1557C0FE379360455685A25759033E0FCF9824869E...</td>\n      <td>80371986200875</td>\n      <td>pool1557C0FE379360455685A25759033E0FCF9824869E...</td>\n      <td>None</td>\n      <td>space-pussy</td>\n      <td></td>\n      <td>0</td>\n      <td>POOL1557C0FE379360455685A25759033E0FCF9824869E...</td>\n      <td></td>\n      <td>native/pool1557C0FE379360455685A25759033E0FCF9...</td>\n    </tr>\n    <tr>\n      <th>74</th>\n      <td>pool64073A945EB959C730ED7D5D24F4460823A157C0AD...</td>\n      <td>243534193561887</td>\n      <td>pool64073A945EB959C730ED7D5D24F4460823A157C0AD...</td>\n      <td>None</td>\n      <td>space-pussy</td>\n      <td></td>\n      <td>0</td>\n      <td>POOL64073A945EB959C730ED7D5D24F4460823A157C0AD...</td>\n      <td></td>\n      <td>native/pool64073A945EB959C730ED7D5D24F4460823A...</td>\n    </tr>\n    <tr>\n      <th>75</th>\n      <td>pool906F3CC4C0F4634031990DB81761BD390890F8A8A8...</td>\n      <td>59867968525639</td>\n      <td>pool906F3CC4C0F4634031990DB81761BD390890F8A8A8...</td>\n      <td>None</td>\n      <td>space-pussy</td>\n      <td></td>\n      <td>0</td>\n      <td>AV</td>\n      <td></td>\n      <td>native/pool906F3CC4C0F4634031990DB81761BD39089...</td>\n    </tr>\n    <tr>\n      <th>76</th>\n      <td>poolE0E01DC7AC087C5F46B41114F98175E00DB01B5242...</td>\n      <td>1046467046500</td>\n      <td>poolE0E01DC7AC087C5F46B41114F98175E00DB01B5242...</td>\n      <td>None</td>\n      <td>space-pussy</td>\n      <td></td>\n      <td>0</td>\n      <td>POOLE0E01DC7AC087C5F46B41114F98175E00DB01B5242...</td>\n      <td></td>\n      <td>native/poolE0E01DC7AC087C5F46B41114F98175E00DB...</td>\n    </tr>\n    <tr>\n      <th>77</th>\n      <td>pussy</td>\n      <td>1015605638728402743</td>\n      <td>pussy</td>\n      <td>None</td>\n      <td>space-pussy</td>\n      <td></td>\n      <td>0</td>\n      <td>PUSSY</td>\n      <td>QmVdamuwvpDUENhsGH5RGP7Dx4redrCFCM3kuy5hNFvo9r</td>\n      <td>native/pussy</td>\n    </tr>\n  </tbody>\n</table>\n<p>78 rows × 10 columns</p>\n</div>"
     },
     "execution_count": 14,
     "metadata": {},
     "output_type": "execute_result"
    }
   ],
   "source": [
    "tokens_df"
   ],
   "metadata": {
    "collapsed": false,
    "ExecuteTime": {
     "start_time": "2023-05-21T14:02:31.687528Z",
     "end_time": "2023-05-21T14:02:31.695442Z"
    }
   }
  },
  {
   "cell_type": "code",
   "execution_count": 15,
   "outputs": [
    {
     "data": {
      "text/plain": "       chain_id     channel decimals  \\\n0       bostrom                    0   \n1       bostrom                    0   \n2       bostrom   channel-2        6   \n3       bostrom   channel-8        6   \n5       bostrom  channel-11        3   \n9       bostrom  channel-11        0   \n10      bostrom  channel-11        3   \n11      bostrom   channel-9        6   \n14      bostrom  channel-10        6   \n16      bostrom  channel-11        0   \n21      bostrom  channel-13        6   \n26      bostrom                    3   \n27      bostrom                    3   \n51      bostrom                    0   \n69  space-pussy                    0   \n70  space-pussy                    3   \n71  space-pussy                    3   \n77  space-pussy                    0   \n\n                                              logo ticker  \\\n0   QmaFs8AjTfNy6XFq8xb6boN1eC4nrznaPnvytJtq3FHnkf   BOOT   \n1   QmZDWdXXBgJJ5QEvc68xeaJhk3dwJgsVQnSjJnoEtCBRrK      H   \n2   QmdbiuCkCGiFV8aaUVyJTpVMLj97DLvF8vbM1mf73xRsVJ   OSMO   \n3   Qmb5L5ZwJSt22Vra9jNph7aSFKqfVW8f4HVWqNU15qsqDX   ATOM   \n5   QmTBHnJ27sADmHuFdaxo5i1m9Jvo988MUQP3Yp9Ph8Ua27      A   \n9   QmVdamuwvpDUENhsGH5RGP7Dx4redrCFCM3kuy5hNFvo9r  PUSSY   \n10  QmWgPPn5CVYroJfvZVqnd4YzH3iqNEkhCLAuQS6jLs8nxZ      V   \n11  QmNcoUHaACiZ8mM89qvA3spsBebbrQWtGNyoQcRSoJiFPF  EVMOS   \n14  QmZyWYqKU4ny1gqSz16CmfrHJKS4zkybjS2DDQxs7YZPV9   JUNO   \n16  QmZDWdXXBgJJ5QEvc68xeaJhk3dwJgsVQnSjJnoEtCBRrK     LP   \n21  QmeYujkRMAXxh3JDrtT1B3NvCQL6tAuzbF8UkF6KjrJH1B    DSM   \n26  QmTBHnJ27sADmHuFdaxo5i1m9Jvo988MUQP3Yp9Ph8Ua27      A   \n27  QmWgPPn5CVYroJfvZVqnd4YzH3iqNEkhCLAuQS6jLs8nxZ      V   \n51  QmaFDLBuEf3Uo1gYCY3CciGwgXxcc5pEVKwpVCfCcrJFyp  TOCYB   \n69  QmZDWdXXBgJJ5QEvc68xeaJhk3dwJgsVQnSjJnoEtCBRrK     LP   \n70  QmTBHnJ27sADmHuFdaxo5i1m9Jvo988MUQP3Yp9Ph8Ua27      A   \n71  QmWgPPn5CVYroJfvZVqnd4YzH3iqNEkhCLAuQS6jLs8nxZ      V   \n77  QmVdamuwvpDUENhsGH5RGP7Dx4redrCFCM3kuy5hNFvo9r  PUSSY   \n\n                                             contract  \n0                                         native/boot  \n1                                     native/hydrogen  \n2   ibc/13B2C536BB057AC79D5616B8EA1B9540EC1F217071...  \n3   ibc/15E9C5CF5969080539DB395FA7D9C0868265217EFC...  \n5   ibc/29FC7F418F1EFB5DAB3DD089AADA1FE406DC78633B...  \n9   ibc/43DB7553C43D81CB01E9A2644B49A241314B482C2E...  \n10  ibc/47160B934644DED2F8E605B0521C6CC06F75A0465D...  \n11  ibc/4B322204B4F59D770680FE4D7A565DDC3F37BFF035...  \n14  ibc/8D9262E35CAE362FA74AE05E430550757CF8D842EC...  \n16  ibc/9B45B8C514B76D792BEC4850AE601E0E73CE7D307A...  \n21  ibc/CA5E8F31288514D728AFD1F0533A7F6902AA1192C8...  \n26                                 native/milliampere  \n27                                   native/millivolt  \n51                                       native/tocyb  \n69                                 native/liquidpussy  \n70                                 native/milliampere  \n71                                   native/millivolt  \n77                                       native/pussy  ",
      "text/html": "<div>\n<style scoped>\n    .dataframe tbody tr th:only-of-type {\n        vertical-align: middle;\n    }\n\n    .dataframe tbody tr th {\n        vertical-align: top;\n    }\n\n    .dataframe thead th {\n        text-align: right;\n    }\n</style>\n<table border=\"1\" class=\"dataframe\">\n  <thead>\n    <tr style=\"text-align: right;\">\n      <th></th>\n      <th>chain_id</th>\n      <th>channel</th>\n      <th>decimals</th>\n      <th>logo</th>\n      <th>ticker</th>\n      <th>contract</th>\n    </tr>\n  </thead>\n  <tbody>\n    <tr>\n      <th>0</th>\n      <td>bostrom</td>\n      <td></td>\n      <td>0</td>\n      <td>QmaFs8AjTfNy6XFq8xb6boN1eC4nrznaPnvytJtq3FHnkf</td>\n      <td>BOOT</td>\n      <td>native/boot</td>\n    </tr>\n    <tr>\n      <th>1</th>\n      <td>bostrom</td>\n      <td></td>\n      <td>0</td>\n      <td>QmZDWdXXBgJJ5QEvc68xeaJhk3dwJgsVQnSjJnoEtCBRrK</td>\n      <td>H</td>\n      <td>native/hydrogen</td>\n    </tr>\n    <tr>\n      <th>2</th>\n      <td>bostrom</td>\n      <td>channel-2</td>\n      <td>6</td>\n      <td>QmdbiuCkCGiFV8aaUVyJTpVMLj97DLvF8vbM1mf73xRsVJ</td>\n      <td>OSMO</td>\n      <td>ibc/13B2C536BB057AC79D5616B8EA1B9540EC1F217071...</td>\n    </tr>\n    <tr>\n      <th>3</th>\n      <td>bostrom</td>\n      <td>channel-8</td>\n      <td>6</td>\n      <td>Qmb5L5ZwJSt22Vra9jNph7aSFKqfVW8f4HVWqNU15qsqDX</td>\n      <td>ATOM</td>\n      <td>ibc/15E9C5CF5969080539DB395FA7D9C0868265217EFC...</td>\n    </tr>\n    <tr>\n      <th>5</th>\n      <td>bostrom</td>\n      <td>channel-11</td>\n      <td>3</td>\n      <td>QmTBHnJ27sADmHuFdaxo5i1m9Jvo988MUQP3Yp9Ph8Ua27</td>\n      <td>A</td>\n      <td>ibc/29FC7F418F1EFB5DAB3DD089AADA1FE406DC78633B...</td>\n    </tr>\n    <tr>\n      <th>9</th>\n      <td>bostrom</td>\n      <td>channel-11</td>\n      <td>0</td>\n      <td>QmVdamuwvpDUENhsGH5RGP7Dx4redrCFCM3kuy5hNFvo9r</td>\n      <td>PUSSY</td>\n      <td>ibc/43DB7553C43D81CB01E9A2644B49A241314B482C2E...</td>\n    </tr>\n    <tr>\n      <th>10</th>\n      <td>bostrom</td>\n      <td>channel-11</td>\n      <td>3</td>\n      <td>QmWgPPn5CVYroJfvZVqnd4YzH3iqNEkhCLAuQS6jLs8nxZ</td>\n      <td>V</td>\n      <td>ibc/47160B934644DED2F8E605B0521C6CC06F75A0465D...</td>\n    </tr>\n    <tr>\n      <th>11</th>\n      <td>bostrom</td>\n      <td>channel-9</td>\n      <td>6</td>\n      <td>QmNcoUHaACiZ8mM89qvA3spsBebbrQWtGNyoQcRSoJiFPF</td>\n      <td>EVMOS</td>\n      <td>ibc/4B322204B4F59D770680FE4D7A565DDC3F37BFF035...</td>\n    </tr>\n    <tr>\n      <th>14</th>\n      <td>bostrom</td>\n      <td>channel-10</td>\n      <td>6</td>\n      <td>QmZyWYqKU4ny1gqSz16CmfrHJKS4zkybjS2DDQxs7YZPV9</td>\n      <td>JUNO</td>\n      <td>ibc/8D9262E35CAE362FA74AE05E430550757CF8D842EC...</td>\n    </tr>\n    <tr>\n      <th>16</th>\n      <td>bostrom</td>\n      <td>channel-11</td>\n      <td>0</td>\n      <td>QmZDWdXXBgJJ5QEvc68xeaJhk3dwJgsVQnSjJnoEtCBRrK</td>\n      <td>LP</td>\n      <td>ibc/9B45B8C514B76D792BEC4850AE601E0E73CE7D307A...</td>\n    </tr>\n    <tr>\n      <th>21</th>\n      <td>bostrom</td>\n      <td>channel-13</td>\n      <td>6</td>\n      <td>QmeYujkRMAXxh3JDrtT1B3NvCQL6tAuzbF8UkF6KjrJH1B</td>\n      <td>DSM</td>\n      <td>ibc/CA5E8F31288514D728AFD1F0533A7F6902AA1192C8...</td>\n    </tr>\n    <tr>\n      <th>26</th>\n      <td>bostrom</td>\n      <td></td>\n      <td>3</td>\n      <td>QmTBHnJ27sADmHuFdaxo5i1m9Jvo988MUQP3Yp9Ph8Ua27</td>\n      <td>A</td>\n      <td>native/milliampere</td>\n    </tr>\n    <tr>\n      <th>27</th>\n      <td>bostrom</td>\n      <td></td>\n      <td>3</td>\n      <td>QmWgPPn5CVYroJfvZVqnd4YzH3iqNEkhCLAuQS6jLs8nxZ</td>\n      <td>V</td>\n      <td>native/millivolt</td>\n    </tr>\n    <tr>\n      <th>51</th>\n      <td>bostrom</td>\n      <td></td>\n      <td>0</td>\n      <td>QmaFDLBuEf3Uo1gYCY3CciGwgXxcc5pEVKwpVCfCcrJFyp</td>\n      <td>TOCYB</td>\n      <td>native/tocyb</td>\n    </tr>\n    <tr>\n      <th>69</th>\n      <td>space-pussy</td>\n      <td></td>\n      <td>0</td>\n      <td>QmZDWdXXBgJJ5QEvc68xeaJhk3dwJgsVQnSjJnoEtCBRrK</td>\n      <td>LP</td>\n      <td>native/liquidpussy</td>\n    </tr>\n    <tr>\n      <th>70</th>\n      <td>space-pussy</td>\n      <td></td>\n      <td>3</td>\n      <td>QmTBHnJ27sADmHuFdaxo5i1m9Jvo988MUQP3Yp9Ph8Ua27</td>\n      <td>A</td>\n      <td>native/milliampere</td>\n    </tr>\n    <tr>\n      <th>71</th>\n      <td>space-pussy</td>\n      <td></td>\n      <td>3</td>\n      <td>QmWgPPn5CVYroJfvZVqnd4YzH3iqNEkhCLAuQS6jLs8nxZ</td>\n      <td>V</td>\n      <td>native/millivolt</td>\n    </tr>\n    <tr>\n      <th>77</th>\n      <td>space-pussy</td>\n      <td></td>\n      <td>0</td>\n      <td>QmVdamuwvpDUENhsGH5RGP7Dx4redrCFCM3kuy5hNFvo9r</td>\n      <td>PUSSY</td>\n      <td>native/pussy</td>\n    </tr>\n  </tbody>\n</table>\n</div>"
     },
     "execution_count": 15,
     "metadata": {},
     "output_type": "execute_result"
    }
   ],
   "source": [
    "tokens_df[(tokens_df.channel.isin(APPROVED_ACTIVE_CHANNELS + [''])) & \\\n",
    "          (tokens_df.contract.map(lambda x: x[:11] !='native/pool'))][\n",
    "    ['chain_id', 'channel', 'decimals', 'logo', 'ticker', 'contract']]"
   ],
   "metadata": {
    "collapsed": false,
    "ExecuteTime": {
     "start_time": "2023-05-21T14:08:48.355823Z",
     "end_time": "2023-05-21T14:08:48.360057Z"
    }
   }
  },
  {
   "cell_type": "code",
   "execution_count": 16,
   "outputs": [],
   "source": [
    "tokens_json = tokens_df[(tokens_df.channel.isin(APPROVED_ACTIVE_CHANNELS + [''])) & \\\n",
    "                        (tokens_df.contract.map(lambda x: x[:11] !='native/pool'))][\n",
    "    ['chain_id', 'channel', 'decimals', 'logo', 'ticker', 'contract']].to_json(orient='records')\n",
    "with open('data/tokens.json', 'w') as file:\n",
    "    file.write(tokens_json)"
   ],
   "metadata": {
    "collapsed": false,
    "ExecuteTime": {
     "start_time": "2023-05-21T14:08:49.052592Z",
     "end_time": "2023-05-21T14:08:49.056682Z"
    }
   }
  },
  {
   "cell_type": "code",
   "execution_count": 16,
   "outputs": [],
   "source": [],
   "metadata": {
    "collapsed": false,
    "ExecuteTime": {
     "start_time": "2023-05-19T14:19:42.945421Z",
     "end_time": "2023-05-19T14:19:42.946163Z"
    }
   }
  }
 ],
 "metadata": {
  "kernelspec": {
   "display_name": "Python 3",
   "language": "python",
   "name": "python3"
  },
  "language_info": {
   "codemirror_mode": {
    "name": "ipython",
    "version": 2
   },
   "file_extension": ".py",
   "mimetype": "text/x-python",
   "name": "python",
   "nbconvert_exporter": "python",
   "pygments_lexer": "ipython2",
   "version": "2.7.6"
  }
 },
 "nbformat": 4,
 "nbformat_minor": 0
}
