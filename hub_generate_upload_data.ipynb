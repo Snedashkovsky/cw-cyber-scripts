{
 "cells": [
  {
   "cell_type": "markdown",
   "source": [
    "## Generate of data uploaded into Hub contracts"
   ],
   "metadata": {
    "collapsed": false
   }
  },
  {
   "cell_type": "code",
   "execution_count": 1,
   "outputs": [],
   "source": [
    "import json\n",
    "import ipfshttpclient\n",
    "import pandas as pd\n",
    "from multiaddr import Multiaddr\n",
    "from warnings import filterwarnings\n",
    "from tqdm.notebook import tqdm\n",
    "\n",
    "from cyberutils.bash import get_json_from_bash_query\n",
    "\n",
    "from src.contract_utils import query_contract\n",
    "from config import IPFS_HOST, NODE_RPC_URL\n",
    "\n",
    "filterwarnings('ignore')"
   ],
   "metadata": {
    "collapsed": false,
    "ExecuteTime": {
     "start_time": "2023-05-18T12:55:48.894424Z",
     "end_time": "2023-05-18T12:55:49.703977Z"
    }
   }
  },
  {
   "cell_type": "code",
   "execution_count": 2,
   "outputs": [],
   "source": [
    "ipfs_client = ipfshttpclient.connect(addr=Multiaddr(IPFS_HOST))\n",
    "\n",
    "def add_file_to_ipfs(file_path: str) -> str:\n",
    "    with open(file_path, 'rb') as _file:\n",
    "        return ipfs_client.add_bytes(_file.read())"
   ],
   "metadata": {
    "collapsed": false,
    "ExecuteTime": {
     "start_time": "2023-05-18T12:55:49.705336Z",
     "end_time": "2023-05-18T12:55:49.731229Z"
    }
   }
  },
  {
   "cell_type": "markdown",
   "source": [
    "### Data fields\n",
    "- protocols: 'data_type', 'particle'\n",
    "- networks: 'chain_id', 'genesis_hash', 'logo', 'name', 'prefix', 'protocol', 'unbonding_period', 'particle'\n",
    "- channels: 'active', 'destination_chain_id', 'destination_channel_id', 'explorer_url', 'source_chain_id', 'source_channel_id', 'particle'\n",
    "- tokens: 'chain_id', 'channel', 'contract', 'decimals', 'logo', 'ticker', 'particle'\n",
    "- skills: 'endpoint', 'network', 'neuron', 'protocol', 'particle'\n",
    "- contracts: 'address', 'chain_id', 'execute_cid', 'query_cid', 'version', 'particle'\n",
    "\n",
    "`particle` field is optional\n",
    "\n",
    "### Protocols"
   ],
   "metadata": {
    "collapsed": false
   }
  },
  {
   "cell_type": "code",
   "execution_count": 47,
   "outputs": [],
   "source": [
    "protocols = [\n",
    "    'ipfs-gateway',\n",
    "    'cyber-rpc',\n",
    "    'cyber-ws',\n",
    "    'cosmos-rpc',\n",
    "    'cosmos-ws',\n",
    "    'osmosis-rpc',\n",
    "    'osmosis-ws',\n",
    "    'juno-rpc',\n",
    "    'juno-ws',\n",
    "    'gravity-rpc',\n",
    "    'gravity-ws',\n",
    "    'axelar-rpc',\n",
    "    'axelar-ws',\n",
    "    'evmos-rpc',\n",
    "    'evmos-ws',\n",
    "    'agoric-rpc',\n",
    "    'agoric-ws',\n",
    "    'akashnet-rpc',\n",
    "    'akashnet-ws',\n",
    "    'arkh-rpc',\n",
    "    'arkh-ws',\n",
    "    'phoenix-rpc',\n",
    "    'phoenix-ws',\n",
    "    'eightball-rpc',\n",
    "    'eightball-ws',\n",
    "    'desmos-rpc',\n",
    "    'desmos-ws',\n",
    "]\n",
    "protocols_json = [{'data_type': protocol} for protocol in protocols]\n",
    "with open('data/protocols.json', 'w') as file:\n",
    "    file.write(json.dumps(protocols_json))"
   ],
   "metadata": {
    "collapsed": false,
    "ExecuteTime": {
     "start_time": "2023-05-18T13:29:53.956544Z",
     "end_time": "2023-05-18T13:29:53.961204Z"
    }
   }
  },
  {
   "cell_type": "code",
   "execution_count": 48,
   "outputs": [
    {
     "data": {
      "text/plain": "        data_type\n0    ipfs-gateway\n1       cyber-rpc\n2        cyber-ws\n3      cosmos-rpc\n4       cosmos-ws\n5     osmosis-rpc\n6      osmosis-ws\n7        juno-rpc\n8         juno-ws\n9     gravity-rpc\n10     gravity-ws\n11     axelar-rpc\n12      axelar-ws\n13      evmos-rpc\n14       evmos-ws\n15     agoric-rpc\n16      agoric-ws\n17   akashnet-rpc\n18    akashnet-ws\n19       arkh-rpc\n20        arkh-ws\n21    phoenix-rpc\n22     phoenix-ws\n23  eightball-rpc\n24   eightball-ws\n25     desmos-rpc\n26      desmos-ws",
      "text/html": "<div>\n<style scoped>\n    .dataframe tbody tr th:only-of-type {\n        vertical-align: middle;\n    }\n\n    .dataframe tbody tr th {\n        vertical-align: top;\n    }\n\n    .dataframe thead th {\n        text-align: right;\n    }\n</style>\n<table border=\"1\" class=\"dataframe\">\n  <thead>\n    <tr style=\"text-align: right;\">\n      <th></th>\n      <th>data_type</th>\n    </tr>\n  </thead>\n  <tbody>\n    <tr>\n      <th>0</th>\n      <td>ipfs-gateway</td>\n    </tr>\n    <tr>\n      <th>1</th>\n      <td>cyber-rpc</td>\n    </tr>\n    <tr>\n      <th>2</th>\n      <td>cyber-ws</td>\n    </tr>\n    <tr>\n      <th>3</th>\n      <td>cosmos-rpc</td>\n    </tr>\n    <tr>\n      <th>4</th>\n      <td>cosmos-ws</td>\n    </tr>\n    <tr>\n      <th>5</th>\n      <td>osmosis-rpc</td>\n    </tr>\n    <tr>\n      <th>6</th>\n      <td>osmosis-ws</td>\n    </tr>\n    <tr>\n      <th>7</th>\n      <td>juno-rpc</td>\n    </tr>\n    <tr>\n      <th>8</th>\n      <td>juno-ws</td>\n    </tr>\n    <tr>\n      <th>9</th>\n      <td>gravity-rpc</td>\n    </tr>\n    <tr>\n      <th>10</th>\n      <td>gravity-ws</td>\n    </tr>\n    <tr>\n      <th>11</th>\n      <td>axelar-rpc</td>\n    </tr>\n    <tr>\n      <th>12</th>\n      <td>axelar-ws</td>\n    </tr>\n    <tr>\n      <th>13</th>\n      <td>evmos-rpc</td>\n    </tr>\n    <tr>\n      <th>14</th>\n      <td>evmos-ws</td>\n    </tr>\n    <tr>\n      <th>15</th>\n      <td>agoric-rpc</td>\n    </tr>\n    <tr>\n      <th>16</th>\n      <td>agoric-ws</td>\n    </tr>\n    <tr>\n      <th>17</th>\n      <td>akashnet-rpc</td>\n    </tr>\n    <tr>\n      <th>18</th>\n      <td>akashnet-ws</td>\n    </tr>\n    <tr>\n      <th>19</th>\n      <td>arkh-rpc</td>\n    </tr>\n    <tr>\n      <th>20</th>\n      <td>arkh-ws</td>\n    </tr>\n    <tr>\n      <th>21</th>\n      <td>phoenix-rpc</td>\n    </tr>\n    <tr>\n      <th>22</th>\n      <td>phoenix-ws</td>\n    </tr>\n    <tr>\n      <th>23</th>\n      <td>eightball-rpc</td>\n    </tr>\n    <tr>\n      <th>24</th>\n      <td>eightball-ws</td>\n    </tr>\n    <tr>\n      <th>25</th>\n      <td>desmos-rpc</td>\n    </tr>\n    <tr>\n      <th>26</th>\n      <td>desmos-ws</td>\n    </tr>\n  </tbody>\n</table>\n</div>"
     },
     "execution_count": 48,
     "metadata": {},
     "output_type": "execute_result"
    }
   ],
   "source": [
    "protocols_df = pd.DataFrame(protocols_json)\n",
    "protocols_df"
   ],
   "metadata": {
    "collapsed": false,
    "ExecuteTime": {
     "start_time": "2023-05-18T13:29:54.469019Z",
     "end_time": "2023-05-18T13:29:54.476944Z"
    }
   }
  },
  {
   "cell_type": "markdown",
   "source": [
    "### Networks"
   ],
   "metadata": {
    "collapsed": false
   }
  },
  {
   "cell_type": "code",
   "execution_count": 6,
   "outputs": [],
   "source": [
    "networks_json = [\n",
    "    {\n",
    "        'chain_id': 'bostrom',\n",
    "        'genesis_hash': 'QmYubyVNfghD4xCrTFj26zBwrF9s5GJhi1TmxvrwmJCipr',\n",
    "        'logo': add_file_to_ipfs('img/logo/networks/bostrom.png'),\n",
    "        'name': 'bostrom',\n",
    "        'prefix': 'bostrom',\n",
    "        'protocol': 'cyber-rpc',\n",
    "        'unbonding_period': '691200'\n",
    "    },\n",
    "    {\n",
    "        'chain_id': 'space-pussy',\n",
    "        'genesis_hash': add_file_to_ipfs('data/genesis_spacepussy.json'),\n",
    "        'logo': add_file_to_ipfs('img/logo/networks/space-pussy.png'),\n",
    "        'name': 'space-pussy',\n",
    "        'prefix': 'pussy',\n",
    "        'protocol': 'cyber-rpc',\n",
    "        'unbonding_period': '2419200'\n",
    "    },\n",
    "    {\n",
    "        'chain_id': 'cosmoshub-4',\n",
    "        'genesis_hash': add_file_to_ipfs('data/genesis_cosmos.json'),\n",
    "        'logo': add_file_to_ipfs('img/logo/networks/cosmos.png'),\n",
    "        'name': 'cosmos',\n",
    "        'prefix': 'cosmos',\n",
    "        'protocol': 'cosmos-rpc',\n",
    "        'unbonding_period': str(21 * 24 * 3_600)\n",
    "    },\n",
    "    {\n",
    "        'chain_id': 'osmosis-1',\n",
    "        'genesis_hash': add_file_to_ipfs('data/genesis_osmosis.json'),\n",
    "        'logo': add_file_to_ipfs('img/logo/networks/osmosis.png'),\n",
    "        'name': 'osmosis',\n",
    "        'prefix': 'osmo',\n",
    "        'protocol': 'osmosis-rpc',\n",
    "        'unbonding_period': '1209600'\n",
    "    },\n",
    "    {\n",
    "        'chain_id': 'juno-1',\n",
    "        'genesis_hash': add_file_to_ipfs('data/genesis_juno.json'),\n",
    "        'logo': add_file_to_ipfs('img/logo/networks/juno.png'),\n",
    "        'name': 'juno',\n",
    "        'prefix': 'juno',\n",
    "        'protocol': 'juno-rpc',\n",
    "        'unbonding_period': str(28 * 24 * 3_600)\n",
    "    },\n",
    "    {\n",
    "        'chain_id': 'gravity-bridge-3',\n",
    "        'genesis_hash': add_file_to_ipfs('data/genesis_gravitybridge.json'),\n",
    "        'logo': add_file_to_ipfs('img/logo/networks/gravitybridge.png'),\n",
    "        'name': 'gravity bridge',\n",
    "        'prefix': 'gravity',\n",
    "        'protocol': 'gravity-rpc',\n",
    "        'unbonding_period': str(21 * 24 * 3_600)\n",
    "    },\n",
    "    {\n",
    "        'chain_id': 'axelar-dojo-1',\n",
    "        'genesis_hash': add_file_to_ipfs('data/genesis_axelar.json'),\n",
    "        'logo': add_file_to_ipfs('img/logo/networks/axelar.png'),\n",
    "        'name': 'axelar',\n",
    "        'prefix': 'axelar',\n",
    "        'protocol': 'axelar-rpc',\n",
    "        'unbonding_period': str(7 * 24 * 3_600)\n",
    "    },\n",
    "    {\n",
    "        'chain_id': 'evmos_9001-2',\n",
    "        'genesis_hash': add_file_to_ipfs('data/genesis_evmos.json'),\n",
    "        'logo': add_file_to_ipfs('img/logo/networks/evmos.png'),\n",
    "        'name': 'evmos',\n",
    "        'prefix': 'evmos',\n",
    "        'protocol': 'evmos-rpc',\n",
    "        'unbonding_period': str(14 * 24 * 3_600)\n",
    "    },\n",
    "]\n",
    "with open('data/networks.json', 'w') as file:\n",
    "    file.write(json.dumps(networks_json))"
   ],
   "metadata": {
    "collapsed": false,
    "ExecuteTime": {
     "start_time": "2023-05-18T12:56:38.720600Z",
     "end_time": "2023-05-18T12:57:09.746311Z"
    }
   }
  },
  {
   "cell_type": "code",
   "execution_count": 7,
   "outputs": [
    {
     "data": {
      "text/plain": "           chain_id                                    genesis_hash  \\\n0           bostrom  QmYubyVNfghD4xCrTFj26zBwrF9s5GJhi1TmxvrwmJCipr   \n1       space-pussy  QmTR1k469ZNJdmhT2WY67A6fccpj1pRkHTmnZZtYpPDnH7   \n2       cosmoshub-4  Qmc54DreioPpPDUdJW6bBTYUKepmcPsscfqsfFcFmTaVig   \n3         osmosis-1  QmXRvBT3hgoXwwPqbK6a2sXUuArGM8wPyo1ybskyyUwUxs   \n4            juno-1  QmPJ2Q4D6GDbbU68ga5jQJ9AXpv7WcM63QEVRup6LMjzsb   \n5  gravity-bridge-3  Qmed9LHnN2ovM4BdiJ2RPecB99PVK9yfFEV5FpwdDNiVsJ   \n6     axelar-dojo-1  QmZLQoafcmhLkYgZb7HMB15Fg6RfKs8Yro44tkrxwNBcTu   \n7      evmos_9001-2  QmYmcmveFYMdA1NRAvAa3hKM8HQRdiwfmYtf3GgyJGTMEa   \n\n                                             logo            name   prefix  \\\n0  QmSVz41kA5aXttxT1rAXnuJecfazij3wh95X8ewd7Kdc2F         bostrom  bostrom   \n1  QmSdVMzpY9nuHZXZpvZdFbhhMf3nBGAe4JZ7e2Xdh6LMLr     space-pussy    pussy   \n2  QmTKr13S2qLoz9QiYmBrkfxkotLQohv78X1ZfuAmcs5rH6          cosmos   cosmos   \n3  QmREkHXDNxxKNa7RSWsztkT6iy8ghZuBpbjSAgGaQ3uGVr         osmosis     osmo   \n4  QmYKE9KZW7JPtGkvjwSusrzAzRt8UYUQ27SJmyGomu3RWu            juno     juno   \n5  QmTEmFLmSU79tVpXJj1TvepN9Ujjwi77YRRSDewMnFeV8p  gravity bridge  gravity   \n6  QmW389aWTLgDS3q6DjWuP3VBGzfi3s1seAj7GqpkCpSdV4          axelar   axelar   \n7  QmSAuJKD9dxbFdiVGqgBt21kRZw2gGxS2UahgnQBEYwFNf           evmos    evmos   \n\n      protocol unbonding_period  \n0    cyber-rpc           691200  \n1    cyber-rpc          2419200  \n2   cosmos-rpc          1814400  \n3  osmosis-rpc          1209600  \n4     juno-rpc          2419200  \n5  gravity-rpc          1814400  \n6   axelar-rpc           604800  \n7    evmos-rpc          1209600  ",
      "text/html": "<div>\n<style scoped>\n    .dataframe tbody tr th:only-of-type {\n        vertical-align: middle;\n    }\n\n    .dataframe tbody tr th {\n        vertical-align: top;\n    }\n\n    .dataframe thead th {\n        text-align: right;\n    }\n</style>\n<table border=\"1\" class=\"dataframe\">\n  <thead>\n    <tr style=\"text-align: right;\">\n      <th></th>\n      <th>chain_id</th>\n      <th>genesis_hash</th>\n      <th>logo</th>\n      <th>name</th>\n      <th>prefix</th>\n      <th>protocol</th>\n      <th>unbonding_period</th>\n    </tr>\n  </thead>\n  <tbody>\n    <tr>\n      <th>0</th>\n      <td>bostrom</td>\n      <td>QmYubyVNfghD4xCrTFj26zBwrF9s5GJhi1TmxvrwmJCipr</td>\n      <td>QmSVz41kA5aXttxT1rAXnuJecfazij3wh95X8ewd7Kdc2F</td>\n      <td>bostrom</td>\n      <td>bostrom</td>\n      <td>cyber-rpc</td>\n      <td>691200</td>\n    </tr>\n    <tr>\n      <th>1</th>\n      <td>space-pussy</td>\n      <td>QmTR1k469ZNJdmhT2WY67A6fccpj1pRkHTmnZZtYpPDnH7</td>\n      <td>QmSdVMzpY9nuHZXZpvZdFbhhMf3nBGAe4JZ7e2Xdh6LMLr</td>\n      <td>space-pussy</td>\n      <td>pussy</td>\n      <td>cyber-rpc</td>\n      <td>2419200</td>\n    </tr>\n    <tr>\n      <th>2</th>\n      <td>cosmoshub-4</td>\n      <td>Qmc54DreioPpPDUdJW6bBTYUKepmcPsscfqsfFcFmTaVig</td>\n      <td>QmTKr13S2qLoz9QiYmBrkfxkotLQohv78X1ZfuAmcs5rH6</td>\n      <td>cosmos</td>\n      <td>cosmos</td>\n      <td>cosmos-rpc</td>\n      <td>1814400</td>\n    </tr>\n    <tr>\n      <th>3</th>\n      <td>osmosis-1</td>\n      <td>QmXRvBT3hgoXwwPqbK6a2sXUuArGM8wPyo1ybskyyUwUxs</td>\n      <td>QmREkHXDNxxKNa7RSWsztkT6iy8ghZuBpbjSAgGaQ3uGVr</td>\n      <td>osmosis</td>\n      <td>osmo</td>\n      <td>osmosis-rpc</td>\n      <td>1209600</td>\n    </tr>\n    <tr>\n      <th>4</th>\n      <td>juno-1</td>\n      <td>QmPJ2Q4D6GDbbU68ga5jQJ9AXpv7WcM63QEVRup6LMjzsb</td>\n      <td>QmYKE9KZW7JPtGkvjwSusrzAzRt8UYUQ27SJmyGomu3RWu</td>\n      <td>juno</td>\n      <td>juno</td>\n      <td>juno-rpc</td>\n      <td>2419200</td>\n    </tr>\n    <tr>\n      <th>5</th>\n      <td>gravity-bridge-3</td>\n      <td>Qmed9LHnN2ovM4BdiJ2RPecB99PVK9yfFEV5FpwdDNiVsJ</td>\n      <td>QmTEmFLmSU79tVpXJj1TvepN9Ujjwi77YRRSDewMnFeV8p</td>\n      <td>gravity bridge</td>\n      <td>gravity</td>\n      <td>gravity-rpc</td>\n      <td>1814400</td>\n    </tr>\n    <tr>\n      <th>6</th>\n      <td>axelar-dojo-1</td>\n      <td>QmZLQoafcmhLkYgZb7HMB15Fg6RfKs8Yro44tkrxwNBcTu</td>\n      <td>QmW389aWTLgDS3q6DjWuP3VBGzfi3s1seAj7GqpkCpSdV4</td>\n      <td>axelar</td>\n      <td>axelar</td>\n      <td>axelar-rpc</td>\n      <td>604800</td>\n    </tr>\n    <tr>\n      <th>7</th>\n      <td>evmos_9001-2</td>\n      <td>QmYmcmveFYMdA1NRAvAa3hKM8HQRdiwfmYtf3GgyJGTMEa</td>\n      <td>QmSAuJKD9dxbFdiVGqgBt21kRZw2gGxS2UahgnQBEYwFNf</td>\n      <td>evmos</td>\n      <td>evmos</td>\n      <td>evmos-rpc</td>\n      <td>1209600</td>\n    </tr>\n  </tbody>\n</table>\n</div>"
     },
     "execution_count": 7,
     "metadata": {},
     "output_type": "execute_result"
    }
   ],
   "source": [
    "networks_df = pd.DataFrame(networks_json)\n",
    "networks_df"
   ],
   "metadata": {
    "collapsed": false,
    "ExecuteTime": {
     "start_time": "2023-05-18T12:57:09.744083Z",
     "end_time": "2023-05-18T12:57:09.746705Z"
    }
   }
  },
  {
   "cell_type": "markdown",
   "source": [
    "### Channels"
   ],
   "metadata": {
    "collapsed": false
   }
  },
  {
   "cell_type": "code",
   "execution_count": 14,
   "outputs": [],
   "source": [
    "BOSTROM_INACTIVE_CHANNELS = [\n",
    "    'channel-0',\n",
    "    'channel-1',\n",
    "    'channel-3',\n",
    "    'channel-4',\n",
    "    'channel-5',\n",
    "    'channel-6',\n",
    "    'channel-12',\n",
    "    'channel-15',\n",
    "    'channel-16',\n",
    "    'channel-17'\n",
    "]\n",
    "EXPLORER_URL = {\n",
    "    'agoric-3': '',\n",
    "    'akashnet-2': 'https://www.mintscan.io/akash',\n",
    "    'arkh': '',\n",
    "    'axelar-dojo-1': 'https://www.mintscan.io/axelar',\n",
    "    'bostrom': 'https://cyb.ai/oracle',\n",
    "    'cosmoshub-4': 'https://mintscan.io/cosmos',\n",
    "    'desmos-mainnet': 'https://www.mintscan.io/desmos',\n",
    "    'eightball-1': 'https://explorer.nodestake.top/8ball',\n",
    "    'evmos_9001-2': 'https://www.mintscan.io/evmos',\n",
    "    'gravity-bridge-3': 'https://www.mintscan.io/gravity-bridge',\n",
    "    'juno-1': 'https://mintscan.io/juno',\n",
    "    'osmosis-1': 'https://mintscan.io/osmosis',\n",
    "    'phoenix-1': '',\n",
    "    'space-pussy': 'https://cyb.ai/oracle',\n",
    "}"
   ],
   "metadata": {
    "collapsed": false,
    "ExecuteTime": {
     "start_time": "2023-05-18T13:01:22.523214Z",
     "end_time": "2023-05-18T13:01:22.662392Z"
    }
   }
  },
  {
   "cell_type": "code",
   "execution_count": 15,
   "outputs": [],
   "source": [
    "channels_raw_json = \\\n",
    "    get_json_from_bash_query(bash_command=f'cyber query ibc channel channels -o=json --node={NODE_RPC_URL}')['channels']\n",
    "channels_json = [\n",
    "    {\n",
    "        'active': 'true' if channel_raw['channel_id'] not in BOSTROM_INACTIVE_CHANNELS else 'false',\n",
    "        'destination_chain_id': get_json_from_bash_query(\n",
    "            bash_command=f'cyber query ibc channel client-state transfer {channel_raw[\"channel_id\"]} -o=json --node={NODE_RPC_URL}'\n",
    "        )['client_state']['chain_id'],\n",
    "        'destination_channel_id': channel_raw['counterparty']['channel_id'],\n",
    "        'source_chain_id': 'bostrom',\n",
    "        'source_channel_id': channel_raw['channel_id']\n",
    "    }\n",
    "    for channel_raw in channels_raw_json\n",
    "]\n",
    "channels_json = [dict(channel, **{'explorer_url': EXPLORER_URL[channel['destination_chain_id']]}) for channel in\n",
    "                 channels_json]\n",
    "with open('data/channels.json', 'w') as file:\n",
    "    file.write(json.dumps(channels_json))"
   ],
   "metadata": {
    "collapsed": false,
    "ExecuteTime": {
     "start_time": "2023-05-18T13:01:22.755533Z",
     "end_time": "2023-05-18T13:01:58.173471Z"
    }
   }
  },
  {
   "cell_type": "code",
   "execution_count": 16,
   "outputs": [
    {
     "data": {
      "text/plain": "   active destination_chain_id destination_channel_id source_chain_id  \\\n0   false            osmosis-1             channel-79         bostrom   \n1   false          cosmoshub-4            channel-225         bostrom   \n2    true               juno-1             channel-93         bostrom   \n3    true          space-pussy              channel-0         bostrom   \n4   false     gravity-bridge-3            channel-103         bostrom   \n5    true       desmos-mainnet              channel-6         bostrom   \n6    true        axelar-dojo-1             channel-52         bostrom   \n7   false            phoenix-1            channel-108         bostrom   \n8   false            phoenix-1            channel-121         bostrom   \n9   false          eightball-1             channel-30         bostrom   \n10   true             agoric-3             channel-22         bostrom   \n11   true           akashnet-2             channel-83         bostrom   \n12   true            osmosis-1             channel-95         bostrom   \n13   true                 arkh             channel-25         bostrom   \n14  false            osmosis-1             channel-96         bostrom   \n15  false          cosmoshub-4            channel-237         bostrom   \n16  false          cosmoshub-4            channel-240         bostrom   \n17  false     gravity-bridge-3             channel-33         bostrom   \n18   true     gravity-bridge-3             channel-78         bostrom   \n19   true          cosmoshub-4            channel-341         bostrom   \n20   true         evmos_9001-2             channel-19         bostrom   \n\n   source_channel_id                            explorer_url  \n0          channel-0             https://mintscan.io/osmosis  \n1          channel-1              https://mintscan.io/cosmos  \n2         channel-10                https://mintscan.io/juno  \n3         channel-11                   https://cyb.ai/oracle  \n4         channel-12  https://www.mintscan.io/gravity-bridge  \n5         channel-13          https://www.mintscan.io/desmos  \n6         channel-14          https://www.mintscan.io/axelar  \n7         channel-15                                          \n8         channel-16                                          \n9         channel-17    https://explorer.nodestake.top/8ball  \n10        channel-18                                          \n11        channel-19           https://www.mintscan.io/akash  \n12         channel-2             https://mintscan.io/osmosis  \n13        channel-20                                          \n14         channel-3             https://mintscan.io/osmosis  \n15         channel-4              https://mintscan.io/cosmos  \n16         channel-5              https://mintscan.io/cosmos  \n17         channel-6  https://www.mintscan.io/gravity-bridge  \n18         channel-7  https://www.mintscan.io/gravity-bridge  \n19         channel-8              https://mintscan.io/cosmos  \n20         channel-9           https://www.mintscan.io/evmos  ",
      "text/html": "<div>\n<style scoped>\n    .dataframe tbody tr th:only-of-type {\n        vertical-align: middle;\n    }\n\n    .dataframe tbody tr th {\n        vertical-align: top;\n    }\n\n    .dataframe thead th {\n        text-align: right;\n    }\n</style>\n<table border=\"1\" class=\"dataframe\">\n  <thead>\n    <tr style=\"text-align: right;\">\n      <th></th>\n      <th>active</th>\n      <th>destination_chain_id</th>\n      <th>destination_channel_id</th>\n      <th>source_chain_id</th>\n      <th>source_channel_id</th>\n      <th>explorer_url</th>\n    </tr>\n  </thead>\n  <tbody>\n    <tr>\n      <th>0</th>\n      <td>false</td>\n      <td>osmosis-1</td>\n      <td>channel-79</td>\n      <td>bostrom</td>\n      <td>channel-0</td>\n      <td>https://mintscan.io/osmosis</td>\n    </tr>\n    <tr>\n      <th>1</th>\n      <td>false</td>\n      <td>cosmoshub-4</td>\n      <td>channel-225</td>\n      <td>bostrom</td>\n      <td>channel-1</td>\n      <td>https://mintscan.io/cosmos</td>\n    </tr>\n    <tr>\n      <th>2</th>\n      <td>true</td>\n      <td>juno-1</td>\n      <td>channel-93</td>\n      <td>bostrom</td>\n      <td>channel-10</td>\n      <td>https://mintscan.io/juno</td>\n    </tr>\n    <tr>\n      <th>3</th>\n      <td>true</td>\n      <td>space-pussy</td>\n      <td>channel-0</td>\n      <td>bostrom</td>\n      <td>channel-11</td>\n      <td>https://cyb.ai/oracle</td>\n    </tr>\n    <tr>\n      <th>4</th>\n      <td>false</td>\n      <td>gravity-bridge-3</td>\n      <td>channel-103</td>\n      <td>bostrom</td>\n      <td>channel-12</td>\n      <td>https://www.mintscan.io/gravity-bridge</td>\n    </tr>\n    <tr>\n      <th>5</th>\n      <td>true</td>\n      <td>desmos-mainnet</td>\n      <td>channel-6</td>\n      <td>bostrom</td>\n      <td>channel-13</td>\n      <td>https://www.mintscan.io/desmos</td>\n    </tr>\n    <tr>\n      <th>6</th>\n      <td>true</td>\n      <td>axelar-dojo-1</td>\n      <td>channel-52</td>\n      <td>bostrom</td>\n      <td>channel-14</td>\n      <td>https://www.mintscan.io/axelar</td>\n    </tr>\n    <tr>\n      <th>7</th>\n      <td>false</td>\n      <td>phoenix-1</td>\n      <td>channel-108</td>\n      <td>bostrom</td>\n      <td>channel-15</td>\n      <td></td>\n    </tr>\n    <tr>\n      <th>8</th>\n      <td>false</td>\n      <td>phoenix-1</td>\n      <td>channel-121</td>\n      <td>bostrom</td>\n      <td>channel-16</td>\n      <td></td>\n    </tr>\n    <tr>\n      <th>9</th>\n      <td>false</td>\n      <td>eightball-1</td>\n      <td>channel-30</td>\n      <td>bostrom</td>\n      <td>channel-17</td>\n      <td>https://explorer.nodestake.top/8ball</td>\n    </tr>\n    <tr>\n      <th>10</th>\n      <td>true</td>\n      <td>agoric-3</td>\n      <td>channel-22</td>\n      <td>bostrom</td>\n      <td>channel-18</td>\n      <td></td>\n    </tr>\n    <tr>\n      <th>11</th>\n      <td>true</td>\n      <td>akashnet-2</td>\n      <td>channel-83</td>\n      <td>bostrom</td>\n      <td>channel-19</td>\n      <td>https://www.mintscan.io/akash</td>\n    </tr>\n    <tr>\n      <th>12</th>\n      <td>true</td>\n      <td>osmosis-1</td>\n      <td>channel-95</td>\n      <td>bostrom</td>\n      <td>channel-2</td>\n      <td>https://mintscan.io/osmosis</td>\n    </tr>\n    <tr>\n      <th>13</th>\n      <td>true</td>\n      <td>arkh</td>\n      <td>channel-25</td>\n      <td>bostrom</td>\n      <td>channel-20</td>\n      <td></td>\n    </tr>\n    <tr>\n      <th>14</th>\n      <td>false</td>\n      <td>osmosis-1</td>\n      <td>channel-96</td>\n      <td>bostrom</td>\n      <td>channel-3</td>\n      <td>https://mintscan.io/osmosis</td>\n    </tr>\n    <tr>\n      <th>15</th>\n      <td>false</td>\n      <td>cosmoshub-4</td>\n      <td>channel-237</td>\n      <td>bostrom</td>\n      <td>channel-4</td>\n      <td>https://mintscan.io/cosmos</td>\n    </tr>\n    <tr>\n      <th>16</th>\n      <td>false</td>\n      <td>cosmoshub-4</td>\n      <td>channel-240</td>\n      <td>bostrom</td>\n      <td>channel-5</td>\n      <td>https://mintscan.io/cosmos</td>\n    </tr>\n    <tr>\n      <th>17</th>\n      <td>false</td>\n      <td>gravity-bridge-3</td>\n      <td>channel-33</td>\n      <td>bostrom</td>\n      <td>channel-6</td>\n      <td>https://www.mintscan.io/gravity-bridge</td>\n    </tr>\n    <tr>\n      <th>18</th>\n      <td>true</td>\n      <td>gravity-bridge-3</td>\n      <td>channel-78</td>\n      <td>bostrom</td>\n      <td>channel-7</td>\n      <td>https://www.mintscan.io/gravity-bridge</td>\n    </tr>\n    <tr>\n      <th>19</th>\n      <td>true</td>\n      <td>cosmoshub-4</td>\n      <td>channel-341</td>\n      <td>bostrom</td>\n      <td>channel-8</td>\n      <td>https://mintscan.io/cosmos</td>\n    </tr>\n    <tr>\n      <th>20</th>\n      <td>true</td>\n      <td>evmos_9001-2</td>\n      <td>channel-19</td>\n      <td>bostrom</td>\n      <td>channel-9</td>\n      <td>https://www.mintscan.io/evmos</td>\n    </tr>\n  </tbody>\n</table>\n</div>"
     },
     "execution_count": 16,
     "metadata": {},
     "output_type": "execute_result"
    }
   ],
   "source": [
    "channels_df = pd.DataFrame(channels_json)\n",
    "channels_df"
   ],
   "metadata": {
    "collapsed": false,
    "ExecuteTime": {
     "start_time": "2023-05-18T13:02:28.816021Z",
     "end_time": "2023-05-18T13:02:28.824454Z"
    }
   }
  },
  {
   "cell_type": "markdown",
   "source": [
    "### Tokens\n",
    "#### CW20"
   ],
   "metadata": {
    "collapsed": false
   }
  },
  {
   "cell_type": "code",
   "execution_count": 17,
   "outputs": [],
   "source": [
    "# 'chain_id', 'channel', 'contract', 'decimals', 'logo', 'ticker'\n",
    "cw20_token_contracts = get_json_from_bash_query(bash_command=f'cyber query wasm list-contract-by-code 1 -o=json --limit=1000 --node={NODE_RPC_URL}')['contracts']"
   ],
   "metadata": {
    "collapsed": false,
    "ExecuteTime": {
     "start_time": "2023-05-18T13:03:22.310867Z",
     "end_time": "2023-05-18T13:03:23.710581Z"
    }
   }
  },
  {
   "cell_type": "code",
   "execution_count": 18,
   "outputs": [
    {
     "data": {
      "text/plain": "  0%|          | 0/106 [00:00<?, ?it/s]",
      "application/vnd.jupyter.widget-view+json": {
       "version_major": 2,
       "version_minor": 0,
       "model_id": "70d7ae2d4204432199d1f566a63dbf1e"
      }
     },
     "metadata": {},
     "output_type": "display_data"
    },
    {
     "data": {
      "text/plain": "    chain_id channel                                           contract  \\\n0    bostrom          bostrom14hj2tavq8fpesdwxxcu44rty3hh90vhujrvcms...   \n1    bostrom          bostrom1suhgf5svhu4usrurvxzlgn54ksxmn8gljarjtx...   \n2    bostrom          bostrom1yyca08xqdgvjz0psg56z67ejh9xms6l436u8y5...   \n3    bostrom          bostrom1yw4xvtc43me9scqfr2jr2gzvcxd3a9y4eq7gau...   \n4    bostrom          bostrom1cnuw3f076wgdyahssdkd0g3nr96ckq8cwa2mh0...   \n..       ...     ...                                                ...   \n101  bostrom          bostrom1s5g4rehkansq4pamj42usczezqkchjke4j2kk7...   \n102  bostrom          bostrom1seeld9pqq0nxp3yt3wded4jf476y8vz77qmjj5...   \n103  bostrom          bostrom10stecvwvxzkh3ah7y6j0kcwe3chmrg37zevjgj...   \n104  bostrom          bostrom1w4dff5myjyzymk8tkpjrzj6gnv352hcdpt2dsz...   \n105  bostrom          bostrom1nwm9pjmfgmxgc4euyfps05p9pfde8vd4sm8pav...   \n\n     decimals                                               logo ticker  \n0           0                                                      FCWT  \n1           0                                                       NTN  \n2           0                                                       NTN  \n3           0                                                       NTN  \n4           0                                                       SKI  \n..        ...                                                ...    ...  \n101         0                  {'url': 'https://ibb.co/xHjk38X'}    TTT  \n102         0  {'url': 'https://drive.google.com/file/d/15edr...    ABC  \n103        10                                                      AAAC  \n104         6  {'url': 'https://ipfs.io/ipfs/QmcGtVuAzMs42McW...   WGUT  \n105         6                                                      COOL  \n\n[106 rows x 6 columns]",
      "text/html": "<div>\n<style scoped>\n    .dataframe tbody tr th:only-of-type {\n        vertical-align: middle;\n    }\n\n    .dataframe tbody tr th {\n        vertical-align: top;\n    }\n\n    .dataframe thead th {\n        text-align: right;\n    }\n</style>\n<table border=\"1\" class=\"dataframe\">\n  <thead>\n    <tr style=\"text-align: right;\">\n      <th></th>\n      <th>chain_id</th>\n      <th>channel</th>\n      <th>contract</th>\n      <th>decimals</th>\n      <th>logo</th>\n      <th>ticker</th>\n    </tr>\n  </thead>\n  <tbody>\n    <tr>\n      <th>0</th>\n      <td>bostrom</td>\n      <td></td>\n      <td>bostrom14hj2tavq8fpesdwxxcu44rty3hh90vhujrvcms...</td>\n      <td>0</td>\n      <td></td>\n      <td>FCWT</td>\n    </tr>\n    <tr>\n      <th>1</th>\n      <td>bostrom</td>\n      <td></td>\n      <td>bostrom1suhgf5svhu4usrurvxzlgn54ksxmn8gljarjtx...</td>\n      <td>0</td>\n      <td></td>\n      <td>NTN</td>\n    </tr>\n    <tr>\n      <th>2</th>\n      <td>bostrom</td>\n      <td></td>\n      <td>bostrom1yyca08xqdgvjz0psg56z67ejh9xms6l436u8y5...</td>\n      <td>0</td>\n      <td></td>\n      <td>NTN</td>\n    </tr>\n    <tr>\n      <th>3</th>\n      <td>bostrom</td>\n      <td></td>\n      <td>bostrom1yw4xvtc43me9scqfr2jr2gzvcxd3a9y4eq7gau...</td>\n      <td>0</td>\n      <td></td>\n      <td>NTN</td>\n    </tr>\n    <tr>\n      <th>4</th>\n      <td>bostrom</td>\n      <td></td>\n      <td>bostrom1cnuw3f076wgdyahssdkd0g3nr96ckq8cwa2mh0...</td>\n      <td>0</td>\n      <td></td>\n      <td>SKI</td>\n    </tr>\n    <tr>\n      <th>...</th>\n      <td>...</td>\n      <td>...</td>\n      <td>...</td>\n      <td>...</td>\n      <td>...</td>\n      <td>...</td>\n    </tr>\n    <tr>\n      <th>101</th>\n      <td>bostrom</td>\n      <td></td>\n      <td>bostrom1s5g4rehkansq4pamj42usczezqkchjke4j2kk7...</td>\n      <td>0</td>\n      <td>{'url': 'https://ibb.co/xHjk38X'}</td>\n      <td>TTT</td>\n    </tr>\n    <tr>\n      <th>102</th>\n      <td>bostrom</td>\n      <td></td>\n      <td>bostrom1seeld9pqq0nxp3yt3wded4jf476y8vz77qmjj5...</td>\n      <td>0</td>\n      <td>{'url': 'https://drive.google.com/file/d/15edr...</td>\n      <td>ABC</td>\n    </tr>\n    <tr>\n      <th>103</th>\n      <td>bostrom</td>\n      <td></td>\n      <td>bostrom10stecvwvxzkh3ah7y6j0kcwe3chmrg37zevjgj...</td>\n      <td>10</td>\n      <td></td>\n      <td>AAAC</td>\n    </tr>\n    <tr>\n      <th>104</th>\n      <td>bostrom</td>\n      <td></td>\n      <td>bostrom1w4dff5myjyzymk8tkpjrzj6gnv352hcdpt2dsz...</td>\n      <td>6</td>\n      <td>{'url': 'https://ipfs.io/ipfs/QmcGtVuAzMs42McW...</td>\n      <td>WGUT</td>\n    </tr>\n    <tr>\n      <th>105</th>\n      <td>bostrom</td>\n      <td></td>\n      <td>bostrom1nwm9pjmfgmxgc4euyfps05p9pfde8vd4sm8pav...</td>\n      <td>6</td>\n      <td></td>\n      <td>COOL</td>\n    </tr>\n  </tbody>\n</table>\n<p>106 rows × 6 columns</p>\n</div>"
     },
     "execution_count": 18,
     "metadata": {},
     "output_type": "execute_result"
    }
   ],
   "source": [
    "cw20_tokens_json = []\n",
    "for cw20_token_contract in tqdm(cw20_token_contracts):\n",
    "    cw20_token_metadata = \\\n",
    "        query_contract(contract_address=cw20_token_contract,\n",
    "                       query='''{\"token_info\": {}}''')['data']\n",
    "    cw20_token_marketing_info = \\\n",
    "        query_contract(contract_address=cw20_token_contract,\n",
    "                       query='''{\"marketing_info\": {}}''')['data']\n",
    "    logo = cw20_token_marketing_info['logo']\n",
    "    cw20_tokens_json.append(\n",
    "        {\n",
    "            'chain_id': 'bostrom',\n",
    "            'channel': '',\n",
    "            'contract': cw20_token_contract,\n",
    "            'decimals': cw20_token_metadata['decimals'],\n",
    "            'logo': '' if logo is None or logo == {'url': ''} else str(logo),\n",
    "            'ticker': cw20_token_metadata['symbol']\n",
    "        }\n",
    "    )\n",
    "cw20_tokens_df = pd.DataFrame(cw20_tokens_json)\n",
    "cw20_tokens_df"
   ],
   "metadata": {
    "collapsed": false,
    "ExecuteTime": {
     "start_time": "2023-05-18T13:03:23.714313Z",
     "end_time": "2023-05-18T13:09:09.253104Z"
    }
   }
  },
  {
   "cell_type": "markdown",
   "source": [
    "#### Coins"
   ],
   "metadata": {
    "collapsed": false
   }
  },
  {
   "cell_type": "code",
   "execution_count": 23,
   "outputs": [],
   "source": [
    "# 'denom', 'path', 'base_denom', 'decimals', 'logo', 'ticker'\n",
    "COINS_DECIMALS = {\n",
    "    'aevmos': 6,\n",
    "    'boot': 0,\n",
    "    'cw20:juno1u8cr3hcjvfkzxcaacv9q75uw9hwjmn8pucc93pmy6yvkzz79kh3qncca8x': 6,\n",
    "    'gravity0xC02aaA39b223FE8D0A0e5C4F27eAD9083C756Cc2': 18,\n",
    "    'hydrogen': 0,\n",
    "    'liquidpussy': 0,\n",
    "    'milliampere': 3,\n",
    "    'millivolt': 3,\n",
    "    'pussy': 0,\n",
    "    'tocyb': 0,\n",
    "    'uatom': 6,\n",
    "    'ucre': 6,\n",
    "    'udsm': 6,\n",
    "    'ugraviton': 18,\n",
    "    'uhuahua': 6,\n",
    "    'ujuno': 6,\n",
    "    'uosmo': 6,\n",
    "    'usomm': 6\n",
    "}\n",
    "COINS_TICKER = {\n",
    "    'aevmos': 'evmos',\n",
    "    'cw20:juno1u8cr3hcjvfkzxcaacv9q75uw9hwjmn8pucc93pmy6yvkzz79kh3qncca8x': 'fox',\n",
    "    'gravity0xC02aaA39b223FE8D0A0e5C4F27eAD9083C756Cc2': 'graveth',\n",
    "    'milliampere': 'ampere',\n",
    "    'millivolt': 'volt',\n",
    "    'uatom': 'atom',\n",
    "    'ucre': 'cre',\n",
    "    'udsm': 'dsm',\n",
    "    'ugraviton': 'graviton',\n",
    "    'uhuahua': 'huahua',\n",
    "    'ujuno': 'juno',\n",
    "    'uosmo': 'osmo',\n",
    "    'usomm': 'somm'\n",
    "}"
   ],
   "metadata": {
    "collapsed": false,
    "ExecuteTime": {
     "start_time": "2023-05-18T13:12:18.238146Z",
     "end_time": "2023-05-18T13:12:18.242463Z"
    }
   }
  },
  {
   "cell_type": "code",
   "execution_count": 24,
   "outputs": [],
   "source": [
    "coins_supply_json = get_json_from_bash_query(bash_command=f'cyber query bank total -o=json --node={NODE_RPC_URL}')['supply']\n",
    "coins_df = pd.DataFrame(coins_supply_json)\n",
    "coins_df = coins_df.rename(columns={'denom': 'contract', 'amount': 'supply'})"
   ],
   "metadata": {
    "collapsed": false,
    "ExecuteTime": {
     "start_time": "2023-05-18T13:12:24.390326Z",
     "end_time": "2023-05-18T13:12:25.684517Z"
    }
   }
  },
  {
   "cell_type": "code",
   "execution_count": 25,
   "outputs": [],
   "source": [
    "coins_df['base_denom'] = coins_df['contract'].map(lambda denom: get_json_from_bash_query(\n",
    "    bash_command=f'cyber query ibc-transfer denom-trace {denom[4:]} -o=json --node={NODE_RPC_URL}')['denom_trace']['base_denom'] if denom[:4]=='ibc/' else denom)"
   ],
   "metadata": {
    "collapsed": false,
    "ExecuteTime": {
     "start_time": "2023-05-18T13:12:25.688190Z",
     "end_time": "2023-05-18T13:12:54.502978Z"
    }
   }
  },
  {
   "cell_type": "code",
   "execution_count": 26,
   "outputs": [],
   "source": [
    "coins_df['path'] = coins_df['contract'].map(lambda denom: get_json_from_bash_query(\n",
    "    bash_command=f'cyber query ibc-transfer denom-trace {denom[4:]} -o=json --node={NODE_RPC_URL}')['denom_trace']['path'] if denom[:4]=='ibc/' else None)"
   ],
   "metadata": {
    "collapsed": false,
    "ExecuteTime": {
     "start_time": "2023-05-18T13:12:54.508633Z",
     "end_time": "2023-05-18T13:13:22.370623Z"
    }
   }
  },
  {
   "cell_type": "code",
   "execution_count": 30,
   "outputs": [],
   "source": [
    "def get_decimals(base_denom: str) -> str:\n",
    "    if base_denom[:4] =='pool':\n",
    "        return '0'\n",
    "    if base_denom in COINS_DECIMALS.keys():\n",
    "        return COINS_DECIMALS[base_denom]\n",
    "    return ''\n",
    "\n",
    "def get_ticker(base_denom: str) -> str:\n",
    "    if base_denom[:4] =='pool':\n",
    "        return 'pool'\n",
    "    if base_denom in COINS_TICKER.keys():\n",
    "        return COINS_TICKER[base_denom]\n",
    "    return base_denom\n",
    "\n",
    "def get_logo(ticker: str) -> str:\n",
    "    try:\n",
    "        return add_file_to_ipfs(file_path=f'img/logo/tokens/{ticker}.png')\n",
    "    except FileNotFoundError:\n",
    "        return ''\n",
    "\n",
    "coins_df['channel'] = coins_df['path'].map(lambda x: '' if x is None else ' '.join(x.replace('/', '').split('transfer')[1:]))\n",
    "coins_df['chain_id'] = 'bostrom'\n",
    "coins_df['decimals'] = coins_df['base_denom'].map(get_decimals)\n",
    "coins_df['ticker'] = coins_df['base_denom'].map(get_ticker)\n",
    "coins_df['logo'] = coins_df['ticker'].map(get_logo)"
   ],
   "metadata": {
    "collapsed": false,
    "ExecuteTime": {
     "start_time": "2023-05-18T13:14:38.918842Z",
     "end_time": "2023-05-18T13:14:47.857078Z"
    }
   }
  },
  {
   "cell_type": "code",
   "execution_count": 31,
   "outputs": [
    {
     "data": {
      "text/plain": "                                             contract                 supply  \\\n0                                                boot       1145846100341182   \n1                                            hydrogen        296336322749523   \n2   ibc/13B2C536BB057AC79D5616B8EA1B9540EC1F217071...            54843482571   \n3   ibc/15E9C5CF5969080539DB395FA7D9C0868265217EFC...            13572968929   \n4   ibc/1DE3244B072A8939517C17C7B679F3B735B2D9AA6B...                 100000   \n5   ibc/29FC7F418F1EFB5DAB3DD089AADA1FE406DC78633B...                 160000   \n6   ibc/32C4CC556FB73E889DF1A7836A29951F1087525240...                 599900   \n7   ibc/3554989531C7DB295D548F373FE93205215CAC2820...                4000000   \n8   ibc/40A19DA7BB2E2275ABC84D0823D6C30E6F49FF541E...                 558975   \n9   ibc/43DB7553C43D81CB01E9A2644B49A241314B482C2E...        552884125923221   \n10  ibc/47160B934644DED2F8E605B0521C6CC06F75A0465D...                  35149   \n11  ibc/4B322204B4F59D770680FE4D7A565DDC3F37BFF035...  176059217572804386049   \n12  ibc/5711BC92C095B0A50F0E7F6684ABD5CABB6EE93F00...                  10000   \n13  ibc/5F78C42BCC76287AE6B3185C6C1455DFFF8D805B18...                 150000   \n14  ibc/8D9262E35CAE362FA74AE05E430550757CF8D842EC...             2669858433   \n15  ibc/913F49D47DDB9DD8FD4E846E6522822AF9F99C5FFB...                     42   \n16  ibc/9B45B8C514B76D792BEC4850AE601E0E73CE7D307A...        243171471645401   \n17  ibc/B35B29C176E29BD9C348F72FA4DCF2AB68BB380855...                     10   \n18  ibc/B6CAD3F7469F3FAD18ED2230A6C7B15E654AB2E1B6...   53213247023912087668   \n19  ibc/BA313C4A19DFBF943586C0387E6B11286F9E416B4D...              226734246   \n20  ibc/C23D820C5B6009E544AFC8AF5A2FEC288108AEDBFA...             5916333606   \n21  ibc/CA5E8F31288514D728AFD1F0533A7F6902AA1192C8...            40948456033   \n22  ibc/CB41EF44BC15C8857B34EA151C8C480706E2A430A6...                 500000   \n23  ibc/D8AC1BB5FA604678F4C5BD3A7D3652B00D6DD3D835...                  20347   \n24  ibc/EF48E6B1A1A19F47ECAEA62F5670C37C0580E86A9E...                 153000   \n25  ibc/FA8CE16D380167E62FFD7D34BC0FEEA40DB5506D79...    5000000000000000000   \n26                                        milliampere             7185195409   \n27                                          millivolt              697524042   \n28  pool0B7D80CEB5EF865B56CD189BC23203F99EC4009A15...           959914559553   \n29  pool1A492174015ABA47066C8569AFF7582C551980840A...           599647195967   \n30  pool27BBCA67F42ED27DFFB6A450966C7EA206ADAA42BA...          2021788134142   \n31  pool3215BC1A427DA452FCC3AE9641AC5D17D736B3943A...          4812512114386   \n32  pool4FD3991B994C4602882E8AEACDA9375F4BBE5116E0...          6798785840073   \n33  pool5D5734E54F485FBAF21DF886EC396F2CBC72203BF0...        520964534751904   \n34  pool5D83035BE0E7AB904379161D3C52FB4C1C392265AC...          2212172005754   \n35  pool70D7610CBA8E94B27BAD7806EBD826F5626C486BBF...        713026087057962   \n36  pool72F72D8646E5FF5AA9C8C6CB4F85EE13C63CD6A15A...            33427430427   \n37  pool745F45704DFB96E3BAD8223EB91540E08DA279049B...          2203883495119   \n38  pool79B9E8E233B61B84EA5AE564AB080FC492B4C953A9...        424943896110836   \n39  pool906F3CC4C0F4634031990DB81761BD390890F8A8A8...         60287837988303   \n40  pool98692450C039BDD30563475A7699A7805075F592A3...        137968748660266   \n41  poolB02CE42B202A71419D2F9EB4996B36C52F1B5B60DA...         77262241543770   \n42  poolB0B2848FDE249D431B50CA59E42C37F41C5A2E11D0...           950000360873   \n43  poolBE0F1D1C7FE3E72D18DF1996AB8E76676852A34313...            58516257120   \n44  poolD0B5122C1EAB5BE4276EE232D9C493EC9472F9C265...          2000000000000   \n45  poolD8DCE9545B510DE6086A45A8B697250B536B97AF2F...          1195198604934   \n46  poolE21C556E3469226354EC7AC6BE8452906F678D25F9...          1000000000000   \n47  poolE32688109702769B49F6471789C4EDE96096D9BFBE...          1000000581561   \n48  poolE479A51F998E2979F89DA9AB897ED45A9AFE4E7DE3...         38422704918520   \n49  poolE734706B12D1672FAC713CA6578F5303AC359E4CE0...          1000000000000   \n50  poolF064538FBA4C66F225BA5C98E608BBB1FAFE16636D...          2183121857195   \n51                                              tocyb       1000000000000000   \n\n                                           base_denom  \\\n0                                                boot   \n1                                            hydrogen   \n2                                               uosmo   \n3                                               uatom   \n4                                                ucre   \n5                                         milliampere   \n6                                             uhuahua   \n7                                           ugraviton   \n8                                               usomm   \n9                                               pussy   \n10                                          millivolt   \n11                                             aevmos   \n12                                              uatom   \n13                                              uatom   \n14                                              ujuno   \n15                                               boot   \n16                                        liquidpussy   \n17                                               boot   \n18  gravity0xC02aaA39b223FE8D0A0e5C4F27eAD9083C756Cc2   \n19                                              uatom   \n20                                          ugraviton   \n21                                               udsm   \n22                                              uatom   \n23  cw20:juno1u8cr3hcjvfkzxcaacv9q75uw9hwjmn8pucc9...   \n24                                              uatom   \n25                                             aevmos   \n26                                        milliampere   \n27                                          millivolt   \n28  pool0B7D80CEB5EF865B56CD189BC23203F99EC4009A15...   \n29  pool1A492174015ABA47066C8569AFF7582C551980840A...   \n30  pool27BBCA67F42ED27DFFB6A450966C7EA206ADAA42BA...   \n31  pool3215BC1A427DA452FCC3AE9641AC5D17D736B3943A...   \n32  pool4FD3991B994C4602882E8AEACDA9375F4BBE5116E0...   \n33  pool5D5734E54F485FBAF21DF886EC396F2CBC72203BF0...   \n34  pool5D83035BE0E7AB904379161D3C52FB4C1C392265AC...   \n35  pool70D7610CBA8E94B27BAD7806EBD826F5626C486BBF...   \n36  pool72F72D8646E5FF5AA9C8C6CB4F85EE13C63CD6A15A...   \n37  pool745F45704DFB96E3BAD8223EB91540E08DA279049B...   \n38  pool79B9E8E233B61B84EA5AE564AB080FC492B4C953A9...   \n39  pool906F3CC4C0F4634031990DB81761BD390890F8A8A8...   \n40  pool98692450C039BDD30563475A7699A7805075F592A3...   \n41  poolB02CE42B202A71419D2F9EB4996B36C52F1B5B60DA...   \n42  poolB0B2848FDE249D431B50CA59E42C37F41C5A2E11D0...   \n43  poolBE0F1D1C7FE3E72D18DF1996AB8E76676852A34313...   \n44  poolD0B5122C1EAB5BE4276EE232D9C493EC9472F9C265...   \n45  poolD8DCE9545B510DE6086A45A8B697250B536B97AF2F...   \n46  poolE21C556E3469226354EC7AC6BE8452906F678D25F9...   \n47  poolE32688109702769B49F6471789C4EDE96096D9BFBE...   \n48  poolE479A51F998E2979F89DA9AB897ED45A9AFE4E7DE3...   \n49  poolE734706B12D1672FAC713CA6578F5303AC359E4CE0...   \n50  poolF064538FBA4C66F225BA5C98E608BBB1FAFE16636D...   \n51                                              tocyb   \n\n                                                 path  \\\n0                                                None   \n1                                                None   \n2                                  transfer/channel-2   \n3                                  transfer/channel-8   \n4             transfer/channel-12/transfer/channel-62   \n5                                 transfer/channel-11   \n6              transfer/channel-6/transfer/channel-34   \n7                                  transfer/channel-6   \n8             transfer/channel-2/transfer/channel-165   \n9                                 transfer/channel-11   \n10                                transfer/channel-11   \n11                                 transfer/channel-9   \n12  transfer/channel-6/transfer/channel-65/transfe...   \n13              transfer/channel-2/transfer/channel-0   \n14                                transfer/channel-10   \n15  transfer/channel-2/transfer/channel-199/transf...   \n16                                transfer/channel-11   \n17  transfer/channel-6/transfer/channel-10/transfe...   \n18                                transfer/channel-12   \n19                                 transfer/channel-5   \n20                                transfer/channel-12   \n21                                transfer/channel-13   \n22  transfer/channel-8/transfer/channel-141/transf...   \n23            transfer/channel-2/transfer/channel-169   \n24                                 transfer/channel-4   \n25  transfer/channel-9/transfer/channel-0/transfer...   \n26                                               None   \n27                                               None   \n28                                               None   \n29                                               None   \n30                                               None   \n31                                               None   \n32                                               None   \n33                                               None   \n34                                               None   \n35                                               None   \n36                                               None   \n37                                               None   \n38                                               None   \n39                                               None   \n40                                               None   \n41                                               None   \n42                                               None   \n43                                               None   \n44                                               None   \n45                                               None   \n46                                               None   \n47                                               None   \n48                                               None   \n49                                               None   \n50                                               None   \n51                                               None   \n\n                                        channel chain_id decimals  \\\n0                                                bostrom        0   \n1                                                bostrom        0   \n2                                     channel-2  bostrom        6   \n3                                     channel-8  bostrom        6   \n4                         channel-12 channel-62  bostrom        6   \n5                                    channel-11  bostrom        3   \n6                          channel-6 channel-34  bostrom        6   \n7                                     channel-6  bostrom       18   \n8                         channel-2 channel-165  bostrom        6   \n9                                    channel-11  bostrom        0   \n10                                   channel-11  bostrom        3   \n11                                    channel-9  bostrom        6   \n12               channel-6 channel-65 channel-3  bostrom        6   \n13                          channel-2 channel-0  bostrom        6   \n14                                   channel-10  bostrom        6   \n15  channel-2 channel-199 channel-3 channel-103  bostrom        0   \n16                                   channel-11  bostrom        0   \n17              channel-6 channel-10 channel-95  bostrom        0   \n18                                   channel-12  bostrom       18   \n19                                    channel-5  bostrom        6   \n20                                   channel-12  bostrom       18   \n21                                   channel-13  bostrom        6   \n22   channel-8 channel-141 channel-95 channel-8  bostrom        6   \n23                        channel-2 channel-169  bostrom        6   \n24                                    channel-4  bostrom        6   \n25     channel-9 channel-0 channel-95 channel-9  bostrom        6   \n26                                               bostrom        3   \n27                                               bostrom        3   \n28                                               bostrom        0   \n29                                               bostrom        0   \n30                                               bostrom        0   \n31                                               bostrom        0   \n32                                               bostrom        0   \n33                                               bostrom        0   \n34                                               bostrom        0   \n35                                               bostrom        0   \n36                                               bostrom        0   \n37                                               bostrom        0   \n38                                               bostrom        0   \n39                                               bostrom        0   \n40                                               bostrom        0   \n41                                               bostrom        0   \n42                                               bostrom        0   \n43                                               bostrom        0   \n44                                               bostrom        0   \n45                                               bostrom        0   \n46                                               bostrom        0   \n47                                               bostrom        0   \n48                                               bostrom        0   \n49                                               bostrom        0   \n50                                               bostrom        0   \n51                                               bostrom        0   \n\n         ticker                                            logo  \n0          boot  QmSVz41kA5aXttxT1rAXnuJecfazij3wh95X8ewd7Kdc2F  \n1      hydrogen                                                  \n2          osmo  QmREkHXDNxxKNa7RSWsztkT6iy8ghZuBpbjSAgGaQ3uGVr  \n3          atom  QmTKr13S2qLoz9QiYmBrkfxkotLQohv78X1ZfuAmcs5rH6  \n4           cre                                                  \n5        ampere                                                  \n6        huahua                                                  \n7      graviton  QmTEmFLmSU79tVpXJj1TvepN9Ujjwi77YRRSDewMnFeV8p  \n8          somm                                                  \n9         pussy  QmSdVMzpY9nuHZXZpvZdFbhhMf3nBGAe4JZ7e2Xdh6LMLr  \n10         volt                                                  \n11        evmos  QmSAuJKD9dxbFdiVGqgBt21kRZw2gGxS2UahgnQBEYwFNf  \n12         atom  QmTKr13S2qLoz9QiYmBrkfxkotLQohv78X1ZfuAmcs5rH6  \n13         atom  QmTKr13S2qLoz9QiYmBrkfxkotLQohv78X1ZfuAmcs5rH6  \n14         juno  QmYKE9KZW7JPtGkvjwSusrzAzRt8UYUQ27SJmyGomu3RWu  \n15         boot  QmSVz41kA5aXttxT1rAXnuJecfazij3wh95X8ewd7Kdc2F  \n16  liquidpussy                                                  \n17         boot  QmSVz41kA5aXttxT1rAXnuJecfazij3wh95X8ewd7Kdc2F  \n18      graveth                                                  \n19         atom  QmTKr13S2qLoz9QiYmBrkfxkotLQohv78X1ZfuAmcs5rH6  \n20     graviton  QmTEmFLmSU79tVpXJj1TvepN9Ujjwi77YRRSDewMnFeV8p  \n21          dsm                                                  \n22         atom  QmTKr13S2qLoz9QiYmBrkfxkotLQohv78X1ZfuAmcs5rH6  \n23          fox                                                  \n24         atom  QmTKr13S2qLoz9QiYmBrkfxkotLQohv78X1ZfuAmcs5rH6  \n25        evmos  QmSAuJKD9dxbFdiVGqgBt21kRZw2gGxS2UahgnQBEYwFNf  \n26       ampere                                                  \n27         volt                                                  \n28         pool                                                  \n29         pool                                                  \n30         pool                                                  \n31         pool                                                  \n32         pool                                                  \n33         pool                                                  \n34         pool                                                  \n35         pool                                                  \n36         pool                                                  \n37         pool                                                  \n38         pool                                                  \n39         pool                                                  \n40         pool                                                  \n41         pool                                                  \n42         pool                                                  \n43         pool                                                  \n44         pool                                                  \n45         pool                                                  \n46         pool                                                  \n47         pool                                                  \n48         pool                                                  \n49         pool                                                  \n50         pool                                                  \n51        tocyb                                                  ",
      "text/html": "<div>\n<style scoped>\n    .dataframe tbody tr th:only-of-type {\n        vertical-align: middle;\n    }\n\n    .dataframe tbody tr th {\n        vertical-align: top;\n    }\n\n    .dataframe thead th {\n        text-align: right;\n    }\n</style>\n<table border=\"1\" class=\"dataframe\">\n  <thead>\n    <tr style=\"text-align: right;\">\n      <th></th>\n      <th>contract</th>\n      <th>supply</th>\n      <th>base_denom</th>\n      <th>path</th>\n      <th>channel</th>\n      <th>chain_id</th>\n      <th>decimals</th>\n      <th>ticker</th>\n      <th>logo</th>\n    </tr>\n  </thead>\n  <tbody>\n    <tr>\n      <th>0</th>\n      <td>boot</td>\n      <td>1145846100341182</td>\n      <td>boot</td>\n      <td>None</td>\n      <td></td>\n      <td>bostrom</td>\n      <td>0</td>\n      <td>boot</td>\n      <td>QmSVz41kA5aXttxT1rAXnuJecfazij3wh95X8ewd7Kdc2F</td>\n    </tr>\n    <tr>\n      <th>1</th>\n      <td>hydrogen</td>\n      <td>296336322749523</td>\n      <td>hydrogen</td>\n      <td>None</td>\n      <td></td>\n      <td>bostrom</td>\n      <td>0</td>\n      <td>hydrogen</td>\n      <td></td>\n    </tr>\n    <tr>\n      <th>2</th>\n      <td>ibc/13B2C536BB057AC79D5616B8EA1B9540EC1F217071...</td>\n      <td>54843482571</td>\n      <td>uosmo</td>\n      <td>transfer/channel-2</td>\n      <td>channel-2</td>\n      <td>bostrom</td>\n      <td>6</td>\n      <td>osmo</td>\n      <td>QmREkHXDNxxKNa7RSWsztkT6iy8ghZuBpbjSAgGaQ3uGVr</td>\n    </tr>\n    <tr>\n      <th>3</th>\n      <td>ibc/15E9C5CF5969080539DB395FA7D9C0868265217EFC...</td>\n      <td>13572968929</td>\n      <td>uatom</td>\n      <td>transfer/channel-8</td>\n      <td>channel-8</td>\n      <td>bostrom</td>\n      <td>6</td>\n      <td>atom</td>\n      <td>QmTKr13S2qLoz9QiYmBrkfxkotLQohv78X1ZfuAmcs5rH6</td>\n    </tr>\n    <tr>\n      <th>4</th>\n      <td>ibc/1DE3244B072A8939517C17C7B679F3B735B2D9AA6B...</td>\n      <td>100000</td>\n      <td>ucre</td>\n      <td>transfer/channel-12/transfer/channel-62</td>\n      <td>channel-12 channel-62</td>\n      <td>bostrom</td>\n      <td>6</td>\n      <td>cre</td>\n      <td></td>\n    </tr>\n    <tr>\n      <th>5</th>\n      <td>ibc/29FC7F418F1EFB5DAB3DD089AADA1FE406DC78633B...</td>\n      <td>160000</td>\n      <td>milliampere</td>\n      <td>transfer/channel-11</td>\n      <td>channel-11</td>\n      <td>bostrom</td>\n      <td>3</td>\n      <td>ampere</td>\n      <td></td>\n    </tr>\n    <tr>\n      <th>6</th>\n      <td>ibc/32C4CC556FB73E889DF1A7836A29951F1087525240...</td>\n      <td>599900</td>\n      <td>uhuahua</td>\n      <td>transfer/channel-6/transfer/channel-34</td>\n      <td>channel-6 channel-34</td>\n      <td>bostrom</td>\n      <td>6</td>\n      <td>huahua</td>\n      <td></td>\n    </tr>\n    <tr>\n      <th>7</th>\n      <td>ibc/3554989531C7DB295D548F373FE93205215CAC2820...</td>\n      <td>4000000</td>\n      <td>ugraviton</td>\n      <td>transfer/channel-6</td>\n      <td>channel-6</td>\n      <td>bostrom</td>\n      <td>18</td>\n      <td>graviton</td>\n      <td>QmTEmFLmSU79tVpXJj1TvepN9Ujjwi77YRRSDewMnFeV8p</td>\n    </tr>\n    <tr>\n      <th>8</th>\n      <td>ibc/40A19DA7BB2E2275ABC84D0823D6C30E6F49FF541E...</td>\n      <td>558975</td>\n      <td>usomm</td>\n      <td>transfer/channel-2/transfer/channel-165</td>\n      <td>channel-2 channel-165</td>\n      <td>bostrom</td>\n      <td>6</td>\n      <td>somm</td>\n      <td></td>\n    </tr>\n    <tr>\n      <th>9</th>\n      <td>ibc/43DB7553C43D81CB01E9A2644B49A241314B482C2E...</td>\n      <td>552884125923221</td>\n      <td>pussy</td>\n      <td>transfer/channel-11</td>\n      <td>channel-11</td>\n      <td>bostrom</td>\n      <td>0</td>\n      <td>pussy</td>\n      <td>QmSdVMzpY9nuHZXZpvZdFbhhMf3nBGAe4JZ7e2Xdh6LMLr</td>\n    </tr>\n    <tr>\n      <th>10</th>\n      <td>ibc/47160B934644DED2F8E605B0521C6CC06F75A0465D...</td>\n      <td>35149</td>\n      <td>millivolt</td>\n      <td>transfer/channel-11</td>\n      <td>channel-11</td>\n      <td>bostrom</td>\n      <td>3</td>\n      <td>volt</td>\n      <td></td>\n    </tr>\n    <tr>\n      <th>11</th>\n      <td>ibc/4B322204B4F59D770680FE4D7A565DDC3F37BFF035...</td>\n      <td>176059217572804386049</td>\n      <td>aevmos</td>\n      <td>transfer/channel-9</td>\n      <td>channel-9</td>\n      <td>bostrom</td>\n      <td>6</td>\n      <td>evmos</td>\n      <td>QmSAuJKD9dxbFdiVGqgBt21kRZw2gGxS2UahgnQBEYwFNf</td>\n    </tr>\n    <tr>\n      <th>12</th>\n      <td>ibc/5711BC92C095B0A50F0E7F6684ABD5CABB6EE93F00...</td>\n      <td>10000</td>\n      <td>uatom</td>\n      <td>transfer/channel-6/transfer/channel-65/transfe...</td>\n      <td>channel-6 channel-65 channel-3</td>\n      <td>bostrom</td>\n      <td>6</td>\n      <td>atom</td>\n      <td>QmTKr13S2qLoz9QiYmBrkfxkotLQohv78X1ZfuAmcs5rH6</td>\n    </tr>\n    <tr>\n      <th>13</th>\n      <td>ibc/5F78C42BCC76287AE6B3185C6C1455DFFF8D805B18...</td>\n      <td>150000</td>\n      <td>uatom</td>\n      <td>transfer/channel-2/transfer/channel-0</td>\n      <td>channel-2 channel-0</td>\n      <td>bostrom</td>\n      <td>6</td>\n      <td>atom</td>\n      <td>QmTKr13S2qLoz9QiYmBrkfxkotLQohv78X1ZfuAmcs5rH6</td>\n    </tr>\n    <tr>\n      <th>14</th>\n      <td>ibc/8D9262E35CAE362FA74AE05E430550757CF8D842EC...</td>\n      <td>2669858433</td>\n      <td>ujuno</td>\n      <td>transfer/channel-10</td>\n      <td>channel-10</td>\n      <td>bostrom</td>\n      <td>6</td>\n      <td>juno</td>\n      <td>QmYKE9KZW7JPtGkvjwSusrzAzRt8UYUQ27SJmyGomu3RWu</td>\n    </tr>\n    <tr>\n      <th>15</th>\n      <td>ibc/913F49D47DDB9DD8FD4E846E6522822AF9F99C5FFB...</td>\n      <td>42</td>\n      <td>boot</td>\n      <td>transfer/channel-2/transfer/channel-199/transf...</td>\n      <td>channel-2 channel-199 channel-3 channel-103</td>\n      <td>bostrom</td>\n      <td>0</td>\n      <td>boot</td>\n      <td>QmSVz41kA5aXttxT1rAXnuJecfazij3wh95X8ewd7Kdc2F</td>\n    </tr>\n    <tr>\n      <th>16</th>\n      <td>ibc/9B45B8C514B76D792BEC4850AE601E0E73CE7D307A...</td>\n      <td>243171471645401</td>\n      <td>liquidpussy</td>\n      <td>transfer/channel-11</td>\n      <td>channel-11</td>\n      <td>bostrom</td>\n      <td>0</td>\n      <td>liquidpussy</td>\n      <td></td>\n    </tr>\n    <tr>\n      <th>17</th>\n      <td>ibc/B35B29C176E29BD9C348F72FA4DCF2AB68BB380855...</td>\n      <td>10</td>\n      <td>boot</td>\n      <td>transfer/channel-6/transfer/channel-10/transfe...</td>\n      <td>channel-6 channel-10 channel-95</td>\n      <td>bostrom</td>\n      <td>0</td>\n      <td>boot</td>\n      <td>QmSVz41kA5aXttxT1rAXnuJecfazij3wh95X8ewd7Kdc2F</td>\n    </tr>\n    <tr>\n      <th>18</th>\n      <td>ibc/B6CAD3F7469F3FAD18ED2230A6C7B15E654AB2E1B6...</td>\n      <td>53213247023912087668</td>\n      <td>gravity0xC02aaA39b223FE8D0A0e5C4F27eAD9083C756Cc2</td>\n      <td>transfer/channel-12</td>\n      <td>channel-12</td>\n      <td>bostrom</td>\n      <td>18</td>\n      <td>graveth</td>\n      <td></td>\n    </tr>\n    <tr>\n      <th>19</th>\n      <td>ibc/BA313C4A19DFBF943586C0387E6B11286F9E416B4D...</td>\n      <td>226734246</td>\n      <td>uatom</td>\n      <td>transfer/channel-5</td>\n      <td>channel-5</td>\n      <td>bostrom</td>\n      <td>6</td>\n      <td>atom</td>\n      <td>QmTKr13S2qLoz9QiYmBrkfxkotLQohv78X1ZfuAmcs5rH6</td>\n    </tr>\n    <tr>\n      <th>20</th>\n      <td>ibc/C23D820C5B6009E544AFC8AF5A2FEC288108AEDBFA...</td>\n      <td>5916333606</td>\n      <td>ugraviton</td>\n      <td>transfer/channel-12</td>\n      <td>channel-12</td>\n      <td>bostrom</td>\n      <td>18</td>\n      <td>graviton</td>\n      <td>QmTEmFLmSU79tVpXJj1TvepN9Ujjwi77YRRSDewMnFeV8p</td>\n    </tr>\n    <tr>\n      <th>21</th>\n      <td>ibc/CA5E8F31288514D728AFD1F0533A7F6902AA1192C8...</td>\n      <td>40948456033</td>\n      <td>udsm</td>\n      <td>transfer/channel-13</td>\n      <td>channel-13</td>\n      <td>bostrom</td>\n      <td>6</td>\n      <td>dsm</td>\n      <td></td>\n    </tr>\n    <tr>\n      <th>22</th>\n      <td>ibc/CB41EF44BC15C8857B34EA151C8C480706E2A430A6...</td>\n      <td>500000</td>\n      <td>uatom</td>\n      <td>transfer/channel-8/transfer/channel-141/transf...</td>\n      <td>channel-8 channel-141 channel-95 channel-8</td>\n      <td>bostrom</td>\n      <td>6</td>\n      <td>atom</td>\n      <td>QmTKr13S2qLoz9QiYmBrkfxkotLQohv78X1ZfuAmcs5rH6</td>\n    </tr>\n    <tr>\n      <th>23</th>\n      <td>ibc/D8AC1BB5FA604678F4C5BD3A7D3652B00D6DD3D835...</td>\n      <td>20347</td>\n      <td>cw20:juno1u8cr3hcjvfkzxcaacv9q75uw9hwjmn8pucc9...</td>\n      <td>transfer/channel-2/transfer/channel-169</td>\n      <td>channel-2 channel-169</td>\n      <td>bostrom</td>\n      <td>6</td>\n      <td>fox</td>\n      <td></td>\n    </tr>\n    <tr>\n      <th>24</th>\n      <td>ibc/EF48E6B1A1A19F47ECAEA62F5670C37C0580E86A9E...</td>\n      <td>153000</td>\n      <td>uatom</td>\n      <td>transfer/channel-4</td>\n      <td>channel-4</td>\n      <td>bostrom</td>\n      <td>6</td>\n      <td>atom</td>\n      <td>QmTKr13S2qLoz9QiYmBrkfxkotLQohv78X1ZfuAmcs5rH6</td>\n    </tr>\n    <tr>\n      <th>25</th>\n      <td>ibc/FA8CE16D380167E62FFD7D34BC0FEEA40DB5506D79...</td>\n      <td>5000000000000000000</td>\n      <td>aevmos</td>\n      <td>transfer/channel-9/transfer/channel-0/transfer...</td>\n      <td>channel-9 channel-0 channel-95 channel-9</td>\n      <td>bostrom</td>\n      <td>6</td>\n      <td>evmos</td>\n      <td>QmSAuJKD9dxbFdiVGqgBt21kRZw2gGxS2UahgnQBEYwFNf</td>\n    </tr>\n    <tr>\n      <th>26</th>\n      <td>milliampere</td>\n      <td>7185195409</td>\n      <td>milliampere</td>\n      <td>None</td>\n      <td></td>\n      <td>bostrom</td>\n      <td>3</td>\n      <td>ampere</td>\n      <td></td>\n    </tr>\n    <tr>\n      <th>27</th>\n      <td>millivolt</td>\n      <td>697524042</td>\n      <td>millivolt</td>\n      <td>None</td>\n      <td></td>\n      <td>bostrom</td>\n      <td>3</td>\n      <td>volt</td>\n      <td></td>\n    </tr>\n    <tr>\n      <th>28</th>\n      <td>pool0B7D80CEB5EF865B56CD189BC23203F99EC4009A15...</td>\n      <td>959914559553</td>\n      <td>pool0B7D80CEB5EF865B56CD189BC23203F99EC4009A15...</td>\n      <td>None</td>\n      <td></td>\n      <td>bostrom</td>\n      <td>0</td>\n      <td>pool</td>\n      <td></td>\n    </tr>\n    <tr>\n      <th>29</th>\n      <td>pool1A492174015ABA47066C8569AFF7582C551980840A...</td>\n      <td>599647195967</td>\n      <td>pool1A492174015ABA47066C8569AFF7582C551980840A...</td>\n      <td>None</td>\n      <td></td>\n      <td>bostrom</td>\n      <td>0</td>\n      <td>pool</td>\n      <td></td>\n    </tr>\n    <tr>\n      <th>30</th>\n      <td>pool27BBCA67F42ED27DFFB6A450966C7EA206ADAA42BA...</td>\n      <td>2021788134142</td>\n      <td>pool27BBCA67F42ED27DFFB6A450966C7EA206ADAA42BA...</td>\n      <td>None</td>\n      <td></td>\n      <td>bostrom</td>\n      <td>0</td>\n      <td>pool</td>\n      <td></td>\n    </tr>\n    <tr>\n      <th>31</th>\n      <td>pool3215BC1A427DA452FCC3AE9641AC5D17D736B3943A...</td>\n      <td>4812512114386</td>\n      <td>pool3215BC1A427DA452FCC3AE9641AC5D17D736B3943A...</td>\n      <td>None</td>\n      <td></td>\n      <td>bostrom</td>\n      <td>0</td>\n      <td>pool</td>\n      <td></td>\n    </tr>\n    <tr>\n      <th>32</th>\n      <td>pool4FD3991B994C4602882E8AEACDA9375F4BBE5116E0...</td>\n      <td>6798785840073</td>\n      <td>pool4FD3991B994C4602882E8AEACDA9375F4BBE5116E0...</td>\n      <td>None</td>\n      <td></td>\n      <td>bostrom</td>\n      <td>0</td>\n      <td>pool</td>\n      <td></td>\n    </tr>\n    <tr>\n      <th>33</th>\n      <td>pool5D5734E54F485FBAF21DF886EC396F2CBC72203BF0...</td>\n      <td>520964534751904</td>\n      <td>pool5D5734E54F485FBAF21DF886EC396F2CBC72203BF0...</td>\n      <td>None</td>\n      <td></td>\n      <td>bostrom</td>\n      <td>0</td>\n      <td>pool</td>\n      <td></td>\n    </tr>\n    <tr>\n      <th>34</th>\n      <td>pool5D83035BE0E7AB904379161D3C52FB4C1C392265AC...</td>\n      <td>2212172005754</td>\n      <td>pool5D83035BE0E7AB904379161D3C52FB4C1C392265AC...</td>\n      <td>None</td>\n      <td></td>\n      <td>bostrom</td>\n      <td>0</td>\n      <td>pool</td>\n      <td></td>\n    </tr>\n    <tr>\n      <th>35</th>\n      <td>pool70D7610CBA8E94B27BAD7806EBD826F5626C486BBF...</td>\n      <td>713026087057962</td>\n      <td>pool70D7610CBA8E94B27BAD7806EBD826F5626C486BBF...</td>\n      <td>None</td>\n      <td></td>\n      <td>bostrom</td>\n      <td>0</td>\n      <td>pool</td>\n      <td></td>\n    </tr>\n    <tr>\n      <th>36</th>\n      <td>pool72F72D8646E5FF5AA9C8C6CB4F85EE13C63CD6A15A...</td>\n      <td>33427430427</td>\n      <td>pool72F72D8646E5FF5AA9C8C6CB4F85EE13C63CD6A15A...</td>\n      <td>None</td>\n      <td></td>\n      <td>bostrom</td>\n      <td>0</td>\n      <td>pool</td>\n      <td></td>\n    </tr>\n    <tr>\n      <th>37</th>\n      <td>pool745F45704DFB96E3BAD8223EB91540E08DA279049B...</td>\n      <td>2203883495119</td>\n      <td>pool745F45704DFB96E3BAD8223EB91540E08DA279049B...</td>\n      <td>None</td>\n      <td></td>\n      <td>bostrom</td>\n      <td>0</td>\n      <td>pool</td>\n      <td></td>\n    </tr>\n    <tr>\n      <th>38</th>\n      <td>pool79B9E8E233B61B84EA5AE564AB080FC492B4C953A9...</td>\n      <td>424943896110836</td>\n      <td>pool79B9E8E233B61B84EA5AE564AB080FC492B4C953A9...</td>\n      <td>None</td>\n      <td></td>\n      <td>bostrom</td>\n      <td>0</td>\n      <td>pool</td>\n      <td></td>\n    </tr>\n    <tr>\n      <th>39</th>\n      <td>pool906F3CC4C0F4634031990DB81761BD390890F8A8A8...</td>\n      <td>60287837988303</td>\n      <td>pool906F3CC4C0F4634031990DB81761BD390890F8A8A8...</td>\n      <td>None</td>\n      <td></td>\n      <td>bostrom</td>\n      <td>0</td>\n      <td>pool</td>\n      <td></td>\n    </tr>\n    <tr>\n      <th>40</th>\n      <td>pool98692450C039BDD30563475A7699A7805075F592A3...</td>\n      <td>137968748660266</td>\n      <td>pool98692450C039BDD30563475A7699A7805075F592A3...</td>\n      <td>None</td>\n      <td></td>\n      <td>bostrom</td>\n      <td>0</td>\n      <td>pool</td>\n      <td></td>\n    </tr>\n    <tr>\n      <th>41</th>\n      <td>poolB02CE42B202A71419D2F9EB4996B36C52F1B5B60DA...</td>\n      <td>77262241543770</td>\n      <td>poolB02CE42B202A71419D2F9EB4996B36C52F1B5B60DA...</td>\n      <td>None</td>\n      <td></td>\n      <td>bostrom</td>\n      <td>0</td>\n      <td>pool</td>\n      <td></td>\n    </tr>\n    <tr>\n      <th>42</th>\n      <td>poolB0B2848FDE249D431B50CA59E42C37F41C5A2E11D0...</td>\n      <td>950000360873</td>\n      <td>poolB0B2848FDE249D431B50CA59E42C37F41C5A2E11D0...</td>\n      <td>None</td>\n      <td></td>\n      <td>bostrom</td>\n      <td>0</td>\n      <td>pool</td>\n      <td></td>\n    </tr>\n    <tr>\n      <th>43</th>\n      <td>poolBE0F1D1C7FE3E72D18DF1996AB8E76676852A34313...</td>\n      <td>58516257120</td>\n      <td>poolBE0F1D1C7FE3E72D18DF1996AB8E76676852A34313...</td>\n      <td>None</td>\n      <td></td>\n      <td>bostrom</td>\n      <td>0</td>\n      <td>pool</td>\n      <td></td>\n    </tr>\n    <tr>\n      <th>44</th>\n      <td>poolD0B5122C1EAB5BE4276EE232D9C493EC9472F9C265...</td>\n      <td>2000000000000</td>\n      <td>poolD0B5122C1EAB5BE4276EE232D9C493EC9472F9C265...</td>\n      <td>None</td>\n      <td></td>\n      <td>bostrom</td>\n      <td>0</td>\n      <td>pool</td>\n      <td></td>\n    </tr>\n    <tr>\n      <th>45</th>\n      <td>poolD8DCE9545B510DE6086A45A8B697250B536B97AF2F...</td>\n      <td>1195198604934</td>\n      <td>poolD8DCE9545B510DE6086A45A8B697250B536B97AF2F...</td>\n      <td>None</td>\n      <td></td>\n      <td>bostrom</td>\n      <td>0</td>\n      <td>pool</td>\n      <td></td>\n    </tr>\n    <tr>\n      <th>46</th>\n      <td>poolE21C556E3469226354EC7AC6BE8452906F678D25F9...</td>\n      <td>1000000000000</td>\n      <td>poolE21C556E3469226354EC7AC6BE8452906F678D25F9...</td>\n      <td>None</td>\n      <td></td>\n      <td>bostrom</td>\n      <td>0</td>\n      <td>pool</td>\n      <td></td>\n    </tr>\n    <tr>\n      <th>47</th>\n      <td>poolE32688109702769B49F6471789C4EDE96096D9BFBE...</td>\n      <td>1000000581561</td>\n      <td>poolE32688109702769B49F6471789C4EDE96096D9BFBE...</td>\n      <td>None</td>\n      <td></td>\n      <td>bostrom</td>\n      <td>0</td>\n      <td>pool</td>\n      <td></td>\n    </tr>\n    <tr>\n      <th>48</th>\n      <td>poolE479A51F998E2979F89DA9AB897ED45A9AFE4E7DE3...</td>\n      <td>38422704918520</td>\n      <td>poolE479A51F998E2979F89DA9AB897ED45A9AFE4E7DE3...</td>\n      <td>None</td>\n      <td></td>\n      <td>bostrom</td>\n      <td>0</td>\n      <td>pool</td>\n      <td></td>\n    </tr>\n    <tr>\n      <th>49</th>\n      <td>poolE734706B12D1672FAC713CA6578F5303AC359E4CE0...</td>\n      <td>1000000000000</td>\n      <td>poolE734706B12D1672FAC713CA6578F5303AC359E4CE0...</td>\n      <td>None</td>\n      <td></td>\n      <td>bostrom</td>\n      <td>0</td>\n      <td>pool</td>\n      <td></td>\n    </tr>\n    <tr>\n      <th>50</th>\n      <td>poolF064538FBA4C66F225BA5C98E608BBB1FAFE16636D...</td>\n      <td>2183121857195</td>\n      <td>poolF064538FBA4C66F225BA5C98E608BBB1FAFE16636D...</td>\n      <td>None</td>\n      <td></td>\n      <td>bostrom</td>\n      <td>0</td>\n      <td>pool</td>\n      <td></td>\n    </tr>\n    <tr>\n      <th>51</th>\n      <td>tocyb</td>\n      <td>1000000000000000</td>\n      <td>tocyb</td>\n      <td>None</td>\n      <td></td>\n      <td>bostrom</td>\n      <td>0</td>\n      <td>tocyb</td>\n      <td></td>\n    </tr>\n  </tbody>\n</table>\n</div>"
     },
     "execution_count": 31,
     "metadata": {},
     "output_type": "execute_result"
    }
   ],
   "source": [
    "coins_df"
   ],
   "metadata": {
    "collapsed": false,
    "ExecuteTime": {
     "start_time": "2023-05-18T13:14:47.856981Z",
     "end_time": "2023-05-18T13:14:47.857465Z"
    }
   }
  },
  {
   "cell_type": "code",
   "execution_count": 41,
   "outputs": [
    {
     "data": {
      "text/plain": "    chain_id                channel decimals  \\\n0    bostrom                               0   \n1    bostrom                               0   \n2    bostrom              channel-2        6   \n3    bostrom              channel-8        6   \n4    bostrom  channel-12 channel-62        6   \n..       ...                    ...      ...   \n153  bostrom                               0   \n154  bostrom                               0   \n155  bostrom                              10   \n156  bostrom                               6   \n157  bostrom                               6   \n\n                                                  logo    ticker  \\\n0       QmSVz41kA5aXttxT1rAXnuJecfazij3wh95X8ewd7Kdc2F      boot   \n1                                                       hydrogen   \n2       QmREkHXDNxxKNa7RSWsztkT6iy8ghZuBpbjSAgGaQ3uGVr      osmo   \n3       QmTKr13S2qLoz9QiYmBrkfxkotLQohv78X1ZfuAmcs5rH6      atom   \n4                                                            cre   \n..                                                 ...       ...   \n153                  {'url': 'https://ibb.co/xHjk38X'}       TTT   \n154  {'url': 'https://drive.google.com/file/d/15edr...       ABC   \n155                                                         AAAC   \n156  {'url': 'https://ipfs.io/ipfs/QmcGtVuAzMs42McW...      WGUT   \n157                                                         COOL   \n\n                                              contract  \n0                                                 boot  \n1                                             hydrogen  \n2    ibc/13B2C536BB057AC79D5616B8EA1B9540EC1F217071...  \n3    ibc/15E9C5CF5969080539DB395FA7D9C0868265217EFC...  \n4    ibc/1DE3244B072A8939517C17C7B679F3B735B2D9AA6B...  \n..                                                 ...  \n153  bostrom1s5g4rehkansq4pamj42usczezqkchjke4j2kk7...  \n154  bostrom1seeld9pqq0nxp3yt3wded4jf476y8vz77qmjj5...  \n155  bostrom10stecvwvxzkh3ah7y6j0kcwe3chmrg37zevjgj...  \n156  bostrom1w4dff5myjyzymk8tkpjrzj6gnv352hcdpt2dsz...  \n157  bostrom1nwm9pjmfgmxgc4euyfps05p9pfde8vd4sm8pav...  \n\n[158 rows x 6 columns]",
      "text/html": "<div>\n<style scoped>\n    .dataframe tbody tr th:only-of-type {\n        vertical-align: middle;\n    }\n\n    .dataframe tbody tr th {\n        vertical-align: top;\n    }\n\n    .dataframe thead th {\n        text-align: right;\n    }\n</style>\n<table border=\"1\" class=\"dataframe\">\n  <thead>\n    <tr style=\"text-align: right;\">\n      <th></th>\n      <th>chain_id</th>\n      <th>channel</th>\n      <th>decimals</th>\n      <th>logo</th>\n      <th>ticker</th>\n      <th>contract</th>\n    </tr>\n  </thead>\n  <tbody>\n    <tr>\n      <th>0</th>\n      <td>bostrom</td>\n      <td></td>\n      <td>0</td>\n      <td>QmSVz41kA5aXttxT1rAXnuJecfazij3wh95X8ewd7Kdc2F</td>\n      <td>boot</td>\n      <td>boot</td>\n    </tr>\n    <tr>\n      <th>1</th>\n      <td>bostrom</td>\n      <td></td>\n      <td>0</td>\n      <td></td>\n      <td>hydrogen</td>\n      <td>hydrogen</td>\n    </tr>\n    <tr>\n      <th>2</th>\n      <td>bostrom</td>\n      <td>channel-2</td>\n      <td>6</td>\n      <td>QmREkHXDNxxKNa7RSWsztkT6iy8ghZuBpbjSAgGaQ3uGVr</td>\n      <td>osmo</td>\n      <td>ibc/13B2C536BB057AC79D5616B8EA1B9540EC1F217071...</td>\n    </tr>\n    <tr>\n      <th>3</th>\n      <td>bostrom</td>\n      <td>channel-8</td>\n      <td>6</td>\n      <td>QmTKr13S2qLoz9QiYmBrkfxkotLQohv78X1ZfuAmcs5rH6</td>\n      <td>atom</td>\n      <td>ibc/15E9C5CF5969080539DB395FA7D9C0868265217EFC...</td>\n    </tr>\n    <tr>\n      <th>4</th>\n      <td>bostrom</td>\n      <td>channel-12 channel-62</td>\n      <td>6</td>\n      <td></td>\n      <td>cre</td>\n      <td>ibc/1DE3244B072A8939517C17C7B679F3B735B2D9AA6B...</td>\n    </tr>\n    <tr>\n      <th>...</th>\n      <td>...</td>\n      <td>...</td>\n      <td>...</td>\n      <td>...</td>\n      <td>...</td>\n      <td>...</td>\n    </tr>\n    <tr>\n      <th>153</th>\n      <td>bostrom</td>\n      <td></td>\n      <td>0</td>\n      <td>{'url': 'https://ibb.co/xHjk38X'}</td>\n      <td>TTT</td>\n      <td>bostrom1s5g4rehkansq4pamj42usczezqkchjke4j2kk7...</td>\n    </tr>\n    <tr>\n      <th>154</th>\n      <td>bostrom</td>\n      <td></td>\n      <td>0</td>\n      <td>{'url': 'https://drive.google.com/file/d/15edr...</td>\n      <td>ABC</td>\n      <td>bostrom1seeld9pqq0nxp3yt3wded4jf476y8vz77qmjj5...</td>\n    </tr>\n    <tr>\n      <th>155</th>\n      <td>bostrom</td>\n      <td></td>\n      <td>10</td>\n      <td></td>\n      <td>AAAC</td>\n      <td>bostrom10stecvwvxzkh3ah7y6j0kcwe3chmrg37zevjgj...</td>\n    </tr>\n    <tr>\n      <th>156</th>\n      <td>bostrom</td>\n      <td></td>\n      <td>6</td>\n      <td>{'url': 'https://ipfs.io/ipfs/QmcGtVuAzMs42McW...</td>\n      <td>WGUT</td>\n      <td>bostrom1w4dff5myjyzymk8tkpjrzj6gnv352hcdpt2dsz...</td>\n    </tr>\n    <tr>\n      <th>157</th>\n      <td>bostrom</td>\n      <td></td>\n      <td>6</td>\n      <td></td>\n      <td>COOL</td>\n      <td>bostrom1nwm9pjmfgmxgc4euyfps05p9pfde8vd4sm8pav...</td>\n    </tr>\n  </tbody>\n</table>\n<p>158 rows × 6 columns</p>\n</div>"
     },
     "execution_count": 41,
     "metadata": {},
     "output_type": "execute_result"
    }
   ],
   "source": [
    "tokens_df = pd.concat([\n",
    "    coins_df[['chain_id', 'channel', 'decimals', 'logo', 'ticker', 'contract']],\n",
    "    cw20_tokens_df[['chain_id', 'channel', 'decimals', 'logo', 'ticker', 'contract']]\n",
    "])\n",
    "tokens_df = tokens_df.reset_index().drop(columns='index')\n",
    "tokens_df"
   ],
   "metadata": {
    "collapsed": false,
    "ExecuteTime": {
     "start_time": "2023-05-18T13:22:13.467601Z",
     "end_time": "2023-05-18T13:22:13.471313Z"
    }
   }
  },
  {
   "cell_type": "code",
   "execution_count": 46,
   "outputs": [],
   "source": [
    "tokens_json = tokens_df.to_json(orient='records')\n",
    "with open('data/tokens.json', 'w') as file:\n",
    "    file.write(tokens_json)"
   ],
   "metadata": {
    "collapsed": false,
    "ExecuteTime": {
     "start_time": "2023-05-18T13:25:07.483268Z",
     "end_time": "2023-05-18T13:25:07.508037Z"
    }
   }
  },
  {
   "cell_type": "code",
   "execution_count": null,
   "outputs": [],
   "source": [],
   "metadata": {
    "collapsed": false
   }
  }
 ],
 "metadata": {
  "kernelspec": {
   "display_name": "Python 3",
   "language": "python",
   "name": "python3"
  },
  "language_info": {
   "codemirror_mode": {
    "name": "ipython",
    "version": 2
   },
   "file_extension": ".py",
   "mimetype": "text/x-python",
   "name": "python",
   "nbconvert_exporter": "python",
   "pygments_lexer": "ipython2",
   "version": "2.7.6"
  }
 },
 "nbformat": 4,
 "nbformat_minor": 0
}
