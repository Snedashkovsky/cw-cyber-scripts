{
 "cells": [
  {
   "cell_type": "markdown",
   "source": [
    "## Generate of data uploaded into Hub contracts"
   ],
   "metadata": {
    "collapsed": false
   }
  },
  {
   "cell_type": "code",
   "execution_count": 1,
   "outputs": [],
   "source": [
    "import json\n",
    "import ipfshttpclient\n",
    "import pandas as pd\n",
    "from multiaddr import Multiaddr\n",
    "from warnings import filterwarnings\n",
    "\n",
    "from cyberutils.bash import get_json_from_bash_query\n",
    "\n",
    "from config import IPFS_HOST, NODE_RPC_URL\n",
    "\n",
    "filterwarnings('ignore')"
   ],
   "metadata": {
    "collapsed": false,
    "ExecuteTime": {
     "start_time": "2023-05-16T13:11:04.075979Z",
     "end_time": "2023-05-16T13:11:04.649727Z"
    }
   }
  },
  {
   "cell_type": "code",
   "execution_count": 2,
   "outputs": [],
   "source": [
    "ipfs_client = ipfshttpclient.connect(addr=Multiaddr(IPFS_HOST))\n",
    "\n",
    "def add_file_to_ipfs(file_path: str) -> str:\n",
    "    with open(file_path, 'rb') as _file:\n",
    "        return ipfs_client.add_bytes(_file.read())"
   ],
   "metadata": {
    "collapsed": false,
    "ExecuteTime": {
     "start_time": "2023-05-16T13:11:04.651478Z",
     "end_time": "2023-05-16T13:11:04.679788Z"
    }
   }
  },
  {
   "cell_type": "markdown",
   "source": [
    "### Data fields\n",
    "- protocols: 'data_type', 'particle'\n",
    "- networks: 'chain_id', 'genesis_hash', 'logo', 'name', 'prefix', 'protocol', 'unbonding_period', 'particle'\n",
    "- channels: 'active', 'destination_chain_id', 'destination_channel_id', 'explorer_url', 'source_chain_id', 'source_channel_id', 'particle'\n",
    "- tokens: 'chain_id', 'channel', 'contract', 'decimals', 'logo', 'ticker', 'particle'\n",
    "- skills: 'endpoint', 'network', 'neuron', 'protocol', 'particle'\n",
    "- contracts: 'address', 'chain_id', 'execute_cid', 'query_cid', 'version', 'particle'\n",
    "\n",
    "`particle` field is optional\n",
    "\n",
    "### Protocols"
   ],
   "metadata": {
    "collapsed": false
   }
  },
  {
   "cell_type": "code",
   "execution_count": 3,
   "outputs": [],
   "source": [
    "protocols = [\n",
    "    'ipfs-gateway',\n",
    "    'cyber-rpc',\n",
    "    'cyber-ws',\n",
    "    'cosmos-rpc',\n",
    "    'cosmos-ws',\n",
    "    'osmosis-rpc',\n",
    "    'osmosis-ws',\n",
    "    'juno-rpc',\n",
    "    'juno-ws',\n",
    "    'gravity-rpc',\n",
    "    'gravity-ws',\n",
    "    'axelar-rpc',\n",
    "    'axelar-ws',\n",
    "    'evmos-rpc',\n",
    "    'evmos-ws',\n",
    "]\n",
    "protocols_json = [{'data_type': protocol} for protocol in protocols]\n",
    "with open('data/protocols.json', 'w') as file:\n",
    "    file.write(json.dumps(protocols_json))"
   ],
   "metadata": {
    "collapsed": false,
    "ExecuteTime": {
     "start_time": "2023-05-16T13:11:04.677721Z",
     "end_time": "2023-05-16T13:11:04.680570Z"
    }
   }
  },
  {
   "cell_type": "code",
   "execution_count": 4,
   "outputs": [
    {
     "data": {
      "text/plain": "       data_type\n0   ipfs-gateway\n1      cyber-rpc\n2       cyber-ws\n3     cosmos-rpc\n4      cosmos-ws\n5    osmosis-rpc\n6     osmosis-ws\n7       juno-rpc\n8        juno-ws\n9    gravity-rpc\n10    gravity-ws\n11    axelar-rpc\n12     axelar-ws\n13     evmos-rpc\n14      evmos-ws",
      "text/html": "<div>\n<style scoped>\n    .dataframe tbody tr th:only-of-type {\n        vertical-align: middle;\n    }\n\n    .dataframe tbody tr th {\n        vertical-align: top;\n    }\n\n    .dataframe thead th {\n        text-align: right;\n    }\n</style>\n<table border=\"1\" class=\"dataframe\">\n  <thead>\n    <tr style=\"text-align: right;\">\n      <th></th>\n      <th>data_type</th>\n    </tr>\n  </thead>\n  <tbody>\n    <tr>\n      <th>0</th>\n      <td>ipfs-gateway</td>\n    </tr>\n    <tr>\n      <th>1</th>\n      <td>cyber-rpc</td>\n    </tr>\n    <tr>\n      <th>2</th>\n      <td>cyber-ws</td>\n    </tr>\n    <tr>\n      <th>3</th>\n      <td>cosmos-rpc</td>\n    </tr>\n    <tr>\n      <th>4</th>\n      <td>cosmos-ws</td>\n    </tr>\n    <tr>\n      <th>5</th>\n      <td>osmosis-rpc</td>\n    </tr>\n    <tr>\n      <th>6</th>\n      <td>osmosis-ws</td>\n    </tr>\n    <tr>\n      <th>7</th>\n      <td>juno-rpc</td>\n    </tr>\n    <tr>\n      <th>8</th>\n      <td>juno-ws</td>\n    </tr>\n    <tr>\n      <th>9</th>\n      <td>gravity-rpc</td>\n    </tr>\n    <tr>\n      <th>10</th>\n      <td>gravity-ws</td>\n    </tr>\n    <tr>\n      <th>11</th>\n      <td>axelar-rpc</td>\n    </tr>\n    <tr>\n      <th>12</th>\n      <td>axelar-ws</td>\n    </tr>\n    <tr>\n      <th>13</th>\n      <td>evmos-rpc</td>\n    </tr>\n    <tr>\n      <th>14</th>\n      <td>evmos-ws</td>\n    </tr>\n  </tbody>\n</table>\n</div>"
     },
     "execution_count": 4,
     "metadata": {},
     "output_type": "execute_result"
    }
   ],
   "source": [
    "protocols_df = pd.DataFrame(protocols_json)\n",
    "protocols_df"
   ],
   "metadata": {
    "collapsed": false,
    "ExecuteTime": {
     "start_time": "2023-05-16T13:11:04.684367Z",
     "end_time": "2023-05-16T13:11:04.689420Z"
    }
   }
  },
  {
   "cell_type": "markdown",
   "source": [
    "### Networks"
   ],
   "metadata": {
    "collapsed": false
   }
  },
  {
   "cell_type": "code",
   "execution_count": 5,
   "outputs": [],
   "source": [
    "networks_json = [\n",
    "    {\n",
    "        'chain_id': 'bostrom',\n",
    "        'genesis_hash': 'QmYubyVNfghD4xCrTFj26zBwrF9s5GJhi1TmxvrwmJCipr',\n",
    "        'logo': add_file_to_ipfs('img/logo/bostrom.png'),\n",
    "        'name': 'bostrom',\n",
    "        'prefix': 'bostrom',\n",
    "        'protocol': 'cyber-rpc',\n",
    "        'unbonding_period': '691200'\n",
    "    },\n",
    "    {\n",
    "        'chain_id': 'space-pussy',\n",
    "        'genesis_hash': add_file_to_ipfs('data/genesis_spacepussy.json'),\n",
    "        'logo': add_file_to_ipfs('img/logo/space-pussy.png'),\n",
    "        'name': 'space-pussy',\n",
    "        'prefix': 'pussy',\n",
    "        'protocol': 'cyber-rpc',\n",
    "        'unbonding_period': '2419200'\n",
    "    },\n",
    "    {\n",
    "        'chain_id': 'cosmoshub-4',\n",
    "        'genesis_hash': add_file_to_ipfs('data/genesis_cosmos.json'),\n",
    "        'logo': add_file_to_ipfs('img/logo/cosmos.png'),\n",
    "        'name': 'cosmos',\n",
    "        'prefix': 'cosmos',\n",
    "        'protocol': 'cosmos-rpc',\n",
    "        'unbonding_period': str(21 * 24 * 3_600)\n",
    "    },\n",
    "    {\n",
    "        'chain_id': 'osmosis-1',\n",
    "        'genesis_hash': add_file_to_ipfs('data/genesis_osmosis.json'),\n",
    "        'logo': add_file_to_ipfs('img/logo/osmosis.png'),\n",
    "        'name': 'osmosis',\n",
    "        'prefix': 'osmo',\n",
    "        'protocol': 'osmosis-rpc',\n",
    "        'unbonding_period': '1209600'\n",
    "    },\n",
    "    {\n",
    "        'chain_id': 'juno-1',\n",
    "        'genesis_hash': add_file_to_ipfs('data/genesis_juno.json'),\n",
    "        'logo': add_file_to_ipfs('img/logo/juno.png'),\n",
    "        'name': 'juno',\n",
    "        'prefix': 'juno',\n",
    "        'protocol': 'juno-rpc',\n",
    "        'unbonding_period': str(28 * 24 * 3_600)\n",
    "    },\n",
    "    {\n",
    "        'chain_id': 'gravity-bridge-3',\n",
    "        'genesis_hash': add_file_to_ipfs('data/genesis_gravitybridge.json'),\n",
    "        'logo': add_file_to_ipfs('img/logo/gravitybridge.png'),\n",
    "        'name': 'gravity bridge',\n",
    "        'prefix': 'gravity',\n",
    "        'protocol': 'gravity-rpc',\n",
    "        'unbonding_period': str(21 * 24 * 3_600)\n",
    "    },\n",
    "    {\n",
    "        'chain_id': 'axelar-dojo-1',\n",
    "        'genesis_hash': add_file_to_ipfs('data/genesis_axelar.json'),\n",
    "        'logo': add_file_to_ipfs('img/logo/axelar.png'),\n",
    "        'name': 'axelar',\n",
    "        'prefix': 'axelar',\n",
    "        'protocol': 'axelar-rpc',\n",
    "        'unbonding_period': str(7 * 24 * 3_600)\n",
    "    },\n",
    "    {\n",
    "        'chain_id': 'evmos_9001-2',\n",
    "        'genesis_hash': add_file_to_ipfs('data/genesis_evmos.json'),\n",
    "        'logo': add_file_to_ipfs('img/logo/evmos.png'),\n",
    "        'name': 'evmos',\n",
    "        'prefix': 'evmos',\n",
    "        'protocol': 'evmos-rpc',\n",
    "        'unbonding_period': str(14 * 24 * 3_600)\n",
    "    },\n",
    "]\n",
    "with open('data/networks.json', 'w') as file:\n",
    "    file.write(json.dumps(networks_json))"
   ],
   "metadata": {
    "collapsed": false,
    "ExecuteTime": {
     "start_time": "2023-05-16T13:11:04.694233Z",
     "end_time": "2023-05-16T13:12:04.510798Z"
    }
   }
  },
  {
   "cell_type": "code",
   "execution_count": 6,
   "outputs": [
    {
     "data": {
      "text/plain": "           chain_id                                    genesis_hash  \\\n0           bostrom  QmYubyVNfghD4xCrTFj26zBwrF9s5GJhi1TmxvrwmJCipr   \n1       space-pussy  QmTR1k469ZNJdmhT2WY67A6fccpj1pRkHTmnZZtYpPDnH7   \n2       cosmoshub-4  Qmc54DreioPpPDUdJW6bBTYUKepmcPsscfqsfFcFmTaVig   \n3         osmosis-1  QmXRvBT3hgoXwwPqbK6a2sXUuArGM8wPyo1ybskyyUwUxs   \n4            juno-1  QmPJ2Q4D6GDbbU68ga5jQJ9AXpv7WcM63QEVRup6LMjzsb   \n5  gravity-bridge-3  Qmed9LHnN2ovM4BdiJ2RPecB99PVK9yfFEV5FpwdDNiVsJ   \n6     axelar-dojo-1  QmZLQoafcmhLkYgZb7HMB15Fg6RfKs8Yro44tkrxwNBcTu   \n7      evmos_9001-2  QmYmcmveFYMdA1NRAvAa3hKM8HQRdiwfmYtf3GgyJGTMEa   \n\n                                             logo            name   prefix  \\\n0  QmSVz41kA5aXttxT1rAXnuJecfazij3wh95X8ewd7Kdc2F         bostrom  bostrom   \n1  QmSdVMzpY9nuHZXZpvZdFbhhMf3nBGAe4JZ7e2Xdh6LMLr     space-pussy    pussy   \n2  QmTKr13S2qLoz9QiYmBrkfxkotLQohv78X1ZfuAmcs5rH6          cosmos   cosmos   \n3  QmREkHXDNxxKNa7RSWsztkT6iy8ghZuBpbjSAgGaQ3uGVr         osmosis     osmo   \n4  QmYKE9KZW7JPtGkvjwSusrzAzRt8UYUQ27SJmyGomu3RWu            juno     juno   \n5  QmTEmFLmSU79tVpXJj1TvepN9Ujjwi77YRRSDewMnFeV8p  gravity bridge  gravity   \n6  QmW389aWTLgDS3q6DjWuP3VBGzfi3s1seAj7GqpkCpSdV4          axelar   axelar   \n7  QmSAuJKD9dxbFdiVGqgBt21kRZw2gGxS2UahgnQBEYwFNf           evmos    evmos   \n\n      protocol unbonding_period  \n0    cyber-rpc           691200  \n1    cyber-rpc          2419200  \n2   cosmos-rpc          1814400  \n3  osmosis-rpc          1209600  \n4     juno-rpc          2419200  \n5  gravity-rpc          1814400  \n6   axelar-rpc           604800  \n7    evmos-rpc          1209600  ",
      "text/html": "<div>\n<style scoped>\n    .dataframe tbody tr th:only-of-type {\n        vertical-align: middle;\n    }\n\n    .dataframe tbody tr th {\n        vertical-align: top;\n    }\n\n    .dataframe thead th {\n        text-align: right;\n    }\n</style>\n<table border=\"1\" class=\"dataframe\">\n  <thead>\n    <tr style=\"text-align: right;\">\n      <th></th>\n      <th>chain_id</th>\n      <th>genesis_hash</th>\n      <th>logo</th>\n      <th>name</th>\n      <th>prefix</th>\n      <th>protocol</th>\n      <th>unbonding_period</th>\n    </tr>\n  </thead>\n  <tbody>\n    <tr>\n      <th>0</th>\n      <td>bostrom</td>\n      <td>QmYubyVNfghD4xCrTFj26zBwrF9s5GJhi1TmxvrwmJCipr</td>\n      <td>QmSVz41kA5aXttxT1rAXnuJecfazij3wh95X8ewd7Kdc2F</td>\n      <td>bostrom</td>\n      <td>bostrom</td>\n      <td>cyber-rpc</td>\n      <td>691200</td>\n    </tr>\n    <tr>\n      <th>1</th>\n      <td>space-pussy</td>\n      <td>QmTR1k469ZNJdmhT2WY67A6fccpj1pRkHTmnZZtYpPDnH7</td>\n      <td>QmSdVMzpY9nuHZXZpvZdFbhhMf3nBGAe4JZ7e2Xdh6LMLr</td>\n      <td>space-pussy</td>\n      <td>pussy</td>\n      <td>cyber-rpc</td>\n      <td>2419200</td>\n    </tr>\n    <tr>\n      <th>2</th>\n      <td>cosmoshub-4</td>\n      <td>Qmc54DreioPpPDUdJW6bBTYUKepmcPsscfqsfFcFmTaVig</td>\n      <td>QmTKr13S2qLoz9QiYmBrkfxkotLQohv78X1ZfuAmcs5rH6</td>\n      <td>cosmos</td>\n      <td>cosmos</td>\n      <td>cosmos-rpc</td>\n      <td>1814400</td>\n    </tr>\n    <tr>\n      <th>3</th>\n      <td>osmosis-1</td>\n      <td>QmXRvBT3hgoXwwPqbK6a2sXUuArGM8wPyo1ybskyyUwUxs</td>\n      <td>QmREkHXDNxxKNa7RSWsztkT6iy8ghZuBpbjSAgGaQ3uGVr</td>\n      <td>osmosis</td>\n      <td>osmo</td>\n      <td>osmosis-rpc</td>\n      <td>1209600</td>\n    </tr>\n    <tr>\n      <th>4</th>\n      <td>juno-1</td>\n      <td>QmPJ2Q4D6GDbbU68ga5jQJ9AXpv7WcM63QEVRup6LMjzsb</td>\n      <td>QmYKE9KZW7JPtGkvjwSusrzAzRt8UYUQ27SJmyGomu3RWu</td>\n      <td>juno</td>\n      <td>juno</td>\n      <td>juno-rpc</td>\n      <td>2419200</td>\n    </tr>\n    <tr>\n      <th>5</th>\n      <td>gravity-bridge-3</td>\n      <td>Qmed9LHnN2ovM4BdiJ2RPecB99PVK9yfFEV5FpwdDNiVsJ</td>\n      <td>QmTEmFLmSU79tVpXJj1TvepN9Ujjwi77YRRSDewMnFeV8p</td>\n      <td>gravity bridge</td>\n      <td>gravity</td>\n      <td>gravity-rpc</td>\n      <td>1814400</td>\n    </tr>\n    <tr>\n      <th>6</th>\n      <td>axelar-dojo-1</td>\n      <td>QmZLQoafcmhLkYgZb7HMB15Fg6RfKs8Yro44tkrxwNBcTu</td>\n      <td>QmW389aWTLgDS3q6DjWuP3VBGzfi3s1seAj7GqpkCpSdV4</td>\n      <td>axelar</td>\n      <td>axelar</td>\n      <td>axelar-rpc</td>\n      <td>604800</td>\n    </tr>\n    <tr>\n      <th>7</th>\n      <td>evmos_9001-2</td>\n      <td>QmYmcmveFYMdA1NRAvAa3hKM8HQRdiwfmYtf3GgyJGTMEa</td>\n      <td>QmSAuJKD9dxbFdiVGqgBt21kRZw2gGxS2UahgnQBEYwFNf</td>\n      <td>evmos</td>\n      <td>evmos</td>\n      <td>evmos-rpc</td>\n      <td>1209600</td>\n    </tr>\n  </tbody>\n</table>\n</div>"
     },
     "execution_count": 6,
     "metadata": {},
     "output_type": "execute_result"
    }
   ],
   "source": [
    "networks_df = pd.DataFrame(networks_json)\n",
    "networks_df"
   ],
   "metadata": {
    "collapsed": false,
    "ExecuteTime": {
     "start_time": "2023-05-16T13:12:04.510193Z",
     "end_time": "2023-05-16T13:12:04.511979Z"
    }
   }
  },
  {
   "cell_type": "markdown",
   "source": [
    "### Channels"
   ],
   "metadata": {
    "collapsed": false
   }
  },
  {
   "cell_type": "code",
   "execution_count": 7,
   "outputs": [],
   "source": [
    "BOSTROM_INACTIVE_CHANNELS = [\n",
    "    'channel-0',\n",
    "    'channel-1',\n",
    "    'channel-3',\n",
    "    'channel-4',\n",
    "    'channel-5',\n",
    "    'channel-6',\n",
    "    'channel-12',\n",
    "    'channel-15',\n",
    "    'channel-16',\n",
    "    'channel-17'\n",
    "]\n",
    "EXPLORER_URL = {\n",
    "    'axelar-dojo-1': 'https://www.mintscan.io/axelar',\n",
    "    'bostrom': 'https://cyb.ai/oracle',\n",
    "    'cosmoshub-4': 'https://mintscan.io/cosmos',\n",
    "    'desmos-mainnet': 'https://www.mintscan.io/desmos',\n",
    "    'eightball-1': 'https://explorer.nodestake.top/8ball',\n",
    "    'evmos_9001-2': 'https://www.mintscan.io/evmos',\n",
    "    'gravity-bridge-3': 'https://www.mintscan.io/gravity-bridge',\n",
    "    'juno-1': 'https://mintscan.io/juno',\n",
    "    'osmosis-1': 'https://mintscan.io/osmosis',\n",
    "    'phoenix-1': '',\n",
    "    'space-pussy': 'https://cyb.ai/oracle'\n",
    "}"
   ],
   "metadata": {
    "collapsed": false,
    "ExecuteTime": {
     "start_time": "2023-05-16T13:12:04.510412Z",
     "end_time": "2023-05-16T13:12:04.512103Z"
    }
   }
  },
  {
   "cell_type": "code",
   "execution_count": 8,
   "outputs": [],
   "source": [
    "channels_raw_json = \\\n",
    "    get_json_from_bash_query(bash_command=f'cyber query ibc channel channels -o=json --node={NODE_RPC_URL}')['channels']\n",
    "channels_json = [\n",
    "    {\n",
    "        'active': 'true' if channel_raw['channel_id'] not in BOSTROM_INACTIVE_CHANNELS else 'false',\n",
    "        'destination_chain_id': get_json_from_bash_query(\n",
    "            bash_command=f'cyber query ibc channel client-state transfer {channel_raw[\"channel_id\"]} -o=json --node={NODE_RPC_URL}'\n",
    "        )['client_state']['chain_id'],\n",
    "        'destination_channel_id': channel_raw['counterparty']['channel_id'],\n",
    "        'source_chain_id': 'bostrom',\n",
    "        'source_channel_id': channel_raw['channel_id']\n",
    "    }\n",
    "    for channel_raw in channels_raw_json\n",
    "]\n",
    "channels_json = [dict(channel, **{'explorer_url': EXPLORER_URL[channel['destination_chain_id']]}) for channel in\n",
    "                 channels_json]\n",
    "with open('data/channels.json', 'w') as file:\n",
    "    file.write(json.dumps(channels_json))"
   ],
   "metadata": {
    "collapsed": false,
    "ExecuteTime": {
     "start_time": "2023-05-16T13:12:04.510434Z",
     "end_time": "2023-05-16T13:12:54.221014Z"
    }
   }
  },
  {
   "cell_type": "code",
   "execution_count": 9,
   "outputs": [
    {
     "data": {
      "text/plain": "   active destination_chain_id destination_channel_id source_chain_id  \\\n0   false            osmosis-1             channel-79         bostrom   \n1   false          cosmoshub-4            channel-225         bostrom   \n2    true               juno-1             channel-93         bostrom   \n3    true          space-pussy              channel-0         bostrom   \n4   false     gravity-bridge-3            channel-103         bostrom   \n5    true       desmos-mainnet              channel-6         bostrom   \n6    true        axelar-dojo-1             channel-52         bostrom   \n7   false            phoenix-1            channel-108         bostrom   \n8   false            phoenix-1            channel-121         bostrom   \n9   false          eightball-1             channel-30         bostrom   \n10   true            osmosis-1             channel-95         bostrom   \n11  false            osmosis-1             channel-96         bostrom   \n12  false          cosmoshub-4            channel-237         bostrom   \n13  false          cosmoshub-4            channel-240         bostrom   \n14  false     gravity-bridge-3             channel-33         bostrom   \n15   true     gravity-bridge-3             channel-78         bostrom   \n16   true          cosmoshub-4            channel-341         bostrom   \n17   true         evmos_9001-2             channel-19         bostrom   \n\n   source_channel_id                            explorer_url  \n0          channel-0             https://mintscan.io/osmosis  \n1          channel-1              https://mintscan.io/cosmos  \n2         channel-10                https://mintscan.io/juno  \n3         channel-11                   https://cyb.ai/oracle  \n4         channel-12  https://www.mintscan.io/gravity-bridge  \n5         channel-13          https://www.mintscan.io/desmos  \n6         channel-14          https://www.mintscan.io/axelar  \n7         channel-15                                          \n8         channel-16                                          \n9         channel-17    https://explorer.nodestake.top/8ball  \n10         channel-2             https://mintscan.io/osmosis  \n11         channel-3             https://mintscan.io/osmosis  \n12         channel-4              https://mintscan.io/cosmos  \n13         channel-5              https://mintscan.io/cosmos  \n14         channel-6  https://www.mintscan.io/gravity-bridge  \n15         channel-7  https://www.mintscan.io/gravity-bridge  \n16         channel-8              https://mintscan.io/cosmos  \n17         channel-9           https://www.mintscan.io/evmos  ",
      "text/html": "<div>\n<style scoped>\n    .dataframe tbody tr th:only-of-type {\n        vertical-align: middle;\n    }\n\n    .dataframe tbody tr th {\n        vertical-align: top;\n    }\n\n    .dataframe thead th {\n        text-align: right;\n    }\n</style>\n<table border=\"1\" class=\"dataframe\">\n  <thead>\n    <tr style=\"text-align: right;\">\n      <th></th>\n      <th>active</th>\n      <th>destination_chain_id</th>\n      <th>destination_channel_id</th>\n      <th>source_chain_id</th>\n      <th>source_channel_id</th>\n      <th>explorer_url</th>\n    </tr>\n  </thead>\n  <tbody>\n    <tr>\n      <th>0</th>\n      <td>false</td>\n      <td>osmosis-1</td>\n      <td>channel-79</td>\n      <td>bostrom</td>\n      <td>channel-0</td>\n      <td>https://mintscan.io/osmosis</td>\n    </tr>\n    <tr>\n      <th>1</th>\n      <td>false</td>\n      <td>cosmoshub-4</td>\n      <td>channel-225</td>\n      <td>bostrom</td>\n      <td>channel-1</td>\n      <td>https://mintscan.io/cosmos</td>\n    </tr>\n    <tr>\n      <th>2</th>\n      <td>true</td>\n      <td>juno-1</td>\n      <td>channel-93</td>\n      <td>bostrom</td>\n      <td>channel-10</td>\n      <td>https://mintscan.io/juno</td>\n    </tr>\n    <tr>\n      <th>3</th>\n      <td>true</td>\n      <td>space-pussy</td>\n      <td>channel-0</td>\n      <td>bostrom</td>\n      <td>channel-11</td>\n      <td>https://cyb.ai/oracle</td>\n    </tr>\n    <tr>\n      <th>4</th>\n      <td>false</td>\n      <td>gravity-bridge-3</td>\n      <td>channel-103</td>\n      <td>bostrom</td>\n      <td>channel-12</td>\n      <td>https://www.mintscan.io/gravity-bridge</td>\n    </tr>\n    <tr>\n      <th>5</th>\n      <td>true</td>\n      <td>desmos-mainnet</td>\n      <td>channel-6</td>\n      <td>bostrom</td>\n      <td>channel-13</td>\n      <td>https://www.mintscan.io/desmos</td>\n    </tr>\n    <tr>\n      <th>6</th>\n      <td>true</td>\n      <td>axelar-dojo-1</td>\n      <td>channel-52</td>\n      <td>bostrom</td>\n      <td>channel-14</td>\n      <td>https://www.mintscan.io/axelar</td>\n    </tr>\n    <tr>\n      <th>7</th>\n      <td>false</td>\n      <td>phoenix-1</td>\n      <td>channel-108</td>\n      <td>bostrom</td>\n      <td>channel-15</td>\n      <td></td>\n    </tr>\n    <tr>\n      <th>8</th>\n      <td>false</td>\n      <td>phoenix-1</td>\n      <td>channel-121</td>\n      <td>bostrom</td>\n      <td>channel-16</td>\n      <td></td>\n    </tr>\n    <tr>\n      <th>9</th>\n      <td>false</td>\n      <td>eightball-1</td>\n      <td>channel-30</td>\n      <td>bostrom</td>\n      <td>channel-17</td>\n      <td>https://explorer.nodestake.top/8ball</td>\n    </tr>\n    <tr>\n      <th>10</th>\n      <td>true</td>\n      <td>osmosis-1</td>\n      <td>channel-95</td>\n      <td>bostrom</td>\n      <td>channel-2</td>\n      <td>https://mintscan.io/osmosis</td>\n    </tr>\n    <tr>\n      <th>11</th>\n      <td>false</td>\n      <td>osmosis-1</td>\n      <td>channel-96</td>\n      <td>bostrom</td>\n      <td>channel-3</td>\n      <td>https://mintscan.io/osmosis</td>\n    </tr>\n    <tr>\n      <th>12</th>\n      <td>false</td>\n      <td>cosmoshub-4</td>\n      <td>channel-237</td>\n      <td>bostrom</td>\n      <td>channel-4</td>\n      <td>https://mintscan.io/cosmos</td>\n    </tr>\n    <tr>\n      <th>13</th>\n      <td>false</td>\n      <td>cosmoshub-4</td>\n      <td>channel-240</td>\n      <td>bostrom</td>\n      <td>channel-5</td>\n      <td>https://mintscan.io/cosmos</td>\n    </tr>\n    <tr>\n      <th>14</th>\n      <td>false</td>\n      <td>gravity-bridge-3</td>\n      <td>channel-33</td>\n      <td>bostrom</td>\n      <td>channel-6</td>\n      <td>https://www.mintscan.io/gravity-bridge</td>\n    </tr>\n    <tr>\n      <th>15</th>\n      <td>true</td>\n      <td>gravity-bridge-3</td>\n      <td>channel-78</td>\n      <td>bostrom</td>\n      <td>channel-7</td>\n      <td>https://www.mintscan.io/gravity-bridge</td>\n    </tr>\n    <tr>\n      <th>16</th>\n      <td>true</td>\n      <td>cosmoshub-4</td>\n      <td>channel-341</td>\n      <td>bostrom</td>\n      <td>channel-8</td>\n      <td>https://mintscan.io/cosmos</td>\n    </tr>\n    <tr>\n      <th>17</th>\n      <td>true</td>\n      <td>evmos_9001-2</td>\n      <td>channel-19</td>\n      <td>bostrom</td>\n      <td>channel-9</td>\n      <td>https://www.mintscan.io/evmos</td>\n    </tr>\n  </tbody>\n</table>\n</div>"
     },
     "execution_count": 9,
     "metadata": {},
     "output_type": "execute_result"
    }
   ],
   "source": [
    "channels_df = pd.DataFrame(channels_json)\n",
    "channels_df"
   ],
   "metadata": {
    "collapsed": false,
    "ExecuteTime": {
     "start_time": "2023-05-16T13:12:54.221135Z",
     "end_time": "2023-05-16T13:12:54.232595Z"
    }
   }
  },
  {
   "cell_type": "markdown",
   "source": [
    "### Tokens"
   ],
   "metadata": {
    "collapsed": false
   }
  },
  {
   "cell_type": "code",
   "execution_count": 10,
   "outputs": [],
   "source": [
    "# WIP"
   ],
   "metadata": {
    "collapsed": false,
    "ExecuteTime": {
     "start_time": "2023-05-16T13:12:54.232554Z",
     "end_time": "2023-05-16T13:12:54.234451Z"
    }
   }
  }
 ],
 "metadata": {
  "kernelspec": {
   "display_name": "Python 3",
   "language": "python",
   "name": "python3"
  },
  "language_info": {
   "codemirror_mode": {
    "name": "ipython",
    "version": 2
   },
   "file_extension": ".py",
   "mimetype": "text/x-python",
   "name": "python",
   "nbconvert_exporter": "python",
   "pygments_lexer": "ipython2",
   "version": "2.7.6"
  }
 },
 "nbformat": 4,
 "nbformat_minor": 0
}
