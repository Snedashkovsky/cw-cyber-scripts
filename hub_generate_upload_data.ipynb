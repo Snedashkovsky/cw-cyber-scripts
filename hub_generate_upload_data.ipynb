{
 "cells": [
  {
   "cell_type": "code",
   "execution_count": 1,
   "metadata": {
    "collapsed": true,
    "ExecuteTime": {
     "start_time": "2023-05-15T16:18:58.316632Z",
     "end_time": "2023-05-15T16:18:59.223926Z"
    }
   },
   "outputs": [],
   "source": [
    "import pandas as pd\n",
    "import json\n",
    "import ipfshttpclient\n",
    "from multiaddr import Multiaddr\n",
    "\n",
    "from config import IPFS_HOST"
   ]
  },
  {
   "cell_type": "code",
   "execution_count": 2,
   "outputs": [
    {
     "name": "stderr",
     "output_type": "stream",
     "text": [
      "/Users/sergenedashkovsky/Library/Python/3.9/lib/python/site-packages/ipfshttpclient/client/__init__.py:75: VersionMismatch: Unsupported daemon version '0.16.0' (not in range: 0.5.0 ≤ … < 0.9.0)\n",
      "  warnings.warn(exceptions.VersionMismatch(version, minimum, maximum))\n"
     ]
    }
   ],
   "source": [
    "ipfs_client = ipfshttpclient.connect(addr=Multiaddr(IPFS_HOST))\n",
    "\n",
    "def add_file_to_ipfs(file_path: str) -> str:\n",
    "    with open(file_path, 'rb') as _file:\n",
    "        return ipfs_client.add_bytes(_file.read())"
   ],
   "metadata": {
    "collapsed": false,
    "ExecuteTime": {
     "start_time": "2023-05-15T16:18:59.225067Z",
     "end_time": "2023-05-15T16:18:59.256590Z"
    }
   }
  },
  {
   "cell_type": "markdown",
   "source": [
    "## Data fields\n",
    "- protocols: 'data_type', 'particle'\n",
    "- networks: 'chain_id', 'genesis_hash', 'logo', 'name', 'prefix', 'protocol', 'unbonding_period', 'particle'\n",
    "- channels: 'active', 'destination_chain_id', 'destination_channel_id', 'explorer_url', 'source_chain_id', 'source_channel_id', 'particle'\n",
    "- tokens: 'chain_id', 'channel', 'contract', 'decimals', 'logo', 'ticker', 'particle'\n",
    "- skills: 'endpoint', 'network', 'neuron', 'protocol', 'particle'\n",
    "- contracts: 'address', 'chain_id', 'execute_cid', 'query_cid', 'version', 'particle'\n",
    "\n",
    "`particle` field is optional\n",
    "\n",
    "## Protocols"
   ],
   "metadata": {
    "collapsed": false
   }
  },
  {
   "cell_type": "code",
   "execution_count": 3,
   "outputs": [],
   "source": [
    "protocols = [\n",
    "    'ipfs-gateway',\n",
    "    'cyber-rpc',\n",
    "    'cyber-ws',\n",
    "    'cosmos-rpc',\n",
    "    'cosmos-ws',\n",
    "    'osmosis-rpc',\n",
    "    'osmosis-ws',\n",
    "    'juno-rpc',\n",
    "    'juno-ws',\n",
    "    'gravity-rpc',\n",
    "    'gravity-ws',\n",
    "    'axelar-rpc',\n",
    "    'axelar-ws'\n",
    "]\n",
    "protocols_json = [{'data_type': protocol} for protocol in protocols]\n",
    "with open('data/protocols.json', 'w') as file:\n",
    "    file.write(json.dumps(protocols_json))"
   ],
   "metadata": {
    "collapsed": false,
    "ExecuteTime": {
     "start_time": "2023-05-15T16:18:59.257856Z",
     "end_time": "2023-05-15T16:18:59.260514Z"
    }
   }
  },
  {
   "cell_type": "markdown",
   "source": [
    "## Networks"
   ],
   "metadata": {
    "collapsed": false
   }
  },
  {
   "cell_type": "code",
   "execution_count": 4,
   "outputs": [],
   "source": [
    "networks_json = [\n",
    "    {\n",
    "        'chain_id': 'bostrom',\n",
    "        'genesis_hash': 'QmYubyVNfghD4xCrTFj26zBwrF9s5GJhi1TmxvrwmJCipr',\n",
    "        'logo': add_file_to_ipfs('img/logo/bostrom.png'),\n",
    "        'name': 'bostrom',\n",
    "        'prefix': 'bostrom',\n",
    "        'protocol': 'cyber-rpc',\n",
    "        'unbonding_period': '691200'\n",
    "    },\n",
    "    {\n",
    "        'chain_id': 'space-pussy',\n",
    "        'genesis_hash': add_file_to_ipfs('data/genesis_spacepussy.json'),\n",
    "        'logo': add_file_to_ipfs('img/logo/space-pussy.png'),\n",
    "        'name': 'space-pussy',\n",
    "        'prefix': 'pussy',\n",
    "        'protocol': 'cyber-rpc',\n",
    "        'unbonding_period': '2419200'\n",
    "    },\n",
    "    {\n",
    "        'chain_id': 'cosmoshub-4',\n",
    "        'genesis_hash': add_file_to_ipfs('data/genesis_cosmos.json'),\n",
    "        'logo': add_file_to_ipfs('img/logo/cosmos.png'),\n",
    "        'name': 'cosmos',\n",
    "        'prefix': 'cosmos',\n",
    "        'protocol': 'cosmos-rpc',\n",
    "        'unbonding_period': str(21 * 24 * 3_600)\n",
    "    },\n",
    "    {\n",
    "        'chain_id': 'osmosis-1',\n",
    "        'genesis_hash': add_file_to_ipfs('data/genesis_osmosis.json'),\n",
    "        'logo': add_file_to_ipfs('img/logo/osmosis.png'),\n",
    "        'name': 'osmosis',\n",
    "        'prefix': 'osmo',\n",
    "        'protocol': 'osmosis-rpc',\n",
    "        'unbonding_period': '1209600'\n",
    "    },\n",
    "    {\n",
    "        'chain_id': 'juno-1',\n",
    "        'genesis_hash': add_file_to_ipfs('data/genesis_juno.json'),\n",
    "        'logo': add_file_to_ipfs('img/logo/juno.png'),\n",
    "        'name': 'juno',\n",
    "        'prefix': 'juno',\n",
    "        'protocol': 'juno-rpc',\n",
    "        'unbonding_period': str(28 * 24 * 3_600)\n",
    "    },\n",
    "    {\n",
    "        'chain_id': 'gravity-bridge-3',\n",
    "        'genesis_hash': add_file_to_ipfs('data/genesis_gravitybridge.json'),\n",
    "        'logo': add_file_to_ipfs('img/logo/gravitybridge.png'),\n",
    "        'name': 'gravity bridge',\n",
    "        'prefix': 'gravity',\n",
    "        'protocol': 'gravity-rpc',\n",
    "        'unbonding_period': str(21 * 24 * 3_600)\n",
    "    },\n",
    "    {\n",
    "        'chain_id': 'axelar-dojo-1',\n",
    "        'genesis_hash': add_file_to_ipfs('data/genesis_axelar.json'),\n",
    "        'logo': add_file_to_ipfs('img/logo/axelar.png'),\n",
    "        'name': 'axelar',\n",
    "        'prefix': 'axelar',\n",
    "        'protocol': 'axelar-rpc',\n",
    "        'unbonding_period': str(7 * 24 * 3_600)\n",
    "    },\n",
    "]\n",
    "with open('data/networks.json', 'w') as file:\n",
    "    file.write(json.dumps(networks_json))"
   ],
   "metadata": {
    "collapsed": false,
    "ExecuteTime": {
     "start_time": "2023-05-15T15:56:33.489378Z",
     "end_time": "2023-05-15T15:56:42.042677Z"
    }
   }
  },
  {
   "cell_type": "markdown",
   "source": [
    "## Channels"
   ],
   "metadata": {
    "collapsed": false
   }
  },
  {
   "cell_type": "code",
   "execution_count": 5,
   "outputs": [],
   "source": [
    "# WIP"
   ],
   "metadata": {
    "collapsed": false
   }
  },
  {
   "cell_type": "markdown",
   "source": [
    "## Tokens"
   ],
   "metadata": {
    "collapsed": false
   }
  },
  {
   "cell_type": "code",
   "execution_count": 6,
   "outputs": [],
   "source": [
    "# WIP"
   ],
   "metadata": {
    "collapsed": false
   }
  }
 ],
 "metadata": {
  "kernelspec": {
   "display_name": "Python 3",
   "language": "python",
   "name": "python3"
  },
  "language_info": {
   "codemirror_mode": {
    "name": "ipython",
    "version": 2
   },
   "file_extension": ".py",
   "mimetype": "text/x-python",
   "name": "python",
   "nbconvert_exporter": "python",
   "pygments_lexer": "ipython2",
   "version": "2.7.6"
  }
 },
 "nbformat": 4,
 "nbformat_minor": 0
}
