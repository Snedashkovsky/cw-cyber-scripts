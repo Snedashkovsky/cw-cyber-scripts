{
 "cells": [
  {
   "cell_type": "code",
   "execution_count": 1,
   "id": "initial_id",
   "metadata": {
    "collapsed": true,
    "ExecuteTime": {
     "end_time": "2023-12-14T06:32:23.776374Z",
     "start_time": "2023-12-14T06:32:23.203621Z"
    }
   },
   "outputs": [],
   "source": [
    "from pprint import pprint\n",
    "from IPython.display import display, Markdown\n",
    "\n",
    "from src.contract_utils import query_contract\n",
    "from config import LCD_CLIENT\n",
    "\n",
    "PASSPORT_CONTRACT_ADDRESS = 'bostrom1xut80d09q0tgtch8p0z4k5f88d3uvt8cvtzm5h3tu3tsy4jk9xlsfzhxel'\n",
    "TREASURY_CONTRACT_ADDRESS = 'bostrom182jzjwdyl5fw43yujnlljddgtrkr04dpd30ywp2yn724u7qhtaqstjzlcu'\n",
    "GIFT_CONTRACT_ADDRESS = 'bostrom16t6tucgcqdmegye6c9ltlkr237z8yfndmasrhvh7ucrfuqaev6xq7cpvek'"
   ]
  },
  {
   "cell_type": "code",
   "execution_count": 2,
   "outputs": [
    {
     "name": "stdout",
     "output_type": "stream",
     "text": [
      "{'allowed_native': 'boot',\n",
      " 'coefficient_down': '7',\n",
      " 'coefficient_up': '13',\n",
      " 'initial_balance': '700000000000000',\n",
      " 'owner': 'bostrom1xszmhkfjs3s00z2nvtn7evqxw3dtus6yr8e4pw',\n",
      " 'passport': 'bostrom1xut80d09q0tgtch8p0z4k5f88d3uvt8cvtzm5h3tu3tsy4jk9xlsfzhxel',\n",
      " 'target_claim': '100000'}\n",
      "{'claims': '13454',\n",
      " 'coefficient': '12.332044497590688568',\n",
      " 'current_balance': '622071562082832',\n",
      " 'releases': '9131'}\n"
     ]
    }
   ],
   "source": [
    "passport_amount = query_contract(query='{\"last_portid\": {}}', contract_address=PASSPORT_CONTRACT_ADDRESS)['data']['portid']\n",
    "gift_config = query_contract(query='{\"config\": {}}', contract_address=GIFT_CONTRACT_ADDRESS)['data']\n",
    "gift_state = query_contract(query='{\"state\": {}}', contract_address=GIFT_CONTRACT_ADDRESS)['data']\n",
    "treasury_balance = int(LCD_CLIENT.bank.balance(address=TREASURY_CONTRACT_ADDRESS)[0].to_data()[0]['amount'])\n",
    "allowance = query_contract(query='{\"all_allowances\": {}}', contract_address=TREASURY_CONTRACT_ADDRESS)['data']['allowances'][0]\n",
    "\n",
    "pprint(gift_config)\n",
    "pprint(gift_state)"
   ],
   "metadata": {
    "collapsed": false,
    "ExecuteTime": {
     "end_time": "2023-12-14T06:32:28.485867Z",
     "start_time": "2023-12-14T06:32:23.777927Z"
    }
   },
   "id": "4765ada88547eec"
  },
  {
   "cell_type": "code",
   "execution_count": 3,
   "outputs": [],
   "source": [
    "initial_balance = int(gift_config['initial_balance'])\n",
    "target_claim = int(gift_config['target_claim'])\n",
    "current_balance = int(gift_state['current_balance'])\n",
    "claims = int(gift_state['claims'])\n",
    "allowance_balance = int(allowance['balance'][0]['amount'])\n",
    "claimed_amount = initial_balance - current_balance\n",
    "released_amount = int(1e14 - treasury_balance)\n",
    "releasable_percentage = (claims * 100) // target_claim / 100\n",
    "releasable_amount = int(claimed_amount * releasable_percentage) - released_amount"
   ],
   "metadata": {
    "collapsed": false,
    "ExecuteTime": {
     "end_time": "2023-12-14T06:32:28.490587Z",
     "start_time": "2023-12-14T06:32:28.485637Z"
    }
   },
   "id": "94b079a4cbe54e6d"
  },
  {
   "cell_type": "code",
   "execution_count": 5,
   "outputs": [
    {
     "data": {
      "text/plain": "<IPython.core.display.Markdown object>",
      "text/markdown": "### Gift overview"
     },
     "metadata": {},
     "output_type": "display_data"
    },
    {
     "name": "stdout",
     "output_type": "stream",
     "text": [
      "total amount:      700,000 GBOOT\n",
      "claimed amount:     77,928 GBOOT (11.13%)\n",
      "releasable amount:   5,965 GBOOT (0.85%)\n",
      "released amount:     4,166 GBOOT (0.60%)\n",
      "\n",
      "number of passports:        32,098\n",
      "\n",
      "number of target claims:   100,000\n",
      "number of claims:           13,454 (13.5%)\n",
      "release from claim percentage: 13%\n",
      "\n",
      "treasury balance:   95,834 GBOOT\n",
      "allowance balance:   9,834 GBOOT\n"
     ]
    }
   ],
   "source": [
    "display(Markdown(f'''### Gift overview'''))\n",
    "print(\n",
    "    f'total amount:      {initial_balance/1e9:>7,.0f} GBOOT\\n'\n",
    "    f'claimed amount:    {claimed_amount/1e9:>7,.0f} GBOOT ({claimed_amount/initial_balance:.2%})\\n'\n",
    "    f'releasable amount: {releasable_amount/1e9:>7,.0f} GBOOT ({releasable_amount/initial_balance:.2%})\\n'\n",
    "    f'released amount:   {released_amount/1e9:>7,.0f} GBOOT ({released_amount/initial_balance:.2%})\\n\\n'\n",
    "    f'number of passports:     {passport_amount:>9,}\\n\\n'\n",
    "    f'number of target claims: {target_claim:>9,}\\n'\n",
    "    f'number of claims:        {claims:>9,} ({claims/target_claim:.1%})\\n'\n",
    "    f'release from claim percentage: {releasable_percentage:>.0%}\\n\\n'\n",
    "    f'treasury balance:  {treasury_balance/1e9:>7,.0f} GBOOT\\n'\n",
    "    f'allowance balance: {allowance_balance/1e9:>7,.0f} GBOOT')"
   ],
   "metadata": {
    "collapsed": false,
    "ExecuteTime": {
     "end_time": "2023-12-14T06:33:06.114676Z",
     "start_time": "2023-12-14T06:33:06.110980Z"
    }
   },
   "id": "caf64bca18435b8"
  },
  {
   "cell_type": "code",
   "execution_count": 4,
   "outputs": [],
   "source": [],
   "metadata": {
    "collapsed": false,
    "ExecuteTime": {
     "end_time": "2023-12-14T06:32:28.500821Z",
     "start_time": "2023-12-14T06:32:28.498013Z"
    }
   },
   "id": "97f1c34e5032739"
  }
 ],
 "metadata": {
  "kernelspec": {
   "display_name": "Python 3",
   "language": "python",
   "name": "python3"
  },
  "language_info": {
   "codemirror_mode": {
    "name": "ipython",
    "version": 2
   },
   "file_extension": ".py",
   "mimetype": "text/x-python",
   "name": "python",
   "nbconvert_exporter": "python",
   "pygments_lexer": "ipython2",
   "version": "2.7.6"
  }
 },
 "nbformat": 4,
 "nbformat_minor": 5
}
