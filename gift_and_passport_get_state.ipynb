{
 "cells": [
  {
   "cell_type": "code",
   "execution_count": 1,
   "id": "initial_id",
   "metadata": {
    "collapsed": true,
    "ExecuteTime": {
     "end_time": "2023-12-24T03:36:32.218657Z",
     "start_time": "2023-12-24T03:36:31.734795Z"
    }
   },
   "outputs": [],
   "source": [
    "from pprint import pprint\n",
    "from IPython.display import display, Markdown\n",
    "\n",
    "from src.contract_utils import query_contract\n",
    "from config import LCD_CLIENT\n",
    "\n",
    "PASSPORT_CONTRACT_ADDRESS = 'bostrom1xut80d09q0tgtch8p0z4k5f88d3uvt8cvtzm5h3tu3tsy4jk9xlsfzhxel'\n",
    "TREASURY_CONTRACT_ADDRESS = 'bostrom182jzjwdyl5fw43yujnlljddgtrkr04dpd30ywp2yn724u7qhtaqstjzlcu'\n",
    "GIFT_CONTRACT_ADDRESS = 'bostrom16t6tucgcqdmegye6c9ltlkr237z8yfndmasrhvh7ucrfuqaev6xq7cpvek'"
   ]
  },
  {
   "cell_type": "code",
   "execution_count": 2,
   "outputs": [
    {
     "name": "stdout",
     "output_type": "stream",
     "text": [
      "{'allowed_native': 'boot',\n",
      " 'coefficient_down': '7',\n",
      " 'coefficient_up': '13',\n",
      " 'initial_balance': '700000000000000',\n",
      " 'owner': 'bostrom1xszmhkfjs3s00z2nvtn7evqxw3dtus6yr8e4pw',\n",
      " 'passport': 'bostrom1xut80d09q0tgtch8p0z4k5f88d3uvt8cvtzm5h3tu3tsy4jk9xlsfzhxel',\n",
      " 'target_claim': '100000'}\n",
      "{'claims': '29527',\n",
      " 'coefficient': '11.967904916481177142',\n",
      " 'current_balance': '579585591807772',\n",
      " 'releases': '50983'}\n"
     ]
    }
   ],
   "source": [
    "passport_amount = query_contract(query='{\"last_portid\": {}}', contract_address=PASSPORT_CONTRACT_ADDRESS)['data']['portid']\n",
    "gift_config = query_contract(query='{\"config\": {}}', contract_address=GIFT_CONTRACT_ADDRESS)['data']\n",
    "gift_state = query_contract(query='{\"state\": {}}', contract_address=GIFT_CONTRACT_ADDRESS)['data']\n",
    "treasury_balance = int(LCD_CLIENT.bank.balance(address=TREASURY_CONTRACT_ADDRESS)[0].to_data()[0]['amount'])\n",
    "allowance = query_contract(query='{\"all_allowances\": {}}', contract_address=TREASURY_CONTRACT_ADDRESS)['data']['allowances'][0]\n",
    "\n",
    "pprint(gift_config)\n",
    "pprint(gift_state)"
   ],
   "metadata": {
    "collapsed": false,
    "ExecuteTime": {
     "end_time": "2023-12-24T03:36:36.565065Z",
     "start_time": "2023-12-24T03:36:32.218080Z"
    }
   },
   "id": "4765ada88547eec"
  },
  {
   "cell_type": "code",
   "execution_count": 3,
   "outputs": [],
   "source": [
    "initial_balance = int(gift_config['initial_balance'])\n",
    "target_claim = int(gift_config['target_claim'])\n",
    "current_balance = int(gift_state['current_balance'])\n",
    "claims = int(gift_state['claims'])\n",
    "allowance_balance = int(allowance['balance'][0]['amount'])\n",
    "claimed_amount = initial_balance - current_balance\n",
    "released_amount = int(1e14 - treasury_balance)\n",
    "releasable_percentage = (claims * 100) // target_claim / 100\n",
    "releasable_amount = int(claimed_amount * releasable_percentage) - released_amount"
   ],
   "metadata": {
    "collapsed": false,
    "ExecuteTime": {
     "end_time": "2023-12-24T03:36:36.573609Z",
     "start_time": "2023-12-24T03:36:36.568474Z"
    }
   },
   "id": "94b079a4cbe54e6d"
  },
  {
   "cell_type": "code",
   "execution_count": 4,
   "outputs": [
    {
     "data": {
      "text/plain": "<IPython.core.display.Markdown object>",
      "text/markdown": "### Gift overview"
     },
     "metadata": {},
     "output_type": "display_data"
    },
    {
     "name": "stdout",
     "output_type": "stream",
     "text": [
      "total amount:      700,000 GBOOT\n",
      "claimed amount:    120,414 GBOOT (17.20%)\n",
      "releasable amount:  18,615 GBOOT  (2.66%)\n",
      "released amount:    16,305 GBOOT  (2.33%)\n",
      "\n",
      "number of passports:        38,440\n",
      "\n",
      "number of target claims:   100,000\n",
      "number of claims:           29,527 (29.53%)\n",
      "\n",
      "treasury balance:   83,695 GBOOT\n",
      "allowance balance:  17,695 GBOOT\n"
     ]
    }
   ],
   "source": [
    "display(Markdown(f'''### Gift overview'''))\n",
    "print(\n",
    "    f'total amount:      {initial_balance/1e9:>7,.0f} GBOOT\\n'\n",
    "    f'claimed amount:    {claimed_amount/1e9:>7,.0f} GBOOT ({claimed_amount/initial_balance:.2%})\\n'\n",
    "    f'releasable amount: {releasable_amount/1e9:>7,.0f} GBOOT  ({releasable_amount/initial_balance:.2%})\\n'\n",
    "    f'released amount:   {released_amount/1e9:>7,.0f} GBOOT  ({released_amount/initial_balance:.2%})\\n\\n'\n",
    "    f'number of passports:     {passport_amount:>9,}\\n\\n'\n",
    "    f'number of target claims: {target_claim:>9,}\\n'\n",
    "    f'number of claims:        {claims:>9,} ({claims/target_claim:.2%})\\n\\n'\n",
    "    f'treasury balance:  {treasury_balance/1e9:>7,.0f} GBOOT\\n'\n",
    "    f'allowance balance: {allowance_balance/1e9:>7,.0f} GBOOT'\n",
    "    )"
   ],
   "metadata": {
    "collapsed": false,
    "ExecuteTime": {
     "end_time": "2023-12-24T03:36:36.581366Z",
     "start_time": "2023-12-24T03:36:36.577772Z"
    }
   },
   "id": "caf64bca18435b8"
  },
  {
   "cell_type": "code",
   "outputs": [],
   "source": [],
   "metadata": {
    "collapsed": false,
    "ExecuteTime": {
     "end_time": "2023-12-24T03:36:36.585074Z",
     "start_time": "2023-12-24T03:36:36.580844Z"
    }
   },
   "id": "d241c02490caaa7",
   "execution_count": 4
  }
 ],
 "metadata": {
  "kernelspec": {
   "display_name": "Python 3",
   "language": "python",
   "name": "python3"
  },
  "language_info": {
   "codemirror_mode": {
    "name": "ipython",
    "version": 2
   },
   "file_extension": ".py",
   "mimetype": "text/x-python",
   "name": "python",
   "nbconvert_exporter": "python",
   "pygments_lexer": "ipython2",
   "version": "2.7.6"
  }
 },
 "nbformat": 4,
 "nbformat_minor": 5
}
