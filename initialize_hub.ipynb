{
 "cells": [
  {
   "cell_type": "code",
   "execution_count": 1,
   "metadata": {
    "collapsed": true
   },
   "outputs": [],
   "source": [
    "from src.contract_utils import instantiate_contract\n",
    "\n",
    "\n",
    "HUB_NETWORKS_CODE_ID = '10'\n",
    "HUB_CHANNELS_CODE_ID = '11'\n",
    "HUB_CONTRACTS_CODE_ID = '12'\n",
    "HUB_PROTOCOLS_CODE_ID = '13'\n",
    "HUB_SKILLS_CODE_ID = '14'\n",
    "HUB_TOKENS_CODE_ID = '15'\n",
    "\n",
    "HUB_NETWORKS_LABEL = 'hub networks'\n",
    "HUB_CHANNELS_LABEL = 'hub channels'\n",
    "HUB_CONTRACTS_LABEL = 'hub contracts'\n",
    "HUB_PROTOCOLS_LABEL = 'hub protocols'\n",
    "HUB_SKILLS_LABEL = 'hub skills'\n",
    "HUB_TOKENS_LABEL = 'hub tokens'\n",
    "\n",
    "INIT_HUB_CHANNELS_CONTRACT = False\n",
    "INIT_HUB_CONTRACTS_CONTRACT = False\n",
    "INIT_HUB_NETWORKS_CONTRACT = True\n",
    "INIT_HUB_PROTOCOLS_CONTRACT = False\n",
    "INIT_HUB_SKILLS_CONTRACT = False\n",
    "INIT_HUB_TOKENS_CONTRACT = False\n",
    "\n",
    "WALLET_ADDRESS = 'bostrom1xszmhkfjs3s00z2nvtn7evqxw3dtus6yr8e4pw'"
   ]
  },
  {
   "cell_type": "code",
   "execution_count": 2,
   "outputs": [
    {
     "name": "stdout",
     "output_type": "stream",
     "text": [
      "txs/code_10_hub_networks.json\n",
      "\n",
      "\tcyber tx sign txs/code_10_hub_networks.json --from=bostrom1xszmhkfjs3s00z2nvtn7evqxw3dtus6yr8e4pw --output-document=txs/signed_code_10_hub_networks.json--chain-id=bostrom --ledger --node https://rpc.bostrom.cybernode.ai:443\n",
      "\n",
      "\tcyber tx broadcast txs/signed_code_10_hub_networks.json --chain-id=bostrom --broadcast-mode block --node https://rpc.bostrom.cybernode.ai:443\n",
      "\n"
     ]
    }
   ],
   "source": [
    "if INIT_HUB_CHANNELS_CONTRACT:\n",
    "    instantiate_contract(\n",
    "        init_query=f'''{{\"owner\":\"{WALLET_ADDRESS}\"}}''',\n",
    "        contract_code_id=HUB_CHANNELS_CODE_ID,\n",
    "        contract_label=HUB_CHANNELS_LABEL)\n",
    "\n",
    "if INIT_HUB_NETWORKS_CONTRACT:\n",
    "    instantiate_contract(\n",
    "        init_query=f'''{{\"owner\":\"{WALLET_ADDRESS}\"}}''',\n",
    "        contract_code_id=HUB_NETWORKS_CODE_ID,\n",
    "        contract_label=HUB_NETWORKS_LABEL,\n",
    "        from_address=WALLET_ADDRESS)\n",
    "\n",
    "if INIT_HUB_CONTRACTS_CONTRACT:\n",
    "    instantiate_contract(\n",
    "        init_query=f'''{{\"owner\":\"{WALLET_ADDRESS}\"}}''',\n",
    "        contract_code_id=HUB_CONTRACTS_CODE_ID,\n",
    "        contract_label=HUB_CONTRACTS_LABEL)\n",
    "\n",
    "if INIT_HUB_PROTOCOLS_CONTRACT:\n",
    "    instantiate_contract(\n",
    "        init_query=f'''{{\"owner\":\"{WALLET_ADDRESS}\"}}''',\n",
    "        contract_code_id=HUB_PROTOCOLS_CODE_ID,\n",
    "        contract_label=HUB_PROTOCOLS_LABEL)\n",
    "\n",
    "if INIT_HUB_SKILLS_CONTRACT:\n",
    "    instantiate_contract(\n",
    "        init_query=f'''{{\"owner\":\"{WALLET_ADDRESS}\"}}''',\n",
    "        contract_code_id=HUB_SKILLS_CODE_ID,\n",
    "        contract_label=HUB_SKILLS_LABEL)\n",
    "\n",
    "if INIT_HUB_TOKENS_CONTRACT:\n",
    "    instantiate_contract(\n",
    "        init_query=f'''{{\"owner\":\"{WALLET_ADDRESS}\"}}''',\n",
    "        contract_code_id=HUB_TOKENS_CODE_ID,\n",
    "        contract_label=HUB_TOKENS_LABEL)"
   ],
   "metadata": {
    "collapsed": false
   }
  }
 ],
 "metadata": {
  "kernelspec": {
   "display_name": "Python 3",
   "language": "python",
   "name": "python3"
  },
  "language_info": {
   "codemirror_mode": {
    "name": "ipython",
    "version": 2
   },
   "file_extension": ".py",
   "mimetype": "text/x-python",
   "name": "python",
   "nbconvert_exporter": "python",
   "pygments_lexer": "ipython2",
   "version": "2.7.6"
  }
 },
 "nbformat": 4,
 "nbformat_minor": 0
}
