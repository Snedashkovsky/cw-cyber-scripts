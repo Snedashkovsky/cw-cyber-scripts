{
 "cells": [
  {
   "cell_type": "code",
   "execution_count": 8,
   "metadata": {
    "collapsed": true
   },
   "outputs": [],
   "source": [
    "from src.contract_utils import execute_contract_bash\n",
    "\n",
    "\n",
    "HUB_PROTOCOLS_CONTRACT = 'bostrom1latjl5jde9x7ndu0c9qr4ceyzvyr0ngs95fydqhx8xa6t0md7h4sryuzz0'\n",
    "HUB_NETWORKS_CONTRACT = 'bostrom1ka63rny987cfu79jpfaytn4rjepz4q8na4gtgdz83r79p0yy84gqy6kc8k'\n",
    "HUB_CHANNELS_CONTRACT = 'bostrom1jsc2h2t2r4vpytz0ashmvpt5pqnyqculjq9t9vwy2p5wcu64xytqmzcdvj'\n",
    "HUB_TOKENS_CONTRACT = 'bostrom1969quzze7w7a79gy42cnus5t67sgmu6t2yw059arfyn8fzs3hpzs7zjfkx'\n",
    "HUB_SKILLS_CONTRACT = 'bostrom1ejm29m279e8x4ltf3ksqm443fsdql9rmtuyth6vssmxl72af5yzqrt2mku'\n",
    "HUB_CONTRACTS_CONTRACT = 'bostrom1cfa46qr4ca4n75eys534fzmdtgce9zscvlzfq8fgt4sk6gc250hssks43s'\n",
    "\n",
    "WALLET_ADDRESS = 'bostrom1xszmhkfjs3s00z2nvtn7evqxw3dtus6yr8e4pw'\n",
    "\n",
    "UPLOAD_HUB_PROTOCOLS_CONTRACT = True\n",
    "UPLOAD_HUB_NETWORKS_CONTRACT = True\n",
    "UPLOAD_HUB_CHANNELS_CONTRACT = True\n",
    "UPLOAD_HUB_TOKENS_CONTRACT = True\n",
    "UPLOAD_HUB_SKILLS_CONTRACT = True\n",
    "UPLOAD_HUB_CONTRACTS_CONTRACT = True"
   ]
  },
  {
   "cell_type": "markdown",
   "source": [
    "### CreateEntry"
   ],
   "metadata": {
    "collapsed": false
   }
  },
  {
   "cell_type": "code",
   "execution_count": 9,
   "outputs": [
    {
     "name": "stdout",
     "output_type": "stream",
     "text": [
      "txs/uzz0_CreateEntry_data_type.json\n",
      "\n",
      "\tcyber tx sign txs/uzz0_CreateEntry_data_type.json --from=bostrom1xszmhkfjs3s00z2nvtn7evqxw3dtus6yr8e4pw --output-document=txs/signed_uzz0_CreateEntry_data_type.json --chain-id=bostrom --ledger --node https://rpc.bostrom.cybernode.ai:443\n",
      "\n",
      "\tcyber tx broadcast txs/signed_uzz0_CreateEntry_data_type.json --chain-id=bostrom --broadcast-mode block --node https://rpc.bostrom.cybernode.ai:443\n",
      "\n"
     ]
    }
   ],
   "source": [
    "protocols_for_upload = [['data_type', 'particle']]\n",
    "\n",
    "if UPLOAD_HUB_PROTOCOLS_CONTRACT:\n",
    "    for item in protocols_for_upload:\n",
    "        execute_query = f'{{\"CreateEntry\": {{\"data_type\": \"{item[0]}\", \"particle\": \"{item[1]}\"}}}}' if len(item) > 1 \\\n",
    "            else f'{{\"CreateEntry\": {{\"data_type\": \"{item[0]}\"}}}}'\n",
    "        execute_contract_bash(\n",
    "            execute_query=execute_query,\n",
    "            contract_address=HUB_PROTOCOLS_CONTRACT,\n",
    "            from_address=WALLET_ADDRESS,\n",
    "            action_name=f'CreateEntry_{item[0]}'\n",
    "        )"
   ],
   "metadata": {
    "collapsed": false
   }
  },
  {
   "cell_type": "code",
   "execution_count": 2,
   "outputs": [],
   "source": [],
   "metadata": {
    "collapsed": false
   }
  }
 ],
 "metadata": {
  "kernelspec": {
   "display_name": "Python 3",
   "language": "python",
   "name": "python3"
  },
  "language_info": {
   "codemirror_mode": {
    "name": "ipython",
    "version": 2
   },
   "file_extension": ".py",
   "mimetype": "text/x-python",
   "name": "python",
   "nbconvert_exporter": "python",
   "pygments_lexer": "ipython2",
   "version": "2.7.6"
  }
 },
 "nbformat": 4,
 "nbformat_minor": 0
}
