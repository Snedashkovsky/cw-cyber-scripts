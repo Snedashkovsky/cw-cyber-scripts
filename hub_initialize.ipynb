{
 "cells": [
  {
   "cell_type": "markdown",
   "source": [
    "# Initiate Hub Contracts"
   ],
   "metadata": {
    "collapsed": false
   }
  },
  {
   "cell_type": "code",
   "execution_count": 1,
   "outputs": [],
   "source": [
    "from src.contract_utils import instantiate_contract_unsigned_tx\n",
    "\n",
    "\n",
    "HUB_PROTOCOLS_CODE_ID = '8'\n",
    "HUB_NETWORKS_CODE_ID = '10'\n",
    "HUB_CHANNELS_CODE_ID = '11'\n",
    "HUB_TOKENS_CODE_ID = '19'\n",
    "HUB_SKILLS_CODE_ID = '13'\n",
    "HUB_CONTRACTS_CODE_ID = '14'\n",
    "\n",
    "HUB_NETWORKS_LABEL = 'hub networks'\n",
    "HUB_CHANNELS_LABEL = 'hub channels'\n",
    "HUB_CONTRACTS_LABEL = 'hub contracts'\n",
    "HUB_PROTOCOLS_LABEL = 'hub protocols'\n",
    "HUB_SKILLS_LABEL = 'hub skills'\n",
    "HUB_TOKENS_LABEL = 'hub tokens'\n",
    "\n",
    "INIT_HUB_PROTOCOLS_CONTRACT = True\n",
    "INIT_HUB_NETWORKS_CONTRACT = True\n",
    "INIT_HUB_CHANNELS_CONTRACT = True\n",
    "INIT_HUB_TOKENS_CONTRACT = True\n",
    "INIT_HUB_SKILLS_CONTRACT = True\n",
    "INIT_HUB_CONTRACTS_CONTRACT = True\n",
    "\n",
    "WALLET_ADDRESS = 'bostrom1d8754xqa9245pctlfcyv8eah468neqzn3a0y0t'"
   ],
   "metadata": {
    "collapsed": false,
    "ExecuteTime": {
     "start_time": "2023-05-21T19:24:30.623318Z",
     "end_time": "2023-05-21T19:24:31.130920Z"
    }
   }
  },
  {
   "cell_type": "code",
   "execution_count": 2,
   "outputs": [
    {
     "name": "stdout",
     "output_type": "stream",
     "text": [
      "txs/tx_instantiate_code_8_hub_protocols_unsigned.json\n",
      "\n",
      "\tcyber tx sign txs/tx_instantiate_code_8_hub_protocols_unsigned.json --from=bostrom1d8754xqa9245pctlfcyv8eah468neqzn3a0y0t --output-document=txs/tx_instantiate_signed_code_8_hub_protocols_signed.json --chain-id=bostrom --ledger --node=https://rpc.bostrom.cybernode.ai:443\n",
      "\n",
      "\tcyber tx broadcast txs/tx_instantiate_signed_code_8_hub_protocols_signed.json --chain-id=bostrom --broadcast-mode=block --node=https://rpc.bostrom.cybernode.ai:443\n",
      "\n",
      "txs/tx_instantiate_code_10_hub_networks_unsigned.json\n",
      "\n",
      "\tcyber tx sign txs/tx_instantiate_code_10_hub_networks_unsigned.json --from=bostrom1d8754xqa9245pctlfcyv8eah468neqzn3a0y0t --output-document=txs/tx_instantiate_signed_code_10_hub_networks_signed.json --chain-id=bostrom --ledger --node=https://rpc.bostrom.cybernode.ai:443\n",
      "\n",
      "\tcyber tx broadcast txs/tx_instantiate_signed_code_10_hub_networks_signed.json --chain-id=bostrom --broadcast-mode=block --node=https://rpc.bostrom.cybernode.ai:443\n",
      "\n",
      "txs/tx_instantiate_code_11_hub_channels_unsigned.json\n",
      "\n",
      "\tcyber tx sign txs/tx_instantiate_code_11_hub_channels_unsigned.json --from=bostrom1d8754xqa9245pctlfcyv8eah468neqzn3a0y0t --output-document=txs/tx_instantiate_signed_code_11_hub_channels_signed.json --chain-id=bostrom --ledger --node=https://rpc.bostrom.cybernode.ai:443\n",
      "\n",
      "\tcyber tx broadcast txs/tx_instantiate_signed_code_11_hub_channels_signed.json --chain-id=bostrom --broadcast-mode=block --node=https://rpc.bostrom.cybernode.ai:443\n",
      "\n",
      "txs/tx_instantiate_code_19_hub_tokens_unsigned.json\n",
      "\n",
      "\tcyber tx sign txs/tx_instantiate_code_19_hub_tokens_unsigned.json --from=bostrom1d8754xqa9245pctlfcyv8eah468neqzn3a0y0t --output-document=txs/tx_instantiate_signed_code_19_hub_tokens_signed.json --chain-id=bostrom --ledger --node=https://rpc.bostrom.cybernode.ai:443\n",
      "\n",
      "\tcyber tx broadcast txs/tx_instantiate_signed_code_19_hub_tokens_signed.json --chain-id=bostrom --broadcast-mode=block --node=https://rpc.bostrom.cybernode.ai:443\n",
      "\n",
      "txs/tx_instantiate_code_13_hub_skills_unsigned.json\n",
      "\n",
      "\tcyber tx sign txs/tx_instantiate_code_13_hub_skills_unsigned.json --from=bostrom1d8754xqa9245pctlfcyv8eah468neqzn3a0y0t --output-document=txs/tx_instantiate_signed_code_13_hub_skills_signed.json --chain-id=bostrom --ledger --node=https://rpc.bostrom.cybernode.ai:443\n",
      "\n",
      "\tcyber tx broadcast txs/tx_instantiate_signed_code_13_hub_skills_signed.json --chain-id=bostrom --broadcast-mode=block --node=https://rpc.bostrom.cybernode.ai:443\n",
      "\n",
      "txs/tx_instantiate_code_14_hub_contracts_unsigned.json\n",
      "\n",
      "\tcyber tx sign txs/tx_instantiate_code_14_hub_contracts_unsigned.json --from=bostrom1d8754xqa9245pctlfcyv8eah468neqzn3a0y0t --output-document=txs/tx_instantiate_signed_code_14_hub_contracts_signed.json --chain-id=bostrom --ledger --node=https://rpc.bostrom.cybernode.ai:443\n",
      "\n",
      "\tcyber tx broadcast txs/tx_instantiate_signed_code_14_hub_contracts_signed.json --chain-id=bostrom --broadcast-mode=block --node=https://rpc.bostrom.cybernode.ai:443\n",
      "\n"
     ]
    }
   ],
   "source": [
    "if INIT_HUB_PROTOCOLS_CONTRACT:\n",
    "    instantiate_contract_unsigned_tx(\n",
    "        init_query=f'''{{\"owner\":\"{WALLET_ADDRESS}\"}}''',\n",
    "        contract_code_id=HUB_PROTOCOLS_CODE_ID,\n",
    "        contract_label=HUB_PROTOCOLS_LABEL,\n",
    "        contract_admin=WALLET_ADDRESS,\n",
    "        from_address=WALLET_ADDRESS)\n",
    "\n",
    "if INIT_HUB_NETWORKS_CONTRACT:\n",
    "    instantiate_contract_unsigned_tx(\n",
    "        init_query=f'''{{\"owner\":\"{WALLET_ADDRESS}\"}}''',\n",
    "        contract_code_id=HUB_NETWORKS_CODE_ID,\n",
    "        contract_label=HUB_NETWORKS_LABEL,\n",
    "        contract_admin=WALLET_ADDRESS,\n",
    "        from_address=WALLET_ADDRESS)\n",
    "\n",
    "if INIT_HUB_CHANNELS_CONTRACT:\n",
    "    instantiate_contract_unsigned_tx(\n",
    "        init_query=f'''{{\"owner\":\"{WALLET_ADDRESS}\"}}''',\n",
    "        contract_code_id=HUB_CHANNELS_CODE_ID,\n",
    "        contract_label=HUB_CHANNELS_LABEL,\n",
    "        contract_admin=WALLET_ADDRESS,\n",
    "        from_address=WALLET_ADDRESS)\n",
    "\n",
    "if INIT_HUB_TOKENS_CONTRACT:\n",
    "    instantiate_contract_unsigned_tx(\n",
    "        init_query=f'''{{\"owner\":\"{WALLET_ADDRESS}\"}}''',\n",
    "        contract_code_id=HUB_TOKENS_CODE_ID,\n",
    "        contract_label=HUB_TOKENS_LABEL,\n",
    "        contract_admin=WALLET_ADDRESS,\n",
    "        from_address=WALLET_ADDRESS)\n",
    "\n",
    "if INIT_HUB_SKILLS_CONTRACT:\n",
    "    instantiate_contract_unsigned_tx(\n",
    "        init_query=f'''{{\"owner\":\"{WALLET_ADDRESS}\"}}''',\n",
    "        contract_code_id=HUB_SKILLS_CODE_ID,\n",
    "        contract_label=HUB_SKILLS_LABEL,\n",
    "        contract_admin=WALLET_ADDRESS,\n",
    "        from_address=WALLET_ADDRESS)\n",
    "\n",
    "if INIT_HUB_CONTRACTS_CONTRACT:\n",
    "    instantiate_contract_unsigned_tx(\n",
    "        init_query=f'''{{\"owner\":\"{WALLET_ADDRESS}\"}}''',\n",
    "        contract_code_id=HUB_CONTRACTS_CODE_ID,\n",
    "        contract_label=HUB_CONTRACTS_LABEL,\n",
    "        contract_admin=WALLET_ADDRESS,\n",
    "        from_address=WALLET_ADDRESS)"
   ],
   "metadata": {
    "collapsed": false,
    "ExecuteTime": {
     "start_time": "2023-05-21T19:24:31.136803Z",
     "end_time": "2023-05-21T19:24:32.282211Z"
    }
   }
  },
  {
   "cell_type": "code",
   "execution_count": 2,
   "outputs": [],
   "source": [],
   "metadata": {
    "collapsed": false,
    "ExecuteTime": {
     "start_time": "2023-05-21T19:24:32.282920Z",
     "end_time": "2023-05-21T19:24:32.284435Z"
    }
   }
  }
 ],
 "metadata": {
  "kernelspec": {
   "display_name": "Python 3",
   "language": "python",
   "name": "python3"
  },
  "language_info": {
   "codemirror_mode": {
    "name": "ipython",
    "version": 2
   },
   "file_extension": ".py",
   "mimetype": "text/x-python",
   "name": "python",
   "nbconvert_exporter": "python",
   "pygments_lexer": "ipython2",
   "version": "2.7.6"
  }
 },
 "nbformat": 4,
 "nbformat_minor": 0
}
