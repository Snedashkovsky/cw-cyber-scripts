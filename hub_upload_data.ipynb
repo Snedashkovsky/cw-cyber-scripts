{
 "cells": [
  {
   "cell_type": "markdown",
   "source": [
    "# Upload Data to Hub Contracts"
   ],
   "metadata": {
    "collapsed": false
   }
  },
  {
   "cell_type": "code",
   "execution_count": 1,
   "outputs": [],
   "source": [
    "import json\n",
    "\n",
    "from cyber_sdk.client.lcd import LCDClient\n",
    "from cyberutils.contract import execute_contract\n",
    "\n",
    "from config import LCD_CLIENT\n",
    "\n",
    "WALLET_ADDRESS = 'bostrom1d8754xqa9245pctlfcyv8eah468neqzn3a0y0t'\n",
    "\n",
    "MEMO = 'add entry'\n",
    "\n",
    "HUB_CONTRACTS = {\n",
    "    'protocols': 'bostrom1latjl5jde9x7ndu0c9qr4ceyzvyr0ngs95fydqhx8xa6t0md7h4sryuzz0',\n",
    "    'networks': 'bostrom1ka63rny987cfu79jpfaytn4rjepz4q8na4gtgdz83r79p0yy84gqy6kc8k',\n",
    "    'channels': 'bostrom1jsc2h2t2r4vpytz0ashmvpt5pqnyqculjq9t9vwy2p5wcu64xytqmzcdvj',\n",
    "    'tokens': 'bostrom1969quzze7w7a79gy42cnus5t67sgmu6t2yw059arfyn8fzs3hpzs7zjfkx',\n",
    "    'skills': 'bostrom1ejm29m279e8x4ltf3ksqm443fsdql9rmtuyth6vssmxl72af5yzqrt2mku',\n",
    "    'contracts': 'bostrom1cfa46qr4ca4n75eys534fzmdtgce9zscvlzfq8fgt4sk6gc250hssks43s'}\n",
    "\n",
    "UPLOAD_HUB = {\n",
    "    'protocols': True,\n",
    "    'networks': True,\n",
    "    'channels': True,\n",
    "    'tokens': True,\n",
    "    'skills': True,\n",
    "    'contracts': True\n",
    "}\n",
    "\n",
    "REQUIRED_KEYS = {\n",
    "    'protocols': ['data_type'],\n",
    "    'networks': ['chain_id', 'genesis_hash', 'logo', 'name', 'prefix', 'protocol', 'unbonding_period'],\n",
    "    'channels': ['active', 'destination_chain_id', 'destination_channel_id', 'explorer_url', 'source_chain_id', 'source_channel_id'],\n",
    "    'tokens': ['chain_id', 'channel', 'contract', 'decimals', 'logo', 'ticker'],\n",
    "    'skills': ['endpoint', 'network', 'neuron', 'protocol'],\n",
    "    'contracts': ['address', 'chain_id', 'execute_cid', 'query_cid', 'version']\n",
    "}\n",
    "\n",
    "UPLOAD_DATA_FILES = {k: f'data/{k}.csv' for k in HUB_CONTRACTS.keys()}\n",
    "TX_FILES = {k: f'txs/tx_{k}_upload_hub_unsigned.json' for k in HUB_CONTRACTS.keys()}\n",
    "\n",
    "FEE_DENOM = 'boot'"
   ],
   "metadata": {
    "collapsed": false,
    "ExecuteTime": {
     "start_time": "2023-05-13T13:17:52.373984Z",
     "end_time": "2023-05-13T13:17:52.608227Z"
    }
   }
  },
  {
   "cell_type": "markdown",
   "source": [
    "## Create Entries"
   ],
   "metadata": {
    "collapsed": false
   }
  },
  {
   "cell_type": "code",
   "execution_count": 2,
   "outputs": [],
   "source": [
    "def hub_upload(\n",
    "        tx_unsigned_file_name: str,\n",
    "        items_for_upload: list[dict],\n",
    "        contract_address: str,\n",
    "        required_keys: list[str],\n",
    "        sender: str = WALLET_ADDRESS,\n",
    "        lcd_client: LCDClient = LCD_CLIENT,\n",
    "        fee_denom: str = 'boot',\n",
    "        memo='add entry') -> dict:\n",
    "    _execute_msgs = []\n",
    "    for _item_for_upload in items_for_upload:\n",
    "        assert all(_item in _item_for_upload.keys() for _item in required_keys)\n",
    "        _execute_msg = {'CreateEntry': _item_for_upload}\n",
    "        _execute_msgs.append(_execute_msg)\n",
    "    _tx_unsigned = execute_contract(\n",
    "        execute_msgs=_execute_msgs,\n",
    "        contract_address=contract_address,\n",
    "        sender=sender,\n",
    "        lcd_client=lcd_client,\n",
    "        fee_denom=fee_denom,\n",
    "        sign_and_broadcast_tx=False,\n",
    "        memo=memo\n",
    "    )\n",
    "    with open(tx_unsigned_file_name, 'w') as _tx_unsigned_file:\n",
    "        _tx_unsigned_file.write(json.dumps(_tx_unsigned.to_data()))\n",
    "    return _tx_unsigned.to_data()"
   ],
   "metadata": {
    "collapsed": false,
    "ExecuteTime": {
     "start_time": "2023-05-13T13:11:37.418885Z",
     "end_time": "2023-05-13T13:11:37.420765Z"
    }
   }
  },
  {
   "cell_type": "markdown",
   "source": [
    "### Data fields\n",
    "- protocols: 'data_type', 'particle'\n",
    "- networks: 'chain_id', 'genesis_hash', 'logo', 'name', 'prefix', 'protocol', 'unbonding_period', 'particle'\n",
    "- channels: 'active', 'destination_chain_id', 'destination_channel_id', 'explorer_url', 'source_chain_id', 'source_channel_id', 'particle'\n",
    "- tokens: 'chain_id', 'channel', 'contract', 'decimals', 'logo', 'ticker', 'particle'\n",
    "- skills: 'endpoint', 'network', 'neuron', 'protocol', 'particle'\n",
    "- contracts: 'address', 'chain_id', 'execute_cid', 'query_cid', 'version', 'particle'\n",
    "\n",
    "`particle` field is optional"
   ],
   "metadata": {
    "collapsed": false
   }
  },
  {
   "cell_type": "code",
   "execution_count": 3,
   "outputs": [],
   "source": [
    "tx_unsigned_data = {}\n",
    "for contract_name in HUB_CONTRACTS.keys():\n",
    "    data_for_upload = {} # load from UPLOAD_DATA_FILES[contract_name]\n",
    "    if UPLOAD_HUB[contract_name]:\n",
    "        tx_unsigned_data[contract_name] = hub_upload(\n",
    "            tx_unsigned_file_name=TX_FILES[contract_name],\n",
    "            items_for_upload=data_for_upload,\n",
    "            contract_address=HUB_CONTRACTS[contract_name],\n",
    "            required_keys=REQUIRED_KEYS[contract_name]\n",
    "        )\n",
    "\n",
    "tx_unsigned_data"
   ],
   "metadata": {
    "collapsed": false,
    "ExecuteTime": {
     "start_time": "2023-05-13T13:11:37.421675Z",
     "end_time": "2023-05-13T13:11:37.422968Z"
    }
   }
  },
  {
   "cell_type": "code",
   "execution_count": 3,
   "outputs": [],
   "source": [],
   "metadata": {
    "collapsed": false,
    "ExecuteTime": {
     "start_time": "2023-05-13T13:11:37.423636Z",
     "end_time": "2023-05-13T13:11:37.425307Z"
    }
   }
  }
 ],
 "metadata": {
  "kernelspec": {
   "display_name": "Python 3",
   "language": "python",
   "name": "python3"
  },
  "language_info": {
   "codemirror_mode": {
    "name": "ipython",
    "version": 2
   },
   "file_extension": ".py",
   "mimetype": "text/x-python",
   "name": "python",
   "nbconvert_exporter": "python",
   "pygments_lexer": "ipython2",
   "version": "2.7.6"
  }
 },
 "nbformat": 4,
 "nbformat_minor": 0
}
