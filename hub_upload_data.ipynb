{
 "cells": [
  {
   "cell_type": "markdown",
   "source": [
    "# Upload Data to Hub Contracts"
   ],
   "metadata": {
    "collapsed": false
   }
  },
  {
   "cell_type": "code",
   "execution_count": 1,
   "outputs": [],
   "source": [
    "import json\n",
    "\n",
    "from cyber_sdk.client.lcd import LCDClient\n",
    "from cyberutils.contract import execute_contract\n",
    "\n",
    "from config import LCD_CLIENT\n",
    "\n",
    "\n",
    "WALLET_ADDRESS = 'bostrom1d8754xqa9245pctlfcyv8eah468neqzn3a0y0t'\n",
    "\n",
    "MEMO = 'add entry'\n",
    "\n",
    "HUB_CONTRACTS = {\n",
    "    'protocols': 'bostrom1latjl5jde9x7ndu0c9qr4ceyzvyr0ngs95fydqhx8xa6t0md7h4sryuzz0',\n",
    "    'networks': 'bostrom1ka63rny987cfu79jpfaytn4rjepz4q8na4gtgdz83r79p0yy84gqy6kc8k',\n",
    "    'channels': 'bostrom1jsc2h2t2r4vpytz0ashmvpt5pqnyqculjq9t9vwy2p5wcu64xytqmzcdvj',\n",
    "    'tokens': 'bostrom1969quzze7w7a79gy42cnus5t67sgmu6t2yw059arfyn8fzs3hpzs7zjfkx',\n",
    "    'skills': 'bostrom1ejm29m279e8x4ltf3ksqm443fsdql9rmtuyth6vssmxl72af5yzqrt2mku',\n",
    "    'contracts': 'bostrom1cfa46qr4ca4n75eys534fzmdtgce9zscvlzfq8fgt4sk6gc250hssks43s'}\n",
    "\n",
    "UPLOAD_HUB = {\n",
    "    'protocols': True,\n",
    "    'networks': True,\n",
    "    'channels': True,\n",
    "    'tokens': True,\n",
    "    'skills': True,\n",
    "    'contracts': True\n",
    "}\n",
    "\n",
    "REQUIRED_KEYS = {\n",
    "    'protocols': ['data_type'],\n",
    "    'networks': ['chain_id', 'genesis_hash', 'logo', 'name', 'prefix', 'protocol', 'unbonding_period'],\n",
    "    'channels': ['active', 'destination_chain_id', 'destination_channel_id', 'explorer_url', 'source_chain_id', 'source_channel_id'],\n",
    "    'tokens': ['chain_id', 'channel', 'contract', 'decimals', 'logo', 'ticker'],\n",
    "    'skills': ['endpoint', 'network', 'neuron', 'protocol'],\n",
    "    'contracts': ['address', 'chain_id', 'execute_cid', 'query_cid', 'version']\n",
    "}\n",
    "\n",
    "UPLOAD_DATA_FILES = {k: f'data/{k}.csv' for k in HUB_CONTRACTS.keys()}\n",
    "TX_FILES = {k: f'txs/tx_{k}_upload_hub_unsigned.json' for k in HUB_CONTRACTS.keys()}\n",
    "\n",
    "FEE_DENOM = 'boot'"
   ],
   "metadata": {
    "collapsed": false,
    "ExecuteTime": {
     "start_time": "2023-05-15T16:25:25.824987Z",
     "end_time": "2023-05-15T16:25:26.315620Z"
    }
   }
  },
  {
   "cell_type": "markdown",
   "source": [
    "## Create Entries"
   ],
   "metadata": {
    "collapsed": false
   }
  },
  {
   "cell_type": "code",
   "execution_count": 2,
   "outputs": [],
   "source": [
    "def hub_upload(\n",
    "        tx_unsigned_file_name: str,\n",
    "        items_for_upload: list[dict],\n",
    "        contract_address: str,\n",
    "        required_keys: list[str],\n",
    "        sender: str = WALLET_ADDRESS,\n",
    "        lcd_client: LCDClient = LCD_CLIENT,\n",
    "        fee_denom: str = 'boot',\n",
    "        gas: int = 5_000_000,\n",
    "        memo='add entry') -> dict:\n",
    "    _execute_msgs = []\n",
    "    for _item_for_upload in items_for_upload:\n",
    "        assert all(_item in _item_for_upload.keys() for _item in required_keys)\n",
    "        _execute_msg = {'CreateEntry': _item_for_upload}\n",
    "        _execute_msgs.append(_execute_msg)\n",
    "    _tx_unsigned = execute_contract(\n",
    "        execute_msgs=_execute_msgs,\n",
    "        contract_address=contract_address,\n",
    "        sender=sender,\n",
    "        lcd_client=lcd_client,\n",
    "        fee_denom=fee_denom,\n",
    "        gas=gas,\n",
    "        sign_and_broadcast_tx=False,\n",
    "        memo=memo\n",
    "    )\n",
    "    with open(tx_unsigned_file_name, 'w') as _tx_unsigned_file:\n",
    "        _tx_unsigned_file.write(json.dumps(_tx_unsigned.to_data()))\n",
    "    return _tx_unsigned.to_data()"
   ],
   "metadata": {
    "collapsed": false,
    "ExecuteTime": {
     "start_time": "2023-05-15T16:25:26.315132Z",
     "end_time": "2023-05-15T16:25:26.315774Z"
    }
   }
  },
  {
   "cell_type": "markdown",
   "source": [
    "### Data fields\n",
    "- protocols: 'data_type', 'particle'\n",
    "- networks: 'chain_id', 'genesis_hash', 'logo', 'name', 'prefix', 'protocol', 'unbonding_period', 'particle'\n",
    "- channels: 'active', 'destination_chain_id', 'destination_channel_id', 'explorer_url', 'source_chain_id', 'source_channel_id', 'particle'\n",
    "- tokens: 'chain_id', 'channel', 'contract', 'decimals', 'logo', 'ticker', 'particle'\n",
    "- skills: 'endpoint', 'network', 'neuron', 'protocol', 'particle'\n",
    "- contracts: 'address', 'chain_id', 'execute_cid', 'query_cid', 'version', 'particle'\n",
    "\n",
    "`particle` field is optional"
   ],
   "metadata": {
    "collapsed": false
   }
  },
  {
   "cell_type": "code",
   "execution_count": 3,
   "outputs": [],
   "source": [
    "tx_unsigned_data = {}\n",
    "for contract_name in HUB_CONTRACTS.keys():\n",
    "    if UPLOAD_HUB[contract_name] and contract_name in ('protocols', 'networks'):\n",
    "        with open(f'data/{contract_name}.json', 'r') as file:\n",
    "            data_for_upload = json.load(file)\n",
    "        tx_unsigned_data[contract_name] = hub_upload(\n",
    "            tx_unsigned_file_name=TX_FILES[contract_name],\n",
    "            items_for_upload=data_for_upload,\n",
    "            contract_address=HUB_CONTRACTS[contract_name],\n",
    "            required_keys=REQUIRED_KEYS[contract_name]\n",
    "        )"
   ],
   "metadata": {
    "collapsed": false,
    "ExecuteTime": {
     "start_time": "2023-05-15T16:25:26.315171Z",
     "end_time": "2023-05-15T16:25:29.209696Z"
    }
   }
  },
  {
   "cell_type": "code",
   "execution_count": 4,
   "outputs": [
    {
     "data": {
      "text/plain": "{'body': {'messages': [{'type': '/cosmwasm.wasm.v1.MsgExecuteContract',\n    'value': {'_serialized_on_wire': True,\n     'sender': 'bostrom1d8754xqa9245pctlfcyv8eah468neqzn3a0y0t',\n     'contract': 'bostrom1latjl5jde9x7ndu0c9qr4ceyzvyr0ngs95fydqhx8xa6t0md7h4sryuzz0',\n     'execute_msg': {'CreateEntry': {'data_type': 'ipfs-gateway'}},\n     'coins': []}},\n   {'type': '/cosmwasm.wasm.v1.MsgExecuteContract',\n    'value': {'_serialized_on_wire': True,\n     'sender': 'bostrom1d8754xqa9245pctlfcyv8eah468neqzn3a0y0t',\n     'contract': 'bostrom1latjl5jde9x7ndu0c9qr4ceyzvyr0ngs95fydqhx8xa6t0md7h4sryuzz0',\n     'execute_msg': {'CreateEntry': {'data_type': 'cyber-rpc'}},\n     'coins': []}},\n   {'type': '/cosmwasm.wasm.v1.MsgExecuteContract',\n    'value': {'_serialized_on_wire': True,\n     'sender': 'bostrom1d8754xqa9245pctlfcyv8eah468neqzn3a0y0t',\n     'contract': 'bostrom1latjl5jde9x7ndu0c9qr4ceyzvyr0ngs95fydqhx8xa6t0md7h4sryuzz0',\n     'execute_msg': {'CreateEntry': {'data_type': 'cyber-ws'}},\n     'coins': []}},\n   {'type': '/cosmwasm.wasm.v1.MsgExecuteContract',\n    'value': {'_serialized_on_wire': True,\n     'sender': 'bostrom1d8754xqa9245pctlfcyv8eah468neqzn3a0y0t',\n     'contract': 'bostrom1latjl5jde9x7ndu0c9qr4ceyzvyr0ngs95fydqhx8xa6t0md7h4sryuzz0',\n     'execute_msg': {'CreateEntry': {'data_type': 'cosmos-rpc'}},\n     'coins': []}},\n   {'type': '/cosmwasm.wasm.v1.MsgExecuteContract',\n    'value': {'_serialized_on_wire': True,\n     'sender': 'bostrom1d8754xqa9245pctlfcyv8eah468neqzn3a0y0t',\n     'contract': 'bostrom1latjl5jde9x7ndu0c9qr4ceyzvyr0ngs95fydqhx8xa6t0md7h4sryuzz0',\n     'execute_msg': {'CreateEntry': {'data_type': 'cosmos-ws'}},\n     'coins': []}},\n   {'type': '/cosmwasm.wasm.v1.MsgExecuteContract',\n    'value': {'_serialized_on_wire': True,\n     'sender': 'bostrom1d8754xqa9245pctlfcyv8eah468neqzn3a0y0t',\n     'contract': 'bostrom1latjl5jde9x7ndu0c9qr4ceyzvyr0ngs95fydqhx8xa6t0md7h4sryuzz0',\n     'execute_msg': {'CreateEntry': {'data_type': 'osmosis-rpc'}},\n     'coins': []}},\n   {'type': '/cosmwasm.wasm.v1.MsgExecuteContract',\n    'value': {'_serialized_on_wire': True,\n     'sender': 'bostrom1d8754xqa9245pctlfcyv8eah468neqzn3a0y0t',\n     'contract': 'bostrom1latjl5jde9x7ndu0c9qr4ceyzvyr0ngs95fydqhx8xa6t0md7h4sryuzz0',\n     'execute_msg': {'CreateEntry': {'data_type': 'osmosis-ws'}},\n     'coins': []}},\n   {'type': '/cosmwasm.wasm.v1.MsgExecuteContract',\n    'value': {'_serialized_on_wire': True,\n     'sender': 'bostrom1d8754xqa9245pctlfcyv8eah468neqzn3a0y0t',\n     'contract': 'bostrom1latjl5jde9x7ndu0c9qr4ceyzvyr0ngs95fydqhx8xa6t0md7h4sryuzz0',\n     'execute_msg': {'CreateEntry': {'data_type': 'juno-rpc'}},\n     'coins': []}},\n   {'type': '/cosmwasm.wasm.v1.MsgExecuteContract',\n    'value': {'_serialized_on_wire': True,\n     'sender': 'bostrom1d8754xqa9245pctlfcyv8eah468neqzn3a0y0t',\n     'contract': 'bostrom1latjl5jde9x7ndu0c9qr4ceyzvyr0ngs95fydqhx8xa6t0md7h4sryuzz0',\n     'execute_msg': {'CreateEntry': {'data_type': 'juno-ws'}},\n     'coins': []}},\n   {'type': '/cosmwasm.wasm.v1.MsgExecuteContract',\n    'value': {'_serialized_on_wire': True,\n     'sender': 'bostrom1d8754xqa9245pctlfcyv8eah468neqzn3a0y0t',\n     'contract': 'bostrom1latjl5jde9x7ndu0c9qr4ceyzvyr0ngs95fydqhx8xa6t0md7h4sryuzz0',\n     'execute_msg': {'CreateEntry': {'data_type': 'gravity-rpc'}},\n     'coins': []}},\n   {'type': '/cosmwasm.wasm.v1.MsgExecuteContract',\n    'value': {'_serialized_on_wire': True,\n     'sender': 'bostrom1d8754xqa9245pctlfcyv8eah468neqzn3a0y0t',\n     'contract': 'bostrom1latjl5jde9x7ndu0c9qr4ceyzvyr0ngs95fydqhx8xa6t0md7h4sryuzz0',\n     'execute_msg': {'CreateEntry': {'data_type': 'gravity-ws'}},\n     'coins': []}},\n   {'type': '/cosmwasm.wasm.v1.MsgExecuteContract',\n    'value': {'_serialized_on_wire': True,\n     'sender': 'bostrom1d8754xqa9245pctlfcyv8eah468neqzn3a0y0t',\n     'contract': 'bostrom1latjl5jde9x7ndu0c9qr4ceyzvyr0ngs95fydqhx8xa6t0md7h4sryuzz0',\n     'execute_msg': {'CreateEntry': {'data_type': 'axelar-rpc'}},\n     'coins': []}},\n   {'type': '/cosmwasm.wasm.v1.MsgExecuteContract',\n    'value': {'_serialized_on_wire': True,\n     'sender': 'bostrom1d8754xqa9245pctlfcyv8eah468neqzn3a0y0t',\n     'contract': 'bostrom1latjl5jde9x7ndu0c9qr4ceyzvyr0ngs95fydqhx8xa6t0md7h4sryuzz0',\n     'execute_msg': {'CreateEntry': {'data_type': 'axelar-ws'}},\n     'coins': []}}],\n  'memo': 'add entry',\n  'timeout_height': '0'},\n 'auth_info': {'signer_infos': [],\n  'fee': {'gas_limit': '5000000',\n   'amount': [{'denom': 'boot', 'amount': '0'}],\n   'payer': '',\n   'granter': ''}},\n 'signatures': []}"
     },
     "execution_count": 4,
     "metadata": {},
     "output_type": "execute_result"
    }
   ],
   "source": [
    "tx_unsigned_data['protocols']"
   ],
   "metadata": {
    "collapsed": false,
    "ExecuteTime": {
     "start_time": "2023-05-15T16:25:29.209165Z",
     "end_time": "2023-05-15T16:25:29.210079Z"
    }
   }
  },
  {
   "cell_type": "code",
   "execution_count": 5,
   "outputs": [
    {
     "data": {
      "text/plain": "{'body': {'messages': [{'type': '/cosmwasm.wasm.v1.MsgExecuteContract',\n    'value': {'_serialized_on_wire': True,\n     'sender': 'bostrom1d8754xqa9245pctlfcyv8eah468neqzn3a0y0t',\n     'contract': 'bostrom1ka63rny987cfu79jpfaytn4rjepz4q8na4gtgdz83r79p0yy84gqy6kc8k',\n     'execute_msg': {'CreateEntry': {'chain_id': 'bostrom',\n       'genesis_hash': 'QmYubyVNfghD4xCrTFj26zBwrF9s5GJhi1TmxvrwmJCipr',\n       'logo': 'QmSVz41kA5aXttxT1rAXnuJecfazij3wh95X8ewd7Kdc2F',\n       'name': 'bostrom',\n       'prefix': 'bostrom',\n       'protocol': 'cyber-rpc',\n       'unbonding_period': '691200'}},\n     'coins': []}},\n   {'type': '/cosmwasm.wasm.v1.MsgExecuteContract',\n    'value': {'_serialized_on_wire': True,\n     'sender': 'bostrom1d8754xqa9245pctlfcyv8eah468neqzn3a0y0t',\n     'contract': 'bostrom1ka63rny987cfu79jpfaytn4rjepz4q8na4gtgdz83r79p0yy84gqy6kc8k',\n     'execute_msg': {'CreateEntry': {'chain_id': 'space-pussy',\n       'genesis_hash': 'QmTR1k469ZNJdmhT2WY67A6fccpj1pRkHTmnZZtYpPDnH7',\n       'logo': 'QmSdVMzpY9nuHZXZpvZdFbhhMf3nBGAe4JZ7e2Xdh6LMLr',\n       'name': 'space-pussy',\n       'prefix': 'pussy',\n       'protocol': 'cyber-rpc',\n       'unbonding_period': '2419200'}},\n     'coins': []}},\n   {'type': '/cosmwasm.wasm.v1.MsgExecuteContract',\n    'value': {'_serialized_on_wire': True,\n     'sender': 'bostrom1d8754xqa9245pctlfcyv8eah468neqzn3a0y0t',\n     'contract': 'bostrom1ka63rny987cfu79jpfaytn4rjepz4q8na4gtgdz83r79p0yy84gqy6kc8k',\n     'execute_msg': {'CreateEntry': {'chain_id': 'cosmoshub-4',\n       'genesis_hash': 'Qmc54DreioPpPDUdJW6bBTYUKepmcPsscfqsfFcFmTaVig',\n       'logo': 'QmTKr13S2qLoz9QiYmBrkfxkotLQohv78X1ZfuAmcs5rH6',\n       'name': 'cosmos',\n       'prefix': 'cosmos',\n       'protocol': 'cosmos-rpc',\n       'unbonding_period': '1814400'}},\n     'coins': []}},\n   {'type': '/cosmwasm.wasm.v1.MsgExecuteContract',\n    'value': {'_serialized_on_wire': True,\n     'sender': 'bostrom1d8754xqa9245pctlfcyv8eah468neqzn3a0y0t',\n     'contract': 'bostrom1ka63rny987cfu79jpfaytn4rjepz4q8na4gtgdz83r79p0yy84gqy6kc8k',\n     'execute_msg': {'CreateEntry': {'chain_id': 'osmosis-1',\n       'genesis_hash': 'QmXRvBT3hgoXwwPqbK6a2sXUuArGM8wPyo1ybskyyUwUxs',\n       'logo': 'QmREkHXDNxxKNa7RSWsztkT6iy8ghZuBpbjSAgGaQ3uGVr',\n       'name': 'osmosis',\n       'prefix': 'osmo',\n       'protocol': 'osmosis-rpc',\n       'unbonding_period': '1209600'}},\n     'coins': []}},\n   {'type': '/cosmwasm.wasm.v1.MsgExecuteContract',\n    'value': {'_serialized_on_wire': True,\n     'sender': 'bostrom1d8754xqa9245pctlfcyv8eah468neqzn3a0y0t',\n     'contract': 'bostrom1ka63rny987cfu79jpfaytn4rjepz4q8na4gtgdz83r79p0yy84gqy6kc8k',\n     'execute_msg': {'CreateEntry': {'chain_id': 'juno-1',\n       'genesis_hash': 'QmPJ2Q4D6GDbbU68ga5jQJ9AXpv7WcM63QEVRup6LMjzsb',\n       'logo': 'QmYKE9KZW7JPtGkvjwSusrzAzRt8UYUQ27SJmyGomu3RWu',\n       'name': 'juno',\n       'prefix': 'juno',\n       'protocol': 'juno-rpc',\n       'unbonding_period': '2419200'}},\n     'coins': []}},\n   {'type': '/cosmwasm.wasm.v1.MsgExecuteContract',\n    'value': {'_serialized_on_wire': True,\n     'sender': 'bostrom1d8754xqa9245pctlfcyv8eah468neqzn3a0y0t',\n     'contract': 'bostrom1ka63rny987cfu79jpfaytn4rjepz4q8na4gtgdz83r79p0yy84gqy6kc8k',\n     'execute_msg': {'CreateEntry': {'chain_id': 'gravity-bridge-3',\n       'genesis_hash': 'Qmed9LHnN2ovM4BdiJ2RPecB99PVK9yfFEV5FpwdDNiVsJ',\n       'logo': 'QmTEmFLmSU79tVpXJj1TvepN9Ujjwi77YRRSDewMnFeV8p',\n       'name': 'gravity bridge',\n       'prefix': 'gravity',\n       'protocol': 'gravity-rpc',\n       'unbonding_period': '1814400'}},\n     'coins': []}},\n   {'type': '/cosmwasm.wasm.v1.MsgExecuteContract',\n    'value': {'_serialized_on_wire': True,\n     'sender': 'bostrom1d8754xqa9245pctlfcyv8eah468neqzn3a0y0t',\n     'contract': 'bostrom1ka63rny987cfu79jpfaytn4rjepz4q8na4gtgdz83r79p0yy84gqy6kc8k',\n     'execute_msg': {'CreateEntry': {'chain_id': 'axelar-dojo-1',\n       'genesis_hash': 'QmZLQoafcmhLkYgZb7HMB15Fg6RfKs8Yro44tkrxwNBcTu',\n       'logo': 'QmW389aWTLgDS3q6DjWuP3VBGzfi3s1seAj7GqpkCpSdV4',\n       'name': 'axelar',\n       'prefix': 'axelar',\n       'protocol': 'axelar-rpc',\n       'unbonding_period': '604800'}},\n     'coins': []}}],\n  'memo': 'add entry',\n  'timeout_height': '0'},\n 'auth_info': {'signer_infos': [],\n  'fee': {'gas_limit': '5000000',\n   'amount': [{'denom': 'boot', 'amount': '0'}],\n   'payer': '',\n   'granter': ''}},\n 'signatures': []}"
     },
     "execution_count": 5,
     "metadata": {},
     "output_type": "execute_result"
    }
   ],
   "source": [
    "tx_unsigned_data['networks']"
   ],
   "metadata": {
    "collapsed": false,
    "ExecuteTime": {
     "start_time": "2023-05-15T16:25:29.209278Z",
     "end_time": "2023-05-15T16:25:29.210182Z"
    }
   }
  }
 ],
 "metadata": {
  "kernelspec": {
   "display_name": "Python 3",
   "language": "python",
   "name": "python3"
  },
  "language_info": {
   "codemirror_mode": {
    "name": "ipython",
    "version": 2
   },
   "file_extension": ".py",
   "mimetype": "text/x-python",
   "name": "python",
   "nbconvert_exporter": "python",
   "pygments_lexer": "ipython2",
   "version": "2.7.6"
  }
 },
 "nbformat": 4,
 "nbformat_minor": 0
}
