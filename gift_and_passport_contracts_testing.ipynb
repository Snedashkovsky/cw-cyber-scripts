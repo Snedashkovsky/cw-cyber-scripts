{
 "cells": [
  {
   "cell_type": "markdown",
   "source": [
    "## Gift Contract Testing"
   ],
   "metadata": {
    "collapsed": false
   }
  },
  {
   "cell_type": "code",
   "execution_count": 1,
   "outputs": [],
   "source": [
    "from web3.auto import w3\n",
    "import pandas as pd\n",
    "from cyberpy import generate_wallet, address_to_address\n",
    "from cyberpy._message_signer import Message\n",
    "from cyberpy._wallet import seed_to_privkey\n",
    "from eth_account.messages import encode_defunct\n",
    "import json\n",
    "from time import time\n",
    "import ipfshttpclient\n",
    "from tqdm.notebook import tqdm\n",
    "from base64 import b64encode\n",
    "from multiprocess import Pool\n",
    "from math import ceil\n",
    "from dotenv import dotenv_values\n",
    "import warnings\n",
    "\n",
    "from src.contract_utils import instantiate_contract, execute_contract_bash, query_contract, get_ipfs_cid_from_str, get_proofs, ContractUtils\n",
    "\n",
    "\n",
    "warnings.filterwarnings('ignore')\n",
    "\n",
    "ipfs_client = ipfshttpclient.connect()\n",
    "\n",
    "\n",
    "NUMBER_OF_PARTICIPANTS = 20\n",
    "NUMBER_OF_ACTIVATED_PARTICIPANTS = 5\n",
    "KEY_PHRASE = 'KEY PHRASE'\n",
    "NICKNAME_LIST = [f'john{round(time())}{number}' for number in range(NUMBER_OF_PARTICIPANTS)]\n",
    "AVATAR_CID_LIST = [get_ipfs_cid_from_str(_nickname + '_avatar') for _nickname in NICKNAME_LIST]\n",
    "CLAIM_AMOUNT_LIST = [1_000_000] * NUMBER_OF_PARTICIPANTS\n",
    "\n",
    "INITIAL_BALANCE = str(1_000_000_000)\n",
    "COEF_UP = str(13)\n",
    "COEF_DOWN = str(7)\n",
    "TARGET_CLAIM = str(2)\n",
    "\n",
    "WALLET_ADDRESS = dotenv_values('.env')['WALLET_ADDRESS']\n",
    "WALLET_SEED = dotenv_values('.env')['WALLET_SEED']\n",
    "DISPLAY_TX_EXECUTION = False\n",
    "TEST_ACCOUNT_ADDRESS = 'bostrom1mxdtr8lruutugqtxgpw2sf2tl2mhzlq5fd2du0'\n",
    "TEST_ACCOUNT_SEED = 'end spread blind steak install glare pride pony switch exit zone faint ' \\\n",
    "                    'opinion march layer illness can nest fence top debate monitor supreme noble'\n",
    "\n",
    "INIT_SUBGRAPH_CONTRACTS = False\n",
    "SUBGRAPH_CODE_ID = str(40)\n",
    "NAME_SUBGRAPH_CONTRACT_ADDRESS = 'bostrom1rncw9n73gm30vhrv6e4p603hav0gue8y5y9fgqa84k4atf5pqvfqcrnpl6'\n",
    "AVATAR_SUBGRAPH_CONTRACT_ADDRESS = 'bostrom164w2vl7z7lpuvex6z3ru0v55fgq3dmvxuqt0aejp49w7fyc8g6kshreggq'\n",
    "PROOF_SUBGRAPH_CONTRACT_ADDRESS = 'bostrom1543j9n7slzff3curyac7ylf2ctg7rk9zjf9ehj08eqx57xj33zzqdy6ga4'\n",
    "\n",
    "INIT_PASSPORT_CONTRACT = False\n",
    "PASSPORT_CODE_ID = str(43)\n",
    "PASSPORT_CONTRACT_ADDRESS = 'bostrom1g59m935w4kxmtfx5hhykre7w9q497ptp66asspz76vhgarss5ensdy35s8'\n",
    "\n",
    "INIT_GIFT_CONTRACT = True\n",
    "GIFT_CODE_ID = str(20)\n",
    "GIFT_CONTRACT_ADDRESS = 'bostrom1rt2acjyhs4jfjdq56pftpu7762hy9gfl63je6fnhwrc5p5y4kmuqxg0262'\n",
    "\n",
    "ROOT_SOURCE_FILE_NAME = 'temp/root_testing_source_' + str(NUMBER_OF_PARTICIPANTS) + '_addresses.json'\n",
    "PROOF_FILE_NAME = 'temp/proof_testing_' + str(NUMBER_OF_PARTICIPANTS) + '_addresses.json'\n",
    "ROOT_FILE_NAME = 'temp/root_testing_' + str(NUMBER_OF_PARTICIPANTS) + '_addresses'"
   ],
   "metadata": {
    "collapsed": false
   }
  },
  {
   "cell_type": "markdown",
   "source": [
    "### Generate addresses and sign messages"
   ],
   "metadata": {
    "collapsed": false
   }
  },
  {
   "cell_type": "code",
   "execution_count": 2,
   "outputs": [
    {
     "data": {
      "text/plain": "  0%|          | 0/20 [00:00<?, ?it/s]",
      "application/vnd.jupyter.widget-view+json": {
       "version_major": 2,
       "version_minor": 0,
       "model_id": "abefca7dada5441fb68c5c41021ba26d"
      }
     },
     "metadata": {},
     "output_type": "display_data"
    },
    {
     "data": {
      "text/plain": "     amount          nickname                                          avatar  \\\n0   1000000   john16748806430  QmbQn4imCYtCqmkdEt1kSmrCLUb87UCmd5p3caNxhaXSJ3   \n1   1000000   john16748806431  QmNSQ93hn6vwZHHJbaMfbEgj4NibH6rNY2LJwjavT3hngJ   \n2   1000000   john16748806432  QmeeR8eFdYyNh2NXCKxtNJpFd7eHuj3yLQdUZ9cXEwpFaq   \n3   1000000   john16748806433  QmRXgMj8koWVMWeZ6rr92jUVpyWwwxDBPgDuzzFk2jQQnC   \n4   1000000   john16748806434  Qmf96YofNsG2x8WFoz43x2Bc4W2Ur8ecUeMBsd3YHpGs8v   \n5   1000000   john16748806435  Qma6GeKs5YYufuZRVBLopx1G9XPPGVr3ArpAaoJZtovLLk   \n6   1000000   john16748806436  Qmd65iPvo5Ht7J3j2fibauhDqZWWHg4KDkEikzS2Yt3SiS   \n7   1000000   john16748806437  QmSKB8mPLWT4mB4gc3X1KDuYbKhXycpWrdkxG4mcfNeULj   \n8   1000000   john16748806438  QmW92sDY49X9g1coXrJ2wQbP6fm9PKKWUn6Rti5rAevzka   \n9   1000000   john16748806439  QmXQ28vwhn3rxJVEJuRqbvMNSod9UcErR2Gya3B12wBnvY   \n10  1000000  john167488064310  QmcLZBfoxUD7g8CiudSLH6VDTpr3RdH56ujb6K7yw2S5FX   \n11  1000000  john167488064311  Qma6dhkVJr27xNWJofh6tFQ8uXgDkA92pzqjF1GbgNU4Zu   \n12  1000000  john167488064312  QmaqciWp8ExkVaMTqt3x9dAgy3GmM8rCBEYjv9rz8FKaKz   \n13  1000000  john167488064313  QmQnSmEt2d7UHeGo4hyiv45AEziAgmedvb8sHDaWGCYteH   \n14  1000000  john167488064314  QmabBJh6wfJTjrpWZYijw9GAUKz5vYxEcFTja8i1P87uba   \n15  1000000  john167488064315  QmV8Vybova5ma3tL8qqa9KtCp3DvEGGKALQSSyNJ4JuTHS   \n16  1000000  john167488064316  QmR5qHFMLzm6PSmc8SMNda2xRXUEsuF4xkxCuQdfKzypmy   \n17  1000000  john167488064317  Qmea4DzY79C9dXQmdM4QuyLrVCLW3PP4dMBA1MxN6pwEbY   \n18  1000000  john167488064318  QmZwXboe5hyXSfWyxP59F8g6WHq8cPXoAN74jv2qU4tKGU   \n19  1000000  john167488064319  QmSNKPKS3xYBR4oe39jR5qinkaHxz9447TmiPf4roRcv6X   \n\n                              ethereum_address  \\\n0   0xe8abd810b6ea9b9809b11bdd93b7290bca942730   \n1   0xeb63a8eb287ff181e655c7a9318f1af04b1d3d63   \n2   0xbd2dfeae254034ef5bb913028253b84cfe568dbd   \n3   0x9fe16b5b04966ddbff6a544b808507429dc3e0e6   \n4   0x2a02c345e00d1c8970bfbe9b25e82d36ac94fdf0   \n5   0x8a233f31f47273022d0ff597b7837daed2d7377d   \n6   0xbbc0a3e0cda63ec7a1abdfd781dc4e427b607860   \n7   0xd57534ed8db568b26776c44c26c205ea4523822c   \n8   0x282304cf904faa181e094306f72a9a4fc03f9354   \n9   0x75f76d040ae9b44610bcf22d23fb1e66784441f1   \n10  0x6ec86fba57065b2f76027c92120e1860b7465644   \n11  0x7910bdb9f5ddac0b85d4f73874ec8ee956b254e6   \n12  0xf1f98cab55a9d581e08777c9090ac8124aeae175   \n13  0x170ae737cffce59ae77e9d1a07998417a7107fa3   \n14  0x6336d8f1c59d1fa547582a89e14dab306a9fdf34   \n15  0x4c8052d4f6b3baeb51bd9ab266b014998729c49d   \n16  0xd2df23961c0950272116f8a10e7679e843e64308   \n17  0xd20f002d46e20da9ad622cb84a4d22d4da035e7d   \n18  0x8f2e3e18fd21d1a3df322fd09a7b583dde0249f3   \n19  0x2fa6d19d9e27a609139b4c407a086950e540872c   \n\n                                 ethereum_private_key  \\\n0   0x12f8ca97f3153f4dd3860f242dc6a628c33f69fef6cd...   \n1   0xaf6b104f38211efd0a1b2e927dda46e9469ea0f7ac53...   \n2   0xfa3020be37091cf53d2e3f7b33821f60d3e5440755c6...   \n3   0x7ce62e59f3b464e53a561309adf1d1eac5e56d823178...   \n4   0xc136ebdfa7a74f3e74411841d484f3125fbfbe5116f2...   \n5   0x2e610c9335f5a42952557ab8bee4fb4988753be21844...   \n6   0xa60dff9600344609c9f81215dcd32b46a22ed264f609...   \n7   0x360d9b0cb6d3c3f248b96117e360c2654b3c5c58e70b...   \n8   0x32de2e746d16b1fa6f51b3708f5f4c2b6ac156082dcb...   \n9   0x76fe814a23a4bdf9c85f018d92d570e75d81edbef840...   \n10  0xff784960f0d7ad95504613a8dad101ff176b01cf0571...   \n11  0x4eaf98b7d8b07f312e1038d0c2b420c86519a6b7ad13...   \n12  0x23c490b9d47b5b001155bd695f1b9a10ec6c37de1e3f...   \n13  0x719624de47992eaa33cd4b58cbab7ceeffcbbf5f7f37...   \n14  0xf7eb5cf535e8020ed82d0efcf0f90db7d74ab492090a...   \n15  0x266dee27361359c200a7f37d18414e91bbe23acf25a8...   \n16  0x92cad59d2d40ba708f594e443d820fb84ba64de2d46c...   \n17  0x9f7a12eb32d3aadd8ef40b7642c0835643569bf2e322...   \n18  0x78aa813560e6155365e192d23e2a4c621c53cfd98ef9...   \n19  0xc1c6240ea4682efe303b11e930f52ea85cc7c32728e6...   \n\n                                   bostrom_address  \\\n0   bostrom10c5kc3c0l5jq6xckx8ykwuadynaghye9qzantt   \n1   bostrom1m6sckk9pac80z3der6vu747luhsncxgdarjrdg   \n2   bostrom163ankknvlgykce3a8d6gp4hgvyp5g8ag2hvgn0   \n3   bostrom136mj3yrmmad52jvz2x729gh8jmmpv0936qffme   \n4   bostrom140smzep6sxn3cg0fyquctu8e528mr5m3yr3spz   \n5   bostrom1vqng698sujsu6kjkaufjsdpyw09lk6kw8necmk   \n6   bostrom15n6vl4t3v52v55xufptwf76937zc2nftaj5yuy   \n7   bostrom13t5dvpc043kc0lttz8guvsaf6446g0urwl3805   \n8   bostrom1kz0g9a3w093fh9lqx2mlgpyv4jq54sflklw7dr   \n9   bostrom1wv0xraxggdg3zvw8c9nqklx7vd24an4wqzfl7j   \n10  bostrom1qq3rvkuqz0meuwa9uxlssmf9ldj9fx7zsmeswt   \n11  bostrom1wjcucyv74nqfgs4jefwqz574jpq6da0zx06l5p   \n12  bostrom1ps9uhuleazusvgtl9jqjw54h9vt4vp2fjky2lf   \n13  bostrom1u22zgfx6sp66x93fjtpxlt24e5tlxkm06h9zjn   \n14  bostrom10pjncsq7e0yk5anqt7zr9hjqpv6py5um24q58d   \n15  bostrom1rrcrpklfuwjm2wk3dfm4s6d2y22u2u7jrxkxk3   \n16  bostrom1ng9spxmurnrtxsg4gs0tmgguj268qj8e6au0ll   \n17  bostrom14rw7ccdm9u83xgg4lgm2kvk3v48qdlule3v6ph   \n18  bostrom1agrducx4e29khmpe6kp02v5jhxmyh3z0vptp9y   \n19  bostrom1q4g9k88ssfapjxvtufstny6gvfmm5x3ksdeuxe   \n\n                                   cosmos_address  \\\n0   cosmos10c5kc3c0l5jq6xckx8ykwuadynaghye9r3fq4v   \n1   cosmos1m6sckk9pac80z3der6vu747luhsncxgd7sxsn0   \n2   cosmos163ankknvlgykce3a8d6gp4hgvyp5g8agfycmdg   \n3   cosmos136mj3yrmmad52jvz2x729gh8jmmpv093ena697   \n4   cosmos140smzep6sxn3cg0fyquctu8e528mr5m38s9rl9   \n5   cosmos1vqng698sujsu6kjkaufjsdpyw09lk6kwyqdt93   \n6   cosmos15n6vl4t3v52v55xufptwf76937zc2nft7pqhzr   \n7   cosmos13t5dvpc043kc0lttz8guvsaf6446g0urdv953n   \n8   cosmos1kz0g9a3w093fh9lqx2mlgpyv4jq54sfl4v6dny   \n9   cosmos1wv0xraxggdg3zvw8c9nqklx7vd24an4wr3avq4   \n10  cosmos1qq3rvkuqz0meuwa9uxlssmf9ldj9fx7zngdrsv   \n11  cosmos1wjcucyv74nqfgs4jefwqz574jpq6da0z9uwv2x   \n12  cosmos1ps9uhuleazusvgtl9jqjw54h9vt4vp2f39sepw   \n13  cosmos1u22zgfx6sp66x93fjtpxlt24e5tlxkm0ey33v5   \n14  cosmos10pjncsq7e0yk5anqt7zr9hjqpv6py5umfx58e2   \n15  cosmos1rrcrpklfuwjm2wk3dfm4s6d2y22u2u7jq4z4gk   \n16  cosmos1ng9spxmurnrtxsg4gs0tmgguj268qj8eewgupc   \n17  cosmos14rw7ccdm9u83xgg4lgm2kvk3v48qdlul6zcfls   \n18  cosmos1agrducx4e29khmpe6kp02v5jhxmyh3z00jljmr   \n19  cosmos1q4g9k88ssfapjxvtufstny6gvfmm5x3kn7d0c7   \n\n                                          cosmos_seed  \\\n0   sample measure drop fade grape erode upset bus...   \n1   local lunar ensure sick unfair citizen small d...   \n2   salt brick climb crush dash raise flock trap r...   \n3   island found calm toss athlete lounge mad leaf...   \n4   tackle witness glide sight vacant hair armor f...   \n5   equip pig toss truck palm resource refuse soda...   \n6   curtain flat galaxy auto blade deliver staff p...   \n7   strategy sadness just trend slow few corn rib ...   \n8   pudding aspect learn live assume horn hobby py...   \n9   piece life tired ugly all prefer average paren...   \n10  crisp super roast lava enemy luggage sudden ri...   \n11  protect spoon eager transfer chapter turkey li...   \n12  social beach voice beauty stick ghost drift ne...   \n13  nation moral rough quantum guide arch island l...   \n14  mind bless run tourist vocal blouse seed alien...   \n15  history render crunch lemon curve cram buzz at...   \n16  they firm creek report erupt robot travel moni...   \n17  voyage derive face hat list artwork direct net...   \n18  visual mimic field slender powder found resour...   \n19  grit stock spoil pair mushroom daughter can sn...   \n\n                                              message  \\\n0   bostrom10c5kc3c0l5jq6xckx8ykwuadynaghye9qzantt...   \n1   bostrom1m6sckk9pac80z3der6vu747luhsncxgdarjrdg...   \n2   bostrom163ankknvlgykce3a8d6gp4hgvyp5g8ag2hvgn0...   \n3   bostrom136mj3yrmmad52jvz2x729gh8jmmpv0936qffme...   \n4   bostrom140smzep6sxn3cg0fyquctu8e528mr5m3yr3spz...   \n5   bostrom1vqng698sujsu6kjkaufjsdpyw09lk6kw8necmk...   \n6   bostrom15n6vl4t3v52v55xufptwf76937zc2nftaj5yuy...   \n7   bostrom13t5dvpc043kc0lttz8guvsaf6446g0urwl3805...   \n8   bostrom1kz0g9a3w093fh9lqx2mlgpyv4jq54sflklw7dr...   \n9   bostrom1wv0xraxggdg3zvw8c9nqklx7vd24an4wqzfl7j...   \n10  bostrom1qq3rvkuqz0meuwa9uxlssmf9ldj9fx7zsmeswt...   \n11  bostrom1wjcucyv74nqfgs4jefwqz574jpq6da0zx06l5p...   \n12  bostrom1ps9uhuleazusvgtl9jqjw54h9vt4vp2fjky2lf...   \n13  bostrom1u22zgfx6sp66x93fjtpxlt24e5tlxkm06h9zjn...   \n14  bostrom10pjncsq7e0yk5anqt7zr9hjqpv6py5um24q58d...   \n15  bostrom1rrcrpklfuwjm2wk3dfm4s6d2y22u2u7jrxkxk3...   \n16  bostrom1ng9spxmurnrtxsg4gs0tmgguj268qj8e6au0ll...   \n17  bostrom14rw7ccdm9u83xgg4lgm2kvk3v48qdlule3v6ph...   \n18  bostrom1agrducx4e29khmpe6kp02v5jhxmyh3z0vptp9y...   \n19  bostrom1q4g9k88ssfapjxvtufstny6gvfmm5x3ksdeuxe...   \n\n                           ethereum_message_signature  \\\n0   0x2e357cb27b18acbd0669413c879c30e0843d84044a43...   \n1   0x2ded647adc461512ac78d5d8508f82d3fca196208278...   \n2   0xbf2de09e2b7b893df515c9d328fb7f3ef52b77f9134f...   \n3   0x76d04b5e4ec507a026288108eefad9b23f219060b2a6...   \n4   0x84346b0de96c73d4b55542cc3d10cdffb7c22ca810aa...   \n5   0x03cfc3b9749b5bc5f08970daf4474f5db39de0788581...   \n6   0x242efd3af565116d80a2c702858827586880bbeb8e51...   \n7   0xf51dd0c9f8c390ba52588a0754eb0d1ae5d546025e48...   \n8   0x4af0499b53db9dbabff11d4199eacd779cb9f43730e7...   \n9   0x14396bd136066243739e1b595d8ac6dd6f2c00bc851e...   \n10  0x0c8af3f5ae7f25c7597eee4979fbe9dd86047bf43f63...   \n11  0xcbd0ae39c5bc7fd3c41db0458708ec96bd2d66b55326...   \n12  0xcc896f8c7ae74a14c679f60b5da84e29e3164b1f4eeb...   \n13  0xa3ce1508e5995938e87b71e2d78f98c43f4f82432714...   \n14  0x2a67640bfde006223346c780948ba78f5524e9dd257a...   \n15  0xd82c654d08437627554d79be6eaa5be87ef20fb415ff...   \n16  0xac7dddbfda6f3efe2803a791c3b1890b730277baa47f...   \n17  0xc8d33665ad8a5a71fe2c4a4d8f31c082168cdd75d917...   \n18  0xf56084b568b1e6a45b068cddc8e5185d8d87c6d37f2c...   \n19  0x2f594a55b78b49a2da96efe1d4d9a746d16f93b8a1b8...   \n\n                            cosmos_message_signed_row  \\\n0   {'pub_key': 'A5W0gSZtVcKdoKz9WTMAAZS3kezkv3JTm...   \n1   {'pub_key': 'A0rzew97jRef4QQxx49SQRE9q2ovmCsIr...   \n2   {'pub_key': 'Ay8lHI9uF3ieOPOgikeHi9PWZ3jpKEmU7...   \n3   {'pub_key': 'A/G2IifIIkcj9J9kIwbK5BDvx/R486dns...   \n4   {'pub_key': 'AmAQ34fvv3Fj2cs7roZ59JHPi0fTNdrQO...   \n5   {'pub_key': 'A6t+uYHuGrfI+gwrH/RAh39D9KqGPXyzm...   \n6   {'pub_key': 'AtdwyfdUM8U+yATp46yFzjB+oiMMRzuWN...   \n7   {'pub_key': 'AlE4ak39YGfa5L14msEtpu/k2GN0IUodz...   \n8   {'pub_key': 'Am3YMGLb7qNwwi3hDsGSJ4Om1xj7uxzp4...   \n9   {'pub_key': 'AvACvnEDPDSa25bgyivSKKnEydk4s4Nyz...   \n10  {'pub_key': 'A/B6j8i1TMvIKwYjvlrsBv6ROCWGEeVJd...   \n11  {'pub_key': 'AqEEnRBZtlumK2gMBdk45nSNS+ojXkeGN...   \n12  {'pub_key': 'A5U3Q5K3g3s6nx8wpPUZAFfZOLrU1Zpal...   \n13  {'pub_key': 'A5NLhdmfkav99OP1KnwnC/hrlpzkoxWt6...   \n14  {'pub_key': 'AgPfyOsx6vi0WdvzbN9/kRvSHnhEcVHwF...   \n15  {'pub_key': 'Ag0AxXV356PM6w2v7kQUMDHt/Mm0aVM3j...   \n16  {'pub_key': 'Av+rllHLJ0rMSjZ5DhPRSSfT5k6WB5YaC...   \n17  {'pub_key': 'AyInf0qe0kLePUCoXD1CdoeWg/AXG/vAj...   \n18  {'pub_key': 'A6A0kau0mgRNMMVpvJfEXZ3lWa419wNtl...   \n19  {'pub_key': 'A3lIQKPcpSFoj7l0vD68syvdHPxH8U2Ig...   \n\n                             cosmos_message_signature  \n0   eyJwdWJfa2V5IjoiQTVXMGdTWnRWY0tkb0t6OVdUTUFBWl...  \n1   eyJwdWJfa2V5IjoiQTByemV3OTdqUmVmNFFReHg0OVNRUk...  \n2   eyJwdWJfa2V5IjoiQXk4bEhJOXVGM2llT1BPZ2lrZUhpOV...  \n3   eyJwdWJfa2V5IjoiQS9HMklpZklJa2NqOUo5a0l3Yks1Qk...  \n4   eyJwdWJfa2V5IjoiQW1BUTM0ZnZ2M0ZqMmNzN3JvWjU5Sk...  \n5   eyJwdWJfa2V5IjoiQTZ0K3VZSHVHcmZJK2d3ckgvUkFoMz...  \n6   eyJwdWJfa2V5IjoiQXRkd3lmZFVNOFUreUFUcDQ2eUZ6ak...  \n7   eyJwdWJfa2V5IjoiQWxFNGFrMzlZR2ZhNUwxNG1zRXRwdS...  \n8   eyJwdWJfa2V5IjoiQW0zWU1HTGI3cU53d2kzaERzR1NKNE...  \n9   eyJwdWJfa2V5IjoiQXZBQ3ZuRURQRFNhMjViZ3lpdlNLS2...  \n10  eyJwdWJfa2V5IjoiQS9CNmo4aTFUTXZJS3dZanZscnNCdj...  \n11  eyJwdWJfa2V5IjoiQXFFRW5SQlp0bHVtSzJnTUJkazQ1bl...  \n12  eyJwdWJfa2V5IjoiQTVVM1E1SzNnM3M2bng4d3BQVVpBRm...  \n13  eyJwdWJfa2V5IjoiQTVOTGhkbWZrYXY5OU9QMUtud25DL2...  \n14  eyJwdWJfa2V5IjoiQWdQZnlPc3g2dmkwV2R2emJOOS9rUn...  \n15  eyJwdWJfa2V5IjoiQWcwQXhYVjM1NlBNNncydjdrUVVNRE...  \n16  eyJwdWJfa2V5IjoiQXYrcmxsSExKMHJNU2paNURoUFJTU2...  \n17  eyJwdWJfa2V5IjoiQXlJbmYwcWUwa0xlUFVDb1hEMUNkb2...  \n18  eyJwdWJfa2V5IjoiQTZBMGthdTBtZ1JOTU1WcHZKZkVYWj...  \n19  eyJwdWJfa2V5IjoiQTNsSVFLUGNwU0ZvajdsMHZENjhzeX...  ",
      "text/html": "<div>\n<style scoped>\n    .dataframe tbody tr th:only-of-type {\n        vertical-align: middle;\n    }\n\n    .dataframe tbody tr th {\n        vertical-align: top;\n    }\n\n    .dataframe thead th {\n        text-align: right;\n    }\n</style>\n<table border=\"1\" class=\"dataframe\">\n  <thead>\n    <tr style=\"text-align: right;\">\n      <th></th>\n      <th>amount</th>\n      <th>nickname</th>\n      <th>avatar</th>\n      <th>ethereum_address</th>\n      <th>ethereum_private_key</th>\n      <th>bostrom_address</th>\n      <th>cosmos_address</th>\n      <th>cosmos_seed</th>\n      <th>message</th>\n      <th>ethereum_message_signature</th>\n      <th>cosmos_message_signed_row</th>\n      <th>cosmos_message_signature</th>\n    </tr>\n  </thead>\n  <tbody>\n    <tr>\n      <th>0</th>\n      <td>1000000</td>\n      <td>john16748806430</td>\n      <td>QmbQn4imCYtCqmkdEt1kSmrCLUb87UCmd5p3caNxhaXSJ3</td>\n      <td>0xe8abd810b6ea9b9809b11bdd93b7290bca942730</td>\n      <td>0x12f8ca97f3153f4dd3860f242dc6a628c33f69fef6cd...</td>\n      <td>bostrom10c5kc3c0l5jq6xckx8ykwuadynaghye9qzantt</td>\n      <td>cosmos10c5kc3c0l5jq6xckx8ykwuadynaghye9r3fq4v</td>\n      <td>sample measure drop fade grape erode upset bus...</td>\n      <td>bostrom10c5kc3c0l5jq6xckx8ykwuadynaghye9qzantt...</td>\n      <td>0x2e357cb27b18acbd0669413c879c30e0843d84044a43...</td>\n      <td>{'pub_key': 'A5W0gSZtVcKdoKz9WTMAAZS3kezkv3JTm...</td>\n      <td>eyJwdWJfa2V5IjoiQTVXMGdTWnRWY0tkb0t6OVdUTUFBWl...</td>\n    </tr>\n    <tr>\n      <th>1</th>\n      <td>1000000</td>\n      <td>john16748806431</td>\n      <td>QmNSQ93hn6vwZHHJbaMfbEgj4NibH6rNY2LJwjavT3hngJ</td>\n      <td>0xeb63a8eb287ff181e655c7a9318f1af04b1d3d63</td>\n      <td>0xaf6b104f38211efd0a1b2e927dda46e9469ea0f7ac53...</td>\n      <td>bostrom1m6sckk9pac80z3der6vu747luhsncxgdarjrdg</td>\n      <td>cosmos1m6sckk9pac80z3der6vu747luhsncxgd7sxsn0</td>\n      <td>local lunar ensure sick unfair citizen small d...</td>\n      <td>bostrom1m6sckk9pac80z3der6vu747luhsncxgdarjrdg...</td>\n      <td>0x2ded647adc461512ac78d5d8508f82d3fca196208278...</td>\n      <td>{'pub_key': 'A0rzew97jRef4QQxx49SQRE9q2ovmCsIr...</td>\n      <td>eyJwdWJfa2V5IjoiQTByemV3OTdqUmVmNFFReHg0OVNRUk...</td>\n    </tr>\n    <tr>\n      <th>2</th>\n      <td>1000000</td>\n      <td>john16748806432</td>\n      <td>QmeeR8eFdYyNh2NXCKxtNJpFd7eHuj3yLQdUZ9cXEwpFaq</td>\n      <td>0xbd2dfeae254034ef5bb913028253b84cfe568dbd</td>\n      <td>0xfa3020be37091cf53d2e3f7b33821f60d3e5440755c6...</td>\n      <td>bostrom163ankknvlgykce3a8d6gp4hgvyp5g8ag2hvgn0</td>\n      <td>cosmos163ankknvlgykce3a8d6gp4hgvyp5g8agfycmdg</td>\n      <td>salt brick climb crush dash raise flock trap r...</td>\n      <td>bostrom163ankknvlgykce3a8d6gp4hgvyp5g8ag2hvgn0...</td>\n      <td>0xbf2de09e2b7b893df515c9d328fb7f3ef52b77f9134f...</td>\n      <td>{'pub_key': 'Ay8lHI9uF3ieOPOgikeHi9PWZ3jpKEmU7...</td>\n      <td>eyJwdWJfa2V5IjoiQXk4bEhJOXVGM2llT1BPZ2lrZUhpOV...</td>\n    </tr>\n    <tr>\n      <th>3</th>\n      <td>1000000</td>\n      <td>john16748806433</td>\n      <td>QmRXgMj8koWVMWeZ6rr92jUVpyWwwxDBPgDuzzFk2jQQnC</td>\n      <td>0x9fe16b5b04966ddbff6a544b808507429dc3e0e6</td>\n      <td>0x7ce62e59f3b464e53a561309adf1d1eac5e56d823178...</td>\n      <td>bostrom136mj3yrmmad52jvz2x729gh8jmmpv0936qffme</td>\n      <td>cosmos136mj3yrmmad52jvz2x729gh8jmmpv093ena697</td>\n      <td>island found calm toss athlete lounge mad leaf...</td>\n      <td>bostrom136mj3yrmmad52jvz2x729gh8jmmpv0936qffme...</td>\n      <td>0x76d04b5e4ec507a026288108eefad9b23f219060b2a6...</td>\n      <td>{'pub_key': 'A/G2IifIIkcj9J9kIwbK5BDvx/R486dns...</td>\n      <td>eyJwdWJfa2V5IjoiQS9HMklpZklJa2NqOUo5a0l3Yks1Qk...</td>\n    </tr>\n    <tr>\n      <th>4</th>\n      <td>1000000</td>\n      <td>john16748806434</td>\n      <td>Qmf96YofNsG2x8WFoz43x2Bc4W2Ur8ecUeMBsd3YHpGs8v</td>\n      <td>0x2a02c345e00d1c8970bfbe9b25e82d36ac94fdf0</td>\n      <td>0xc136ebdfa7a74f3e74411841d484f3125fbfbe5116f2...</td>\n      <td>bostrom140smzep6sxn3cg0fyquctu8e528mr5m3yr3spz</td>\n      <td>cosmos140smzep6sxn3cg0fyquctu8e528mr5m38s9rl9</td>\n      <td>tackle witness glide sight vacant hair armor f...</td>\n      <td>bostrom140smzep6sxn3cg0fyquctu8e528mr5m3yr3spz...</td>\n      <td>0x84346b0de96c73d4b55542cc3d10cdffb7c22ca810aa...</td>\n      <td>{'pub_key': 'AmAQ34fvv3Fj2cs7roZ59JHPi0fTNdrQO...</td>\n      <td>eyJwdWJfa2V5IjoiQW1BUTM0ZnZ2M0ZqMmNzN3JvWjU5Sk...</td>\n    </tr>\n    <tr>\n      <th>5</th>\n      <td>1000000</td>\n      <td>john16748806435</td>\n      <td>Qma6GeKs5YYufuZRVBLopx1G9XPPGVr3ArpAaoJZtovLLk</td>\n      <td>0x8a233f31f47273022d0ff597b7837daed2d7377d</td>\n      <td>0x2e610c9335f5a42952557ab8bee4fb4988753be21844...</td>\n      <td>bostrom1vqng698sujsu6kjkaufjsdpyw09lk6kw8necmk</td>\n      <td>cosmos1vqng698sujsu6kjkaufjsdpyw09lk6kwyqdt93</td>\n      <td>equip pig toss truck palm resource refuse soda...</td>\n      <td>bostrom1vqng698sujsu6kjkaufjsdpyw09lk6kw8necmk...</td>\n      <td>0x03cfc3b9749b5bc5f08970daf4474f5db39de0788581...</td>\n      <td>{'pub_key': 'A6t+uYHuGrfI+gwrH/RAh39D9KqGPXyzm...</td>\n      <td>eyJwdWJfa2V5IjoiQTZ0K3VZSHVHcmZJK2d3ckgvUkFoMz...</td>\n    </tr>\n    <tr>\n      <th>6</th>\n      <td>1000000</td>\n      <td>john16748806436</td>\n      <td>Qmd65iPvo5Ht7J3j2fibauhDqZWWHg4KDkEikzS2Yt3SiS</td>\n      <td>0xbbc0a3e0cda63ec7a1abdfd781dc4e427b607860</td>\n      <td>0xa60dff9600344609c9f81215dcd32b46a22ed264f609...</td>\n      <td>bostrom15n6vl4t3v52v55xufptwf76937zc2nftaj5yuy</td>\n      <td>cosmos15n6vl4t3v52v55xufptwf76937zc2nft7pqhzr</td>\n      <td>curtain flat galaxy auto blade deliver staff p...</td>\n      <td>bostrom15n6vl4t3v52v55xufptwf76937zc2nftaj5yuy...</td>\n      <td>0x242efd3af565116d80a2c702858827586880bbeb8e51...</td>\n      <td>{'pub_key': 'AtdwyfdUM8U+yATp46yFzjB+oiMMRzuWN...</td>\n      <td>eyJwdWJfa2V5IjoiQXRkd3lmZFVNOFUreUFUcDQ2eUZ6ak...</td>\n    </tr>\n    <tr>\n      <th>7</th>\n      <td>1000000</td>\n      <td>john16748806437</td>\n      <td>QmSKB8mPLWT4mB4gc3X1KDuYbKhXycpWrdkxG4mcfNeULj</td>\n      <td>0xd57534ed8db568b26776c44c26c205ea4523822c</td>\n      <td>0x360d9b0cb6d3c3f248b96117e360c2654b3c5c58e70b...</td>\n      <td>bostrom13t5dvpc043kc0lttz8guvsaf6446g0urwl3805</td>\n      <td>cosmos13t5dvpc043kc0lttz8guvsaf6446g0urdv953n</td>\n      <td>strategy sadness just trend slow few corn rib ...</td>\n      <td>bostrom13t5dvpc043kc0lttz8guvsaf6446g0urwl3805...</td>\n      <td>0xf51dd0c9f8c390ba52588a0754eb0d1ae5d546025e48...</td>\n      <td>{'pub_key': 'AlE4ak39YGfa5L14msEtpu/k2GN0IUodz...</td>\n      <td>eyJwdWJfa2V5IjoiQWxFNGFrMzlZR2ZhNUwxNG1zRXRwdS...</td>\n    </tr>\n    <tr>\n      <th>8</th>\n      <td>1000000</td>\n      <td>john16748806438</td>\n      <td>QmW92sDY49X9g1coXrJ2wQbP6fm9PKKWUn6Rti5rAevzka</td>\n      <td>0x282304cf904faa181e094306f72a9a4fc03f9354</td>\n      <td>0x32de2e746d16b1fa6f51b3708f5f4c2b6ac156082dcb...</td>\n      <td>bostrom1kz0g9a3w093fh9lqx2mlgpyv4jq54sflklw7dr</td>\n      <td>cosmos1kz0g9a3w093fh9lqx2mlgpyv4jq54sfl4v6dny</td>\n      <td>pudding aspect learn live assume horn hobby py...</td>\n      <td>bostrom1kz0g9a3w093fh9lqx2mlgpyv4jq54sflklw7dr...</td>\n      <td>0x4af0499b53db9dbabff11d4199eacd779cb9f43730e7...</td>\n      <td>{'pub_key': 'Am3YMGLb7qNwwi3hDsGSJ4Om1xj7uxzp4...</td>\n      <td>eyJwdWJfa2V5IjoiQW0zWU1HTGI3cU53d2kzaERzR1NKNE...</td>\n    </tr>\n    <tr>\n      <th>9</th>\n      <td>1000000</td>\n      <td>john16748806439</td>\n      <td>QmXQ28vwhn3rxJVEJuRqbvMNSod9UcErR2Gya3B12wBnvY</td>\n      <td>0x75f76d040ae9b44610bcf22d23fb1e66784441f1</td>\n      <td>0x76fe814a23a4bdf9c85f018d92d570e75d81edbef840...</td>\n      <td>bostrom1wv0xraxggdg3zvw8c9nqklx7vd24an4wqzfl7j</td>\n      <td>cosmos1wv0xraxggdg3zvw8c9nqklx7vd24an4wr3avq4</td>\n      <td>piece life tired ugly all prefer average paren...</td>\n      <td>bostrom1wv0xraxggdg3zvw8c9nqklx7vd24an4wqzfl7j...</td>\n      <td>0x14396bd136066243739e1b595d8ac6dd6f2c00bc851e...</td>\n      <td>{'pub_key': 'AvACvnEDPDSa25bgyivSKKnEydk4s4Nyz...</td>\n      <td>eyJwdWJfa2V5IjoiQXZBQ3ZuRURQRFNhMjViZ3lpdlNLS2...</td>\n    </tr>\n    <tr>\n      <th>10</th>\n      <td>1000000</td>\n      <td>john167488064310</td>\n      <td>QmcLZBfoxUD7g8CiudSLH6VDTpr3RdH56ujb6K7yw2S5FX</td>\n      <td>0x6ec86fba57065b2f76027c92120e1860b7465644</td>\n      <td>0xff784960f0d7ad95504613a8dad101ff176b01cf0571...</td>\n      <td>bostrom1qq3rvkuqz0meuwa9uxlssmf9ldj9fx7zsmeswt</td>\n      <td>cosmos1qq3rvkuqz0meuwa9uxlssmf9ldj9fx7zngdrsv</td>\n      <td>crisp super roast lava enemy luggage sudden ri...</td>\n      <td>bostrom1qq3rvkuqz0meuwa9uxlssmf9ldj9fx7zsmeswt...</td>\n      <td>0x0c8af3f5ae7f25c7597eee4979fbe9dd86047bf43f63...</td>\n      <td>{'pub_key': 'A/B6j8i1TMvIKwYjvlrsBv6ROCWGEeVJd...</td>\n      <td>eyJwdWJfa2V5IjoiQS9CNmo4aTFUTXZJS3dZanZscnNCdj...</td>\n    </tr>\n    <tr>\n      <th>11</th>\n      <td>1000000</td>\n      <td>john167488064311</td>\n      <td>Qma6dhkVJr27xNWJofh6tFQ8uXgDkA92pzqjF1GbgNU4Zu</td>\n      <td>0x7910bdb9f5ddac0b85d4f73874ec8ee956b254e6</td>\n      <td>0x4eaf98b7d8b07f312e1038d0c2b420c86519a6b7ad13...</td>\n      <td>bostrom1wjcucyv74nqfgs4jefwqz574jpq6da0zx06l5p</td>\n      <td>cosmos1wjcucyv74nqfgs4jefwqz574jpq6da0z9uwv2x</td>\n      <td>protect spoon eager transfer chapter turkey li...</td>\n      <td>bostrom1wjcucyv74nqfgs4jefwqz574jpq6da0zx06l5p...</td>\n      <td>0xcbd0ae39c5bc7fd3c41db0458708ec96bd2d66b55326...</td>\n      <td>{'pub_key': 'AqEEnRBZtlumK2gMBdk45nSNS+ojXkeGN...</td>\n      <td>eyJwdWJfa2V5IjoiQXFFRW5SQlp0bHVtSzJnTUJkazQ1bl...</td>\n    </tr>\n    <tr>\n      <th>12</th>\n      <td>1000000</td>\n      <td>john167488064312</td>\n      <td>QmaqciWp8ExkVaMTqt3x9dAgy3GmM8rCBEYjv9rz8FKaKz</td>\n      <td>0xf1f98cab55a9d581e08777c9090ac8124aeae175</td>\n      <td>0x23c490b9d47b5b001155bd695f1b9a10ec6c37de1e3f...</td>\n      <td>bostrom1ps9uhuleazusvgtl9jqjw54h9vt4vp2fjky2lf</td>\n      <td>cosmos1ps9uhuleazusvgtl9jqjw54h9vt4vp2f39sepw</td>\n      <td>social beach voice beauty stick ghost drift ne...</td>\n      <td>bostrom1ps9uhuleazusvgtl9jqjw54h9vt4vp2fjky2lf...</td>\n      <td>0xcc896f8c7ae74a14c679f60b5da84e29e3164b1f4eeb...</td>\n      <td>{'pub_key': 'A5U3Q5K3g3s6nx8wpPUZAFfZOLrU1Zpal...</td>\n      <td>eyJwdWJfa2V5IjoiQTVVM1E1SzNnM3M2bng4d3BQVVpBRm...</td>\n    </tr>\n    <tr>\n      <th>13</th>\n      <td>1000000</td>\n      <td>john167488064313</td>\n      <td>QmQnSmEt2d7UHeGo4hyiv45AEziAgmedvb8sHDaWGCYteH</td>\n      <td>0x170ae737cffce59ae77e9d1a07998417a7107fa3</td>\n      <td>0x719624de47992eaa33cd4b58cbab7ceeffcbbf5f7f37...</td>\n      <td>bostrom1u22zgfx6sp66x93fjtpxlt24e5tlxkm06h9zjn</td>\n      <td>cosmos1u22zgfx6sp66x93fjtpxlt24e5tlxkm0ey33v5</td>\n      <td>nation moral rough quantum guide arch island l...</td>\n      <td>bostrom1u22zgfx6sp66x93fjtpxlt24e5tlxkm06h9zjn...</td>\n      <td>0xa3ce1508e5995938e87b71e2d78f98c43f4f82432714...</td>\n      <td>{'pub_key': 'A5NLhdmfkav99OP1KnwnC/hrlpzkoxWt6...</td>\n      <td>eyJwdWJfa2V5IjoiQTVOTGhkbWZrYXY5OU9QMUtud25DL2...</td>\n    </tr>\n    <tr>\n      <th>14</th>\n      <td>1000000</td>\n      <td>john167488064314</td>\n      <td>QmabBJh6wfJTjrpWZYijw9GAUKz5vYxEcFTja8i1P87uba</td>\n      <td>0x6336d8f1c59d1fa547582a89e14dab306a9fdf34</td>\n      <td>0xf7eb5cf535e8020ed82d0efcf0f90db7d74ab492090a...</td>\n      <td>bostrom10pjncsq7e0yk5anqt7zr9hjqpv6py5um24q58d</td>\n      <td>cosmos10pjncsq7e0yk5anqt7zr9hjqpv6py5umfx58e2</td>\n      <td>mind bless run tourist vocal blouse seed alien...</td>\n      <td>bostrom10pjncsq7e0yk5anqt7zr9hjqpv6py5um24q58d...</td>\n      <td>0x2a67640bfde006223346c780948ba78f5524e9dd257a...</td>\n      <td>{'pub_key': 'AgPfyOsx6vi0WdvzbN9/kRvSHnhEcVHwF...</td>\n      <td>eyJwdWJfa2V5IjoiQWdQZnlPc3g2dmkwV2R2emJOOS9rUn...</td>\n    </tr>\n    <tr>\n      <th>15</th>\n      <td>1000000</td>\n      <td>john167488064315</td>\n      <td>QmV8Vybova5ma3tL8qqa9KtCp3DvEGGKALQSSyNJ4JuTHS</td>\n      <td>0x4c8052d4f6b3baeb51bd9ab266b014998729c49d</td>\n      <td>0x266dee27361359c200a7f37d18414e91bbe23acf25a8...</td>\n      <td>bostrom1rrcrpklfuwjm2wk3dfm4s6d2y22u2u7jrxkxk3</td>\n      <td>cosmos1rrcrpklfuwjm2wk3dfm4s6d2y22u2u7jq4z4gk</td>\n      <td>history render crunch lemon curve cram buzz at...</td>\n      <td>bostrom1rrcrpklfuwjm2wk3dfm4s6d2y22u2u7jrxkxk3...</td>\n      <td>0xd82c654d08437627554d79be6eaa5be87ef20fb415ff...</td>\n      <td>{'pub_key': 'Ag0AxXV356PM6w2v7kQUMDHt/Mm0aVM3j...</td>\n      <td>eyJwdWJfa2V5IjoiQWcwQXhYVjM1NlBNNncydjdrUVVNRE...</td>\n    </tr>\n    <tr>\n      <th>16</th>\n      <td>1000000</td>\n      <td>john167488064316</td>\n      <td>QmR5qHFMLzm6PSmc8SMNda2xRXUEsuF4xkxCuQdfKzypmy</td>\n      <td>0xd2df23961c0950272116f8a10e7679e843e64308</td>\n      <td>0x92cad59d2d40ba708f594e443d820fb84ba64de2d46c...</td>\n      <td>bostrom1ng9spxmurnrtxsg4gs0tmgguj268qj8e6au0ll</td>\n      <td>cosmos1ng9spxmurnrtxsg4gs0tmgguj268qj8eewgupc</td>\n      <td>they firm creek report erupt robot travel moni...</td>\n      <td>bostrom1ng9spxmurnrtxsg4gs0tmgguj268qj8e6au0ll...</td>\n      <td>0xac7dddbfda6f3efe2803a791c3b1890b730277baa47f...</td>\n      <td>{'pub_key': 'Av+rllHLJ0rMSjZ5DhPRSSfT5k6WB5YaC...</td>\n      <td>eyJwdWJfa2V5IjoiQXYrcmxsSExKMHJNU2paNURoUFJTU2...</td>\n    </tr>\n    <tr>\n      <th>17</th>\n      <td>1000000</td>\n      <td>john167488064317</td>\n      <td>Qmea4DzY79C9dXQmdM4QuyLrVCLW3PP4dMBA1MxN6pwEbY</td>\n      <td>0xd20f002d46e20da9ad622cb84a4d22d4da035e7d</td>\n      <td>0x9f7a12eb32d3aadd8ef40b7642c0835643569bf2e322...</td>\n      <td>bostrom14rw7ccdm9u83xgg4lgm2kvk3v48qdlule3v6ph</td>\n      <td>cosmos14rw7ccdm9u83xgg4lgm2kvk3v48qdlul6zcfls</td>\n      <td>voyage derive face hat list artwork direct net...</td>\n      <td>bostrom14rw7ccdm9u83xgg4lgm2kvk3v48qdlule3v6ph...</td>\n      <td>0xc8d33665ad8a5a71fe2c4a4d8f31c082168cdd75d917...</td>\n      <td>{'pub_key': 'AyInf0qe0kLePUCoXD1CdoeWg/AXG/vAj...</td>\n      <td>eyJwdWJfa2V5IjoiQXlJbmYwcWUwa0xlUFVDb1hEMUNkb2...</td>\n    </tr>\n    <tr>\n      <th>18</th>\n      <td>1000000</td>\n      <td>john167488064318</td>\n      <td>QmZwXboe5hyXSfWyxP59F8g6WHq8cPXoAN74jv2qU4tKGU</td>\n      <td>0x8f2e3e18fd21d1a3df322fd09a7b583dde0249f3</td>\n      <td>0x78aa813560e6155365e192d23e2a4c621c53cfd98ef9...</td>\n      <td>bostrom1agrducx4e29khmpe6kp02v5jhxmyh3z0vptp9y</td>\n      <td>cosmos1agrducx4e29khmpe6kp02v5jhxmyh3z00jljmr</td>\n      <td>visual mimic field slender powder found resour...</td>\n      <td>bostrom1agrducx4e29khmpe6kp02v5jhxmyh3z0vptp9y...</td>\n      <td>0xf56084b568b1e6a45b068cddc8e5185d8d87c6d37f2c...</td>\n      <td>{'pub_key': 'A6A0kau0mgRNMMVpvJfEXZ3lWa419wNtl...</td>\n      <td>eyJwdWJfa2V5IjoiQTZBMGthdTBtZ1JOTU1WcHZKZkVYWj...</td>\n    </tr>\n    <tr>\n      <th>19</th>\n      <td>1000000</td>\n      <td>john167488064319</td>\n      <td>QmSNKPKS3xYBR4oe39jR5qinkaHxz9447TmiPf4roRcv6X</td>\n      <td>0x2fa6d19d9e27a609139b4c407a086950e540872c</td>\n      <td>0xc1c6240ea4682efe303b11e930f52ea85cc7c32728e6...</td>\n      <td>bostrom1q4g9k88ssfapjxvtufstny6gvfmm5x3ksdeuxe</td>\n      <td>cosmos1q4g9k88ssfapjxvtufstny6gvfmm5x3kn7d0c7</td>\n      <td>grit stock spoil pair mushroom daughter can sn...</td>\n      <td>bostrom1q4g9k88ssfapjxvtufstny6gvfmm5x3ksdeuxe...</td>\n      <td>0x2f594a55b78b49a2da96efe1d4d9a746d16f93b8a1b8...</td>\n      <td>{'pub_key': 'A3lIQKPcpSFoj7l0vD68syvdHPxH8U2Ig...</td>\n      <td>eyJwdWJfa2V5IjoiQTNsSVFLUGNwU0ZvajdsMHZENjhzeX...</td>\n    </tr>\n  </tbody>\n</table>\n</div>"
     },
     "execution_count": 2,
     "metadata": {},
     "output_type": "execute_result"
    }
   ],
   "source": [
    "claims_list = []\n",
    "for i in tqdm(range(NUMBER_OF_PARTICIPANTS)):\n",
    "    claim_item = {'amount': CLAIM_AMOUNT_LIST[i],\n",
    "                  'nickname': NICKNAME_LIST[i],\n",
    "                  'avatar': AVATAR_CID_LIST[i]}\n",
    "\n",
    "    # Generate Ethereum wallet\n",
    "    ethereum_wallet = w3.eth.account.create(KEY_PHRASE)\n",
    "    claim_item['ethereum_address'] = ethereum_wallet.address.lower()\n",
    "    claim_item['ethereum_private_key'] = ethereum_wallet.privateKey.hex()\n",
    "\n",
    "    # Generate Bostrom and Cosmos wallet\n",
    "    bostrom_wallet = generate_wallet()\n",
    "    claim_item['bostrom_address'] = bostrom_wallet['address']\n",
    "    claim_item['cosmos_address'] = address_to_address(bostrom_wallet['address'], 'cosmos')\n",
    "    claim_item['cosmos_seed'] = bostrom_wallet['seed']\n",
    "\n",
    "    # Create message\n",
    "    claim_item['message'] = f\"{claim_item['bostrom_address']}:QmRX8qYgeZoYM3M5zzQaWEpVFdpin6FvVXvp6RPQK3oufV\"\n",
    "\n",
    "    # Sign message form Ethereum address\n",
    "    ethereum_signed_message = \\\n",
    "        w3.eth.account.sign_message(\n",
    "            signable_message=encode_defunct(text=claim_item['message']),\n",
    "            private_key=ethereum_wallet.privateKey)\n",
    "    # print(signed_message.signature)\n",
    "    claim_item['ethereum_message_signature'] = ethereum_signed_message.signature.hex()\n",
    "\n",
    "    # Sign message form Cosmos address\n",
    "    cosmos_msg = Message(privkey=seed_to_privkey(seed=claim_item['cosmos_seed']))\n",
    "    cosmos_msg.add_message(signing_message=claim_item['message'], signer_prefix='cosmos')\n",
    "    claim_item['cosmos_message_signed_row'] = cosmos_msg.get_signed_message()\n",
    "    claim_item['cosmos_message_signature'] = b64encode(json.dumps(claim_item['cosmos_message_signed_row']).replace('\\n', '').replace(' ', '').encode('utf-8')).decode(\"utf-8\")\n",
    "\n",
    "    # Verify message\n",
    "    assert claim_item['ethereum_address'] == w3.eth.account.recover_message(\n",
    "        signable_message=encode_defunct(text=claim_item['message']),\n",
    "        signature=claim_item['ethereum_message_signature']).lower()\n",
    "\n",
    "    claims_list.append(claim_item)\n",
    "\n",
    "claims_df = pd.DataFrame(claims_list)\n",
    "claims_df.to_csv('claims_ethereum_test_data_without_proof_' + str(NUMBER_OF_PARTICIPANTS) + '_addresses.csv')\n",
    "claims_df"
   ],
   "metadata": {
    "collapsed": false
   }
  },
  {
   "cell_type": "markdown",
   "source": [
    "### Create Merkle Tree, Get Root and Proofs"
   ],
   "metadata": {
    "collapsed": false
   }
  },
  {
   "cell_type": "code",
   "execution_count": 3,
   "outputs": [],
   "source": [
    "root_source_list = [{'address': _item['ethereum_address'],\n",
    "                     'amount': str(_item['amount'])} for _item in claims_list]+ \\\n",
    "                    [{'address': _item['cosmos_address'],\n",
    "                      'amount': str(_item['amount'])} for _item in claims_list]\n",
    "root_source_list.append({'address': '0xF2749114FeaAD68854E01C8eE762C7170532FdfD'.lower(), 'amount': '10000000'})\n",
    "with open(ROOT_SOURCE_FILE_NAME, 'w') as outfile:\n",
    "    outfile.write(str(root_source_list).replace(\"'\", '\"'))"
   ],
   "metadata": {
    "collapsed": false
   }
  },
  {
   "cell_type": "code",
   "execution_count": 4,
   "outputs": [
    {
     "name": "stdout",
     "output_type": "stream",
     "text": [
      "{('root_testing_source_20_addresses.json', 'temp/proofs_0.json', 0, 41)}\n",
      "yarn run v1.22.19\n",
      "$ ts-node index.ts --input ../root_testing_source_20_addresses.json --output ../temp/proofs_0.json --start_index 0 --end_index 41\n",
      "Merkle root: 6db418e7887fcef5b26a316eff102b1383c6aad9b9c99eea07c763e790d020cf\n",
      "Number of addresses in the Merkle tree: 41\n",
      "Done in 1.15s.\n",
      "\n"
     ]
    }
   ],
   "source": [
    "NUMBER_OF_THREADS = 10\n",
    "BASH_SIZE = 1000\n",
    "\n",
    "tasks = set(\n",
    "    (\n",
    "        (ROOT_SOURCE_FILE_NAME,\n",
    "         f'temp/proofs_{i}.json',\n",
    "         i * BASH_SIZE,\n",
    "         min(NUMBER_OF_PARTICIPANTS * 2 + 1, (i + 1) * BASH_SIZE + 1))\n",
    "        for i in range(ceil(2 * NUMBER_OF_PARTICIPANTS/BASH_SIZE))\n",
    "    )\n",
    ")\n",
    "print(tasks)\n",
    "with Pool(processes=NUMBER_OF_THREADS) as pool:\n",
    "    res = pool.starmap(get_proofs, tasks)\n",
    "assert res == [True] * len(res)"
   ],
   "metadata": {
    "collapsed": false
   }
  },
  {
   "cell_type": "code",
   "execution_count": 5,
   "outputs": [
    {
     "data": {
      "text/plain": "                                          address    amount  \\\n0      0xe8abd810b6ea9b9809b11bdd93b7290bca942730   1000000   \n1      0xeb63a8eb287ff181e655c7a9318f1af04b1d3d63   1000000   \n2      0xbd2dfeae254034ef5bb913028253b84cfe568dbd   1000000   \n3      0x9fe16b5b04966ddbff6a544b808507429dc3e0e6   1000000   \n4      0x2a02c345e00d1c8970bfbe9b25e82d36ac94fdf0   1000000   \n5      0x8a233f31f47273022d0ff597b7837daed2d7377d   1000000   \n6      0xbbc0a3e0cda63ec7a1abdfd781dc4e427b607860   1000000   \n7      0xd57534ed8db568b26776c44c26c205ea4523822c   1000000   \n8      0x282304cf904faa181e094306f72a9a4fc03f9354   1000000   \n9      0x75f76d040ae9b44610bcf22d23fb1e66784441f1   1000000   \n10     0x6ec86fba57065b2f76027c92120e1860b7465644   1000000   \n11     0x7910bdb9f5ddac0b85d4f73874ec8ee956b254e6   1000000   \n12     0xf1f98cab55a9d581e08777c9090ac8124aeae175   1000000   \n13     0x170ae737cffce59ae77e9d1a07998417a7107fa3   1000000   \n14     0x6336d8f1c59d1fa547582a89e14dab306a9fdf34   1000000   \n15     0x4c8052d4f6b3baeb51bd9ab266b014998729c49d   1000000   \n16     0xd2df23961c0950272116f8a10e7679e843e64308   1000000   \n17     0xd20f002d46e20da9ad622cb84a4d22d4da035e7d   1000000   \n18     0x8f2e3e18fd21d1a3df322fd09a7b583dde0249f3   1000000   \n19     0x2fa6d19d9e27a609139b4c407a086950e540872c   1000000   \n20  cosmos10c5kc3c0l5jq6xckx8ykwuadynaghye9r3fq4v   1000000   \n21  cosmos1m6sckk9pac80z3der6vu747luhsncxgd7sxsn0   1000000   \n22  cosmos163ankknvlgykce3a8d6gp4hgvyp5g8agfycmdg   1000000   \n23  cosmos136mj3yrmmad52jvz2x729gh8jmmpv093ena697   1000000   \n24  cosmos140smzep6sxn3cg0fyquctu8e528mr5m38s9rl9   1000000   \n25  cosmos1vqng698sujsu6kjkaufjsdpyw09lk6kwyqdt93   1000000   \n26  cosmos15n6vl4t3v52v55xufptwf76937zc2nft7pqhzr   1000000   \n27  cosmos13t5dvpc043kc0lttz8guvsaf6446g0urdv953n   1000000   \n28  cosmos1kz0g9a3w093fh9lqx2mlgpyv4jq54sfl4v6dny   1000000   \n29  cosmos1wv0xraxggdg3zvw8c9nqklx7vd24an4wr3avq4   1000000   \n30  cosmos1qq3rvkuqz0meuwa9uxlssmf9ldj9fx7zngdrsv   1000000   \n31  cosmos1wjcucyv74nqfgs4jefwqz574jpq6da0z9uwv2x   1000000   \n32  cosmos1ps9uhuleazusvgtl9jqjw54h9vt4vp2f39sepw   1000000   \n33  cosmos1u22zgfx6sp66x93fjtpxlt24e5tlxkm0ey33v5   1000000   \n34  cosmos10pjncsq7e0yk5anqt7zr9hjqpv6py5umfx58e2   1000000   \n35  cosmos1rrcrpklfuwjm2wk3dfm4s6d2y22u2u7jq4z4gk   1000000   \n36  cosmos1ng9spxmurnrtxsg4gs0tmgguj268qj8eewgupc   1000000   \n37  cosmos14rw7ccdm9u83xgg4lgm2kvk3v48qdlul6zcfls   1000000   \n38  cosmos1agrducx4e29khmpe6kp02v5jhxmyh3z00jljmr   1000000   \n39  cosmos1q4g9k88ssfapjxvtufstny6gvfmm5x3kn7d0c7   1000000   \n40     0xf2749114feaad68854e01c8ee762c7170532fdfd  10000000   \n\n                                                proof  \n0   [b0eb7433037e907edd3ab399706df096cbc779fc73bb5...  \n1   [1e8fa4f111f105217e2f20b6f72f365b69acd020e0051...  \n2   [358cd72d3ce2faf76c73b71f98deec9f4f6e87e9708df...  \n3   [a6cea1297ad5a097d5c20b16fddeee2729dd3497480f0...  \n4   [b9bcf3c7b094cab6318cde6f22f762b3b4a489c81d9b6...  \n5   [963bc606f808eb1a37ab0e1da9b67bfe51e8a6bf72960...  \n6   [256007e518308daedaeaef97ce44cbe71c18ee8a8bbde...  \n7   [78900d7c06c43ae20970087421f80e49257815363f6a3...  \n8   [1f94f8d147f887d8703011561b94ebff821205cec5384...  \n9   [70650eb06167ed3c4501b01795488a41e13e41e74966a...  \n10  [4a303c7ef3e96625f21accaa51d3f69e81d6682d5e995...  \n11  [5bad2a31edccae34dd41470829153089f40fbc4051226...  \n12  [4a7b074b0f04ab2f223dfbd6f735f24d5eb47602df651...  \n13  [089ba394f20fd64f2470ca6debae3d34012647401b616...  \n14  [c904003bd5df1284b0cd31059964b5f3775efa04216af...  \n15  [dd86134027f0be35d245d049d873649db6ae95f9ee649...  \n16  [58397857f2a360287ffd7ebb1995dfa6f55e942cb2f89...  \n17  [ed9ebc1a5c8709fa94a2d629ab5702a68e55b384d148c...  \n18  [a5942f2dbdfab087842f4b53b0791908e9074cf6aa3e9...  \n19  [2856ea6c17776b8ff503c90601235c5755a68d5a64ee8...  \n20  [ccb3474484c5086e7d89f9b990dae1a1cdbe63e4c14e4...  \n21  [ae53c7ee5527fec03a12b3c64058bd0e141ece1166866...  \n22  [0cc3fb07138e84402e3c0d1aa48b6eab20555233b36b8...  \n23  [dba658416335dbf7f2897f89937df70c5288c52f67bc1...  \n24  [5194d992da3a2ef44b0bbb3616d9530eee355e769f32a...  \n25  [13b6b3c9cc5201192c6c62ab2e6f089463f3bd7b1aebd...  \n26  [951012cbbb5006b4497b30acfaf4bc7d59cadc9e22932...  \n27  [146e8f219ad2f31635056ab0bb67755e7292212e085ed...  \n28  [942d8eb173c4a8afa8fa40d59831dcdebb0d1727ebe66...  \n29  [dd453e6838a12065f264cf7150cd01a157cce53282e8c...  \n30  [ee3e4492082edca91a9c3488d467e363513b6fc620c84...  \n31  [710663f6ad626346bf2f276e735aba5237bfd10870c0c...  \n32  [e39475e1b707a36d9d4cc614c90edfccc8243d8f2098b...  \n33  [8b9e3b6bd6189273a094f74716a7b3602bd75168b289b...  \n34  [0ec461f297f15ebcfbb07711ef4c29a99f5fa6dc4d215...  \n35  [b2e3b85655992b885138f2e07b30a6371126680492293...  \n36  [ec1e412080c30f1f0ad08d107eb9175ee57bf0e100447...  \n37  [da000ccfb51f8aa3456193384e75c0cf8f2959a6779e9...  \n38  [3e9852ae97e45dd14d77b628b040814085245d9c7ec8e...  \n39  [94aa554c50420809ec70f8b07c7da942fd6821dca3484...  \n40  [80b7ec3cb53c48591662c6ceafcfc050b9a81e5295000...  ",
      "text/html": "<div>\n<style scoped>\n    .dataframe tbody tr th:only-of-type {\n        vertical-align: middle;\n    }\n\n    .dataframe tbody tr th {\n        vertical-align: top;\n    }\n\n    .dataframe thead th {\n        text-align: right;\n    }\n</style>\n<table border=\"1\" class=\"dataframe\">\n  <thead>\n    <tr style=\"text-align: right;\">\n      <th></th>\n      <th>address</th>\n      <th>amount</th>\n      <th>proof</th>\n    </tr>\n  </thead>\n  <tbody>\n    <tr>\n      <th>0</th>\n      <td>0xe8abd810b6ea9b9809b11bdd93b7290bca942730</td>\n      <td>1000000</td>\n      <td>[b0eb7433037e907edd3ab399706df096cbc779fc73bb5...</td>\n    </tr>\n    <tr>\n      <th>1</th>\n      <td>0xeb63a8eb287ff181e655c7a9318f1af04b1d3d63</td>\n      <td>1000000</td>\n      <td>[1e8fa4f111f105217e2f20b6f72f365b69acd020e0051...</td>\n    </tr>\n    <tr>\n      <th>2</th>\n      <td>0xbd2dfeae254034ef5bb913028253b84cfe568dbd</td>\n      <td>1000000</td>\n      <td>[358cd72d3ce2faf76c73b71f98deec9f4f6e87e9708df...</td>\n    </tr>\n    <tr>\n      <th>3</th>\n      <td>0x9fe16b5b04966ddbff6a544b808507429dc3e0e6</td>\n      <td>1000000</td>\n      <td>[a6cea1297ad5a097d5c20b16fddeee2729dd3497480f0...</td>\n    </tr>\n    <tr>\n      <th>4</th>\n      <td>0x2a02c345e00d1c8970bfbe9b25e82d36ac94fdf0</td>\n      <td>1000000</td>\n      <td>[b9bcf3c7b094cab6318cde6f22f762b3b4a489c81d9b6...</td>\n    </tr>\n    <tr>\n      <th>5</th>\n      <td>0x8a233f31f47273022d0ff597b7837daed2d7377d</td>\n      <td>1000000</td>\n      <td>[963bc606f808eb1a37ab0e1da9b67bfe51e8a6bf72960...</td>\n    </tr>\n    <tr>\n      <th>6</th>\n      <td>0xbbc0a3e0cda63ec7a1abdfd781dc4e427b607860</td>\n      <td>1000000</td>\n      <td>[256007e518308daedaeaef97ce44cbe71c18ee8a8bbde...</td>\n    </tr>\n    <tr>\n      <th>7</th>\n      <td>0xd57534ed8db568b26776c44c26c205ea4523822c</td>\n      <td>1000000</td>\n      <td>[78900d7c06c43ae20970087421f80e49257815363f6a3...</td>\n    </tr>\n    <tr>\n      <th>8</th>\n      <td>0x282304cf904faa181e094306f72a9a4fc03f9354</td>\n      <td>1000000</td>\n      <td>[1f94f8d147f887d8703011561b94ebff821205cec5384...</td>\n    </tr>\n    <tr>\n      <th>9</th>\n      <td>0x75f76d040ae9b44610bcf22d23fb1e66784441f1</td>\n      <td>1000000</td>\n      <td>[70650eb06167ed3c4501b01795488a41e13e41e74966a...</td>\n    </tr>\n    <tr>\n      <th>10</th>\n      <td>0x6ec86fba57065b2f76027c92120e1860b7465644</td>\n      <td>1000000</td>\n      <td>[4a303c7ef3e96625f21accaa51d3f69e81d6682d5e995...</td>\n    </tr>\n    <tr>\n      <th>11</th>\n      <td>0x7910bdb9f5ddac0b85d4f73874ec8ee956b254e6</td>\n      <td>1000000</td>\n      <td>[5bad2a31edccae34dd41470829153089f40fbc4051226...</td>\n    </tr>\n    <tr>\n      <th>12</th>\n      <td>0xf1f98cab55a9d581e08777c9090ac8124aeae175</td>\n      <td>1000000</td>\n      <td>[4a7b074b0f04ab2f223dfbd6f735f24d5eb47602df651...</td>\n    </tr>\n    <tr>\n      <th>13</th>\n      <td>0x170ae737cffce59ae77e9d1a07998417a7107fa3</td>\n      <td>1000000</td>\n      <td>[089ba394f20fd64f2470ca6debae3d34012647401b616...</td>\n    </tr>\n    <tr>\n      <th>14</th>\n      <td>0x6336d8f1c59d1fa547582a89e14dab306a9fdf34</td>\n      <td>1000000</td>\n      <td>[c904003bd5df1284b0cd31059964b5f3775efa04216af...</td>\n    </tr>\n    <tr>\n      <th>15</th>\n      <td>0x4c8052d4f6b3baeb51bd9ab266b014998729c49d</td>\n      <td>1000000</td>\n      <td>[dd86134027f0be35d245d049d873649db6ae95f9ee649...</td>\n    </tr>\n    <tr>\n      <th>16</th>\n      <td>0xd2df23961c0950272116f8a10e7679e843e64308</td>\n      <td>1000000</td>\n      <td>[58397857f2a360287ffd7ebb1995dfa6f55e942cb2f89...</td>\n    </tr>\n    <tr>\n      <th>17</th>\n      <td>0xd20f002d46e20da9ad622cb84a4d22d4da035e7d</td>\n      <td>1000000</td>\n      <td>[ed9ebc1a5c8709fa94a2d629ab5702a68e55b384d148c...</td>\n    </tr>\n    <tr>\n      <th>18</th>\n      <td>0x8f2e3e18fd21d1a3df322fd09a7b583dde0249f3</td>\n      <td>1000000</td>\n      <td>[a5942f2dbdfab087842f4b53b0791908e9074cf6aa3e9...</td>\n    </tr>\n    <tr>\n      <th>19</th>\n      <td>0x2fa6d19d9e27a609139b4c407a086950e540872c</td>\n      <td>1000000</td>\n      <td>[2856ea6c17776b8ff503c90601235c5755a68d5a64ee8...</td>\n    </tr>\n    <tr>\n      <th>20</th>\n      <td>cosmos10c5kc3c0l5jq6xckx8ykwuadynaghye9r3fq4v</td>\n      <td>1000000</td>\n      <td>[ccb3474484c5086e7d89f9b990dae1a1cdbe63e4c14e4...</td>\n    </tr>\n    <tr>\n      <th>21</th>\n      <td>cosmos1m6sckk9pac80z3der6vu747luhsncxgd7sxsn0</td>\n      <td>1000000</td>\n      <td>[ae53c7ee5527fec03a12b3c64058bd0e141ece1166866...</td>\n    </tr>\n    <tr>\n      <th>22</th>\n      <td>cosmos163ankknvlgykce3a8d6gp4hgvyp5g8agfycmdg</td>\n      <td>1000000</td>\n      <td>[0cc3fb07138e84402e3c0d1aa48b6eab20555233b36b8...</td>\n    </tr>\n    <tr>\n      <th>23</th>\n      <td>cosmos136mj3yrmmad52jvz2x729gh8jmmpv093ena697</td>\n      <td>1000000</td>\n      <td>[dba658416335dbf7f2897f89937df70c5288c52f67bc1...</td>\n    </tr>\n    <tr>\n      <th>24</th>\n      <td>cosmos140smzep6sxn3cg0fyquctu8e528mr5m38s9rl9</td>\n      <td>1000000</td>\n      <td>[5194d992da3a2ef44b0bbb3616d9530eee355e769f32a...</td>\n    </tr>\n    <tr>\n      <th>25</th>\n      <td>cosmos1vqng698sujsu6kjkaufjsdpyw09lk6kwyqdt93</td>\n      <td>1000000</td>\n      <td>[13b6b3c9cc5201192c6c62ab2e6f089463f3bd7b1aebd...</td>\n    </tr>\n    <tr>\n      <th>26</th>\n      <td>cosmos15n6vl4t3v52v55xufptwf76937zc2nft7pqhzr</td>\n      <td>1000000</td>\n      <td>[951012cbbb5006b4497b30acfaf4bc7d59cadc9e22932...</td>\n    </tr>\n    <tr>\n      <th>27</th>\n      <td>cosmos13t5dvpc043kc0lttz8guvsaf6446g0urdv953n</td>\n      <td>1000000</td>\n      <td>[146e8f219ad2f31635056ab0bb67755e7292212e085ed...</td>\n    </tr>\n    <tr>\n      <th>28</th>\n      <td>cosmos1kz0g9a3w093fh9lqx2mlgpyv4jq54sfl4v6dny</td>\n      <td>1000000</td>\n      <td>[942d8eb173c4a8afa8fa40d59831dcdebb0d1727ebe66...</td>\n    </tr>\n    <tr>\n      <th>29</th>\n      <td>cosmos1wv0xraxggdg3zvw8c9nqklx7vd24an4wr3avq4</td>\n      <td>1000000</td>\n      <td>[dd453e6838a12065f264cf7150cd01a157cce53282e8c...</td>\n    </tr>\n    <tr>\n      <th>30</th>\n      <td>cosmos1qq3rvkuqz0meuwa9uxlssmf9ldj9fx7zngdrsv</td>\n      <td>1000000</td>\n      <td>[ee3e4492082edca91a9c3488d467e363513b6fc620c84...</td>\n    </tr>\n    <tr>\n      <th>31</th>\n      <td>cosmos1wjcucyv74nqfgs4jefwqz574jpq6da0z9uwv2x</td>\n      <td>1000000</td>\n      <td>[710663f6ad626346bf2f276e735aba5237bfd10870c0c...</td>\n    </tr>\n    <tr>\n      <th>32</th>\n      <td>cosmos1ps9uhuleazusvgtl9jqjw54h9vt4vp2f39sepw</td>\n      <td>1000000</td>\n      <td>[e39475e1b707a36d9d4cc614c90edfccc8243d8f2098b...</td>\n    </tr>\n    <tr>\n      <th>33</th>\n      <td>cosmos1u22zgfx6sp66x93fjtpxlt24e5tlxkm0ey33v5</td>\n      <td>1000000</td>\n      <td>[8b9e3b6bd6189273a094f74716a7b3602bd75168b289b...</td>\n    </tr>\n    <tr>\n      <th>34</th>\n      <td>cosmos10pjncsq7e0yk5anqt7zr9hjqpv6py5umfx58e2</td>\n      <td>1000000</td>\n      <td>[0ec461f297f15ebcfbb07711ef4c29a99f5fa6dc4d215...</td>\n    </tr>\n    <tr>\n      <th>35</th>\n      <td>cosmos1rrcrpklfuwjm2wk3dfm4s6d2y22u2u7jq4z4gk</td>\n      <td>1000000</td>\n      <td>[b2e3b85655992b885138f2e07b30a6371126680492293...</td>\n    </tr>\n    <tr>\n      <th>36</th>\n      <td>cosmos1ng9spxmurnrtxsg4gs0tmgguj268qj8eewgupc</td>\n      <td>1000000</td>\n      <td>[ec1e412080c30f1f0ad08d107eb9175ee57bf0e100447...</td>\n    </tr>\n    <tr>\n      <th>37</th>\n      <td>cosmos14rw7ccdm9u83xgg4lgm2kvk3v48qdlul6zcfls</td>\n      <td>1000000</td>\n      <td>[da000ccfb51f8aa3456193384e75c0cf8f2959a6779e9...</td>\n    </tr>\n    <tr>\n      <th>38</th>\n      <td>cosmos1agrducx4e29khmpe6kp02v5jhxmyh3z00jljmr</td>\n      <td>1000000</td>\n      <td>[3e9852ae97e45dd14d77b628b040814085245d9c7ec8e...</td>\n    </tr>\n    <tr>\n      <th>39</th>\n      <td>cosmos1q4g9k88ssfapjxvtufstny6gvfmm5x3kn7d0c7</td>\n      <td>1000000</td>\n      <td>[94aa554c50420809ec70f8b07c7da942fd6821dca3484...</td>\n    </tr>\n    <tr>\n      <th>40</th>\n      <td>0xf2749114feaad68854e01c8ee762c7170532fdfd</td>\n      <td>10000000</td>\n      <td>[80b7ec3cb53c48591662c6ceafcfc050b9a81e5295000...</td>\n    </tr>\n  </tbody>\n</table>\n</div>"
     },
     "execution_count": 5,
     "metadata": {},
     "output_type": "execute_result"
    }
   ],
   "source": [
    "roots = []\n",
    "proofs_df = pd.DataFrame(columns=['address', 'amount', 'proof'])\n",
    "for task in tasks:\n",
    "    with open(task[1], 'r') as proof_file:\n",
    "        root_and_proof_json = json.load(proof_file)\n",
    "    roots.append(root_and_proof_json['merkle_root'])\n",
    "    proofs_df = proofs_df.append(pd.DataFrame(root_and_proof_json['proofs']), ignore_index=True)\n",
    "assert roots == [roots[0]] * len(roots)\n",
    "root = roots[0]\n",
    "proofs_df"
   ],
   "metadata": {
    "collapsed": false
   }
  },
  {
   "cell_type": "code",
   "execution_count": 6,
   "outputs": [
    {
     "data": {
      "text/plain": "    amount         nickname                                          avatar  \\\n0  1000000  john16748806430  QmbQn4imCYtCqmkdEt1kSmrCLUb87UCmd5p3caNxhaXSJ3   \n1  1000000  john16748806431  QmNSQ93hn6vwZHHJbaMfbEgj4NibH6rNY2LJwjavT3hngJ   \n2  1000000  john16748806432  QmeeR8eFdYyNh2NXCKxtNJpFd7eHuj3yLQdUZ9cXEwpFaq   \n3  1000000  john16748806433  QmRXgMj8koWVMWeZ6rr92jUVpyWwwxDBPgDuzzFk2jQQnC   \n4  1000000  john16748806434  Qmf96YofNsG2x8WFoz43x2Bc4W2Ur8ecUeMBsd3YHpGs8v   \n\n                             ethereum_address  \\\n0  0xe8abd810b6ea9b9809b11bdd93b7290bca942730   \n1  0xeb63a8eb287ff181e655c7a9318f1af04b1d3d63   \n2  0xbd2dfeae254034ef5bb913028253b84cfe568dbd   \n3  0x9fe16b5b04966ddbff6a544b808507429dc3e0e6   \n4  0x2a02c345e00d1c8970bfbe9b25e82d36ac94fdf0   \n\n                                ethereum_private_key  \\\n0  0x12f8ca97f3153f4dd3860f242dc6a628c33f69fef6cd...   \n1  0xaf6b104f38211efd0a1b2e927dda46e9469ea0f7ac53...   \n2  0xfa3020be37091cf53d2e3f7b33821f60d3e5440755c6...   \n3  0x7ce62e59f3b464e53a561309adf1d1eac5e56d823178...   \n4  0xc136ebdfa7a74f3e74411841d484f3125fbfbe5116f2...   \n\n                                  bostrom_address  \\\n0  bostrom10c5kc3c0l5jq6xckx8ykwuadynaghye9qzantt   \n1  bostrom1m6sckk9pac80z3der6vu747luhsncxgdarjrdg   \n2  bostrom163ankknvlgykce3a8d6gp4hgvyp5g8ag2hvgn0   \n3  bostrom136mj3yrmmad52jvz2x729gh8jmmpv0936qffme   \n4  bostrom140smzep6sxn3cg0fyquctu8e528mr5m3yr3spz   \n\n                                  cosmos_address  \\\n0  cosmos10c5kc3c0l5jq6xckx8ykwuadynaghye9r3fq4v   \n1  cosmos1m6sckk9pac80z3der6vu747luhsncxgd7sxsn0   \n2  cosmos163ankknvlgykce3a8d6gp4hgvyp5g8agfycmdg   \n3  cosmos136mj3yrmmad52jvz2x729gh8jmmpv093ena697   \n4  cosmos140smzep6sxn3cg0fyquctu8e528mr5m38s9rl9   \n\n                                         cosmos_seed  \\\n0  sample measure drop fade grape erode upset bus...   \n1  local lunar ensure sick unfair citizen small d...   \n2  salt brick climb crush dash raise flock trap r...   \n3  island found calm toss athlete lounge mad leaf...   \n4  tackle witness glide sight vacant hair armor f...   \n\n                                             message  \\\n0  bostrom10c5kc3c0l5jq6xckx8ykwuadynaghye9qzantt...   \n1  bostrom1m6sckk9pac80z3der6vu747luhsncxgdarjrdg...   \n2  bostrom163ankknvlgykce3a8d6gp4hgvyp5g8ag2hvgn0...   \n3  bostrom136mj3yrmmad52jvz2x729gh8jmmpv0936qffme...   \n4  bostrom140smzep6sxn3cg0fyquctu8e528mr5m3yr3spz...   \n\n                          ethereum_message_signature  \\\n0  0x2e357cb27b18acbd0669413c879c30e0843d84044a43...   \n1  0x2ded647adc461512ac78d5d8508f82d3fca196208278...   \n2  0xbf2de09e2b7b893df515c9d328fb7f3ef52b77f9134f...   \n3  0x76d04b5e4ec507a026288108eefad9b23f219060b2a6...   \n4  0x84346b0de96c73d4b55542cc3d10cdffb7c22ca810aa...   \n\n                           cosmos_message_signed_row  \\\n0  {'pub_key': 'A5W0gSZtVcKdoKz9WTMAAZS3kezkv3JTm...   \n1  {'pub_key': 'A0rzew97jRef4QQxx49SQRE9q2ovmCsIr...   \n2  {'pub_key': 'Ay8lHI9uF3ieOPOgikeHi9PWZ3jpKEmU7...   \n3  {'pub_key': 'A/G2IifIIkcj9J9kIwbK5BDvx/R486dns...   \n4  {'pub_key': 'AmAQ34fvv3Fj2cs7roZ59JHPi0fTNdrQO...   \n\n                            cosmos_message_signature  \\\n0  eyJwdWJfa2V5IjoiQTVXMGdTWnRWY0tkb0t6OVdUTUFBWl...   \n1  eyJwdWJfa2V5IjoiQTByemV3OTdqUmVmNFFReHg0OVNRUk...   \n2  eyJwdWJfa2V5IjoiQXk4bEhJOXVGM2llT1BPZ2lrZUhpOV...   \n3  eyJwdWJfa2V5IjoiQS9HMklpZklJa2NqOUo5a0l3Yks1Qk...   \n4  eyJwdWJfa2V5IjoiQW1BUTM0ZnZ2M0ZqMmNzN3JvWjU5Sk...   \n\n                                      ethereum_proof  \\\n0  [b0eb7433037e907edd3ab399706df096cbc779fc73bb5...   \n1  [1e8fa4f111f105217e2f20b6f72f365b69acd020e0051...   \n2  [358cd72d3ce2faf76c73b71f98deec9f4f6e87e9708df...   \n3  [a6cea1297ad5a097d5c20b16fddeee2729dd3497480f0...   \n4  [b9bcf3c7b094cab6318cde6f22f762b3b4a489c81d9b6...   \n\n                                        cosmos_proof  \n0  [ccb3474484c5086e7d89f9b990dae1a1cdbe63e4c14e4...  \n1  [ae53c7ee5527fec03a12b3c64058bd0e141ece1166866...  \n2  [0cc3fb07138e84402e3c0d1aa48b6eab20555233b36b8...  \n3  [dba658416335dbf7f2897f89937df70c5288c52f67bc1...  \n4  [5194d992da3a2ef44b0bbb3616d9530eee355e769f32a...  ",
      "text/html": "<div>\n<style scoped>\n    .dataframe tbody tr th:only-of-type {\n        vertical-align: middle;\n    }\n\n    .dataframe tbody tr th {\n        vertical-align: top;\n    }\n\n    .dataframe thead th {\n        text-align: right;\n    }\n</style>\n<table border=\"1\" class=\"dataframe\">\n  <thead>\n    <tr style=\"text-align: right;\">\n      <th></th>\n      <th>amount</th>\n      <th>nickname</th>\n      <th>avatar</th>\n      <th>ethereum_address</th>\n      <th>ethereum_private_key</th>\n      <th>bostrom_address</th>\n      <th>cosmos_address</th>\n      <th>cosmos_seed</th>\n      <th>message</th>\n      <th>ethereum_message_signature</th>\n      <th>cosmos_message_signed_row</th>\n      <th>cosmos_message_signature</th>\n      <th>ethereum_proof</th>\n      <th>cosmos_proof</th>\n    </tr>\n  </thead>\n  <tbody>\n    <tr>\n      <th>0</th>\n      <td>1000000</td>\n      <td>john16748806430</td>\n      <td>QmbQn4imCYtCqmkdEt1kSmrCLUb87UCmd5p3caNxhaXSJ3</td>\n      <td>0xe8abd810b6ea9b9809b11bdd93b7290bca942730</td>\n      <td>0x12f8ca97f3153f4dd3860f242dc6a628c33f69fef6cd...</td>\n      <td>bostrom10c5kc3c0l5jq6xckx8ykwuadynaghye9qzantt</td>\n      <td>cosmos10c5kc3c0l5jq6xckx8ykwuadynaghye9r3fq4v</td>\n      <td>sample measure drop fade grape erode upset bus...</td>\n      <td>bostrom10c5kc3c0l5jq6xckx8ykwuadynaghye9qzantt...</td>\n      <td>0x2e357cb27b18acbd0669413c879c30e0843d84044a43...</td>\n      <td>{'pub_key': 'A5W0gSZtVcKdoKz9WTMAAZS3kezkv3JTm...</td>\n      <td>eyJwdWJfa2V5IjoiQTVXMGdTWnRWY0tkb0t6OVdUTUFBWl...</td>\n      <td>[b0eb7433037e907edd3ab399706df096cbc779fc73bb5...</td>\n      <td>[ccb3474484c5086e7d89f9b990dae1a1cdbe63e4c14e4...</td>\n    </tr>\n    <tr>\n      <th>1</th>\n      <td>1000000</td>\n      <td>john16748806431</td>\n      <td>QmNSQ93hn6vwZHHJbaMfbEgj4NibH6rNY2LJwjavT3hngJ</td>\n      <td>0xeb63a8eb287ff181e655c7a9318f1af04b1d3d63</td>\n      <td>0xaf6b104f38211efd0a1b2e927dda46e9469ea0f7ac53...</td>\n      <td>bostrom1m6sckk9pac80z3der6vu747luhsncxgdarjrdg</td>\n      <td>cosmos1m6sckk9pac80z3der6vu747luhsncxgd7sxsn0</td>\n      <td>local lunar ensure sick unfair citizen small d...</td>\n      <td>bostrom1m6sckk9pac80z3der6vu747luhsncxgdarjrdg...</td>\n      <td>0x2ded647adc461512ac78d5d8508f82d3fca196208278...</td>\n      <td>{'pub_key': 'A0rzew97jRef4QQxx49SQRE9q2ovmCsIr...</td>\n      <td>eyJwdWJfa2V5IjoiQTByemV3OTdqUmVmNFFReHg0OVNRUk...</td>\n      <td>[1e8fa4f111f105217e2f20b6f72f365b69acd020e0051...</td>\n      <td>[ae53c7ee5527fec03a12b3c64058bd0e141ece1166866...</td>\n    </tr>\n    <tr>\n      <th>2</th>\n      <td>1000000</td>\n      <td>john16748806432</td>\n      <td>QmeeR8eFdYyNh2NXCKxtNJpFd7eHuj3yLQdUZ9cXEwpFaq</td>\n      <td>0xbd2dfeae254034ef5bb913028253b84cfe568dbd</td>\n      <td>0xfa3020be37091cf53d2e3f7b33821f60d3e5440755c6...</td>\n      <td>bostrom163ankknvlgykce3a8d6gp4hgvyp5g8ag2hvgn0</td>\n      <td>cosmos163ankknvlgykce3a8d6gp4hgvyp5g8agfycmdg</td>\n      <td>salt brick climb crush dash raise flock trap r...</td>\n      <td>bostrom163ankknvlgykce3a8d6gp4hgvyp5g8ag2hvgn0...</td>\n      <td>0xbf2de09e2b7b893df515c9d328fb7f3ef52b77f9134f...</td>\n      <td>{'pub_key': 'Ay8lHI9uF3ieOPOgikeHi9PWZ3jpKEmU7...</td>\n      <td>eyJwdWJfa2V5IjoiQXk4bEhJOXVGM2llT1BPZ2lrZUhpOV...</td>\n      <td>[358cd72d3ce2faf76c73b71f98deec9f4f6e87e9708df...</td>\n      <td>[0cc3fb07138e84402e3c0d1aa48b6eab20555233b36b8...</td>\n    </tr>\n    <tr>\n      <th>3</th>\n      <td>1000000</td>\n      <td>john16748806433</td>\n      <td>QmRXgMj8koWVMWeZ6rr92jUVpyWwwxDBPgDuzzFk2jQQnC</td>\n      <td>0x9fe16b5b04966ddbff6a544b808507429dc3e0e6</td>\n      <td>0x7ce62e59f3b464e53a561309adf1d1eac5e56d823178...</td>\n      <td>bostrom136mj3yrmmad52jvz2x729gh8jmmpv0936qffme</td>\n      <td>cosmos136mj3yrmmad52jvz2x729gh8jmmpv093ena697</td>\n      <td>island found calm toss athlete lounge mad leaf...</td>\n      <td>bostrom136mj3yrmmad52jvz2x729gh8jmmpv0936qffme...</td>\n      <td>0x76d04b5e4ec507a026288108eefad9b23f219060b2a6...</td>\n      <td>{'pub_key': 'A/G2IifIIkcj9J9kIwbK5BDvx/R486dns...</td>\n      <td>eyJwdWJfa2V5IjoiQS9HMklpZklJa2NqOUo5a0l3Yks1Qk...</td>\n      <td>[a6cea1297ad5a097d5c20b16fddeee2729dd3497480f0...</td>\n      <td>[dba658416335dbf7f2897f89937df70c5288c52f67bc1...</td>\n    </tr>\n    <tr>\n      <th>4</th>\n      <td>1000000</td>\n      <td>john16748806434</td>\n      <td>Qmf96YofNsG2x8WFoz43x2Bc4W2Ur8ecUeMBsd3YHpGs8v</td>\n      <td>0x2a02c345e00d1c8970bfbe9b25e82d36ac94fdf0</td>\n      <td>0xc136ebdfa7a74f3e74411841d484f3125fbfbe5116f2...</td>\n      <td>bostrom140smzep6sxn3cg0fyquctu8e528mr5m3yr3spz</td>\n      <td>cosmos140smzep6sxn3cg0fyquctu8e528mr5m38s9rl9</td>\n      <td>tackle witness glide sight vacant hair armor f...</td>\n      <td>bostrom140smzep6sxn3cg0fyquctu8e528mr5m3yr3spz...</td>\n      <td>0x84346b0de96c73d4b55542cc3d10cdffb7c22ca810aa...</td>\n      <td>{'pub_key': 'AmAQ34fvv3Fj2cs7roZ59JHPi0fTNdrQO...</td>\n      <td>eyJwdWJfa2V5IjoiQW1BUTM0ZnZ2M0ZqMmNzN3JvWjU5Sk...</td>\n      <td>[b9bcf3c7b094cab6318cde6f22f762b3b4a489c81d9b6...</td>\n      <td>[5194d992da3a2ef44b0bbb3616d9530eee355e769f32a...</td>\n    </tr>\n  </tbody>\n</table>\n</div>"
     },
     "execution_count": 6,
     "metadata": {},
     "output_type": "execute_result"
    }
   ],
   "source": [
    "cosmos_proofs_df = proofs_df[proofs_df.address.str.startswith('cosmos')][['address', 'proof']]\n",
    "ethereum_proofs_df = proofs_df[proofs_df.address.str.startswith('0x')][['address', 'proof']]\n",
    "\n",
    "claims_with_proofs_df = claims_df\\\n",
    "                .merge(\n",
    "                    ethereum_proofs_df.rename(columns={'address': 'ethereum_address', 'proof': 'ethereum_proof'}),\n",
    "                    how='left',\n",
    "                    on='ethereum_address')\\\n",
    "                .merge(\n",
    "                    cosmos_proofs_df.rename(columns={'address': 'cosmos_address', 'proof': 'cosmos_proof'}),\n",
    "                    how='left',\n",
    "                    on='cosmos_address')\n",
    "\n",
    "claims_with_proofs_df.to_csv('claims_ethereum_test_data_' + str(NUMBER_OF_PARTICIPANTS) + '_addresses.csv')\n",
    "claims_with_proofs_df.head()"
   ],
   "metadata": {
    "collapsed": false
   }
  },
  {
   "cell_type": "markdown",
   "source": [
    "## Instantiate Contracts\n",
    "### Instantiate SUBGRAPH Contracts"
   ],
   "metadata": {
    "collapsed": false
   }
  },
  {
   "cell_type": "code",
   "execution_count": 7,
   "outputs": [
    {
     "name": "stdout",
     "output_type": "stream",
     "text": [
      "Name subgraph contract address: bostrom1rncw9n73gm30vhrv6e4p603hav0gue8y5y9fgqa84k4atf5pqvfqcrnpl6\n",
      "Avatar subgraph contract address: bostrom164w2vl7z7lpuvex6z3ru0v55fgq3dmvxuqt0aejp49w7fyc8g6kshreggq\n",
      "Proof subgraph contract address: bostrom1543j9n7slzff3curyac7ylf2ctg7rk9zjf9ehj08eqx57xj33zzqdy6ga4\n"
     ]
    }
   ],
   "source": [
    "if INIT_SUBGRAPH_CONTRACTS:\n",
    "    name_subgraph_contract_address = \\\n",
    "        instantiate_contract(\n",
    "            init_query=f'''{{\"owner\":\"{WALLET_ADDRESS}\", \"executer\":\"{WALLET_ADDRESS}\"}}''',\n",
    "            contract_code_id=SUBGRAPH_CODE_ID,\n",
    "            contract_label='test name subgraph')\n",
    "    avatar_subgraph_contract_address = \\\n",
    "        instantiate_contract(\n",
    "            init_query=f'''{{\"owner\":\"{WALLET_ADDRESS}\", \"executer\":\"{WALLET_ADDRESS}\"}}''',\n",
    "            contract_code_id=SUBGRAPH_CODE_ID,\n",
    "            contract_label='test avatar subgraph')\n",
    "    proof_subgraph_contract_address = \\\n",
    "        instantiate_contract(\n",
    "            init_query=f'''{{\"owner\":\"{WALLET_ADDRESS}\", \"executer\":\"{WALLET_ADDRESS}\"}}''',\n",
    "            contract_code_id=SUBGRAPH_CODE_ID,\n",
    "            contract_label='test proof subgraph')\n",
    "else:\n",
    "    name_subgraph_contract_address = NAME_SUBGRAPH_CONTRACT_ADDRESS\n",
    "    avatar_subgraph_contract_address = AVATAR_SUBGRAPH_CONTRACT_ADDRESS\n",
    "    proof_subgraph_contract_address = PROOF_SUBGRAPH_CONTRACT_ADDRESS\n",
    "print(f'Name subgraph contract address: {name_subgraph_contract_address}\\n'\n",
    "      f'Avatar subgraph contract address: {avatar_subgraph_contract_address}\\n'\n",
    "      f'Proof subgraph contract address: {proof_subgraph_contract_address}')"
   ],
   "metadata": {
    "collapsed": false
   }
  },
  {
   "cell_type": "markdown",
   "source": [
    "### Instantiate Passport Contract"
   ],
   "metadata": {
    "collapsed": false
   }
  },
  {
   "cell_type": "code",
   "execution_count": 8,
   "outputs": [
    {
     "name": "stdout",
     "output_type": "stream",
     "text": [
      "Passport contract address: bostrom1g59m935w4kxmtfx5hhykre7w9q497ptp66asspz76vhgarss5ensdy35s8\n"
     ]
    }
   ],
   "source": [
    "if INIT_PASSPORT_CONTRACT:\n",
    "    passport_contract_address = \\\n",
    "        instantiate_contract(\n",
    "            init_query=f'''{{\"name\":\"CPT\", \"minter\":\"{WALLET_ADDRESS}\", \"owner\":\"{WALLET_ADDRESS}\", \"symbol\":\"CPT\", \"avatar_subgraph\": \"{avatar_subgraph_contract_address}\", \"name_subgraph\": \"{name_subgraph_contract_address}\", \"proof_subgraph\": \"{proof_subgraph_contract_address}\"}}''',\n",
    "            contract_code_id=PASSPORT_CODE_ID,\n",
    "            contract_label='test passport')\n",
    "else:\n",
    "    passport_contract_address = PASSPORT_CONTRACT_ADDRESS\n",
    "print(f'Passport contract address: {passport_contract_address}')"
   ],
   "metadata": {
    "collapsed": false
   }
  },
  {
   "cell_type": "markdown",
   "source": [
    "### Set executor in the Subgraph Contracts"
   ],
   "metadata": {
    "collapsed": false
   }
  },
  {
   "cell_type": "code",
   "execution_count": 9,
   "outputs": [],
   "source": [
    "def set_executor_subgraph(subgraph_contract_address: str, new_executor_address: str, display_data: bool = False):\n",
    "    return execute_contract_bash(execute_query=f'''{{\"update_executer\":{{\"new_executer\":\"{new_executor_address}\"}}}}''',\n",
    "                            contract_address=subgraph_contract_address,\n",
    "                            gas=600000,\n",
    "                            display_data=display_data)\n",
    "\n",
    "if INIT_PASSPORT_CONTRACT or INIT_SUBGRAPH_CONTRACTS:\n",
    "    set_executor_subgraph(subgraph_contract_address=name_subgraph_contract_address, new_executor_address=passport_contract_address)\n",
    "    set_executor_subgraph(subgraph_contract_address=avatar_subgraph_contract_address, new_executor_address=passport_contract_address)\n",
    "    set_executor_subgraph(subgraph_contract_address=proof_subgraph_contract_address, new_executor_address=passport_contract_address)"
   ],
   "metadata": {
    "collapsed": false
   }
  },
  {
   "cell_type": "markdown",
   "source": [
    "### Instantiate Gift Contract"
   ],
   "metadata": {
    "collapsed": false
   }
  },
  {
   "cell_type": "code",
   "execution_count": 10,
   "outputs": [
    {
     "name": "stdout",
     "output_type": "stream",
     "text": [
      "Gift contract address: bostrom1nn0hd8l3fqhxhsgdeqp3rew79w2nrtm5qedrvamd7a54r2c0czjqj5hcsn\n"
     ]
    }
   ],
   "source": [
    "if INIT_GIFT_CONTRACT:\n",
    "    gift_contract_address = \\\n",
    "        instantiate_contract(\n",
    "            init_query=f'''{{\"owner\":\"{WALLET_ADDRESS}\", \"passport\":\"{passport_contract_address}\", \"allowed_native\":\"boot\", \"initial_balance\":\"{INITIAL_BALANCE}\", \"coefficient_up\":\"{COEF_UP}\", \"coefficient_down\":\"{COEF_DOWN}\", \"coefficient\":\"{COEF_UP}\", \"target_claim\":\"{TARGET_CLAIM}\"}}''',\n",
    "            contract_code_id=GIFT_CODE_ID,\n",
    "            amount=INITIAL_BALANCE,\n",
    "            contract_label='test gift')\n",
    "else:\n",
    "    gift_contract_address = GIFT_CONTRACT_ADDRESS\n",
    "print(f'Gift contract address: {gift_contract_address}')"
   ],
   "metadata": {
    "collapsed": false
   }
  },
  {
   "cell_type": "markdown",
   "source": [
    "### Initiate Class of Output Parsing"
   ],
   "metadata": {
    "collapsed": false
   }
  },
  {
   "cell_type": "code",
   "execution_count": 11,
   "outputs": [],
   "source": [
    "contract_utils = ContractUtils(ipfs_client=ipfs_client,\n",
    "                               address_dict= {\n",
    "                                   gift_contract_address: 'Gift Contract',\n",
    "                                   passport_contract_address: 'Passport Contract',\n",
    "                                   WALLET_ADDRESS: 'Passport Owner Address',\n",
    "                                   name_subgraph_contract_address: 'Name Subgraph Contract',\n",
    "                                   avatar_subgraph_contract_address: 'Avatar Subgraph Contract',\n",
    "                                   proof_subgraph_contract_address: 'Proof Subgraph Contract'})"
   ],
   "metadata": {
    "collapsed": false
   }
  },
  {
   "cell_type": "markdown",
   "source": [],
   "metadata": {
    "collapsed": false
   }
  },
  {
   "cell_type": "markdown",
   "source": [
    "### Register Merkle Root"
   ],
   "metadata": {
    "collapsed": false
   }
  },
  {
   "cell_type": "code",
   "execution_count": 12,
   "outputs": [
    {
     "name": "stdout",
     "output_type": "stream",
     "text": [
      "\n",
      "Events\n",
      "\n",
      "execute\n",
      "\texecute contract: Gift Contract\n",
      "\n",
      "message from Passport Owner Address wasm /cosmwasm.wasm.v1.MsgExecuteContract\n",
      "\n",
      "wasm\n",
      "\t_contract_address: Gift Contract\n",
      "\taction: register_merkle_root\n",
      "\tmerkle_root: 3dc8421e3f4b94c8e3aed45c031e95a002007dfac135ca398314b163f15a2cee\n",
      "Gas used: 121,232\n",
      "Tx hash: 85B31F8C7895D79C33B890F77B7F87B5F3218E217B4C489D2189575E2C3E34D4\n"
     ]
    }
   ],
   "source": [
    "root_register_output = execute_contract_bash(execute_query=f'''{{\"register_merkle_root\":{{\"merkle_root\":\"{root}\"}}}}''',\n",
    "                                        from_address=WALLET_ADDRESS,\n",
    "                                        contract_address=gift_contract_address)\n",
    "contract_utils.parse_contract_execution_json(root_register_output)"
   ],
   "metadata": {
    "collapsed": false
   }
  },
  {
   "cell_type": "markdown",
   "source": [
    "#### Get Merkle Root form the Gift Contract"
   ],
   "metadata": {
    "collapsed": false
   },
   "execution_count": 156
  },
  {
   "cell_type": "code",
   "execution_count": 13,
   "outputs": [
    {
     "name": "stdout",
     "output_type": "stream",
     "text": [
      "Gift contract bostrom1nn0hd8l3fqhxhsgdeqp3rew79w2nrtm5qedrvamd7a54r2c0czjqj5hcsn\n",
      "{'data': {'merkle_root': '3dc8421e3f4b94c8e3aed45c031e95a002007dfac135ca398314b163f15a2cee'}}\n"
     ]
    }
   ],
   "source": [
    "print(f'Gift contract {gift_contract_address}')\n",
    "print(query_contract(query='''{\"merkle_root\": {}}''',\n",
    "                     contract_address=gift_contract_address))"
   ],
   "metadata": {
    "collapsed": false
   }
  },
  {
   "cell_type": "markdown",
   "source": [],
   "metadata": {
    "collapsed": false
   }
  },
  {
   "cell_type": "markdown",
   "source": [
    "### Send coins to new addresses"
   ],
   "metadata": {
    "collapsed": false
   }
  },
  {
   "cell_type": "code",
   "execution_count": 14,
   "outputs": [
    {
     "name": "stdout",
     "output_type": "stream",
     "text": [
      "\n",
      "Events\n",
      "\n",
      "coin received\n",
      "\treceiver: bostrom1y90fdf63dz6jfahupu4wdqp6v3f69rxptnr04c\n",
      "\tamount: 1boot\n",
      "\treceiver: bostrom162f8clv5ht6j2kmms0556j0mezuj3e6ked366q\n",
      "\tamount: 1boot\n",
      "\treceiver: bostrom1he3vaq8knkx56tevl6mkel42eddq507mgulsnf\n",
      "\tamount: 1boot\n",
      "\treceiver: bostrom1efylm4laztlkc0ydye3k6g6cx95h6khw7z27mp\n",
      "\tamount: 1boot\n",
      "\treceiver: bostrom1z4gex65lzw62uqapaxctfku4588ulvgn4yvwmk\n",
      "\tamount: 1boot\n",
      "\treceiver: bostrom13f4sr82dux0kfu7uma3atv7frhzx57ghvm9dxa\n",
      "\tamount: 1boot\n",
      "\treceiver: bostrom1pypc2s9dh0f6yp0xcqwjap99l5k75qgmp2kntw\n",
      "\tamount: 1boot\n",
      "\treceiver: bostrom13ugfw2hr7s8f0yttczg8e2v6v04dlwwarsc4rw\n",
      "\tamount: 1boot\n",
      "\treceiver: bostrom19pfkg9t5nvsmmjffsjv6k625xy98esgukewtyy\n",
      "\tamount: 1boot\n",
      "\treceiver: bostrom1kzrdznpsuhj8scw8p734eex07g0779vr8xw0d6\n",
      "\tamount: 1boot\n",
      "\n",
      "coin spent\n",
      "\tspender: Passport Owner Address\n",
      "\tamount: 1boot\n",
      "\tspender: Passport Owner Address\n",
      "\tamount: 1boot\n",
      "\tspender: Passport Owner Address\n",
      "\tamount: 1boot\n",
      "\tspender: Passport Owner Address\n",
      "\tamount: 1boot\n",
      "\tspender: Passport Owner Address\n",
      "\tamount: 1boot\n",
      "\tspender: Passport Owner Address\n",
      "\tamount: 1boot\n",
      "\tspender: Passport Owner Address\n",
      "\tamount: 1boot\n",
      "\tspender: Passport Owner Address\n",
      "\tamount: 1boot\n",
      "\tspender: Passport Owner Address\n",
      "\tamount: 1boot\n",
      "\tspender: Passport Owner Address\n",
      "\tamount: 1boot\n",
      "\n",
      "{'attributes': [{'key': 'action', 'value': '/cosmos.bank.v1beta1.MsgMultiSend'}, {'key': 'sender', 'value': 'bostrom1mxdtr8lruutugqtxgpw2sf2tl2mhzlq5fd2du0'}, {'key': 'sender', 'value': 'bostrom1mxdtr8lruutugqtxgpw2sf2tl2mhzlq5fd2du0'}, {'key': 'sender', 'value': 'bostrom1mxdtr8lruutugqtxgpw2sf2tl2mhzlq5fd2du0'}, {'key': 'sender', 'value': 'bostrom1mxdtr8lruutugqtxgpw2sf2tl2mhzlq5fd2du0'}, {'key': 'sender', 'value': 'bostrom1mxdtr8lruutugqtxgpw2sf2tl2mhzlq5fd2du0'}, {'key': 'sender', 'value': 'bostrom1mxdtr8lruutugqtxgpw2sf2tl2mhzlq5fd2du0'}, {'key': 'sender', 'value': 'bostrom1mxdtr8lruutugqtxgpw2sf2tl2mhzlq5fd2du0'}, {'key': 'sender', 'value': 'bostrom1mxdtr8lruutugqtxgpw2sf2tl2mhzlq5fd2du0'}, {'key': 'sender', 'value': 'bostrom1mxdtr8lruutugqtxgpw2sf2tl2mhzlq5fd2du0'}, {'key': 'sender', 'value': 'bostrom1mxdtr8lruutugqtxgpw2sf2tl2mhzlq5fd2du0'}, {'key': 'module', 'value': 'bank'}], 'type': 'message'}\n",
      "\n",
      "transfer\n",
      "\trecipient: bostrom1y90fdf63dz6jfahupu4wdqp6v3f69rxptnr04c\n",
      "\tamount: 1boot\n",
      "\trecipient: bostrom162f8clv5ht6j2kmms0556j0mezuj3e6ked366q\n",
      "\tamount: 1boot\n",
      "\trecipient: bostrom1he3vaq8knkx56tevl6mkel42eddq507mgulsnf\n",
      "\tamount: 1boot\n",
      "\trecipient: bostrom1efylm4laztlkc0ydye3k6g6cx95h6khw7z27mp\n",
      "\tamount: 1boot\n",
      "\trecipient: bostrom1z4gex65lzw62uqapaxctfku4588ulvgn4yvwmk\n",
      "\tamount: 1boot\n",
      "\trecipient: bostrom13f4sr82dux0kfu7uma3atv7frhzx57ghvm9dxa\n",
      "\tamount: 1boot\n",
      "\trecipient: bostrom1pypc2s9dh0f6yp0xcqwjap99l5k75qgmp2kntw\n",
      "\tamount: 1boot\n",
      "\trecipient: bostrom13ugfw2hr7s8f0yttczg8e2v6v04dlwwarsc4rw\n",
      "\tamount: 1boot\n",
      "\trecipient: bostrom19pfkg9t5nvsmmjffsjv6k625xy98esgukewtyy\n",
      "\tamount: 1boot\n",
      "\trecipient: bostrom1kzrdznpsuhj8scw8p734eex07g0779vr8xw0d6\n",
      "\tamount: 1boot\n",
      "Gas used: 291,894\n",
      "Tx hash: 55CDAD5B0692ACDD9A5DD1281C0CAD93B0ABEF41D52D521CEB1CC35F87EB1CC0\n"
     ]
    }
   ],
   "source": [
    "bostrom_addresses = claims_with_proofs_df.bostrom_address.to_list()\n",
    "NUMBER_ADDRESSES_IN_SENDING_CHUNK = 1000\n",
    "bostrom_addresses_chunks = [bostrom_addresses[i: i+ NUMBER_ADDRESSES_IN_SENDING_CHUNK] for i in range(0, len(bostrom_addresses), NUMBER_ADDRESSES_IN_SENDING_CHUNK)]\n",
    "\n",
    "for bostrom_addresses_item in bostrom_addresses_chunks:\n",
    "    send_output = contract_utils.send_coins(\n",
    "            from_seed=WALLET_SEED,\n",
    "            to_addresses=claims_with_proofs_df.bostrom_address.to_list(),\n",
    "            amounts=[1] * len(claims_with_proofs_df.bostrom_address.to_list()),\n",
    "            gas=min(71000 * len(claims_with_proofs_df.bostrom_address.to_list()), int(23e6)),\n",
    "            display_data=DISPLAY_TX_EXECUTION)\n",
    "    contract_utils.parse_contract_execution_json(contract_execution_json=send_output)"
   ],
   "metadata": {
    "collapsed": false
   }
  },
  {
   "cell_type": "markdown",
   "source": [
    "### Create Passports"
   ],
   "metadata": {
    "collapsed": false
   }
  },
  {
   "cell_type": "code",
   "execution_count": 15,
   "outputs": [
    {
     "data": {
      "text/plain": "0it [00:00, ?it/s]",
      "application/vnd.jupyter.widget-view+json": {
       "version_major": 2,
       "version_minor": 0,
       "model_id": "104e629a228f405caec0d8f478d061f3"
      }
     },
     "metadata": {},
     "output_type": "display_data"
    },
    {
     "name": "stdout",
     "output_type": "stream",
     "text": [
      "\n",
      "Events\n",
      "\n",
      "cyberlinks\n",
      "\tPassport Owner Address -> Nickname\n",
      "\tNickname -> Passport Owner Address\n",
      "\tneuron: Name Subgraph Contract\n",
      "\n",
      "\tNickname -> Avatar\n",
      "\tAvatar -> Nickname\n",
      "\tneuron: Avatar Subgraph Contract\n",
      "\n",
      "\n",
      "execute\n",
      "\texecute contract: Passport Contract\n",
      "\texecute contract: Name Subgraph Contract\n",
      "\texecute contract: Avatar Subgraph Contract\n",
      "\n",
      "message from bostrom1y90fdf63dz6jfahupu4wdqp6v3f69rxptnr04c wasm /cosmwasm.wasm.v1.MsgExecuteContract\n",
      "\n",
      "wasm\n",
      "\t_contract_address: Passport Contract\n",
      "\taction: mint\n",
      "\tminter: Passport Contract\n",
      "\ttoken_id: 1413\n",
      "Gas used: 440,183\n",
      "Tx hash: CDA96114D1ED58B64B4A2F38BEF6E35C4181F9CD8236B14F039BCF39D2F30C50\n"
     ]
    }
   ],
   "source": [
    "for index, row in tqdm(claims_with_proofs_df[:NUMBER_OF_ACTIVATED_PARTICIPANTS].iterrows()):\n",
    "    if index == 0:\n",
    "        create_passport_json = contract_utils.create_passport(row, display_data=DISPLAY_TX_EXECUTION)\n",
    "        contract_utils.parse_contract_execution_json(create_passport_json, row=row)\n",
    "    else:\n",
    "        contract_utils.create_passport(row)"
   ],
   "metadata": {
    "collapsed": false
   }
  },
  {
   "cell_type": "markdown",
   "source": [
    "### Proof (Add) Address to Passports"
   ],
   "metadata": {
    "collapsed": false
   }
  },
  {
   "cell_type": "code",
   "execution_count": 16,
   "outputs": [
    {
     "data": {
      "text/plain": "0it [00:00, ?it/s]",
      "application/vnd.jupyter.widget-view+json": {
       "version_major": 2,
       "version_minor": 0,
       "model_id": "fb6c020e0e4b4ff3a480f87cb525513f"
      }
     },
     "metadata": {},
     "output_type": "display_data"
    },
    {
     "name": "stdout",
     "output_type": "stream",
     "text": [
      "\n",
      "Events\n",
      "\n",
      "cyberlinks\n",
      "\tNickname -> Ethereum Address\n",
      "\tEthereum Address -> Nickname\n",
      "\tneuron: Proof Subgraph Contract\n",
      "\n",
      "\n",
      "execute\n",
      "\texecute contract: Passport Contract\n",
      "\texecute contract: Proof Subgraph Contract\n",
      "\n",
      "message from bostrom162f8clv5ht6j2kmms0556j0mezuj3e6ked366q wasm /cosmwasm.wasm.v1.MsgExecuteContract\n",
      "\n",
      "wasm\n",
      "\t_contract_address: Passport Contract\n",
      "\taction: proof_address\n",
      "\tnickname: john16495703801\n",
      "\taddress: 0x042a2bb0e4acd457bcadda6e05827aa83ebe91fa\n",
      "Gas used: 281,090\n",
      "Tx hash: 96C7ADA679DC321B73BF5E090CFA8E086FB906E87B1133E3CD03234F4A568115\n",
      "\n",
      "Events\n",
      "\n",
      "cyberlinks\n",
      "\tNickname -> Cosmos Address\n",
      "\tCosmos Address -> Nickname\n",
      "\tneuron: Proof Subgraph Contract\n",
      "\n",
      "\n",
      "execute\n",
      "\texecute contract: Passport Contract\n",
      "\texecute contract: Proof Subgraph Contract\n",
      "\n",
      "message from bostrom162f8clv5ht6j2kmms0556j0mezuj3e6ked366q wasm /cosmwasm.wasm.v1.MsgExecuteContract\n",
      "\n",
      "wasm\n",
      "\t_contract_address: Passport Contract\n",
      "\taction: proof_address\n",
      "\tnickname: john16495703801\n",
      "\taddress: cosmos162f8clv5ht6j2kmms0556j0mezuj3e6k679fy8\n",
      "Gas used: 284,525\n",
      "Tx hash: 7FC12C2CD87496689399FD468AAA5E536AB9A04A712CCC016EB1F5C18C7B05BD\n"
     ]
    }
   ],
   "source": [
    "for index, row in tqdm(claims_with_proofs_df[:NUMBER_OF_ACTIVATED_PARTICIPANTS].iterrows()):\n",
    "    if index == 1:\n",
    "        proof_ethereum_address_json = contract_utils.proof_address(row, display_data=DISPLAY_TX_EXECUTION)\n",
    "        contract_utils.parse_contract_execution_json(proof_ethereum_address_json, row=row)\n",
    "\n",
    "        proof_cosmos_address_json = contract_utils.proof_address(row, network='cosmos', display_data=DISPLAY_TX_EXECUTION)\n",
    "        contract_utils.parse_contract_execution_json(proof_cosmos_address_json, row=row)\n",
    "    else:\n",
    "        contract_utils.proof_address(row)\n",
    "        contract_utils.proof_address(row, network='cosmos')"
   ],
   "metadata": {
    "collapsed": false
   }
  },
  {
   "cell_type": "markdown",
   "source": [
    "### Claim"
   ],
   "metadata": {
    "collapsed": false
   }
  },
  {
   "cell_type": "code",
   "execution_count": 17,
   "outputs": [
    {
     "data": {
      "text/plain": "0it [00:00, ?it/s]",
      "application/vnd.jupyter.widget-view+json": {
       "version_major": 2,
       "version_minor": 0,
       "model_id": "c00adad4b7754a548dd287666781a483"
      }
     },
     "metadata": {},
     "output_type": "display_data"
    },
    {
     "name": "stdout",
     "output_type": "stream",
     "text": [
      "{'claim': {'nickname': 'john16495703800', 'gift_claiming_address': '0x9124d6592264ae9e6693dfa39b8f82f16182419c', 'gift_amount': '1000000', 'proof': ['78900d7c06c43ae20970087421f80e49257815363f6a3a3563f5ec29d28940d1', '8cfc554eaa1feae2ff77f1307b0341fbdf7edf6be643fbe6083fd025f5cc6328', '788ddba1a2fb402628dd12efa2aafbab89e1dfbd57d5c2b279626936a990ba2b', '8fdbf3af68c6049a91547cdc34c7c7d862bc2445ba8e0688a4d334fa48e8fdf6', 'eee157a02965da2c68325270a3893ccad9644d1a717328f173758f04d9d31620']}}\n",
      "\n",
      "Events\n",
      "\n",
      "coin received\n",
      "\treceiver: bostrom1y90fdf63dz6jfahupu4wdqp6v3f69rxptnr04c\n",
      "\tamount: 100000boot\n",
      "\n",
      "coin spent\n",
      "\tspender: Gift Contract\n",
      "\tamount: 100000boot\n",
      "\n",
      "execute\n",
      "\texecute contract: Gift Contract\n",
      "\n",
      "message from bostrom1y90fdf63dz6jfahupu4wdqp6v3f69rxptnr04c wasm /cosmwasm.wasm.v1.MsgExecuteContract\n",
      "\n",
      "transfer\n",
      "\trecipient: bostrom1y90fdf63dz6jfahupu4wdqp6v3f69rxptnr04c\n",
      "\tsender: Gift Contract\n",
      "\tamount: 100000boot\n",
      "\n",
      "wasm\n",
      "\t_contract_address: Gift Contract\n",
      "\taction: claim\n",
      "\toriginal: 0x9124d6592264ae9e6693dfa39b8f82f16182419c\n",
      "\ttarget: bostrom1y90fdf63dz6jfahupu4wdqp6v3f69rxptnr04c\n",
      "\tamount: 13,000,000\n",
      "Gas used: 315,015\n",
      "Tx hash: E5005F4F9F5489C312145A360E16DB493DE55AD9E50984540318611B09DF9C24\n",
      "{'claim': {'nickname': 'john16495703800', 'gift_claiming_address': 'cosmos1y90fdf63dz6jfahupu4wdqp6v3f69rxpgqhutl', 'gift_amount': '1000000', 'proof': ['30fdf3cb4f18b08a20a2db3acc5ac961095089672200b30ca6d313065c5664c5', '68ee8354cf5d2c8231dda926d3f5a80df35e2f9417d067347c4671bc044715da', '788ddba1a2fb402628dd12efa2aafbab89e1dfbd57d5c2b279626936a990ba2b', '8fdbf3af68c6049a91547cdc34c7c7d862bc2445ba8e0688a4d334fa48e8fdf6', 'eee157a02965da2c68325270a3893ccad9644d1a717328f173758f04d9d31620']}}\n",
      "\n",
      "Events\n",
      "\n",
      "coin received\n",
      "\treceiver: bostrom1y90fdf63dz6jfahupu4wdqp6v3f69rxptnr04c\n",
      "\tamount: 100000boot\n",
      "\n",
      "coin spent\n",
      "\tspender: Gift Contract\n",
      "\tamount: 100000boot\n",
      "\n",
      "execute\n",
      "\texecute contract: Gift Contract\n",
      "\n",
      "message from bostrom1y90fdf63dz6jfahupu4wdqp6v3f69rxptnr04c wasm /cosmwasm.wasm.v1.MsgExecuteContract\n",
      "\n",
      "transfer\n",
      "\trecipient: bostrom1y90fdf63dz6jfahupu4wdqp6v3f69rxptnr04c\n",
      "\tsender: Gift Contract\n",
      "\tamount: 100000boot\n",
      "\n",
      "wasm\n",
      "\t_contract_address: Gift Contract\n",
      "\taction: claim\n",
      "\toriginal: cosmos1y90fdf63dz6jfahupu4wdqp6v3f69rxpgqhutl\n",
      "\ttarget: bostrom1y90fdf63dz6jfahupu4wdqp6v3f69rxptnr04c\n",
      "\tamount: 13,000,000\n",
      "Gas used: 315,552\n",
      "Tx hash: 0FC49AF516BFC03324E5A02B639AF8F42C91B67D562EEA501BA4975F56968176\n",
      "{'claim': {'nickname': 'john16495703801', 'gift_claiming_address': '0x042a2bb0e4acd457bcadda6e05827aa83ebe91fa', 'gift_amount': '1000000', 'proof': ['d0c8f5fc66c5a977340dd92568b1b989992f3b3c5b114c46455a5b2491bd9d6b', 'c2c29fd45a2eeebaf8c548789bc2c7412444469f8c24164d3d096bae98b198c1', '3793c33e8114594b79a2ac806df7a921d9b111babc33ce26433b3b29c6b8b7a0', '88942d0d4485753dca9f7593b98470a3e310fa20a4ad78b3548e310edc2f9294', 'eee157a02965da2c68325270a3893ccad9644d1a717328f173758f04d9d31620']}}\n",
      "\n",
      "Events\n",
      "\n",
      "coin received\n",
      "\treceiver: bostrom162f8clv5ht6j2kmms0556j0mezuj3e6ked366q\n",
      "\tamount: 100000boot\n",
      "\n",
      "coin spent\n",
      "\tspender: Gift Contract\n",
      "\tamount: 100000boot\n",
      "\n",
      "execute\n",
      "\texecute contract: Gift Contract\n",
      "\n",
      "message from bostrom162f8clv5ht6j2kmms0556j0mezuj3e6ked366q wasm /cosmwasm.wasm.v1.MsgExecuteContract\n",
      "\n",
      "transfer\n",
      "\trecipient: bostrom162f8clv5ht6j2kmms0556j0mezuj3e6ked366q\n",
      "\tsender: Gift Contract\n",
      "\tamount: 100000boot\n",
      "\n",
      "wasm\n",
      "\t_contract_address: Gift Contract\n",
      "\taction: claim\n",
      "\toriginal: 0x042a2bb0e4acd457bcadda6e05827aa83ebe91fa\n",
      "\ttarget: bostrom162f8clv5ht6j2kmms0556j0mezuj3e6ked366q\n",
      "\tamount: 12,922,000\n",
      "Gas used: 315,296\n",
      "Tx hash: A839FC20A445A038B054DAE1604DC9C1F41626B2A23767772259282A818D1752\n",
      "{'claim': {'nickname': 'john16495703801', 'gift_claiming_address': 'cosmos162f8clv5ht6j2kmms0556j0mezuj3e6k679fy8', 'gift_amount': '1000000', 'proof': ['c571aa4a3bb95f180e8865ac710746125a1d2936940a1ffafecf98aadb2d41df', 'c2c29fd45a2eeebaf8c548789bc2c7412444469f8c24164d3d096bae98b198c1', '3793c33e8114594b79a2ac806df7a921d9b111babc33ce26433b3b29c6b8b7a0', '88942d0d4485753dca9f7593b98470a3e310fa20a4ad78b3548e310edc2f9294', 'eee157a02965da2c68325270a3893ccad9644d1a717328f173758f04d9d31620']}}\n",
      "\n",
      "Events\n",
      "\n",
      "coin received\n",
      "\treceiver: bostrom162f8clv5ht6j2kmms0556j0mezuj3e6ked366q\n",
      "\tamount: 100000boot\n",
      "\n",
      "coin spent\n",
      "\tspender: Gift Contract\n",
      "\tamount: 100000boot\n",
      "\n",
      "execute\n",
      "\texecute contract: Gift Contract\n",
      "\n",
      "message from bostrom162f8clv5ht6j2kmms0556j0mezuj3e6ked366q wasm /cosmwasm.wasm.v1.MsgExecuteContract\n",
      "\n",
      "transfer\n",
      "\trecipient: bostrom162f8clv5ht6j2kmms0556j0mezuj3e6ked366q\n",
      "\tsender: Gift Contract\n",
      "\tamount: 100000boot\n",
      "\n",
      "wasm\n",
      "\t_contract_address: Gift Contract\n",
      "\taction: claim\n",
      "\toriginal: cosmos162f8clv5ht6j2kmms0556j0mezuj3e6k679fy8\n",
      "\ttarget: bostrom162f8clv5ht6j2kmms0556j0mezuj3e6ked366q\n",
      "\tamount: 12,844,000\n",
      "Gas used: 315,761\n",
      "Tx hash: 3E5B0D8D5F488749C6105A71318FC955DC2ACF818F0B10D8C563B9ADBE942F3F\n",
      "{'claim': {'nickname': 'john16495703802', 'gift_claiming_address': '0x0329bbdbf79eaf87d8d77ecb71f7f8d816544359', 'gift_amount': '1000000', 'proof': ['9d5777f2aee55468fcd9a426466d35917086cc43855ca8274b54ab69a3926763', '0f4f00eb184448c07e51dacabbacf44b650bcff804336cd35b53aea2f28b8210', '3793c33e8114594b79a2ac806df7a921d9b111babc33ce26433b3b29c6b8b7a0', '88942d0d4485753dca9f7593b98470a3e310fa20a4ad78b3548e310edc2f9294', 'eee157a02965da2c68325270a3893ccad9644d1a717328f173758f04d9d31620']}}\n",
      "\n",
      "Events\n",
      "\n",
      "coin received\n",
      "\treceiver: bostrom1he3vaq8knkx56tevl6mkel42eddq507mgulsnf\n",
      "\tamount: 100000boot\n",
      "\n",
      "coin spent\n",
      "\tspender: Gift Contract\n",
      "\tamount: 100000boot\n",
      "\n",
      "execute\n",
      "\texecute contract: Gift Contract\n",
      "\n",
      "message from bostrom1he3vaq8knkx56tevl6mkel42eddq507mgulsnf wasm /cosmwasm.wasm.v1.MsgExecuteContract\n",
      "\n",
      "transfer\n",
      "\trecipient: bostrom1he3vaq8knkx56tevl6mkel42eddq507mgulsnf\n",
      "\tsender: Gift Contract\n",
      "\tamount: 100000boot\n",
      "\n",
      "wasm\n",
      "\t_contract_address: Gift Contract\n",
      "\taction: claim\n",
      "\toriginal: 0x0329bbdbf79eaf87d8d77ecb71f7f8d816544359\n",
      "\ttarget: bostrom1he3vaq8knkx56tevl6mkel42eddq507mgulsnf\n",
      "\tamount: 12,766,468\n",
      "Gas used: 315,500\n",
      "Tx hash: 56B810E9EC7BE15F13838BC24E61A30D3F09AA9DD68808B099EA1EEFC880877A\n",
      "{'claim': {'nickname': 'john16495703802', 'gift_claiming_address': 'cosmos1he3vaq8knkx56tevl6mkel42eddq507mt0trdw', 'gift_amount': '1000000', 'proof': ['d560e34d04482e9002c51c4155cc578ad1083221e4d87016061a18fcb63f7406', '66f78f689f1978d3b6988865b455868e67c42f65330e2c75616b791c6d987b76', 'f4ddc1e9906cd06afa3d49b7f201b88b2a91abbcdb5ef77fd96f9064791bca4c', '487e9addb6ac54920bf3b68cab20c089b773e22db2e2b74f65795590cd5421fe']}}\n",
      "\n",
      "Events\n",
      "\n",
      "coin received\n",
      "\treceiver: bostrom1he3vaq8knkx56tevl6mkel42eddq507mgulsnf\n",
      "\tamount: 100000boot\n",
      "\n",
      "coin spent\n",
      "\tspender: Gift Contract\n",
      "\tamount: 100000boot\n",
      "\n",
      "execute\n",
      "\texecute contract: Gift Contract\n",
      "\n",
      "message from bostrom1he3vaq8knkx56tevl6mkel42eddq507mgulsnf wasm /cosmwasm.wasm.v1.MsgExecuteContract\n",
      "\n",
      "transfer\n",
      "\trecipient: bostrom1he3vaq8knkx56tevl6mkel42eddq507mgulsnf\n",
      "\tsender: Gift Contract\n",
      "\tamount: 100000boot\n",
      "\n",
      "wasm\n",
      "\t_contract_address: Gift Contract\n",
      "\taction: claim\n",
      "\toriginal: cosmos1he3vaq8knkx56tevl6mkel42eddq507mt0trdw\n",
      "\ttarget: bostrom1he3vaq8knkx56tevl6mkel42eddq507mgulsnf\n",
      "\tamount: 12,689,404\n",
      "Gas used: 314,581\n",
      "Tx hash: 57C3DDED0189DFF25682AF6B901383F1E767366773295685FC3AE9199F845C5E\n",
      "{'claim': {'nickname': 'john16495703803', 'gift_claiming_address': '0x2c105e1ce5bc66a3ec0eb18089b00a471e3bd0a8', 'gift_amount': '1000000', 'proof': ['5e42909234f9266f1a6cac6f517ca7971472cf36a9308f85e532d7dbb06139bd', '68ee8354cf5d2c8231dda926d3f5a80df35e2f9417d067347c4671bc044715da', '788ddba1a2fb402628dd12efa2aafbab89e1dfbd57d5c2b279626936a990ba2b', '8fdbf3af68c6049a91547cdc34c7c7d862bc2445ba8e0688a4d334fa48e8fdf6', 'eee157a02965da2c68325270a3893ccad9644d1a717328f173758f04d9d31620']}}\n",
      "\n",
      "Events\n",
      "\n",
      "coin received\n",
      "\treceiver: bostrom1efylm4laztlkc0ydye3k6g6cx95h6khw7z27mp\n",
      "\tamount: 100000boot\n",
      "\n",
      "coin spent\n",
      "\tspender: Gift Contract\n",
      "\tamount: 100000boot\n",
      "\n",
      "execute\n",
      "\texecute contract: Gift Contract\n",
      "\n",
      "message from bostrom1efylm4laztlkc0ydye3k6g6cx95h6khw7z27mp wasm /cosmwasm.wasm.v1.MsgExecuteContract\n",
      "\n",
      "transfer\n",
      "\trecipient: bostrom1efylm4laztlkc0ydye3k6g6cx95h6khw7z27mp\n",
      "\tsender: Gift Contract\n",
      "\tamount: 100000boot\n",
      "\n",
      "wasm\n",
      "\t_contract_address: Gift Contract\n",
      "\taction: claim\n",
      "\toriginal: 0x2c105e1ce5bc66a3ec0eb18089b00a471e3bd0a8\n",
      "\ttarget: bostrom1efylm4laztlkc0ydye3k6g6cx95h6khw7z27mp\n",
      "\tamount: 12,612,805\n",
      "Gas used: 315,704\n",
      "Tx hash: F0E35A791B483BB675EE1A23F01D839E6C29DEB1FB0C63A5ACE4CB0A32225D73\n",
      "{'claim': {'nickname': 'john16495703803', 'gift_claiming_address': 'cosmos1efylm4laztlkc0ydye3k6g6cx95h6khwa37d9x', 'gift_amount': '1000000', 'proof': ['97b75d463fd68f9b16cf586bdf6d0d6dd3044beb7a640a0b42030f5684554e1e', '8d0ba595bfdde180641f64244d954a8e6f7679f414880a820f9621fd440d7637', '3f5a7595a6098370287df811d2d2af459135cd0a8b7e71c4b5c02cb1cdd6eb28', '88942d0d4485753dca9f7593b98470a3e310fa20a4ad78b3548e310edc2f9294', 'eee157a02965da2c68325270a3893ccad9644d1a717328f173758f04d9d31620']}}\n",
      "\n",
      "Events\n",
      "\n",
      "coin received\n",
      "\treceiver: bostrom1efylm4laztlkc0ydye3k6g6cx95h6khw7z27mp\n",
      "\tamount: 100000boot\n",
      "\n",
      "coin spent\n",
      "\tspender: Gift Contract\n",
      "\tamount: 100000boot\n",
      "\n",
      "execute\n",
      "\texecute contract: Gift Contract\n",
      "\n",
      "message from bostrom1efylm4laztlkc0ydye3k6g6cx95h6khw7z27mp wasm /cosmwasm.wasm.v1.MsgExecuteContract\n",
      "\n",
      "transfer\n",
      "\trecipient: bostrom1efylm4laztlkc0ydye3k6g6cx95h6khw7z27mp\n",
      "\tsender: Gift Contract\n",
      "\tamount: 100000boot\n",
      "\n",
      "wasm\n",
      "\t_contract_address: Gift Contract\n",
      "\taction: claim\n",
      "\toriginal: cosmos1efylm4laztlkc0ydye3k6g6cx95h6khwa37d9x\n",
      "\ttarget: bostrom1efylm4laztlkc0ydye3k6g6cx95h6khw7z27mp\n",
      "\tamount: 12,536,668\n",
      "Gas used: 315,976\n",
      "Tx hash: 7F952323C46F76D62B74468F2675620CA24C369878673EF3E418F4FF3A0173AD\n",
      "{'claim': {'nickname': 'john16495703804', 'gift_claiming_address': '0xcd012b8e0c4a5bd5c9283a0a4281ec553420d149', 'gift_amount': '1000000', 'proof': ['d24b8d0cf08a253a44e55c4c134626b76f66b6b4e61e547479585f4f155817b0', '66f78f689f1978d3b6988865b455868e67c42f65330e2c75616b791c6d987b76', 'f4ddc1e9906cd06afa3d49b7f201b88b2a91abbcdb5ef77fd96f9064791bca4c', '487e9addb6ac54920bf3b68cab20c089b773e22db2e2b74f65795590cd5421fe']}}\n",
      "\n",
      "Events\n",
      "\n",
      "coin received\n",
      "\treceiver: bostrom1z4gex65lzw62uqapaxctfku4588ulvgn4yvwmk\n",
      "\tamount: 100000boot\n",
      "\n",
      "coin spent\n",
      "\tspender: Gift Contract\n",
      "\tamount: 100000boot\n",
      "\n",
      "execute\n",
      "\texecute contract: Gift Contract\n",
      "\n",
      "message from bostrom1z4gex65lzw62uqapaxctfku4588ulvgn4yvwmk wasm /cosmwasm.wasm.v1.MsgExecuteContract\n",
      "\n",
      "transfer\n",
      "\trecipient: bostrom1z4gex65lzw62uqapaxctfku4588ulvgn4yvwmk\n",
      "\tsender: Gift Contract\n",
      "\tamount: 100000boot\n",
      "\n",
      "wasm\n",
      "\t_contract_address: Gift Contract\n",
      "\taction: claim\n",
      "\toriginal: 0xcd012b8e0c4a5bd5c9283a0a4281ec553420d149\n",
      "\ttarget: bostrom1z4gex65lzw62uqapaxctfku4588ulvgn4yvwmk\n",
      "\tamount: 12,460,991\n",
      "Gas used: 314,255\n",
      "Tx hash: DD8D790592140D135DDC6811116B74D7FAB2E3BAEEA3E1992BDC12B59761B9B3\n",
      "{'claim': {'nickname': 'john16495703804', 'gift_claiming_address': 'cosmos1z4gex65lzw62uqapaxctfku4588ulvgnkhca93', 'gift_amount': '1000000', 'proof': ['1504edb79fb0500537d30e48ee1ad4fda5c61b7ac9922d18f6bcac92d6b51ef6', 'ede12e4ad76960f7b154499c6a8bdad1546c29b6c0c944454948d6d3a3474e00', '4a9eef354ac65a0aea9fe072e011797544eaeb847f9aec2895be9a2709dd9e9f', '8fdbf3af68c6049a91547cdc34c7c7d862bc2445ba8e0688a4d334fa48e8fdf6', 'eee157a02965da2c68325270a3893ccad9644d1a717328f173758f04d9d31620']}}\n",
      "\n",
      "Events\n",
      "\n",
      "coin received\n",
      "\treceiver: bostrom1z4gex65lzw62uqapaxctfku4588ulvgn4yvwmk\n",
      "\tamount: 100000boot\n",
      "\n",
      "coin spent\n",
      "\tspender: Gift Contract\n",
      "\tamount: 100000boot\n",
      "\n",
      "execute\n",
      "\texecute contract: Gift Contract\n",
      "\n",
      "message from bostrom1z4gex65lzw62uqapaxctfku4588ulvgn4yvwmk wasm /cosmwasm.wasm.v1.MsgExecuteContract\n",
      "\n",
      "transfer\n",
      "\trecipient: bostrom1z4gex65lzw62uqapaxctfku4588ulvgn4yvwmk\n",
      "\tsender: Gift Contract\n",
      "\tamount: 100000boot\n",
      "\n",
      "wasm\n",
      "\t_contract_address: Gift Contract\n",
      "\taction: claim\n",
      "\toriginal: cosmos1z4gex65lzw62uqapaxctfku4588ulvgnkhca93\n",
      "\ttarget: bostrom1z4gex65lzw62uqapaxctfku4588ulvgn4yvwmk\n",
      "\tamount: 12,385,771\n",
      "Gas used: 316,001\n",
      "Tx hash: E0C2F2951E77A4CA44F3F16EBA34EC5D41103EB1A9895BC3186C9EC3EC86274A\n"
     ]
    }
   ],
   "source": [
    "for index, row in tqdm(claims_with_proofs_df[:NUMBER_OF_ACTIVATED_PARTICIPANTS].iterrows()):\n",
    "    if index == 0:\n",
    "        claim_ethereum_json = contract_utils.claim(row, display_data=DISPLAY_TX_EXECUTION)\n",
    "        contract_utils.parse_contract_execution_json(claim_ethereum_json)\n",
    "\n",
    "        claim_cosmos_json = contract_utils.claim(row, network='cosmos', display_data=DISPLAY_TX_EXECUTION)\n",
    "        contract_utils.parse_contract_execution_json(claim_cosmos_json)\n",
    "    else:\n",
    "        claim_ethereum_json_2 = contract_utils.claim(row)\n",
    "        contract_utils.parse_contract_execution_json(claim_ethereum_json_2)\n",
    "\n",
    "        claim_cosmos_json_2 = contract_utils.claim(row, network='cosmos')\n",
    "        contract_utils.parse_contract_execution_json(claim_cosmos_json_2)"
   ],
   "metadata": {
    "collapsed": false
   }
  },
  {
   "cell_type": "markdown",
   "source": [
    "### Release Gift"
   ],
   "metadata": {
    "collapsed": false
   },
   "execution_count": 11
  },
  {
   "cell_type": "code",
   "execution_count": 18,
   "outputs": [
    {
     "data": {
      "text/plain": "0it [00:00, ?it/s]",
      "application/vnd.jupyter.widget-view+json": {
       "version_major": 2,
       "version_minor": 0,
       "model_id": "880e97937b774e1b9a8bfc16bed1176d"
      }
     },
     "metadata": {},
     "output_type": "display_data"
    },
    {
     "name": "stdout",
     "output_type": "stream",
     "text": [
      "\n",
      "Events\n",
      "\n",
      "coin received\n",
      "\treceiver: bostrom1y90fdf63dz6jfahupu4wdqp6v3f69rxptnr04c\n",
      "\tamount: 1290000boot\n",
      "\n",
      "coin spent\n",
      "\tspender: Gift Contract\n",
      "\tamount: 1290000boot\n",
      "\n",
      "execute\n",
      "\texecute contract: Gift Contract\n",
      "\n",
      "message from bostrom1y90fdf63dz6jfahupu4wdqp6v3f69rxptnr04c wasm /cosmwasm.wasm.v1.MsgExecuteContract\n",
      "\n",
      "transfer\n",
      "\trecipient: bostrom1y90fdf63dz6jfahupu4wdqp6v3f69rxptnr04c\n",
      "\tsender: Gift Contract\n",
      "\tamount: 1290000boot\n",
      "\n",
      "wasm\n",
      "\t_contract_address: Gift Contract\n",
      "\taction: release\n",
      "\taddress: bostrom1y90fdf63dz6jfahupu4wdqp6v3f69rxptnr04c\n",
      "\tgift_address: 0x9124d6592264ae9e6693dfa39b8f82f16182419c\n",
      "\tstage: 9\n",
      "\tamount: 1,290,000\n",
      "Gas used: 157,502\n",
      "Tx hash: 07B209093AB4960C86A93450B0023387BA9337A3716C92F83BA92D998130DA9B\n",
      "\n",
      "Events\n",
      "\n",
      "coin received\n",
      "\treceiver: bostrom1y90fdf63dz6jfahupu4wdqp6v3f69rxptnr04c\n",
      "\tamount: 1290000boot\n",
      "\n",
      "coin spent\n",
      "\tspender: Gift Contract\n",
      "\tamount: 1290000boot\n",
      "\n",
      "execute\n",
      "\texecute contract: Gift Contract\n",
      "\n",
      "message from bostrom1y90fdf63dz6jfahupu4wdqp6v3f69rxptnr04c wasm /cosmwasm.wasm.v1.MsgExecuteContract\n",
      "\n",
      "transfer\n",
      "\trecipient: bostrom1y90fdf63dz6jfahupu4wdqp6v3f69rxptnr04c\n",
      "\tsender: Gift Contract\n",
      "\tamount: 1290000boot\n",
      "\n",
      "wasm\n",
      "\t_contract_address: Gift Contract\n",
      "\taction: release\n",
      "\taddress: bostrom1y90fdf63dz6jfahupu4wdqp6v3f69rxptnr04c\n",
      "\tgift_address: cosmos1y90fdf63dz6jfahupu4wdqp6v3f69rxpgqhutl\n",
      "\tstage: 9\n",
      "\tamount: 1,290,000\n",
      "Gas used: 157,681\n",
      "Tx hash: 5E702803DE153457E7CA64E1EBEEB5FAC7F05B3469641E6736E515D58CD4B89B\n"
     ]
    }
   ],
   "source": [
    "for index, row in tqdm(claims_with_proofs_df[:NUMBER_OF_ACTIVATED_PARTICIPANTS].iterrows()):\n",
    "    if index == 0:\n",
    "        release_ethereum_json = contract_utils.release(row, display_data=DISPLAY_TX_EXECUTION)\n",
    "        contract_utils.parse_contract_execution_json(release_ethereum_json)\n",
    "\n",
    "        release_cosmos_json = contract_utils.release(row, network='cosmos', display_data=DISPLAY_TX_EXECUTION)\n",
    "        contract_utils.parse_contract_execution_json(release_cosmos_json)\n",
    "    else:\n",
    "        contract_utils.release(row)\n",
    "        contract_utils.release(row, network='cosmos')"
   ],
   "metadata": {
    "collapsed": false
   }
  },
  {
   "cell_type": "markdown",
   "source": [
    "## Passport NFT testing\n",
    "### Transfer Passport"
   ],
   "metadata": {
    "collapsed": false
   }
  },
  {
   "cell_type": "code",
   "execution_count": 19,
   "outputs": [],
   "source": [
    "def get_passport_id(bostrom_address: str) -> str:\n",
    "    return query_contract(query=f'''{{\"tokens\": {{\"owner\": \"{bostrom_address}\"}}}}''',\n",
    "                          contract_address=passport_contract_address)['data']['tokens'][0]"
   ],
   "metadata": {
    "collapsed": false
   }
  },
  {
   "cell_type": "code",
   "execution_count": 20,
   "outputs": [
    {
     "data": {
      "text/plain": "0it [00:00, ?it/s]",
      "application/vnd.jupyter.widget-view+json": {
       "version_major": 2,
       "version_minor": 0,
       "model_id": "179496bd31d340eba7e93395240234ec"
      }
     },
     "metadata": {},
     "output_type": "display_data"
    },
    {
     "name": "stdout",
     "output_type": "stream",
     "text": [
      "\n",
      "Events\n",
      "\n",
      "cyberlinks\n",
      "\tQmPcFZbajorUYkkdeowYUD1zJRAWA13N4Koy4rLeZ4cDji -> Nickname\n",
      "\tNickname -> QmPcFZbajorUYkkdeowYUD1zJRAWA13N4Koy4rLeZ4cDji\n",
      "\tneuron: Name Subgraph Contract\n",
      "\n",
      "\n",
      "execute\n",
      "\texecute contract: Passport Contract\n",
      "\texecute contract: Name Subgraph Contract\n",
      "\texecute contract: Avatar Subgraph Contract\n",
      "\n",
      "message from bostrom162f8clv5ht6j2kmms0556j0mezuj3e6ked366q wasm /cosmwasm.wasm.v1.MsgExecuteContract\n",
      "\n",
      "reply\n",
      "\treply contract: Avatar Subgraph Contract\n",
      "\n",
      "wasm\n",
      "\t_contract_address: Passport Contract\n",
      "\taction: transfer_nft\n",
      "\tsender: bostrom162f8clv5ht6j2kmms0556j0mezuj3e6ked366q\n",
      "\trecipient: Passport Owner Address\n",
      "\ttoken_id: 1414\n",
      "Gas used: 385,801\n",
      "Tx hash: 5F0B12D48BAB7041AACE2E9EA131AC85065B9D8AEE33D44568A4798D84785BC1\n"
     ]
    }
   ],
   "source": [
    "for index, row in tqdm(claims_with_proofs_df[:NUMBER_OF_ACTIVATED_PARTICIPANTS].iterrows()):\n",
    "    if index == 1:\n",
    "        transfer_passport_json = contract_utils.transfer_passport(\n",
    "            row,\n",
    "            token_id=get_passport_id(row['bostrom_address']),\n",
    "            to_address=WALLET_ADDRESS,\n",
    "            display_data=DISPLAY_TX_EXECUTION)\n",
    "        contract_utils.parse_contract_execution_json(\n",
    "            transfer_passport_json,\n",
    "            row=row)\n",
    "    else:\n",
    "        pass"
   ],
   "metadata": {
    "collapsed": false
   }
  },
  {
   "cell_type": "markdown",
   "source": [
    "### Burn"
   ],
   "metadata": {
    "collapsed": false
   }
  },
  {
   "cell_type": "code",
   "execution_count": 21,
   "outputs": [
    {
     "data": {
      "text/plain": "0it [00:00, ?it/s]",
      "application/vnd.jupyter.widget-view+json": {
       "version_major": 2,
       "version_minor": 0,
       "model_id": "f296088669f345c6b20f7ac74f137ae8"
      }
     },
     "metadata": {},
     "output_type": "display_data"
    },
    {
     "name": "stdout",
     "output_type": "stream",
     "text": [
      "\n",
      "Events\n",
      "\n",
      "cyberlinks\n",
      "\tcyberhole -> Nickname\n",
      "\tNickname -> cyberhole\n",
      "\tneuron: Name Subgraph Contract\n",
      "\n",
      "\tcyberhole -> Avatar\n",
      "\tAvatar -> cyberhole\n",
      "\tneuron: Avatar Subgraph Contract\n",
      "\n",
      "\n",
      "execute\n",
      "\texecute contract: Passport Contract\n",
      "\texecute contract: Name Subgraph Contract\n",
      "\texecute contract: Avatar Subgraph Contract\n",
      "\n",
      "message from bostrom1he3vaq8knkx56tevl6mkel42eddq507mgulsnf wasm /cosmwasm.wasm.v1.MsgExecuteContract\n",
      "\n",
      "wasm\n",
      "\t_contract_address: Passport Contract\n",
      "\taction: burn\n",
      "\tsender: bostrom1he3vaq8knkx56tevl6mkel42eddq507mgulsnf\n",
      "\ttoken_id: 1415\n",
      "Gas used: 381,878\n",
      "Tx hash: 23476318EFB8D19BDF644F8DFB81BEFF9C0CA9BB188965FEB5E7E7AE76033C5E\n"
     ]
    }
   ],
   "source": [
    "for index, row in tqdm(claims_with_proofs_df[2:NUMBER_OF_ACTIVATED_PARTICIPANTS].iterrows()):\n",
    "    if index == 2:\n",
    "        burn_passport_json = contract_utils.burn_passport(row, token_id=get_passport_id(row['bostrom_address']), display_data=DISPLAY_TX_EXECUTION)\n",
    "        contract_utils.parse_contract_execution_json(burn_passport_json, row=row)\n",
    "    else:\n",
    "        pass"
   ],
   "metadata": {
    "collapsed": false
   }
  },
  {
   "cell_type": "markdown",
   "source": [
    "### Add tests for Passport contract\n",
    "#### create_passport +\n",
    "#### update_name\n",
    "#### update_avatar\n",
    "#### proof_address +\n",
    "#### remove_address\n",
    "#### set_minter\n",
    "#### set_owner\n",
    "#### set_active\n",
    "#### set_subgraphs\n",
    "#### transfer_nft +\n",
    "#### send_nft\n",
    "#### mint\n",
    "#### burn +\n",
    "#### approve\n",
    "#### approve_all\n",
    "#### revoke\n",
    "#### revoke_all\n",
    "#### Expirations\n",
    "##### at_height\n",
    "##### at_time\n",
    "##### never\n",
    "\n",
    "### Add tests for Gift contract\n",
    "#### update_owner\n",
    "#### update_passport_addr\n",
    "#### update_target\n",
    "#### register_merkle_root +\n",
    "#### claim +\n",
    "#### release +\n",
    "\n",
    "### Add tests for subgraph contract\n",
    "#### update_owner\n",
    "#### update_executer +\n"
   ],
   "metadata": {
    "collapsed": false
   }
  }
 ],
 "metadata": {
  "kernelspec": {
   "display_name": "Python 3",
   "language": "python",
   "name": "python3"
  },
  "language_info": {
   "codemirror_mode": {
    "name": "ipython",
    "version": 2
   },
   "file_extension": ".py",
   "mimetype": "text/x-python",
   "name": "python",
   "nbconvert_exporter": "python",
   "pygments_lexer": "ipython2",
   "version": "2.7.6"
  }
 },
 "nbformat": 4,
 "nbformat_minor": 0
}
