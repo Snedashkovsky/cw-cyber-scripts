{
 "cells": [
  {
   "cell_type": "code",
   "outputs": [],
   "source": [
    "import pandas as pd\n",
    "import numpy as np\n",
    "\n",
    "import clickhouse_connect\n",
    "\n",
    "\n",
    "client = clickhouse_connect.get_client(\n",
    "    host='index.bostrom.bronbro.io', port=443,\n",
    "    username='bronbro', password='spac3b0x')\n",
    "\n",
    "def query_to_df(query: str) -> pd.DataFrame:\n",
    "    query_res = client.query(query=query)\n",
    "    return pd.DataFrame(query_res.result_rows, columns=query_res.column_names)"
   ],
   "metadata": {
    "collapsed": false,
    "ExecuteTime": {
     "end_time": "2024-01-15T05:10:47.360506Z",
     "start_time": "2024-01-15T05:10:44.832478Z"
    }
   },
   "id": "b322a5a856416de7",
   "execution_count": 1
  },
  {
   "cell_type": "code",
   "outputs": [],
   "source": [
    "query_1 = r'''\n",
    "SELECT *\n",
    "FROM (SELECT signer,\n",
    "             groupArrayIf(passport_nickname, passport_nickname != '')                        as passport_nicknames,\n",
    "             uniqExactIf(proof_address, proof_address != '')                                 as proof_addresses,\n",
    "             uniqExactIf(remove_address, remove_address != '')                               as remove_addresses,\n",
    "             uniqExactIf(gift_claiming_address, gift_claiming_address != '')                 as claim_addresses,\n",
    "             uniqExactIf(release_address, release_address != '')                             as release_addresses,\n",
    "             round(sum(gift_amount_gboot), 1)                                                as claim_gboot,\n",
    "             round(sumIf(gift_amount_gboot, startsWith(gift_claiming_address, '0x')), 1)     as claim_eth_gboot,\n",
    "             round(sumIf(gift_amount_gboot, startsWith(gift_claiming_address, 'cosmos')), 1) as claim_cosmos_gboot,\n",
    "             round(sumIf(gift_amount_gboot, startsWith(gift_claiming_address, 'osmo')), 1)   as claim_osmosis_gboot,\n",
    "             round(sumIf(gift_amount_gboot, startsWith(gift_claiming_address, 'terra')), 1)  as claim_terra_gboot,\n",
    "             claim_gboot * 0.29                                                              as releasable_gboot,\n",
    "             round(sum(released_gboot), 1)                                                   as release_gboot\n",
    "      FROM (SELECT signer,\n",
    "                   arrayJoin(JSONExtractArrayRaw(messages))                     as message_row,\n",
    "                   trim(BOTH '\"' FROM\n",
    "                        replaceAll(replaceAll(message_row, '\\\\', ''), '@', '')) as message,\n",
    "                   JSONExtractString(message, 'type')                           as message_type,\n",
    "                   JSONExtractString(message, 'sender')                         as message_sender,\n",
    "                   JSONExtractString(message, 'contract')                       as message_contract,\n",
    "                   JSONExtractString(message, 'msg')                            as message_msg,\n",
    "                   JSON_VALUE(message_msg, '$.create_passport.nickname')        as passport_nickname,\n",
    "                   JSON_VALUE(message_msg, '$.proof_address.address')           as proof_address,\n",
    "                   JSON_VALUE(message_msg, '$.remove_address.address')          as remove_address,\n",
    "                   JSON_VALUE(message_msg, '$.release.gift_address')            as release_address,\n",
    "                   round(toInt64OrZero(JSON_VALUE(message_msg, '$.claim.gift_amount')) / 1e9,\n",
    "                         1)                                                     as gift_amount_raw_gboot,\n",
    "                   JSON_VALUE(message_msg, '$.claim.gift_claiming_address')     as gift_claiming_address,\n",
    "                   toInt64OrZero(replace(\n",
    "                           JSON_VALUE(JSONExtractArrayRaw(raw_log)[1], '$.events[1].attributes[0].value'),\n",
    "                           'boot', '')) /\n",
    "                   1e9                                                          as released_gboot,\n",
    "                   toInt64OrZero(JSON_VALUE(JSONExtractArrayRaw(raw_log)[1], '$.events[5].attributes[4].value')) /\n",
    "                   1e9                                                          as gift_amount_gboot, date\n",
    "            FROM (SELECT height,\n",
    "                         signer,\n",
    "                         raw_log,\n",
    "                         messages,\n",
    "                         date\n",
    "                  FROM `spacebox`.transaction FINAL\n",
    "                  LEFT ANY JOIN (\n",
    "                    SELECT height,\n",
    "                           toDate(timestamp) as date\n",
    "                    FROM `spacebox`.block\n",
    "                    PREWHERE block.height > 10800000\n",
    "                  ) as b\n",
    "                  ON transaction.height = b.height\n",
    "                  PREWHERE transaction.success = true\n",
    "                  and transaction.height > 10800000\n",
    "                  )\n",
    "            WHERE message_type == '/cosmwasm.wasm.v1.MsgExecuteContract'\n",
    "              and message_contract in ('bostrom1xut80d09q0tgtch8p0z4k5f88d3uvt8cvtzm5h3tu3tsy4jk9xlsfzhxel',\n",
    "                                       'bostrom16t6tucgcqdmegye6c9ltlkr237z8yfndmasrhvh7ucrfuqaev6xq7cpvek')\n",
    "            ORDER BY height DESC)\n",
    "      GROUP BY signer)\n",
    "-- WHERE release_gboot > 0\n",
    "ORDER BY release_gboot DESC\n",
    "'''\n",
    "\n",
    "gift_by_singer = query_to_df(query_1)"
   ],
   "metadata": {
    "collapsed": false,
    "ExecuteTime": {
     "end_time": "2024-01-15T05:11:20.839039Z",
     "start_time": "2024-01-15T05:10:47.364285Z"
    }
   },
   "id": "4d9a0333579ccd9d",
   "execution_count": 2
  },
  {
   "cell_type": "code",
   "outputs": [
    {
     "data": {
      "text/plain": "                                               signer  \\\n0      bostrom1l74ggk5tsn7d2l5qv8fxk3zvdc7fpwrud8gnw6   \n1      bostrom10un89xcvrtjjmsw8qlsednz5ymkp8dmt956wr8   \n2      bostrom1trt5q36aqdx6l2ca3r5hush2hm9vfu699j9ksn   \n3      bostrom10cnk6upcn3u553m046e872gwsxkvy328fdkh4z   \n4      bostrom1g596jpnw3flmxd3hr3jdvvasylcz4yzaueww5p   \n...                                               ...   \n15585  bostrom1ednc63kwckcz6arhzm28f7undd4gqlvygya0ks   \n15586  bostrom19jcktgz30hz8vd637cgcxmmqvrut3k0ky68fv3   \n15587  bostrom153cw09k759z52lkmh4xxsgy37gtt6splyf8388   \n15588  bostrom1gt4kqr6jsfd987qsgzj8wh7twg8es6ye50qglr   \n15589  bostrom19phgdjcswyf7q4x4ncwgde70rydpv5p90h9wyu   \n\n                    passport_nicknames  proof_addresses  remove_addresses  \\\n0                          [etwet46w4]             3640              3640   \n1                                   []                0                 0   \n2                      [fbfbhbvcccccc]             2147              2141   \n3                  [gfsjyrjryhkyifulk]               14                 6   \n4                         [sfaerfwe11]                8                 2   \n...                                ...              ...               ...   \n15585                       [ngnfn554]                2                 0   \n15586  [54545454545454545454545454542]                2                 0   \n15587                     [jasvoyager]                0                 0   \n15588                  [laloaaaaaaaaa]                3                 0   \n15589                        [kosmos1]                2                 0   \n\n       claim_addresses  release_addresses  claim_gboot  claim_eth_gboot  \\\n0                 1549               1505       1582.8           1582.8   \n1                    0                  8          0.0              0.0   \n2                 2142               2143       1020.5           1020.5   \n3                    8                  8        447.8            447.8   \n4                    6                  6        328.4            328.4   \n...                ...                ...          ...              ...   \n15585                0                  0          0.0              0.0   \n15586                0                  0          0.0              0.0   \n15587                0                  0          0.0              0.0   \n15588                0                  0          0.0              0.0   \n15589                0                  0          0.0              0.0   \n\n       claim_cosmos_gboot  claim_osmosis_gboot  claim_terra_gboot  \\\n0                     0.0                  0.0                0.0   \n1                     0.0                  0.0                0.0   \n2                     0.0                  0.0                0.0   \n3                     0.0                  0.0                0.0   \n4                     0.0                  0.0                0.0   \n...                   ...                  ...                ...   \n15585                 0.0                  0.0                0.0   \n15586                 0.0                  0.0                0.0   \n15587                 0.0                  0.0                0.0   \n15588                 0.0                  0.0                0.0   \n15589                 0.0                  0.0                0.0   \n\n       releasable_gboot  release_gboot  \n0               459.012          455.5  \n1                 0.000          443.5  \n2               295.945          334.0  \n3               129.862          272.3  \n4                95.236          248.2  \n...                 ...            ...  \n15585             0.000            0.0  \n15586             0.000            0.0  \n15587             0.000            0.0  \n15588             0.000            0.0  \n15589             0.000            0.0  \n\n[15590 rows x 13 columns]",
      "text/html": "<div>\n<style scoped>\n    .dataframe tbody tr th:only-of-type {\n        vertical-align: middle;\n    }\n\n    .dataframe tbody tr th {\n        vertical-align: top;\n    }\n\n    .dataframe thead th {\n        text-align: right;\n    }\n</style>\n<table border=\"1\" class=\"dataframe\">\n  <thead>\n    <tr style=\"text-align: right;\">\n      <th></th>\n      <th>signer</th>\n      <th>passport_nicknames</th>\n      <th>proof_addresses</th>\n      <th>remove_addresses</th>\n      <th>claim_addresses</th>\n      <th>release_addresses</th>\n      <th>claim_gboot</th>\n      <th>claim_eth_gboot</th>\n      <th>claim_cosmos_gboot</th>\n      <th>claim_osmosis_gboot</th>\n      <th>claim_terra_gboot</th>\n      <th>releasable_gboot</th>\n      <th>release_gboot</th>\n    </tr>\n  </thead>\n  <tbody>\n    <tr>\n      <th>0</th>\n      <td>bostrom1l74ggk5tsn7d2l5qv8fxk3zvdc7fpwrud8gnw6</td>\n      <td>[etwet46w4]</td>\n      <td>3640</td>\n      <td>3640</td>\n      <td>1549</td>\n      <td>1505</td>\n      <td>1582.8</td>\n      <td>1582.8</td>\n      <td>0.0</td>\n      <td>0.0</td>\n      <td>0.0</td>\n      <td>459.012</td>\n      <td>455.5</td>\n    </tr>\n    <tr>\n      <th>1</th>\n      <td>bostrom10un89xcvrtjjmsw8qlsednz5ymkp8dmt956wr8</td>\n      <td>[]</td>\n      <td>0</td>\n      <td>0</td>\n      <td>0</td>\n      <td>8</td>\n      <td>0.0</td>\n      <td>0.0</td>\n      <td>0.0</td>\n      <td>0.0</td>\n      <td>0.0</td>\n      <td>0.000</td>\n      <td>443.5</td>\n    </tr>\n    <tr>\n      <th>2</th>\n      <td>bostrom1trt5q36aqdx6l2ca3r5hush2hm9vfu699j9ksn</td>\n      <td>[fbfbhbvcccccc]</td>\n      <td>2147</td>\n      <td>2141</td>\n      <td>2142</td>\n      <td>2143</td>\n      <td>1020.5</td>\n      <td>1020.5</td>\n      <td>0.0</td>\n      <td>0.0</td>\n      <td>0.0</td>\n      <td>295.945</td>\n      <td>334.0</td>\n    </tr>\n    <tr>\n      <th>3</th>\n      <td>bostrom10cnk6upcn3u553m046e872gwsxkvy328fdkh4z</td>\n      <td>[gfsjyrjryhkyifulk]</td>\n      <td>14</td>\n      <td>6</td>\n      <td>8</td>\n      <td>8</td>\n      <td>447.8</td>\n      <td>447.8</td>\n      <td>0.0</td>\n      <td>0.0</td>\n      <td>0.0</td>\n      <td>129.862</td>\n      <td>272.3</td>\n    </tr>\n    <tr>\n      <th>4</th>\n      <td>bostrom1g596jpnw3flmxd3hr3jdvvasylcz4yzaueww5p</td>\n      <td>[sfaerfwe11]</td>\n      <td>8</td>\n      <td>2</td>\n      <td>6</td>\n      <td>6</td>\n      <td>328.4</td>\n      <td>328.4</td>\n      <td>0.0</td>\n      <td>0.0</td>\n      <td>0.0</td>\n      <td>95.236</td>\n      <td>248.2</td>\n    </tr>\n    <tr>\n      <th>...</th>\n      <td>...</td>\n      <td>...</td>\n      <td>...</td>\n      <td>...</td>\n      <td>...</td>\n      <td>...</td>\n      <td>...</td>\n      <td>...</td>\n      <td>...</td>\n      <td>...</td>\n      <td>...</td>\n      <td>...</td>\n      <td>...</td>\n    </tr>\n    <tr>\n      <th>15585</th>\n      <td>bostrom1ednc63kwckcz6arhzm28f7undd4gqlvygya0ks</td>\n      <td>[ngnfn554]</td>\n      <td>2</td>\n      <td>0</td>\n      <td>0</td>\n      <td>0</td>\n      <td>0.0</td>\n      <td>0.0</td>\n      <td>0.0</td>\n      <td>0.0</td>\n      <td>0.0</td>\n      <td>0.000</td>\n      <td>0.0</td>\n    </tr>\n    <tr>\n      <th>15586</th>\n      <td>bostrom19jcktgz30hz8vd637cgcxmmqvrut3k0ky68fv3</td>\n      <td>[54545454545454545454545454542]</td>\n      <td>2</td>\n      <td>0</td>\n      <td>0</td>\n      <td>0</td>\n      <td>0.0</td>\n      <td>0.0</td>\n      <td>0.0</td>\n      <td>0.0</td>\n      <td>0.0</td>\n      <td>0.000</td>\n      <td>0.0</td>\n    </tr>\n    <tr>\n      <th>15587</th>\n      <td>bostrom153cw09k759z52lkmh4xxsgy37gtt6splyf8388</td>\n      <td>[jasvoyager]</td>\n      <td>0</td>\n      <td>0</td>\n      <td>0</td>\n      <td>0</td>\n      <td>0.0</td>\n      <td>0.0</td>\n      <td>0.0</td>\n      <td>0.0</td>\n      <td>0.0</td>\n      <td>0.000</td>\n      <td>0.0</td>\n    </tr>\n    <tr>\n      <th>15588</th>\n      <td>bostrom1gt4kqr6jsfd987qsgzj8wh7twg8es6ye50qglr</td>\n      <td>[laloaaaaaaaaa]</td>\n      <td>3</td>\n      <td>0</td>\n      <td>0</td>\n      <td>0</td>\n      <td>0.0</td>\n      <td>0.0</td>\n      <td>0.0</td>\n      <td>0.0</td>\n      <td>0.0</td>\n      <td>0.000</td>\n      <td>0.0</td>\n    </tr>\n    <tr>\n      <th>15589</th>\n      <td>bostrom19phgdjcswyf7q4x4ncwgde70rydpv5p90h9wyu</td>\n      <td>[kosmos1]</td>\n      <td>2</td>\n      <td>0</td>\n      <td>0</td>\n      <td>0</td>\n      <td>0.0</td>\n      <td>0.0</td>\n      <td>0.0</td>\n      <td>0.0</td>\n      <td>0.0</td>\n      <td>0.000</td>\n      <td>0.0</td>\n    </tr>\n  </tbody>\n</table>\n<p>15590 rows × 13 columns</p>\n</div>"
     },
     "execution_count": 3,
     "metadata": {},
     "output_type": "execute_result"
    }
   ],
   "source": [
    "gift_by_singer"
   ],
   "metadata": {
    "collapsed": false,
    "ExecuteTime": {
     "end_time": "2024-01-15T05:11:20.859087Z",
     "start_time": "2024-01-15T05:11:20.843029Z"
    }
   },
   "id": "92ad83f2b7a85888",
   "execution_count": 3
  },
  {
   "cell_type": "code",
   "outputs": [
    {
     "data": {
      "text/plain": "                   release_gboot  signer  release_addresses\nrelease_addresses                                          \n0                            0.0    7905                  0\n1                         5422.9    4432               4432\n2                         4855.3    1503               3006\n3                         3578.0     543               1629\n4                         3664.5     282               1128\n5                         2329.9     182                910\n6                         1849.7     163                978\n7                         1290.8     123                861\n8                         4521.2     415               3320\n9                           28.8       2                 18\n10                          23.4       1                 10\n11                          77.0       2                 22\n14                          83.8       2                 28\n17                          28.1       2                 34\n19                           7.0       1                 19\n21                          17.0       1                 21\n22                          14.5       1                 22\n23                          17.5       1                 23\n25                          40.4       2                 50\n26                          14.9       1                 26\n27                          31.1       2                 54\n28                          40.4       2                 56\n30                          22.3       1                 30\n31                          17.4       1                 31\n33                          42.2       2                 66\n35                           3.3       1                 35\n43                          41.8       1                 43\n51                         112.3       1                 51\n65                          25.9       1                 65\n73                           7.5       1                 73\n74                          50.8       1                 74\n103                         60.9       1                103\n119                        123.0       1                119\n346                         39.1       1                346\n356                         61.3       1                356\n497                        153.2       1                497\n656                         64.4       1                656\n983                         96.3       1                983\n994                        198.9       2               1988\n1254                       131.4       1               1254\n1505                       455.5       1               1505\n2143                       334.0       1               2143",
      "text/html": "<div>\n<style scoped>\n    .dataframe tbody tr th:only-of-type {\n        vertical-align: middle;\n    }\n\n    .dataframe tbody tr th {\n        vertical-align: top;\n    }\n\n    .dataframe thead th {\n        text-align: right;\n    }\n</style>\n<table border=\"1\" class=\"dataframe\">\n  <thead>\n    <tr style=\"text-align: right;\">\n      <th></th>\n      <th>release_gboot</th>\n      <th>signer</th>\n      <th>release_addresses</th>\n    </tr>\n    <tr>\n      <th>release_addresses</th>\n      <th></th>\n      <th></th>\n      <th></th>\n    </tr>\n  </thead>\n  <tbody>\n    <tr>\n      <th>0</th>\n      <td>0.0</td>\n      <td>7905</td>\n      <td>0</td>\n    </tr>\n    <tr>\n      <th>1</th>\n      <td>5422.9</td>\n      <td>4432</td>\n      <td>4432</td>\n    </tr>\n    <tr>\n      <th>2</th>\n      <td>4855.3</td>\n      <td>1503</td>\n      <td>3006</td>\n    </tr>\n    <tr>\n      <th>3</th>\n      <td>3578.0</td>\n      <td>543</td>\n      <td>1629</td>\n    </tr>\n    <tr>\n      <th>4</th>\n      <td>3664.5</td>\n      <td>282</td>\n      <td>1128</td>\n    </tr>\n    <tr>\n      <th>5</th>\n      <td>2329.9</td>\n      <td>182</td>\n      <td>910</td>\n    </tr>\n    <tr>\n      <th>6</th>\n      <td>1849.7</td>\n      <td>163</td>\n      <td>978</td>\n    </tr>\n    <tr>\n      <th>7</th>\n      <td>1290.8</td>\n      <td>123</td>\n      <td>861</td>\n    </tr>\n    <tr>\n      <th>8</th>\n      <td>4521.2</td>\n      <td>415</td>\n      <td>3320</td>\n    </tr>\n    <tr>\n      <th>9</th>\n      <td>28.8</td>\n      <td>2</td>\n      <td>18</td>\n    </tr>\n    <tr>\n      <th>10</th>\n      <td>23.4</td>\n      <td>1</td>\n      <td>10</td>\n    </tr>\n    <tr>\n      <th>11</th>\n      <td>77.0</td>\n      <td>2</td>\n      <td>22</td>\n    </tr>\n    <tr>\n      <th>14</th>\n      <td>83.8</td>\n      <td>2</td>\n      <td>28</td>\n    </tr>\n    <tr>\n      <th>17</th>\n      <td>28.1</td>\n      <td>2</td>\n      <td>34</td>\n    </tr>\n    <tr>\n      <th>19</th>\n      <td>7.0</td>\n      <td>1</td>\n      <td>19</td>\n    </tr>\n    <tr>\n      <th>21</th>\n      <td>17.0</td>\n      <td>1</td>\n      <td>21</td>\n    </tr>\n    <tr>\n      <th>22</th>\n      <td>14.5</td>\n      <td>1</td>\n      <td>22</td>\n    </tr>\n    <tr>\n      <th>23</th>\n      <td>17.5</td>\n      <td>1</td>\n      <td>23</td>\n    </tr>\n    <tr>\n      <th>25</th>\n      <td>40.4</td>\n      <td>2</td>\n      <td>50</td>\n    </tr>\n    <tr>\n      <th>26</th>\n      <td>14.9</td>\n      <td>1</td>\n      <td>26</td>\n    </tr>\n    <tr>\n      <th>27</th>\n      <td>31.1</td>\n      <td>2</td>\n      <td>54</td>\n    </tr>\n    <tr>\n      <th>28</th>\n      <td>40.4</td>\n      <td>2</td>\n      <td>56</td>\n    </tr>\n    <tr>\n      <th>30</th>\n      <td>22.3</td>\n      <td>1</td>\n      <td>30</td>\n    </tr>\n    <tr>\n      <th>31</th>\n      <td>17.4</td>\n      <td>1</td>\n      <td>31</td>\n    </tr>\n    <tr>\n      <th>33</th>\n      <td>42.2</td>\n      <td>2</td>\n      <td>66</td>\n    </tr>\n    <tr>\n      <th>35</th>\n      <td>3.3</td>\n      <td>1</td>\n      <td>35</td>\n    </tr>\n    <tr>\n      <th>43</th>\n      <td>41.8</td>\n      <td>1</td>\n      <td>43</td>\n    </tr>\n    <tr>\n      <th>51</th>\n      <td>112.3</td>\n      <td>1</td>\n      <td>51</td>\n    </tr>\n    <tr>\n      <th>65</th>\n      <td>25.9</td>\n      <td>1</td>\n      <td>65</td>\n    </tr>\n    <tr>\n      <th>73</th>\n      <td>7.5</td>\n      <td>1</td>\n      <td>73</td>\n    </tr>\n    <tr>\n      <th>74</th>\n      <td>50.8</td>\n      <td>1</td>\n      <td>74</td>\n    </tr>\n    <tr>\n      <th>103</th>\n      <td>60.9</td>\n      <td>1</td>\n      <td>103</td>\n    </tr>\n    <tr>\n      <th>119</th>\n      <td>123.0</td>\n      <td>1</td>\n      <td>119</td>\n    </tr>\n    <tr>\n      <th>346</th>\n      <td>39.1</td>\n      <td>1</td>\n      <td>346</td>\n    </tr>\n    <tr>\n      <th>356</th>\n      <td>61.3</td>\n      <td>1</td>\n      <td>356</td>\n    </tr>\n    <tr>\n      <th>497</th>\n      <td>153.2</td>\n      <td>1</td>\n      <td>497</td>\n    </tr>\n    <tr>\n      <th>656</th>\n      <td>64.4</td>\n      <td>1</td>\n      <td>656</td>\n    </tr>\n    <tr>\n      <th>983</th>\n      <td>96.3</td>\n      <td>1</td>\n      <td>983</td>\n    </tr>\n    <tr>\n      <th>994</th>\n      <td>198.9</td>\n      <td>2</td>\n      <td>1988</td>\n    </tr>\n    <tr>\n      <th>1254</th>\n      <td>131.4</td>\n      <td>1</td>\n      <td>1254</td>\n    </tr>\n    <tr>\n      <th>1505</th>\n      <td>455.5</td>\n      <td>1</td>\n      <td>1505</td>\n    </tr>\n    <tr>\n      <th>2143</th>\n      <td>334.0</td>\n      <td>1</td>\n      <td>2143</td>\n    </tr>\n  </tbody>\n</table>\n</div>"
     },
     "execution_count": 4,
     "metadata": {},
     "output_type": "execute_result"
    }
   ],
   "source": [
    "gift_by_singer.groupby('release_addresses').agg({'release_gboot': sum, 'signer': np.count_nonzero, 'release_addresses': sum})"
   ],
   "metadata": {
    "collapsed": false,
    "ExecuteTime": {
     "end_time": "2024-01-15T05:11:20.876340Z",
     "start_time": "2024-01-15T05:11:20.858385Z"
    }
   },
   "id": "566cddfbb3e84b5e",
   "execution_count": 4
  },
  {
   "cell_type": "code",
   "outputs": [
    {
     "data": {
      "text/plain": "signer                 bostrom1l74ggk5tsn7d2l5qv8fxk3zvdc7fpwrud8gnw6...\npassport_nicknames     [etwet46w4, fbfbhbvcccccc, gfsjyrjryhkyifulk, ...\nproof_addresses                                                    58809\nremove_addresses                                                   21187\nclaim_addresses                                                    25138\nrelease_addresses                                                  27065\nclaim_gboot                                                      97712.3\nclaim_eth_gboot                                                  86742.6\nclaim_cosmos_gboot                                                5981.4\nclaim_osmosis_gboot                                               4270.4\nclaim_terra_gboot                                                  700.9\nreleasable_gboot                                               28336.567\nrelease_gboot                                                    29977.7\ndtype: object"
     },
     "execution_count": 5,
     "metadata": {},
     "output_type": "execute_result"
    }
   ],
   "source": [
    "gift_by_singer.sum()"
   ],
   "metadata": {
    "collapsed": false,
    "ExecuteTime": {
     "end_time": "2024-01-15T05:11:21.281734Z",
     "start_time": "2024-01-15T05:11:21.267356Z"
    }
   },
   "id": "cbba36b84b4327f8",
   "execution_count": 5
  },
  {
   "cell_type": "code",
   "outputs": [],
   "source": [],
   "metadata": {
    "collapsed": false,
    "ExecuteTime": {
     "end_time": "2024-01-15T05:11:21.282067Z",
     "start_time": "2024-01-15T05:11:21.272490Z"
    }
   },
   "id": "ce544fe2d31c339",
   "execution_count": 5
  }
 ],
 "metadata": {
  "kernelspec": {
   "display_name": "Python 3",
   "language": "python",
   "name": "python3"
  },
  "language_info": {
   "codemirror_mode": {
    "name": "ipython",
    "version": 2
   },
   "file_extension": ".py",
   "mimetype": "text/x-python",
   "name": "python",
   "nbconvert_exporter": "python",
   "pygments_lexer": "ipython2",
   "version": "2.7.6"
  }
 },
 "nbformat": 4,
 "nbformat_minor": 5
}
