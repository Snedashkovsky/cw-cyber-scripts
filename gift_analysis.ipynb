{
 "cells": [
  {
   "cell_type": "code",
   "outputs": [],
   "source": [
    "import pandas as pd\n",
    "import numpy as np\n",
    "\n",
    "import clickhouse_connect\n",
    "\n",
    "\n",
    "client = clickhouse_connect.get_client(\n",
    "    host='index.bostrom.bronbro.io', port=443,\n",
    "    username='bronbro', password='spac3b0x')\n",
    "\n",
    "def query_to_df(query: str) -> pd.DataFrame:\n",
    "    query_res = client.query(query=query)\n",
    "    return pd.DataFrame(query_res.result_rows, columns=query_res.column_names)"
   ],
   "metadata": {
    "collapsed": false,
    "ExecuteTime": {
     "end_time": "2024-01-15T06:05:31.890492Z",
     "start_time": "2024-01-15T06:05:18.071968Z"
    }
   },
   "id": "b322a5a856416de7",
   "execution_count": 1
  },
  {
   "cell_type": "code",
   "outputs": [],
   "source": [
    "query_1 = r'''\n",
    "SELECT *\n",
    "FROM (SELECT signer,\n",
    "             groupArrayIf(passport_nickname, passport_nickname != '')                        as passport_nicknames,\n",
    "             uniqExactIf(proof_address, proof_address != '')                                 as proof_addresses,\n",
    "             uniqExactIf(remove_address, remove_address != '')                               as remove_addresses,\n",
    "             uniqExactIf(gift_claiming_address, gift_claiming_address != '')                 as claim_addresses,\n",
    "             uniqExactIf(release_address, release_address != '')                             as release_addresses,\n",
    "             round(sum(gift_amount_gboot), 1)                                                as claim_gboot,\n",
    "             round(sumIf(gift_amount_gboot, startsWith(gift_claiming_address, '0x')), 1)     as claim_eth_gboot,\n",
    "             round(sumIf(gift_amount_gboot, startsWith(gift_claiming_address, 'cosmos')), 1) as claim_cosmos_gboot,\n",
    "             round(sumIf(gift_amount_gboot, startsWith(gift_claiming_address, 'osmo')), 1)   as claim_osmosis_gboot,\n",
    "             round(sumIf(gift_amount_gboot, startsWith(gift_claiming_address, 'terra')), 1)  as claim_terra_gboot,\n",
    "             claim_gboot * 0.29                                                              as releasable_gboot,\n",
    "             round(sum(released_gboot), 1)                                                   as release_gboot\n",
    "      FROM (SELECT signer,\n",
    "                   arrayZip(JSONExtractArrayRaw(messages), JSONExtractArrayRaw(raw_log)) as messages_logs_zip,\n",
    "                   arrayJoin(messages_logs_zip)                                          as message_log_tuple,\n",
    "                   message_log_tuple.1                                                   as message_row,\n",
    "                   message_log_tuple.2                                                   as raw_log_item,\n",
    "                   trim(BOTH '\"' FROM\n",
    "                        replaceAll(replaceAll(message_row, '\\\\', ''), '@', ''))          as message,\n",
    "                   JSONExtractString(message, 'type')                                    as message_type,\n",
    "                   JSONExtractString(message, 'sender')                                  as message_sender,\n",
    "                   JSONExtractString(message, 'contract')                                as message_contract,\n",
    "                   JSONExtractString(message, 'msg')                                     as message_msg,\n",
    "                   JSON_VALUE(message_msg, '$.create_passport.nickname')                 as passport_nickname,\n",
    "                   JSON_VALUE(message_msg, '$.proof_address.address')                    as proof_address,\n",
    "                   JSON_VALUE(message_msg, '$.remove_address.address')                   as remove_address,\n",
    "                   JSON_VALUE(message_msg, '$.release.gift_address')                     as release_address,\n",
    "                   round(toInt64OrZero(JSON_VALUE(message_msg, '$.claim.gift_amount')) / 1e9,\n",
    "                         1)                                                              as gift_amount_raw_gboot,\n",
    "                   JSON_VALUE(message_msg, '$.claim.gift_claiming_address')              as gift_claiming_address,\n",
    "                   toInt64OrZero(replace(\n",
    "                           JSON_VALUE(raw_log_item, '$.events[1].attributes[0].value'),\n",
    "                           'boot', '')) /\n",
    "                   1e9                                                                   as released_gboot,\n",
    "                   toInt64OrZero(JSON_VALUE(raw_log_item, '$.events[5].attributes[4].value')) /\n",
    "                   1e9                                                                   as gift_amount_gboot,\n",
    "                   date\n",
    "            FROM (SELECT height,\n",
    "                         signer,\n",
    "                         raw_log,\n",
    "                         messages,\n",
    "                         date\n",
    "                  FROM `spacebox`.transaction FINAL\n",
    "                           LEFT ANY\n",
    "                           JOIN (\n",
    "                      SELECT height,\n",
    "                             toDate(timestamp) as date\n",
    "                      FROM `spacebox`.block\n",
    "                          PREWHERE block.height > 10800000\n",
    "                      ) as b\n",
    "                                ON transaction.height = b.height\n",
    "                      PREWHERE transaction.success = true\n",
    "                      and transaction.height > 10800000\n",
    "                     )\n",
    "            WHERE message_type == '/cosmwasm.wasm.v1.MsgExecuteContract'\n",
    "              and message_contract in ('bostrom1xut80d09q0tgtch8p0z4k5f88d3uvt8cvtzm5h3tu3tsy4jk9xlsfzhxel',\n",
    "                                       'bostrom16t6tucgcqdmegye6c9ltlkr237z8yfndmasrhvh7ucrfuqaev6xq7cpvek')\n",
    "            ORDER BY height DESC)\n",
    "      GROUP BY signer)\n",
    "-- WHERE release_gboot > 0\n",
    "ORDER BY release_gboot DESC\n",
    "'''\n",
    "\n",
    "gift_by_singer = query_to_df(query_1)"
   ],
   "metadata": {
    "collapsed": false,
    "ExecuteTime": {
     "end_time": "2024-01-15T06:06:13.743051Z",
     "start_time": "2024-01-15T06:05:31.891435Z"
    }
   },
   "id": "4d9a0333579ccd9d",
   "execution_count": 2
  },
  {
   "cell_type": "code",
   "outputs": [
    {
     "data": {
      "text/plain": "                                               signer  \\\n0      bostrom1l74ggk5tsn7d2l5qv8fxk3zvdc7fpwrud8gnw6   \n1      bostrom1trt5q36aqdx6l2ca3r5hush2hm9vfu699j9ksn   \n2      bostrom1k6kyj0wukla82z2a0ufmrj99xmxhxhj22r04at   \n3      bostrom1ulefdrkmfluv5zvhc4nwuw5vtnaspx8sh9wpk3   \n4      bostrom1g4ywagfj8yc03ecjn7ghet5exxa5l4kqwuplv4   \n...                                               ...   \n15587  bostrom1ednc63kwckcz6arhzm28f7undd4gqlvygya0ks   \n15588  bostrom19jcktgz30hz8vd637cgcxmmqvrut3k0ky68fv3   \n15589  bostrom153cw09k759z52lkmh4xxsgy37gtt6splyf8388   \n15590  bostrom1gt4kqr6jsfd987qsgzj8wh7twg8es6ye50qglr   \n15591  bostrom19phgdjcswyf7q4x4ncwgde70rydpv5p90h9wyu   \n\n                    passport_nicknames  proof_addresses  remove_addresses  \\\n0                          [etwet46w4]             3640              3640   \n1                      [fbfbhbvcccccc]             2147              2141   \n2                       [blackhole666]              497               497   \n3                          [proj3proj]             1255              1251   \n4                        [qwrtgwrhwfq]              473               473   \n...                                ...              ...               ...   \n15587                       [ngnfn554]                2                 0   \n15588  [54545454545454545454545454542]                2                 0   \n15589                     [jasvoyager]                0                 0   \n15590                  [laloaaaaaaaaa]                3                 0   \n15591                        [kosmos1]                2                 0   \n\n       claim_addresses  release_addresses  claim_gboot  claim_eth_gboot  \\\n0                 1549               1505       1541.3           1541.3   \n1                 2142               2143       1020.5           1020.5   \n2                  497                497        450.4            450.4   \n3                 1256               1254        391.5            381.7   \n4                  119                119        366.2            366.2   \n...                ...                ...          ...              ...   \n15587                0                  0          0.0              0.0   \n15588                0                  0          0.0              0.0   \n15589                0                  0          0.0              0.0   \n15590                0                  0          0.0              0.0   \n15591                0                  0          0.0              0.0   \n\n       claim_cosmos_gboot  claim_osmosis_gboot  claim_terra_gboot  \\\n0                     0.0                  0.0                0.0   \n1                     0.0                  0.0                0.0   \n2                     0.0                  0.0                0.0   \n3                     0.0                  3.2                6.5   \n4                     0.0                  0.0                0.0   \n...                   ...                  ...                ...   \n15587                 0.0                  0.0                0.0   \n15588                 0.0                  0.0                0.0   \n15589                 0.0                  0.0                0.0   \n15590                 0.0                  0.0                0.0   \n15591                 0.0                  0.0                0.0   \n\n       releasable_gboot  release_gboot  \n0               446.977          434.8  \n1               295.945          334.0  \n2               130.616          153.2  \n3               113.535          131.4  \n4               106.198          123.0  \n...                 ...            ...  \n15587             0.000            0.0  \n15588             0.000            0.0  \n15589             0.000            0.0  \n15590             0.000            0.0  \n15591             0.000            0.0  \n\n[15592 rows x 13 columns]",
      "text/html": "<div>\n<style scoped>\n    .dataframe tbody tr th:only-of-type {\n        vertical-align: middle;\n    }\n\n    .dataframe tbody tr th {\n        vertical-align: top;\n    }\n\n    .dataframe thead th {\n        text-align: right;\n    }\n</style>\n<table border=\"1\" class=\"dataframe\">\n  <thead>\n    <tr style=\"text-align: right;\">\n      <th></th>\n      <th>signer</th>\n      <th>passport_nicknames</th>\n      <th>proof_addresses</th>\n      <th>remove_addresses</th>\n      <th>claim_addresses</th>\n      <th>release_addresses</th>\n      <th>claim_gboot</th>\n      <th>claim_eth_gboot</th>\n      <th>claim_cosmos_gboot</th>\n      <th>claim_osmosis_gboot</th>\n      <th>claim_terra_gboot</th>\n      <th>releasable_gboot</th>\n      <th>release_gboot</th>\n    </tr>\n  </thead>\n  <tbody>\n    <tr>\n      <th>0</th>\n      <td>bostrom1l74ggk5tsn7d2l5qv8fxk3zvdc7fpwrud8gnw6</td>\n      <td>[etwet46w4]</td>\n      <td>3640</td>\n      <td>3640</td>\n      <td>1549</td>\n      <td>1505</td>\n      <td>1541.3</td>\n      <td>1541.3</td>\n      <td>0.0</td>\n      <td>0.0</td>\n      <td>0.0</td>\n      <td>446.977</td>\n      <td>434.8</td>\n    </tr>\n    <tr>\n      <th>1</th>\n      <td>bostrom1trt5q36aqdx6l2ca3r5hush2hm9vfu699j9ksn</td>\n      <td>[fbfbhbvcccccc]</td>\n      <td>2147</td>\n      <td>2141</td>\n      <td>2142</td>\n      <td>2143</td>\n      <td>1020.5</td>\n      <td>1020.5</td>\n      <td>0.0</td>\n      <td>0.0</td>\n      <td>0.0</td>\n      <td>295.945</td>\n      <td>334.0</td>\n    </tr>\n    <tr>\n      <th>2</th>\n      <td>bostrom1k6kyj0wukla82z2a0ufmrj99xmxhxhj22r04at</td>\n      <td>[blackhole666]</td>\n      <td>497</td>\n      <td>497</td>\n      <td>497</td>\n      <td>497</td>\n      <td>450.4</td>\n      <td>450.4</td>\n      <td>0.0</td>\n      <td>0.0</td>\n      <td>0.0</td>\n      <td>130.616</td>\n      <td>153.2</td>\n    </tr>\n    <tr>\n      <th>3</th>\n      <td>bostrom1ulefdrkmfluv5zvhc4nwuw5vtnaspx8sh9wpk3</td>\n      <td>[proj3proj]</td>\n      <td>1255</td>\n      <td>1251</td>\n      <td>1256</td>\n      <td>1254</td>\n      <td>391.5</td>\n      <td>381.7</td>\n      <td>0.0</td>\n      <td>3.2</td>\n      <td>6.5</td>\n      <td>113.535</td>\n      <td>131.4</td>\n    </tr>\n    <tr>\n      <th>4</th>\n      <td>bostrom1g4ywagfj8yc03ecjn7ghet5exxa5l4kqwuplv4</td>\n      <td>[qwrtgwrhwfq]</td>\n      <td>473</td>\n      <td>473</td>\n      <td>119</td>\n      <td>119</td>\n      <td>366.2</td>\n      <td>366.2</td>\n      <td>0.0</td>\n      <td>0.0</td>\n      <td>0.0</td>\n      <td>106.198</td>\n      <td>123.0</td>\n    </tr>\n    <tr>\n      <th>...</th>\n      <td>...</td>\n      <td>...</td>\n      <td>...</td>\n      <td>...</td>\n      <td>...</td>\n      <td>...</td>\n      <td>...</td>\n      <td>...</td>\n      <td>...</td>\n      <td>...</td>\n      <td>...</td>\n      <td>...</td>\n      <td>...</td>\n    </tr>\n    <tr>\n      <th>15587</th>\n      <td>bostrom1ednc63kwckcz6arhzm28f7undd4gqlvygya0ks</td>\n      <td>[ngnfn554]</td>\n      <td>2</td>\n      <td>0</td>\n      <td>0</td>\n      <td>0</td>\n      <td>0.0</td>\n      <td>0.0</td>\n      <td>0.0</td>\n      <td>0.0</td>\n      <td>0.0</td>\n      <td>0.000</td>\n      <td>0.0</td>\n    </tr>\n    <tr>\n      <th>15588</th>\n      <td>bostrom19jcktgz30hz8vd637cgcxmmqvrut3k0ky68fv3</td>\n      <td>[54545454545454545454545454542]</td>\n      <td>2</td>\n      <td>0</td>\n      <td>0</td>\n      <td>0</td>\n      <td>0.0</td>\n      <td>0.0</td>\n      <td>0.0</td>\n      <td>0.0</td>\n      <td>0.0</td>\n      <td>0.000</td>\n      <td>0.0</td>\n    </tr>\n    <tr>\n      <th>15589</th>\n      <td>bostrom153cw09k759z52lkmh4xxsgy37gtt6splyf8388</td>\n      <td>[jasvoyager]</td>\n      <td>0</td>\n      <td>0</td>\n      <td>0</td>\n      <td>0</td>\n      <td>0.0</td>\n      <td>0.0</td>\n      <td>0.0</td>\n      <td>0.0</td>\n      <td>0.0</td>\n      <td>0.000</td>\n      <td>0.0</td>\n    </tr>\n    <tr>\n      <th>15590</th>\n      <td>bostrom1gt4kqr6jsfd987qsgzj8wh7twg8es6ye50qglr</td>\n      <td>[laloaaaaaaaaa]</td>\n      <td>3</td>\n      <td>0</td>\n      <td>0</td>\n      <td>0</td>\n      <td>0.0</td>\n      <td>0.0</td>\n      <td>0.0</td>\n      <td>0.0</td>\n      <td>0.0</td>\n      <td>0.000</td>\n      <td>0.0</td>\n    </tr>\n    <tr>\n      <th>15591</th>\n      <td>bostrom19phgdjcswyf7q4x4ncwgde70rydpv5p90h9wyu</td>\n      <td>[kosmos1]</td>\n      <td>2</td>\n      <td>0</td>\n      <td>0</td>\n      <td>0</td>\n      <td>0.0</td>\n      <td>0.0</td>\n      <td>0.0</td>\n      <td>0.0</td>\n      <td>0.0</td>\n      <td>0.000</td>\n      <td>0.0</td>\n    </tr>\n  </tbody>\n</table>\n<p>15592 rows × 13 columns</p>\n</div>"
     },
     "execution_count": 3,
     "metadata": {},
     "output_type": "execute_result"
    }
   ],
   "source": [
    "gift_by_singer"
   ],
   "metadata": {
    "collapsed": false,
    "ExecuteTime": {
     "end_time": "2024-01-15T06:06:13.765047Z",
     "start_time": "2024-01-15T06:06:13.747515Z"
    }
   },
   "id": "92ad83f2b7a85888",
   "execution_count": 3
  },
  {
   "cell_type": "code",
   "outputs": [
    {
     "data": {
      "text/plain": "                   release_gboot  signer  release_addresses\nrelease_addresses                                          \n0                            0.0    7905                  0\n1                         5427.5    4434               4434\n2                         4119.3    1503               3006\n3                         2442.8     543               1629\n4                         2253.1     282               1128\n5                         1549.9     182                910\n6                         1167.8     163                978\n7                          702.3     123                861\n8                         2849.0     415               3320\n9                           24.5       2                 18\n10                          14.3       1                 10\n11                          36.4       2                 22\n14                          83.2       2                 28\n17                          30.2       2                 34\n19                           7.0       1                 19\n21                          17.7       1                 21\n22                          15.1       1                 22\n23                          17.8       1                 23\n25                          41.1       2                 50\n26                          14.9       1                 26\n27                          31.1       2                 54\n28                          41.2       2                 56\n30                          22.8       1                 30\n31                          17.4       1                 31\n33                          44.0       2                 66\n35                           3.3       1                 35\n43                          42.4       1                 43\n51                         112.3       1                 51\n65                          25.9       1                 65\n73                           7.6       1                 73\n74                          45.4       1                 74\n103                         60.9       1                103\n119                        123.0       1                119\n346                         37.6       1                346\n356                         55.9       1                356\n497                        153.2       1                497\n656                         64.4       1                656\n983                         96.3       1                983\n994                        198.9       2               1988\n1254                       131.4       1               1254\n1505                       434.8       1               1505\n2143                       334.0       1               2143",
      "text/html": "<div>\n<style scoped>\n    .dataframe tbody tr th:only-of-type {\n        vertical-align: middle;\n    }\n\n    .dataframe tbody tr th {\n        vertical-align: top;\n    }\n\n    .dataframe thead th {\n        text-align: right;\n    }\n</style>\n<table border=\"1\" class=\"dataframe\">\n  <thead>\n    <tr style=\"text-align: right;\">\n      <th></th>\n      <th>release_gboot</th>\n      <th>signer</th>\n      <th>release_addresses</th>\n    </tr>\n    <tr>\n      <th>release_addresses</th>\n      <th></th>\n      <th></th>\n      <th></th>\n    </tr>\n  </thead>\n  <tbody>\n    <tr>\n      <th>0</th>\n      <td>0.0</td>\n      <td>7905</td>\n      <td>0</td>\n    </tr>\n    <tr>\n      <th>1</th>\n      <td>5427.5</td>\n      <td>4434</td>\n      <td>4434</td>\n    </tr>\n    <tr>\n      <th>2</th>\n      <td>4119.3</td>\n      <td>1503</td>\n      <td>3006</td>\n    </tr>\n    <tr>\n      <th>3</th>\n      <td>2442.8</td>\n      <td>543</td>\n      <td>1629</td>\n    </tr>\n    <tr>\n      <th>4</th>\n      <td>2253.1</td>\n      <td>282</td>\n      <td>1128</td>\n    </tr>\n    <tr>\n      <th>5</th>\n      <td>1549.9</td>\n      <td>182</td>\n      <td>910</td>\n    </tr>\n    <tr>\n      <th>6</th>\n      <td>1167.8</td>\n      <td>163</td>\n      <td>978</td>\n    </tr>\n    <tr>\n      <th>7</th>\n      <td>702.3</td>\n      <td>123</td>\n      <td>861</td>\n    </tr>\n    <tr>\n      <th>8</th>\n      <td>2849.0</td>\n      <td>415</td>\n      <td>3320</td>\n    </tr>\n    <tr>\n      <th>9</th>\n      <td>24.5</td>\n      <td>2</td>\n      <td>18</td>\n    </tr>\n    <tr>\n      <th>10</th>\n      <td>14.3</td>\n      <td>1</td>\n      <td>10</td>\n    </tr>\n    <tr>\n      <th>11</th>\n      <td>36.4</td>\n      <td>2</td>\n      <td>22</td>\n    </tr>\n    <tr>\n      <th>14</th>\n      <td>83.2</td>\n      <td>2</td>\n      <td>28</td>\n    </tr>\n    <tr>\n      <th>17</th>\n      <td>30.2</td>\n      <td>2</td>\n      <td>34</td>\n    </tr>\n    <tr>\n      <th>19</th>\n      <td>7.0</td>\n      <td>1</td>\n      <td>19</td>\n    </tr>\n    <tr>\n      <th>21</th>\n      <td>17.7</td>\n      <td>1</td>\n      <td>21</td>\n    </tr>\n    <tr>\n      <th>22</th>\n      <td>15.1</td>\n      <td>1</td>\n      <td>22</td>\n    </tr>\n    <tr>\n      <th>23</th>\n      <td>17.8</td>\n      <td>1</td>\n      <td>23</td>\n    </tr>\n    <tr>\n      <th>25</th>\n      <td>41.1</td>\n      <td>2</td>\n      <td>50</td>\n    </tr>\n    <tr>\n      <th>26</th>\n      <td>14.9</td>\n      <td>1</td>\n      <td>26</td>\n    </tr>\n    <tr>\n      <th>27</th>\n      <td>31.1</td>\n      <td>2</td>\n      <td>54</td>\n    </tr>\n    <tr>\n      <th>28</th>\n      <td>41.2</td>\n      <td>2</td>\n      <td>56</td>\n    </tr>\n    <tr>\n      <th>30</th>\n      <td>22.8</td>\n      <td>1</td>\n      <td>30</td>\n    </tr>\n    <tr>\n      <th>31</th>\n      <td>17.4</td>\n      <td>1</td>\n      <td>31</td>\n    </tr>\n    <tr>\n      <th>33</th>\n      <td>44.0</td>\n      <td>2</td>\n      <td>66</td>\n    </tr>\n    <tr>\n      <th>35</th>\n      <td>3.3</td>\n      <td>1</td>\n      <td>35</td>\n    </tr>\n    <tr>\n      <th>43</th>\n      <td>42.4</td>\n      <td>1</td>\n      <td>43</td>\n    </tr>\n    <tr>\n      <th>51</th>\n      <td>112.3</td>\n      <td>1</td>\n      <td>51</td>\n    </tr>\n    <tr>\n      <th>65</th>\n      <td>25.9</td>\n      <td>1</td>\n      <td>65</td>\n    </tr>\n    <tr>\n      <th>73</th>\n      <td>7.6</td>\n      <td>1</td>\n      <td>73</td>\n    </tr>\n    <tr>\n      <th>74</th>\n      <td>45.4</td>\n      <td>1</td>\n      <td>74</td>\n    </tr>\n    <tr>\n      <th>103</th>\n      <td>60.9</td>\n      <td>1</td>\n      <td>103</td>\n    </tr>\n    <tr>\n      <th>119</th>\n      <td>123.0</td>\n      <td>1</td>\n      <td>119</td>\n    </tr>\n    <tr>\n      <th>346</th>\n      <td>37.6</td>\n      <td>1</td>\n      <td>346</td>\n    </tr>\n    <tr>\n      <th>356</th>\n      <td>55.9</td>\n      <td>1</td>\n      <td>356</td>\n    </tr>\n    <tr>\n      <th>497</th>\n      <td>153.2</td>\n      <td>1</td>\n      <td>497</td>\n    </tr>\n    <tr>\n      <th>656</th>\n      <td>64.4</td>\n      <td>1</td>\n      <td>656</td>\n    </tr>\n    <tr>\n      <th>983</th>\n      <td>96.3</td>\n      <td>1</td>\n      <td>983</td>\n    </tr>\n    <tr>\n      <th>994</th>\n      <td>198.9</td>\n      <td>2</td>\n      <td>1988</td>\n    </tr>\n    <tr>\n      <th>1254</th>\n      <td>131.4</td>\n      <td>1</td>\n      <td>1254</td>\n    </tr>\n    <tr>\n      <th>1505</th>\n      <td>434.8</td>\n      <td>1</td>\n      <td>1505</td>\n    </tr>\n    <tr>\n      <th>2143</th>\n      <td>334.0</td>\n      <td>1</td>\n      <td>2143</td>\n    </tr>\n  </tbody>\n</table>\n</div>"
     },
     "execution_count": 4,
     "metadata": {},
     "output_type": "execute_result"
    }
   ],
   "source": [
    "gift_by_singer.groupby('release_addresses').agg({'release_gboot': sum, 'signer': np.count_nonzero, 'release_addresses': sum})"
   ],
   "metadata": {
    "collapsed": false,
    "ExecuteTime": {
     "end_time": "2024-01-15T06:06:13.780033Z",
     "start_time": "2024-01-15T06:06:13.763278Z"
    }
   },
   "id": "566cddfbb3e84b5e",
   "execution_count": 4
  },
  {
   "cell_type": "code",
   "outputs": [
    {
     "data": {
      "text/plain": "signer                 bostrom1l74ggk5tsn7d2l5qv8fxk3zvdc7fpwrud8gnw6...\npassport_nicknames     [etwet46w4, fbfbhbvcccccc, blackhole666, proj3...\nproof_addresses                                                    58811\nremove_addresses                                                   21187\nclaim_addresses                                                    25141\nrelease_addresses                                                  27067\nclaim_gboot                                                      78092.5\nclaim_eth_gboot                                                  68237.3\nclaim_cosmos_gboot                                                5111.3\nclaim_osmosis_gboot                                               3928.1\nclaim_terra_gboot                                                  799.7\nreleasable_gboot                                               22646.825\nrelease_gboot                                                    22897.7\ndtype: object"
     },
     "execution_count": 5,
     "metadata": {},
     "output_type": "execute_result"
    }
   ],
   "source": [
    "gift_by_singer.sum()"
   ],
   "metadata": {
    "collapsed": false,
    "ExecuteTime": {
     "end_time": "2024-01-15T06:06:14.159475Z",
     "start_time": "2024-01-15T06:06:14.137670Z"
    }
   },
   "id": "cbba36b84b4327f8",
   "execution_count": 5
  },
  {
   "cell_type": "code",
   "outputs": [],
   "source": [],
   "metadata": {
    "collapsed": false,
    "ExecuteTime": {
     "end_time": "2024-01-15T06:06:14.159789Z",
     "start_time": "2024-01-15T06:06:14.149754Z"
    }
   },
   "id": "ce544fe2d31c339",
   "execution_count": 5
  }
 ],
 "metadata": {
  "kernelspec": {
   "display_name": "Python 3",
   "language": "python",
   "name": "python3"
  },
  "language_info": {
   "codemirror_mode": {
    "name": "ipython",
    "version": 2
   },
   "file_extension": ".py",
   "mimetype": "text/x-python",
   "name": "python",
   "nbconvert_exporter": "python",
   "pygments_lexer": "ipython2",
   "version": "2.7.6"
  }
 },
 "nbformat": 4,
 "nbformat_minor": 5
}
